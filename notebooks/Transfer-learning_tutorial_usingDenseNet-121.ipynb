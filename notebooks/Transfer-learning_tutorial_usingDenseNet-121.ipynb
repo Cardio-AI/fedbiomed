{
 "cells": [
  {
   "cell_type": "markdown",
   "id": "73501475-4e1f-454c-bc16-0320ecd51d57",
   "metadata": {},
   "source": [
    "# Transfer-learning tutorial using DenseNet-121 pre-trained model:\n",
    "# example on MedNIST dataset"
   ]
  },
  {
   "cell_type": "markdown",
   "id": "6d343c58-9d11-400f-9e2e-9b0d1e840105",
   "metadata": {},
   "source": [
    "\n",
    "## Goal of this tutoriel\n",
    "\n",
    "This tutorial shows how to do 2d images classification example on MedNIST dataset using pretrained PyTorch model.\n",
    "\n",
    "The goal of this tutorial is to provide an example of transfer learning methods with Fed-BioMed for medical images classification."
   ]
  },
  {
   "cell_type": "markdown",
   "id": "c4648375-0340-428a-88cf-97c5a52f5560",
   "metadata": {},
   "source": [
    "## About the model\n",
    "\n",
    "The model used is Densenet-121 model(“Densely Connected Convolutional Networks”) pretrained on ImageNet dataset. The Pytorch pretrained model [Densenet121](https://pytorch.org/vision/main/models/generated/torchvision.models.html). to perform image classification on the MedNIST dataset. \n",
    "The goal of this Densenet121 model is to predict the class of medical images.\n",
    "\n"
   ]
  },
  {
   "cell_type": "markdown",
   "id": "b463ce8b-8c65-4d51-85ad-47ce8fbc5528",
   "metadata": {},
   "source": [
    "### About MedNIST\n",
    "\n",
    "MedNIST provides an artificial 2d classification dataset created by gathering different medical imaging datasets from TCIA, the RSNA Bone Age Challenge, and the NIH Chest X-ray dataset. The dataset is kindly made available by Dr. Bradley J. Erickson M.D., Ph.D. (Department of Radiology, Mayo Clinic) under the Creative Commons CC BY-SA 4.0 license.\n",
    "\n",
    "MedNIST dataset is downloaded from the resources provided by the project MONAI: https://github.com/Project-MONAI/MONAI-extra-test-data/releases/download/0.8.1/MedNIST.tar.gz\n",
    "\n",
    "The dataset MedNIST has 58954 images of size (3, 64, 64) distributed into 6 classes (10000 images per class except for BreastMRI class which has 8954 images). Classes are AbdomenCT, BreastMRI, CXR, ChestCT, Hand, HeadCT. It has the structure:\n",
    "\n",
    "└── MedNIST/\n",
    "\n",
    "    ├── AbdomenCT/\n",
    "\n",
    "    └── BreastMRI/\n",
    "\n",
    "    └── CXR/\n",
    "\n",
    "    └── ChestCT/\n",
    "\n",
    "    └── Hand/\n",
    "\n",
    "    └── HeadCT/   \n",
    "   \n",
    "\n",
    "### Transfer-learning\n",
    "Transfer learning is a machine learning technique where a model trained on one task is repurposed or adapted for a second related task. Transfer learning uses a pre-trained neural network on a large dataset, as Imagenet is used to train DenseNet model to perform classification of a wide diversity of images.\n",
    "\n",
    "The objective is that the knowledge gained from learning one task can be useful for learning another task (as we do here, classification of medical images in 6 categories). This is particularly beneficial when the amount of labeled data for the target task is limited, as the pre-trained model has already learned useful features and representations from a large dataset.\n",
    "\n",
    "Transfer learning is typically applied in one of two ways:\n",
    "\n",
    "- (I) Feature Extraction: In this approach, the pre-trained model is used as a fixed feature extractor. The earlier layers of the neural network, which capture general features and patterns, are frozen, and only the later layers are replaced or retrained for the new task. \n",
    "\n",
    "- (II) Fine-tuning: In this approach, the pre-trained model is further trained or partially trained on the new task. This allows the model to adapt its learned representations to the specifics of the new task while retaining some of the knowledge gained from the original task.\n",
    "\n",
    "\n",
    "In this example, we load on the node a sampled dataset ( 500 or 1000 images) of MedNIST to illustrate the effectiveness of the transfer learning. The sampled dataset is made with a random selection of images and return a sampled dataset with balanced classes, to avoid classification's bias.\n",
    "We will test these two approches through two independant TrainingPlan experiments. \n",
    "To illustrate the effectiveness of these two method, we load 500 images for the first experiment and 1000 images for the second. Because the fine tunng method involves more layers's training, this method is better efficient for large datatsets. "
   ]
  },
  {
   "cell_type": "markdown",
   "id": "37fbf14e-d695-4831-8bdf-0e09f7c2f53e",
   "metadata": {},
   "source": [
    "### 1. Load dataset or sampled dataset\n",
    "- From the root directory of Fed-BioMed, run :  source ./scripts/fedbiomed_environment node in order to load the Node environment\n",
    "- If you have already ran Mednist nodes before, clean remaining MedNIST nodes : run ./scripts/fedbiomed_run node delete or source ./scripts/fedbiomed_environment clean\n",
    "- In this new environment, run the script python: python ./notebooks/transfer-learning/download_sample_of_mednist.py -n <number-of-nodes>, with <number-of-nodes> the number of Nodes you want to create( for more details about this script, please run notebooks/transfer-learning/download_sample_of_mednist.py --help)\n",
    "- The script will ask for each Nodes created the number of samples you want for your dataset. Scripts will output configuration files for each of Nodes, with configured database.  \n",
    "- Finally launch your Nodes (one by terminal) by running: ./scripts/fedbiomed_run node config  start config_mednist_<i>_sampled.ini start, where <i> corresponds to the number of Node created.  Wait until you get Starting task manager.\n",
    "\n",
    "### 2. Launch the researcher \n",
    "- From the root directory of Fed-BioMed, run : ./scripts/fedbiomed_run researcher start\n",
    "- It opens the Jupyter notebook.\n",
    "\n",
    "To make sure that MedNIST dataset is loaded in the node we can send a request to the network to list the available dataset in the node. The list command should output an entry for mednist data.\n",
    "\n",
    " "
   ]
  },
  {
   "cell_type": "code",
   "execution_count": 53,
   "id": "4bf52151-a981-4189-8be4-ea5ca03fd120",
   "metadata": {},
   "outputs": [
    {
     "data": {
      "text/plain": [
       "2024-02-06 13:46:44,058 fedbiomed DEBUG - Node: config_mednist_2_sampled polling for the tasks"
      ]
     },
     "metadata": {},
     "output_type": "display_data"
    },
    {
     "data": {
      "text/plain": [
       "2024-02-06 13:46:44,059 fedbiomed DEBUG - Node: config_mednist_1_sampled polling for the tasks"
      ]
     },
     "metadata": {},
     "output_type": "display_data"
    },
    {
     "data": {
      "text/plain": [
       "{'config_mednist_1_sampled': [{'name': 'MedNIST_1_sampled',\n",
       "   'data_type': 'mednist',\n",
       "   'tags': ['#MEDNIST', '#dataset'],\n",
       "   'description': 'MedNIST dataset for transfer learning',\n",
       "   'shape': [500, 3, 64, 64],\n",
       "   'dataset_id': 'dataset_29462eb2-6c03-40a4-adde-e9c5a5b2a3c8',\n",
       "   'dataset_parameters': None}],\n",
       " 'config_mednist_2_sampled': [{'name': 'MedNIST_2_sampled',\n",
       "   'data_type': 'mednist',\n",
       "   'tags': ['#MEDNIST', '#dataset'],\n",
       "   'description': 'MedNIST dataset for transfer learning',\n",
       "   'shape': [1000, 3, 64, 64],\n",
       "   'dataset_id': 'dataset_dded8492-1797-4cc6-8057-26bf1fe437d7',\n",
       "   'dataset_parameters': None}]}"
      ]
     },
     "execution_count": 53,
     "metadata": {},
     "output_type": "execute_result"
    }
   ],
   "source": [
    "from fedbiomed.researcher.requests import Requests\n",
    "req  = Requests()\n",
    "req.list()"
   ]
  },
  {
   "cell_type": "markdown",
   "id": "20148877-d424-4793-9d8b-693d2e47ba44",
   "metadata": {},
   "source": [
    "## Import of librairies "
   ]
  },
  {
   "cell_type": "code",
   "execution_count": 54,
   "id": "dae87e6a-94ac-4ecf-9586-8f9a353fb109",
   "metadata": {},
   "outputs": [],
   "source": [
    "import torch\n",
    "import torch.nn as nn\n",
    "from fedbiomed.common.training_plans import TorchTrainingPlan\n",
    "\n",
    "from fedbiomed.researcher.experiment import Experiment\n",
    "from fedbiomed.researcher.aggregators.fedavg import FedAverage\n"
   ]
  },
  {
   "cell_type": "markdown",
   "id": "c2a775bd-4d9e-4f59-9c18-4257ff8ea314",
   "metadata": {},
   "source": [
    "## Run an expriment for image's classification using Transfer-learning "
   ]
  },
  {
   "cell_type": "markdown",
   "id": "e567f368-0dc6-4eaa-95a6-1f7a6e78c6e7",
   "metadata": {},
   "source": [
    "### I- Adapt the last layer to your classification's goal\n",
    "Here we use the DenseNet model that allows classification through 10000 classes. \n",
    "We could adapt this classification's task to the MedNIST dataset by replacing the last layer with our classifier. \n",
    "The model.classifier classify images through 6 classes, by adapting the num_classes value. \n",
    "\n",
    "### Data augmentation\n",
    "You could perform data augmentation through the preprocess part if you need. Here I show random flip, rotation and crops. \n",
    "You could do the preprocessing of images by doing only transforms.resize, transforms.to_tensor and transforms.normalize, as mentionned in the code below. "
   ]
  },
  {
   "cell_type": "markdown",
   "id": "d36f5b80",
   "metadata": {},
   "source": [
    "### 1. Define Training plan experiment "
   ]
  },
  {
   "cell_type": "code",
   "execution_count": 55,
   "id": "43761a76-1efc-46cc-80b6-161b3c99731f",
   "metadata": {},
   "outputs": [],
   "source": [
    "class MyTrainingPlan1(TorchTrainingPlan):\n",
    "\n",
    "    def init_model(self, model_args):\n",
    "       \n",
    "        # Load the pre-trained DenseNet model\n",
    "        model = models.densenet121(pretrained=True)\n",
    "        \n",
    "        # Remove the classification layer of DenseNet\n",
    "        for param in model.features[:-1].parameters():\n",
    "            param.requires_grad = False\n",
    "            \n",
    "        # add the classifier \n",
    "        num_classes = model_args['num_classes'] \n",
    "        num_ftrs = model.classifier.in_features\n",
    "        model.classifier= nn.Sequential(\n",
    "            nn.Linear(num_ftrs, 512),\n",
    "            nn.ReLU(inplace=True),\n",
    "            nn.Dropout(0.5),\n",
    "            nn.Linear(512, num_classes)\n",
    "        )\n",
    "      \n",
    "        return model\n",
    "\n",
    "    def init_dependencies(self):\n",
    "        return [\n",
    "            \"from torchvision import datasets, transforms, models\",\n",
    "            \"import torch.optim as optim\",\n",
    "            \"from torchvision.models import densenet121\"\n",
    "        ]\n",
    "\n",
    "\n",
    "    def init_optimizer(self, optimizer_args):        \n",
    "        return optim.Adam(self.model().parameters(), lr=optimizer_args[\"lr\"])\n",
    "\n",
    "    \n",
    "    # training data\n",
    "    \n",
    "    def training_data(self):\n",
    "        \n",
    "        # Custom torch Dataloader for MedNIST data\n",
    "        print(\"dataset path\",self.dataset_path)\n",
    "\n",
    "        # Transform images and  do data augmentation \n",
    "        preprocess = transforms.Compose([\n",
    "                transforms.Resize((224,224)),  \n",
    "                #transforms.RandomHorizontalFlip(p=0.5),\n",
    "                #transforms.RandomVerticalFlip(p=0.5),\n",
    "                #transforms.RandomRotation(30),\n",
    "                #transforms.RandomResizedCrop(224, scale=(0.8, 1.0)),\n",
    "                transforms.ToTensor(),\n",
    "                transforms.Normalize(mean = [0.485, 0.456, 0.406], std = [0.229, 0.224, 0.225])\n",
    "           ])\n",
    "    \n",
    "        train_data = datasets.ImageFolder(self.dataset_path,transform = preprocess)\n",
    "        train_kwargs = { 'shuffle': True}\n",
    "        return DataManager(dataset=train_data, **train_kwargs)\n",
    "\n",
    "    def training_step(self, data, target):\n",
    "        output = self.model().forward(data)\n",
    "        loss_func = nn.CrossEntropyLoss()\n",
    "        loss   = loss_func(output, target)\n",
    "        return loss\n",
    "\n",
    "\n"
   ]
  },
  {
   "cell_type": "code",
   "execution_count": 56,
   "id": "a011a997-5fc6-4d01-af73-54c6017da976",
   "metadata": {},
   "outputs": [],
   "source": [
    "training_args = {\n",
    "    'loader_args': { 'batch_size': 32, }, \n",
    "    'optimizer_args': {'lr': 1e-3}, \n",
    "    'epochs': 2, \n",
    "    'dry_run': False,  \n",
    "    'batch_maxnum': 100 # Fast pass for development : only use ( batch_maxnum * batch_size ) samples\n",
    "}\n",
    "\n",
    "model_args = {\n",
    "    'num_classes': 6 # adapt this number to the number of classes in your dataset\n",
    "}"
   ]
  },
  {
   "cell_type": "code",
   "execution_count": 57,
   "id": "08f594a9-8d00-464b-80f1-ff42dac59b33",
   "metadata": {},
   "outputs": [
    {
     "data": {
      "text/plain": [
       "2024-02-06 13:46:50,953 fedbiomed DEBUG - Node: config_mednist_2_sampled polling for the tasks"
      ]
     },
     "metadata": {},
     "output_type": "display_data"
    },
    {
     "data": {
      "text/plain": [
       "2024-02-06 13:46:50,955 fedbiomed DEBUG - Node: config_mednist_1_sampled polling for the tasks"
      ]
     },
     "metadata": {},
     "output_type": "display_data"
    },
    {
     "data": {
      "text/plain": [
       "2024-02-06 13:46:50,958 fedbiomed INFO - Node selected for training -> config_mednist_1_sampled"
      ]
     },
     "metadata": {},
     "output_type": "display_data"
    },
    {
     "data": {
      "text/plain": [
       "2024-02-06 13:46:50,959 fedbiomed INFO - Node selected for training -> config_mednist_2_sampled"
      ]
     },
     "metadata": {},
     "output_type": "display_data"
    },
    {
     "data": {
      "text/plain": [
       "2024-02-06 13:46:50,961 fedbiomed DEBUG - Model file has been saved: /home/ebirgy/development/fedbiomed_github/fedbiomed/var/experiments/Experiment_0008/model_1a17ef84-490c-4681-998a-5b667dadb1e3.py"
      ]
     },
     "metadata": {},
     "output_type": "display_data"
    },
    {
     "data": {
      "text/plain": [
       "2024-02-06 13:46:51,101 fedbiomed DEBUG - using native torch optimizer"
      ]
     },
     "metadata": {},
     "output_type": "display_data"
    },
    {
     "data": {
      "text/plain": [
       "2024-02-06 13:46:51,102 fedbiomed INFO - Removing tensorboard logs from previous experiment"
      ]
     },
     "metadata": {},
     "output_type": "display_data"
    },
    {
     "data": {
      "text/plain": [
       "2024-02-06 13:46:51,105 fedbiomed DEBUG - Experimentation training_args updated for `job`"
      ]
     },
     "metadata": {},
     "output_type": "display_data"
    },
    {
     "data": {
      "text/plain": [
       "2024-02-06 13:46:51,106 fedbiomed DEBUG - Experimentation training_args updated for `job`"
      ]
     },
     "metadata": {},
     "output_type": "display_data"
    },
    {
     "data": {
      "text/plain": [
       "2024-02-06 13:46:51,107 fedbiomed DEBUG - Experimentation training_args updated for `job`"
      ]
     },
     "metadata": {},
     "output_type": "display_data"
    },
    {
     "data": {
      "text/plain": [
       "True"
      ]
     },
     "execution_count": 57,
     "metadata": {},
     "output_type": "execute_result"
    }
   ],
   "source": [
    "tags =  ['#MEDNIST', '#dataset']\n",
    "\n",
    "rounds = 2 # adjsut the number of rounds \n",
    "\n",
    "exp = Experiment(tags=tags,\n",
    "                 training_plan_class=MyTrainingPlan1,\n",
    "                 model_args=model_args,\n",
    "                 training_args=training_args,\n",
    "                 round_limit=rounds,\n",
    "                 aggregator=FedAverage())\n",
    "\n",
    "# testing section \n",
    "from fedbiomed.common.metrics import MetricTypes\n",
    "exp.set_test_ratio(.1) \n",
    "exp.set_test_on_local_updates(True)\n",
    "exp.set_test_metric(MetricTypes.ACCURACY)\n",
    "\n",
    "exp.set_tensorboard(True)"
   ]
  },
  {
   "cell_type": "markdown",
   "id": "0e12fd54",
   "metadata": {},
   "source": [
    "### 2. Define the dataset foryour experiment \n",
    "\n",
    "I propose to run these first experiment with only MedNIST_sampled_1 dataset, the dataset of 500 images, because these first method is a transfer learning without training.\n",
    "Here I show how to select one dataset :"
   ]
  },
  {
   "cell_type": "code",
   "execution_count": 58,
   "id": "9688fe37",
   "metadata": {},
   "outputs": [
    {
     "data": {
      "text/plain": [
       "2024-02-06 13:46:58,682 fedbiomed DEBUG - Experimentation nodes filter changed, you may need to update `training_data`"
      ]
     },
     "metadata": {},
     "output_type": "display_data"
    },
    {
     "data": {
      "text/plain": [
       "2024-02-06 13:46:58,684 fedbiomed DEBUG - Experimentation tags changed, you may need to update `training_data`"
      ]
     },
     "metadata": {},
     "output_type": "display_data"
    },
    {
     "data": {
      "text/plain": [
       "2024-02-06 13:46:58,685 fedbiomed DEBUG - Training data changed, you may need to update `node_selection_strategy`"
      ]
     },
     "metadata": {},
     "output_type": "display_data"
    },
    {
     "data": {
      "text/plain": [
       "2024-02-06 13:46:58,685 fedbiomed DEBUG - Training data changed, you may need to update `job`"
      ]
     },
     "metadata": {},
     "output_type": "display_data"
    },
    {
     "data": {
      "text/plain": [
       "2024-02-06 13:46:58,686 fedbiomed DEBUG - Training data changed, you may need to update `aggregator`"
      ]
     },
     "metadata": {},
     "output_type": "display_data"
    },
    {
     "name": "stdout",
     "output_type": "stream",
     "text": [
      "{'config_mednist_1_sampled': {'name': 'MedNIST_1_sampled', 'data_type': 'mednist', 'tags': ['#MEDNIST', '#dataset'], 'description': 'MedNIST dataset for transfer learning', 'shape': [500, 3, 64, 64], 'dataset_id': 'dataset_29462eb2-6c03-40a4-adde-e9c5a5b2a3c8', 'dtypes': [], 'dataset_parameters': None}}\n"
     ]
    }
   ],
   "source": [
    "\n",
    "exp.set_nodes(['config_mednist_1_sampled'])\n",
    "exp.set_tags(['#MEDNIST', '#dataset'])\n",
    "td = exp.training_data().data()\n",
    "td.pop('config_mednist_2_sampled')\n",
    "exp.set_training_data(td)\n",
    "\n",
    "print(exp.training_data().data())"
   ]
  },
  {
   "cell_type": "markdown",
   "id": "cf768622",
   "metadata": {},
   "source": [
    "### 3. Run your experiment "
   ]
  },
  {
   "cell_type": "code",
   "execution_count": 59,
   "id": "4087e8b5-cad2-4436-9d85-6686717ba8c3",
   "metadata": {},
   "outputs": [
    {
     "data": {
      "text/plain": [
       "2024-02-06 13:47:08,524 fedbiomed INFO - Sampled nodes in round 0 ['config_mednist_1_sampled']"
      ]
     },
     "metadata": {},
     "output_type": "display_data"
    },
    {
     "data": {
      "text/plain": [
       "2024-02-06 13:47:08,533 fedbiomed INFO - \u001b[1mSending request\u001b[0m \n",
       "\t\t\t\t\t\u001b[1m To\u001b[0m: config_mednist_1_sampled \n",
       "\t\t\t\t\t\u001b[1m Request: \u001b[0m: TRAIN\n",
       " -----------------------------------------------------------------"
      ]
     },
     "metadata": {},
     "output_type": "display_data"
    },
    {
     "data": {
      "text/plain": [
       "2024-02-06 13:47:08,671 fedbiomed DEBUG - Node: config_mednist_1_sampled polling for the tasks"
      ]
     },
     "metadata": {},
     "output_type": "display_data"
    },
    {
     "data": {
      "text/plain": [
       "2024-02-06 13:47:10,481 fedbiomed INFO - \u001b[1mTRAINING\u001b[0m \n",
       "\t\t\t\t\t NODE_ID: config_mednist_1_sampled \n",
       "\t\t\t\t\t Round 1 Epoch: 1 | Iteration: 1/15 (7%) | Samples: 32/480\n",
       " \t\t\t\t\t Loss: \u001b[1m1.770158\u001b[0m \n",
       "\t\t\t\t\t ---------"
      ]
     },
     "metadata": {},
     "output_type": "display_data"
    },
    {
     "data": {
      "text/plain": [
       "2024-02-06 13:47:16,019 fedbiomed DEBUG - Node: config_mednist_1_sampled polling for the tasks"
      ]
     },
     "metadata": {},
     "output_type": "display_data"
    },
    {
     "data": {
      "text/plain": [
       "2024-02-06 13:47:16,772 fedbiomed DEBUG - Node: config_mednist_2_sampled polling for the tasks"
      ]
     },
     "metadata": {},
     "output_type": "display_data"
    },
    {
     "data": {
      "text/plain": [
       "2024-02-06 13:47:24,260 fedbiomed INFO - \u001b[1mTRAINING\u001b[0m \n",
       "\t\t\t\t\t NODE_ID: config_mednist_1_sampled \n",
       "\t\t\t\t\t Round 1 Epoch: 1 | Iteration: 10/15 (67%) | Samples: 320/480\n",
       " \t\t\t\t\t Loss: \u001b[1m0.442400\u001b[0m \n",
       "\t\t\t\t\t ---------"
      ]
     },
     "metadata": {},
     "output_type": "display_data"
    },
    {
     "data": {
      "text/plain": [
       "2024-02-06 13:47:30,427 fedbiomed INFO - \u001b[1mTRAINING\u001b[0m \n",
       "\t\t\t\t\t NODE_ID: config_mednist_1_sampled \n",
       "\t\t\t\t\t Round 1 Epoch: 1 | Iteration: 15/15 (100%) | Samples: 450/450\n",
       " \t\t\t\t\t Loss: \u001b[1m2.514371\u001b[0m \n",
       "\t\t\t\t\t ---------"
      ]
     },
     "metadata": {},
     "output_type": "display_data"
    },
    {
     "data": {
      "text/plain": [
       "2024-02-06 13:47:31,995 fedbiomed INFO - \u001b[1mTRAINING\u001b[0m \n",
       "\t\t\t\t\t NODE_ID: config_mednist_1_sampled \n",
       "\t\t\t\t\t Round 1 Epoch: 2 | Iteration: 1/15 (7%) | Samples: 32/480\n",
       " \t\t\t\t\t Loss: \u001b[1m0.142385\u001b[0m \n",
       "\t\t\t\t\t ---------"
      ]
     },
     "metadata": {},
     "output_type": "display_data"
    },
    {
     "data": {
      "text/plain": [
       "2024-02-06 13:47:37,962 fedbiomed INFO - \u001b[1mTRAINING\u001b[0m \n",
       "\t\t\t\t\t NODE_ID: config_mednist_1_sampled \n",
       "\t\t\t\t\t Round 1 Epoch: 2 | Iteration: 5/15 (33%) | Samples: 160/480\n",
       " \t\t\t\t\t Loss: \u001b[1m0.341740\u001b[0m \n",
       "\t\t\t\t\t ---------"
      ]
     },
     "metadata": {},
     "output_type": "display_data"
    },
    {
     "data": {
      "text/plain": [
       "2024-02-06 13:47:52,495 fedbiomed INFO - \u001b[1mTRAINING\u001b[0m \n",
       "\t\t\t\t\t NODE_ID: config_mednist_1_sampled \n",
       "\t\t\t\t\t Round 1 Epoch: 2 | Iteration: 15/15 (100%) | Samples: 450/450\n",
       " \t\t\t\t\t Loss: \u001b[1m4.683095\u001b[0m \n",
       "\t\t\t\t\t ---------"
      ]
     },
     "metadata": {},
     "output_type": "display_data"
    },
    {
     "data": {
      "text/plain": [
       "2024-02-06 13:47:54,923 fedbiomed INFO - \u001b[1mVALIDATION ON LOCAL UPDATES\u001b[0m \n",
       "\t\t\t\t\t NODE_ID: config_mednist_1_sampled \n",
       "\t\t\t\t\t Round 1 | Iteration: 1/1 (100%) | Samples: 50/50\n",
       " \t\t\t\t\t ACCURACY: \u001b[1m0.980000\u001b[0m \n",
       "\t\t\t\t\t ---------"
      ]
     },
     "metadata": {},
     "output_type": "display_data"
    },
    {
     "data": {
      "text/plain": [
       "2024-02-06 13:47:55,099 fedbiomed INFO - Nodes that successfully reply in round 0 ['config_mednist_1_sampled']"
      ]
     },
     "metadata": {},
     "output_type": "display_data"
    },
    {
     "data": {
      "text/plain": [
       "2024-02-06 13:47:55,235 fedbiomed INFO - Saved aggregated params for round 0 in /home/ebirgy/development/fedbiomed_github/fedbiomed/var/experiments/Experiment_0008/aggregated_params_494d97c3-c86a-42bf-ac14-94a36fdaf0e4.mpk"
      ]
     },
     "metadata": {},
     "output_type": "display_data"
    },
    {
     "data": {
      "text/plain": [
       "2024-02-06 13:47:55,236 fedbiomed INFO - Sampled nodes in round 1 ['config_mednist_1_sampled']"
      ]
     },
     "metadata": {},
     "output_type": "display_data"
    },
    {
     "data": {
      "text/plain": [
       "2024-02-06 13:47:55,246 fedbiomed INFO - \u001b[1mSending request\u001b[0m \n",
       "\t\t\t\t\t\u001b[1m To\u001b[0m: config_mednist_1_sampled \n",
       "\t\t\t\t\t\u001b[1m Request: \u001b[0m: TRAIN\n",
       " -----------------------------------------------------------------"
      ]
     },
     "metadata": {},
     "output_type": "display_data"
    },
    {
     "data": {
      "text/plain": [
       "2024-02-06 13:47:55,371 fedbiomed DEBUG - Node: config_mednist_1_sampled polling for the tasks"
      ]
     },
     "metadata": {},
     "output_type": "display_data"
    },
    {
     "data": {
      "text/plain": [
       "2024-02-06 13:47:57,256 fedbiomed INFO - \u001b[1mTRAINING\u001b[0m \n",
       "\t\t\t\t\t NODE_ID: config_mednist_1_sampled \n",
       "\t\t\t\t\t Round 2 Epoch: 1 | Iteration: 1/15 (7%) | Samples: 32/480\n",
       " \t\t\t\t\t Loss: \u001b[1m0.126983\u001b[0m \n",
       "\t\t\t\t\t ---------"
      ]
     },
     "metadata": {},
     "output_type": "display_data"
    },
    {
     "data": {
      "text/plain": [
       "2024-02-06 13:48:12,487 fedbiomed INFO - \u001b[1mTRAINING\u001b[0m \n",
       "\t\t\t\t\t NODE_ID: config_mednist_1_sampled \n",
       "\t\t\t\t\t Round 2 Epoch: 1 | Iteration: 10/15 (67%) | Samples: 320/480\n",
       " \t\t\t\t\t Loss: \u001b[1m0.433671\u001b[0m \n",
       "\t\t\t\t\t ---------"
      ]
     },
     "metadata": {},
     "output_type": "display_data"
    },
    {
     "data": {
      "text/plain": [
       "2024-02-06 13:48:16,772 fedbiomed DEBUG - Node: config_mednist_2_sampled polling for the tasks"
      ]
     },
     "metadata": {},
     "output_type": "display_data"
    },
    {
     "data": {
      "text/plain": [
       "2024-02-06 13:48:18,772 fedbiomed INFO - \u001b[1mTRAINING\u001b[0m \n",
       "\t\t\t\t\t NODE_ID: config_mednist_1_sampled \n",
       "\t\t\t\t\t Round 2 Epoch: 1 | Iteration: 15/15 (100%) | Samples: 450/450\n",
       " \t\t\t\t\t Loss: \u001b[1m1.584779\u001b[0m \n",
       "\t\t\t\t\t ---------"
      ]
     },
     "metadata": {},
     "output_type": "display_data"
    },
    {
     "data": {
      "text/plain": [
       "2024-02-06 13:48:20,349 fedbiomed INFO - \u001b[1mTRAINING\u001b[0m \n",
       "\t\t\t\t\t NODE_ID: config_mednist_1_sampled \n",
       "\t\t\t\t\t Round 2 Epoch: 2 | Iteration: 1/15 (7%) | Samples: 32/480\n",
       " \t\t\t\t\t Loss: \u001b[1m0.536414\u001b[0m \n",
       "\t\t\t\t\t ---------"
      ]
     },
     "metadata": {},
     "output_type": "display_data"
    },
    {
     "data": {
      "text/plain": [
       "2024-02-06 13:48:26,514 fedbiomed INFO - \u001b[1mTRAINING\u001b[0m \n",
       "\t\t\t\t\t NODE_ID: config_mednist_1_sampled \n",
       "\t\t\t\t\t Round 2 Epoch: 2 | Iteration: 5/15 (33%) | Samples: 160/480\n",
       " \t\t\t\t\t Loss: \u001b[1m0.171859\u001b[0m \n",
       "\t\t\t\t\t ---------"
      ]
     },
     "metadata": {},
     "output_type": "display_data"
    },
    {
     "data": {
      "text/plain": [
       "2024-02-06 13:48:27,841 fedbiomed DEBUG - Node: config_mednist_2_sampled polling for the tasks"
      ]
     },
     "metadata": {},
     "output_type": "display_data"
    },
    {
     "data": {
      "text/plain": [
       "2024-02-06 13:48:27,898 fedbiomed DEBUG - Node: config_mednist_1_sampled polling for the tasks"
      ]
     },
     "metadata": {},
     "output_type": "display_data"
    },
    {
     "data": {
      "text/plain": [
       "2024-02-06 13:48:41,419 fedbiomed INFO - \u001b[1mTRAINING\u001b[0m \n",
       "\t\t\t\t\t NODE_ID: config_mednist_1_sampled \n",
       "\t\t\t\t\t Round 2 Epoch: 2 | Iteration: 15/15 (100%) | Samples: 450/450\n",
       " \t\t\t\t\t Loss: \u001b[1m0.568412\u001b[0m \n",
       "\t\t\t\t\t ---------"
      ]
     },
     "metadata": {},
     "output_type": "display_data"
    },
    {
     "data": {
      "text/plain": [
       "2024-02-06 13:48:43,913 fedbiomed INFO - \u001b[1mVALIDATION ON LOCAL UPDATES\u001b[0m \n",
       "\t\t\t\t\t NODE_ID: config_mednist_1_sampled \n",
       "\t\t\t\t\t Round 2 | Iteration: 1/1 (100%) | Samples: 50/50\n",
       " \t\t\t\t\t ACCURACY: \u001b[1m0.980000\u001b[0m \n",
       "\t\t\t\t\t ---------"
      ]
     },
     "metadata": {},
     "output_type": "display_data"
    },
    {
     "data": {
      "text/plain": [
       "2024-02-06 13:48:44,108 fedbiomed INFO - Nodes that successfully reply in round 1 ['config_mednist_1_sampled']"
      ]
     },
     "metadata": {},
     "output_type": "display_data"
    },
    {
     "data": {
      "text/plain": [
       "2024-02-06 13:48:44,227 fedbiomed INFO - Saved aggregated params for round 1 in /home/ebirgy/development/fedbiomed_github/fedbiomed/var/experiments/Experiment_0008/aggregated_params_0d6003a9-8993-4149-bd0b-379a6e3b26d3.mpk"
      ]
     },
     "metadata": {},
     "output_type": "display_data"
    },
    {
     "data": {
      "text/plain": [
       "2"
      ]
     },
     "execution_count": 59,
     "metadata": {},
     "output_type": "execute_result"
    },
    {
     "data": {
      "text/plain": [
       "2024-02-06 13:49:27,838 fedbiomed DEBUG - Node: config_mednist_2_sampled polling for the tasks"
      ]
     },
     "metadata": {},
     "output_type": "display_data"
    },
    {
     "data": {
      "text/plain": [
       "2024-02-06 13:49:27,896 fedbiomed DEBUG - Node: config_mednist_1_sampled polling for the tasks"
      ]
     },
     "metadata": {},
     "output_type": "display_data"
    },
    {
     "data": {
      "text/plain": [
       "2024-02-06 13:49:36,411 fedbiomed DEBUG - Node: config_mednist_2_sampled polling for the tasks"
      ]
     },
     "metadata": {},
     "output_type": "display_data"
    },
    {
     "data": {
      "text/plain": [
       "2024-02-06 13:49:42,351 fedbiomed DEBUG - Node: config_mednist_1_sampled polling for the tasks"
      ]
     },
     "metadata": {},
     "output_type": "display_data"
    }
   ],
   "source": [
    "exp.run()"
   ]
  },
  {
   "cell_type": "markdown",
   "id": "71ecf6a7-eb26-4b9c-bc24-492c8cb030b8",
   "metadata": {},
   "source": [
    "###### For example,  At the end of training experiment, I obtained\n",
    "\n",
    "                      INFO - VALIDATION ON LOCAL UPDATES \n",
    "\t\t\t\t\t NODE_ID: NODE_41cd99c8-3571-4ab3-958e-6357ce31e91b \n",
    "\t\t\t\t\t Round 2 | Iteration: 1/1 (100%) | Samples: 100/100\n",
    " \t\t\t\t\t ACCURACY: 0.980000\n",
    "\t\t\t\t\t -"
   ]
  },
  {
   "cell_type": "markdown",
   "id": "7decafad",
   "metadata": {},
   "source": [
    "### Save your model \n",
    "You could save your model to use it in a new TrainingPlan \n",
    "This save allow to import the model including your layers's modification and weights values."
   ]
  },
  {
   "cell_type": "code",
   "execution_count": 70,
   "id": "244b54a8-43a0-4009-8e3e-07e62fec2e4b",
   "metadata": {},
   "outputs": [],
   "source": [
    "#save model \n",
    "exp.training_plan().export_model('./training_plan1_densenet_MedNIST')"
   ]
  },
  {
   "cell_type": "markdown",
   "id": "f437f9f9",
   "metadata": {},
   "source": [
    "### Results in tensorboard "
   ]
  },
  {
   "cell_type": "code",
   "execution_count": 71,
   "id": "326ace09-7f4d-40fd-8646-c3f4cb67042b",
   "metadata": {},
   "outputs": [],
   "source": [
    "from fedbiomed.researcher.environ import environ\n",
    "tensorboard_dir = environ['TENSORBOARD_RESULTS_DIR']"
   ]
  },
  {
   "cell_type": "code",
   "execution_count": 72,
   "id": "31041e7e-728d-4b18-a5d7-58f405bd1c14",
   "metadata": {},
   "outputs": [
    {
     "name": "stdout",
     "output_type": "stream",
     "text": [
      "The tensorboard extension is already loaded. To reload it, use:\n",
      "  %reload_ext tensorboard\n"
     ]
    }
   ],
   "source": [
    "%load_ext tensorboard"
   ]
  },
  {
   "cell_type": "code",
   "execution_count": 73,
   "id": "8c8bdb39-287e-4cc4-973d-1dfb30838aef",
   "metadata": {},
   "outputs": [
    {
     "data": {
      "text/plain": [
       "Reusing TensorBoard on port 6006 (pid 45074), started 2:23:43 ago. (Use '!kill 45074' to kill it.)"
      ]
     },
     "metadata": {},
     "output_type": "display_data"
    },
    {
     "data": {
      "text/html": [
       "\n",
       "      <iframe id=\"tensorboard-frame-215eba205cc83314\" width=\"100%\" height=\"800\" frameborder=\"0\">\n",
       "      </iframe>\n",
       "      <script>\n",
       "        (function() {\n",
       "          const frame = document.getElementById(\"tensorboard-frame-215eba205cc83314\");\n",
       "          const url = new URL(\"/\", window.location);\n",
       "          const port = 6006;\n",
       "          if (port) {\n",
       "            url.port = port;\n",
       "          }\n",
       "          frame.src = url;\n",
       "        })();\n",
       "      </script>\n",
       "    "
      ],
      "text/plain": [
       "<IPython.core.display.HTML object>"
      ]
     },
     "metadata": {},
     "output_type": "display_data"
    }
   ],
   "source": [
    "%tensorboard --logdir \"$tensorboard_dir\""
   ]
  },
  {
   "cell_type": "code",
   "execution_count": null,
   "id": "ae2889ae",
   "metadata": {},
   "outputs": [],
   "source": []
  },
  {
   "cell_type": "markdown",
   "id": "07027428-86f9-4f0f-87da-b8b97da6838e",
   "metadata": {},
   "source": [
    "## II - Partial fine-tuning: Use pretrained DenseNet and train specific layers with your data\n",
    "You can set the second dataset with more images to run the second experiment that uses training steps. \n",
    "\n",
    "In this example, I run a second experiment with 1000 images.\n",
    "The dataset is defined below, after TrainingPlan as previously shown.\n",
    "\n",
    "You could also import the model you saved to perform your second TrainingPlan experiment (let's see below)\n"
   ]
  },
  {
   "cell_type": "code",
   "execution_count": 76,
   "id": "7952ba8e",
   "metadata": {},
   "outputs": [
    {
     "data": {
      "text/plain": [
       "2024-02-06 14:04:38,957 fedbiomed DEBUG - Node: config_mednist_1_sampled polling for the tasks"
      ]
     },
     "metadata": {},
     "output_type": "display_data"
    },
    {
     "data": {
      "text/plain": [
       "2024-02-06 14:04:38,961 fedbiomed DEBUG - Node: config_mednist_2_sampled polling for the tasks"
      ]
     },
     "metadata": {},
     "output_type": "display_data"
    },
    {
     "data": {
      "text/plain": [
       "{'config_mednist_1_sampled': [{'name': 'MedNIST_1_sampled',\n",
       "   'data_type': 'mednist',\n",
       "   'tags': ['#MEDNIST', '#dataset'],\n",
       "   'description': 'MedNIST dataset for transfer learning',\n",
       "   'shape': [500, 3, 64, 64],\n",
       "   'dataset_id': 'dataset_29462eb2-6c03-40a4-adde-e9c5a5b2a3c8',\n",
       "   'dataset_parameters': None}],\n",
       " 'config_mednist_2_sampled': [{'name': 'MedNIST_2_sampled',\n",
       "   'data_type': 'mednist',\n",
       "   'tags': ['#MEDNIST', '#dataset'],\n",
       "   'description': 'MedNIST dataset for transfer learning',\n",
       "   'shape': [1000, 3, 64, 64],\n",
       "   'dataset_id': 'dataset_dded8492-1797-4cc6-8057-26bf1fe437d7',\n",
       "   'dataset_parameters': None}]}"
      ]
     },
     "execution_count": 76,
     "metadata": {},
     "output_type": "execute_result"
    }
   ],
   "source": [
    "from fedbiomed.researcher.requests import Requests\n",
    "req  = Requests()\n",
    "req.list()"
   ]
  },
  {
   "cell_type": "code",
   "execution_count": 85,
   "id": "9a62ced6-f7e6-406f-8dfe-77e620aa3018",
   "metadata": {},
   "outputs": [],
   "source": [
    "from fedbiomed.common.training_plans import TorchTrainingPlan\n",
    "class MyTrainingPlan2(TorchTrainingPlan):\n",
    "\n",
    "    def init_model(self, model_args):\n",
    "\n",
    "        # Load the pre-trained DenseNet model\n",
    "        model = models.densenet121(pretrained=True)\n",
    "        \n",
    "        # For example, let's freeze layers of the last dense block\n",
    "        for param in model.features[:-3].parameters():\n",
    "            param.requires_grad = False\n",
    "\n",
    "        # add the classifier \n",
    "        num_ftrs = model.classifier.in_features\n",
    "        num_classes = model_args['num_classes'] \n",
    "        model.classifier = nn.Sequential(\n",
    "            nn.Linear(num_ftrs, 512),\n",
    "            nn.ReLU(inplace=True),\n",
    "            nn.Linear(512, num_classes)       \n",
    "            )\n",
    "        \n",
    "        return model\n",
    "\n",
    "    def init_dependencies(self):\n",
    "        return [\n",
    "            \"from torchvision import datasets, transforms, models\",\n",
    "            \"import torch.optim as optim\"\n",
    "        ]\n",
    "\n",
    "\n",
    "    def init_optimizer(self, optimizer_args):        \n",
    "        return optim.Adam(self.model().parameters(), lr=optimizer_args[\"lr\"])\n",
    "\n",
    "    def training_data(self):\n",
    "        \n",
    "        # Custom torch Dataloader for MedNIST data and transform images and perform data augmentation \n",
    "        print(\"dataset path\",self.dataset_path)\n",
    "        preprocess = transforms.Compose([\n",
    "                transforms.Resize((224,224)),  \n",
    "                #transforms.RandomHorizontalFlip(p=0.5),\n",
    "                #transforms.RandomVerticalFlip(p=0.5),\n",
    "                #transforms.RandomRotation(30),\n",
    "                #transforms.RandomResizedCrop(224, scale=(0.8, 1.0)),\n",
    "                transforms.ToTensor(),\n",
    "                transforms.Normalize(mean = [0.485, 0.456, 0.406], std = [0.229, 0.224, 0.225])\n",
    "           ])\n",
    "        train_data = datasets.ImageFolder(self.dataset_path,transform = preprocess)\n",
    "        train_kwargs = { 'shuffle': True}\n",
    "        return DataManager(dataset=train_data, **train_kwargs)\n",
    "\n",
    "\n",
    "\n",
    "    def training_step(self, data, target):\n",
    "        output = self.model().forward(data)\n",
    "        loss_func = nn.CrossEntropyLoss()\n",
    "        loss   = loss_func(output, target)\n",
    "        return loss\n",
    "\n",
    "\n"
   ]
  },
  {
   "cell_type": "code",
   "execution_count": 86,
   "id": "620f3099-b6e6-4395-b9ea-ad2b728d0370",
   "metadata": {},
   "outputs": [
    {
     "data": {
      "text/plain": [
       "2024-02-06 14:10:30,692 fedbiomed DEBUG - Node: config_mednist_1_sampled polling for the tasks"
      ]
     },
     "metadata": {},
     "output_type": "display_data"
    },
    {
     "data": {
      "text/plain": [
       "2024-02-06 14:10:30,695 fedbiomed DEBUG - Node: config_mednist_2_sampled polling for the tasks"
      ]
     },
     "metadata": {},
     "output_type": "display_data"
    },
    {
     "data": {
      "text/plain": [
       "2024-02-06 14:10:30,699 fedbiomed INFO - Node selected for training -> config_mednist_1_sampled"
      ]
     },
     "metadata": {},
     "output_type": "display_data"
    },
    {
     "data": {
      "text/plain": [
       "2024-02-06 14:10:30,700 fedbiomed INFO - Node selected for training -> config_mednist_2_sampled"
      ]
     },
     "metadata": {},
     "output_type": "display_data"
    },
    {
     "data": {
      "text/plain": [
       "2024-02-06 14:10:30,704 fedbiomed DEBUG - Model file has been saved: /home/ebirgy/development/fedbiomed_github/fedbiomed/var/experiments/Experiment_0011/model_d892d622-8aa9-46d3-8801-2d6f5014860f.py"
      ]
     },
     "metadata": {},
     "output_type": "display_data"
    },
    {
     "data": {
      "text/plain": [
       "2024-02-06 14:10:30,846 fedbiomed DEBUG - using native torch optimizer"
      ]
     },
     "metadata": {},
     "output_type": "display_data"
    },
    {
     "data": {
      "text/plain": [
       "2024-02-06 14:10:30,847 fedbiomed INFO - Removing tensorboard logs from previous experiment"
      ]
     },
     "metadata": {},
     "output_type": "display_data"
    },
    {
     "data": {
      "text/plain": [
       "2024-02-06 14:10:30,849 fedbiomed DEBUG - Experimentation training_args updated for `job`"
      ]
     },
     "metadata": {},
     "output_type": "display_data"
    },
    {
     "data": {
      "text/plain": [
       "2024-02-06 14:10:30,850 fedbiomed DEBUG - Experimentation training_args updated for `job`"
      ]
     },
     "metadata": {},
     "output_type": "display_data"
    },
    {
     "data": {
      "text/plain": [
       "2024-02-06 14:10:30,851 fedbiomed DEBUG - Experimentation training_args updated for `job`"
      ]
     },
     "metadata": {},
     "output_type": "display_data"
    },
    {
     "data": {
      "text/plain": [
       "True"
      ]
     },
     "execution_count": 86,
     "metadata": {},
     "output_type": "execute_result"
    }
   ],
   "source": [
    "from fedbiomed.researcher.experiment import Experiment\n",
    "from fedbiomed.researcher.aggregators.fedavg import FedAverage\n",
    "\n",
    "training_args = {\n",
    "    'loader_args': { 'batch_size': 32, }, \n",
    "    'optimizer_args': {'lr': 1e-4}, # You could decrease the learning rate\n",
    "    'epochs': 1, # you can increase the epoch's number =10\n",
    "    'dry_run': False,  \n",
    "    'batch_maxnum': 100 # Fast pass for development : only use ( batch_maxnum * batch_size ) samples\n",
    "}\n",
    "model_args={\n",
    "    'num_classes': 6\n",
    "}\n",
    "tags =  ['#MEDNIST', '#dataset']\n",
    "rounds = 1  # you can increase the rounds's number \n",
    "\n",
    "exp = Experiment(tags=tags,\n",
    "                 training_plan_class=MyTrainingPlan2,\n",
    "                 model_args=model_args,\n",
    "                 training_args=training_args,\n",
    "                 round_limit=rounds,\n",
    "                 aggregator=FedAverage())\n",
    "\n",
    "from fedbiomed.common.metrics import MetricTypes\n",
    "exp.set_test_ratio(.1)\n",
    "exp.set_test_on_local_updates(True)\n",
    "exp.set_test_metric(MetricTypes.ACCURACY)\n",
    "\n",
    "exp.set_tensorboard(True)\n",
    "    "
   ]
  },
  {
   "cell_type": "markdown",
   "id": "110d4e7b",
   "metadata": {},
   "source": [
    "### 1- Import a \"custom model\" or continue with the original DenseNet model of the TrainingPlan "
   ]
  },
  {
   "cell_type": "code",
   "execution_count": 87,
   "id": "25160054",
   "metadata": {},
   "outputs": [],
   "source": [
    "exp.training_plan().import_model('./training_plan1_densenet_MedNIST') # if you want to import the model and weights of first traning plan "
   ]
  },
  {
   "cell_type": "markdown",
   "id": "42bc0694",
   "metadata": {},
   "source": [
    "### 2. Define the dataset foryour experiment "
   ]
  },
  {
   "cell_type": "code",
   "execution_count": 88,
   "id": "6952ccc3",
   "metadata": {},
   "outputs": [
    {
     "data": {
      "text/plain": [
       "2024-02-06 14:10:42,357 fedbiomed DEBUG - Experimentation nodes filter changed, you may need to update `training_data`"
      ]
     },
     "metadata": {},
     "output_type": "display_data"
    },
    {
     "data": {
      "text/plain": [
       "2024-02-06 14:10:42,360 fedbiomed DEBUG - Experimentation tags changed, you may need to update `training_data`"
      ]
     },
     "metadata": {},
     "output_type": "display_data"
    },
    {
     "data": {
      "text/plain": [
       "2024-02-06 14:10:42,362 fedbiomed DEBUG - Training data changed, you may need to update `node_selection_strategy`"
      ]
     },
     "metadata": {},
     "output_type": "display_data"
    },
    {
     "data": {
      "text/plain": [
       "2024-02-06 14:10:42,363 fedbiomed DEBUG - Training data changed, you may need to update `job`"
      ]
     },
     "metadata": {},
     "output_type": "display_data"
    },
    {
     "data": {
      "text/plain": [
       "2024-02-06 14:10:42,365 fedbiomed DEBUG - Training data changed, you may need to update `aggregator`"
      ]
     },
     "metadata": {},
     "output_type": "display_data"
    },
    {
     "name": "stdout",
     "output_type": "stream",
     "text": [
      "{'config_mednist_2_sampled': {'name': 'MedNIST_2_sampled', 'data_type': 'mednist', 'tags': ['#MEDNIST', '#dataset'], 'description': 'MedNIST dataset for transfer learning', 'shape': [1000, 3, 64, 64], 'dataset_id': 'dataset_dded8492-1797-4cc6-8057-26bf1fe437d7', 'dtypes': [], 'dataset_parameters': None}}\n"
     ]
    }
   ],
   "source": [
    "exp.set_nodes(['config_mednist_2_sampled'])\n",
    "exp.set_tags(['#MEDNIST', '#dataset'])\n",
    "td = exp.training_data().data()\n",
    "td.pop('config_mednist_1_sampled')\n",
    "exp.set_training_data(td)\n",
    "\n",
    "print(exp.training_data().data())"
   ]
  },
  {
   "cell_type": "markdown",
   "id": "98a18d3d",
   "metadata": {},
   "source": [
    "### 3. Run your experiment "
   ]
  },
  {
   "cell_type": "code",
   "execution_count": 89,
   "id": "35d3e1a9-b0c8-4bbc-b397-0d0b6b14ab55",
   "metadata": {},
   "outputs": [
    {
     "data": {
      "text/plain": [
       "2024-02-06 14:10:46,450 fedbiomed INFO - Sampled nodes in round 0 ['config_mednist_2_sampled']"
      ]
     },
     "metadata": {},
     "output_type": "display_data"
    },
    {
     "data": {
      "text/plain": [
       "2024-02-06 14:10:46,459 fedbiomed INFO - \u001b[1mSending request\u001b[0m \n",
       "\t\t\t\t\t\u001b[1m To\u001b[0m: config_mednist_2_sampled \n",
       "\t\t\t\t\t\u001b[1m Request: \u001b[0m: TRAIN\n",
       " -----------------------------------------------------------------"
      ]
     },
     "metadata": {},
     "output_type": "display_data"
    },
    {
     "data": {
      "text/plain": [
       "2024-02-06 14:10:46,589 fedbiomed DEBUG - Node: config_mednist_2_sampled polling for the tasks"
      ]
     },
     "metadata": {},
     "output_type": "display_data"
    },
    {
     "data": {
      "text/plain": [
       "2024-02-06 14:10:48,622 fedbiomed INFO - \u001b[1mTRAINING\u001b[0m \n",
       "\t\t\t\t\t NODE_ID: config_mednist_2_sampled \n",
       "\t\t\t\t\t Round 1 Epoch: 1 | Iteration: 1/29 (3%) | Samples: 32/928\n",
       " \t\t\t\t\t Loss: \u001b[1m0.110120\u001b[0m \n",
       "\t\t\t\t\t ---------"
      ]
     },
     "metadata": {},
     "output_type": "display_data"
    },
    {
     "data": {
      "text/plain": [
       "2024-02-06 14:11:03,299 fedbiomed INFO - \u001b[1mTRAINING\u001b[0m \n",
       "\t\t\t\t\t NODE_ID: config_mednist_2_sampled \n",
       "\t\t\t\t\t Round 1 Epoch: 1 | Iteration: 10/29 (34%) | Samples: 320/928\n",
       " \t\t\t\t\t Loss: \u001b[1m0.076812\u001b[0m \n",
       "\t\t\t\t\t ---------"
      ]
     },
     "metadata": {},
     "output_type": "display_data"
    },
    {
     "data": {
      "text/plain": [
       "2024-02-06 14:11:07,896 fedbiomed DEBUG - Node: config_mednist_1_sampled polling for the tasks"
      ]
     },
     "metadata": {},
     "output_type": "display_data"
    },
    {
     "data": {
      "text/plain": [
       "2024-02-06 14:11:20,057 fedbiomed INFO - \u001b[1mTRAINING\u001b[0m \n",
       "\t\t\t\t\t NODE_ID: config_mednist_2_sampled \n",
       "\t\t\t\t\t Round 1 Epoch: 1 | Iteration: 20/29 (69%) | Samples: 640/928\n",
       " \t\t\t\t\t Loss: \u001b[1m0.034450\u001b[0m \n",
       "\t\t\t\t\t ---------"
      ]
     },
     "metadata": {},
     "output_type": "display_data"
    },
    {
     "data": {
      "text/plain": [
       "2024-02-06 14:11:26,945 fedbiomed DEBUG - Node: config_mednist_2_sampled polling for the tasks"
      ]
     },
     "metadata": {},
     "output_type": "display_data"
    },
    {
     "data": {
      "text/plain": [
       "2024-02-06 14:11:34,037 fedbiomed INFO - \u001b[1mTRAINING\u001b[0m \n",
       "\t\t\t\t\t NODE_ID: config_mednist_2_sampled \n",
       "\t\t\t\t\t Round 1 Epoch: 1 | Iteration: 29/29 (100%) | Samples: 900/900\n",
       " \t\t\t\t\t Loss: \u001b[1m0.453354\u001b[0m \n",
       "\t\t\t\t\t ---------"
      ]
     },
     "metadata": {},
     "output_type": "display_data"
    },
    {
     "data": {
      "text/plain": [
       "2024-02-06 14:11:39,151 fedbiomed INFO - \u001b[1mVALIDATION ON LOCAL UPDATES\u001b[0m \n",
       "\t\t\t\t\t NODE_ID: config_mednist_2_sampled \n",
       "\t\t\t\t\t Round 1 | Iteration: 1/1 (100%) | Samples: 100/100\n",
       " \t\t\t\t\t ACCURACY: \u001b[1m1.000000\u001b[0m \n",
       "\t\t\t\t\t ---------"
      ]
     },
     "metadata": {},
     "output_type": "display_data"
    },
    {
     "data": {
      "text/plain": [
       "2024-02-06 14:11:39,297 fedbiomed INFO - Nodes that successfully reply in round 0 ['config_mednist_2_sampled']"
      ]
     },
     "metadata": {},
     "output_type": "display_data"
    },
    {
     "data": {
      "text/plain": [
       "2024-02-06 14:11:39,416 fedbiomed INFO - Saved aggregated params for round 0 in /home/ebirgy/development/fedbiomed_github/fedbiomed/var/experiments/Experiment_0011/aggregated_params_891cd32c-a9d4-4e91-b11c-52131af20d71.mpk"
      ]
     },
     "metadata": {},
     "output_type": "display_data"
    },
    {
     "data": {
      "text/plain": [
       "1"
      ]
     },
     "execution_count": 89,
     "metadata": {},
     "output_type": "execute_result"
    },
    {
     "data": {
      "text/plain": [
       "2024-02-06 14:12:07,897 fedbiomed DEBUG - Node: config_mednist_1_sampled polling for the tasks"
      ]
     },
     "metadata": {},
     "output_type": "display_data"
    },
    {
     "data": {
      "text/plain": [
       "2024-02-06 14:12:15,323 fedbiomed DEBUG - Node: config_mednist_1_sampled polling for the tasks"
      ]
     },
     "metadata": {},
     "output_type": "display_data"
    },
    {
     "data": {
      "text/plain": [
       "2024-02-06 14:12:26,945 fedbiomed DEBUG - Node: config_mednist_2_sampled polling for the tasks"
      ]
     },
     "metadata": {},
     "output_type": "display_data"
    },
    {
     "data": {
      "text/plain": [
       "2024-02-06 14:12:36,533 fedbiomed DEBUG - Node: config_mednist_2_sampled polling for the tasks"
      ]
     },
     "metadata": {},
     "output_type": "display_data"
    },
    {
     "data": {
      "text/plain": [
       "2024-02-06 14:13:15,319 fedbiomed DEBUG - Node: config_mednist_1_sampled polling for the tasks"
      ]
     },
     "metadata": {},
     "output_type": "display_data"
    },
    {
     "data": {
      "text/plain": [
       "2024-02-06 14:13:27,035 fedbiomed DEBUG - Node: config_mednist_1_sampled polling for the tasks"
      ]
     },
     "metadata": {},
     "output_type": "display_data"
    },
    {
     "data": {
      "text/plain": [
       "2024-02-06 14:13:36,533 fedbiomed DEBUG - Node: config_mednist_2_sampled polling for the tasks"
      ]
     },
     "metadata": {},
     "output_type": "display_data"
    },
    {
     "data": {
      "text/plain": [
       "2024-02-06 14:13:51,549 fedbiomed DEBUG - Node: config_mednist_2_sampled polling for the tasks"
      ]
     },
     "metadata": {},
     "output_type": "display_data"
    },
    {
     "data": {
      "text/plain": [
       "2024-02-06 14:14:27,038 fedbiomed DEBUG - Node: config_mednist_1_sampled polling for the tasks"
      ]
     },
     "metadata": {},
     "output_type": "display_data"
    }
   ],
   "source": [
    "exp.run()"
   ]
  },
  {
   "cell_type": "markdown",
   "id": "0aaec824-4a01-4c29-b9d9-f4543c8d56ff",
   "metadata": {},
   "source": [
    "For example,  At the end of training experiment, I obtained\n",
    "\n",
    "                    fedbiomed INFO - VALIDATION ON LOCAL UPDATES \n",
    "\t\t\t\t\t NODE_ID: NODE_7842724a-cafa-49cc-862d-149288bbbb22 \n",
    "\t\t\t\t\t Round 1 | Iteration: 1/1 (100%) | Samples: 100/100\n",
    " \t\t\t\t\t ACCURACY: 1.00000\n",
    "\t\t\t\t\t ---------"
   ]
  },
  {
   "cell_type": "code",
   "execution_count": 81,
   "id": "c394f0b1-5795-479e-a544-dc07913ac17a",
   "metadata": {},
   "outputs": [
    {
     "name": "stdout",
     "output_type": "stream",
     "text": [
      "\n",
      "List the training rounds :  dict_keys([0])\n",
      "\n",
      "List the nodes for the last training round and their timings : \n",
      "\t- config_mednist_2_sampled :    \n",
      "\t\trtime_training=50.07 seconds    \n",
      "\t\tptime_training=298.24 seconds    \n",
      "\t\trtime_total=56.28 seconds\n",
      "\n",
      "\n"
     ]
    }
   ],
   "source": [
    "print(\"\\nList the training rounds : \", exp.training_replies().keys())\n",
    "\n",
    "print(\"\\nList the nodes for the last training round and their timings : \")\n",
    "round_data = exp.training_replies()[rounds - 1]\n",
    "for r in round_data.values():\n",
    "    print(\"\\t- {id} :\\\n",
    "    \\n\\t\\trtime_training={rtraining:.2f} seconds\\\n",
    "    \\n\\t\\tptime_training={ptraining:.2f} seconds\\\n",
    "    \\n\\t\\trtime_total={rtotal:.2f} seconds\".format(id = r['node_id'],\n",
    "        rtraining = r['timing']['rtime_training'],\n",
    "        ptraining = r['timing']['ptime_training'],\n",
    "        rtotal = r['timing']['rtime_total']))\n",
    "print('\\n')\n"
   ]
  },
  {
   "cell_type": "markdown",
   "id": "f7f51d1b-960f-4b4b-b301-7c7ea7c68c9a",
   "metadata": {},
   "source": [
    "### Save and export your model "
   ]
  },
  {
   "cell_type": "code",
   "execution_count": 84,
   "id": "d994576a",
   "metadata": {},
   "outputs": [
    {
     "data": {
      "text/plain": [
       "2024-02-06 14:09:00,979 fedbiomed DEBUG - Node: config_mednist_2_sampled polling for the tasks"
      ]
     },
     "metadata": {},
     "output_type": "display_data"
    },
    {
     "data": {
      "text/plain": [
       "2024-02-06 14:09:06,668 fedbiomed DEBUG - Node: config_mednist_2_sampled polling for the tasks"
      ]
     },
     "metadata": {},
     "output_type": "display_data"
    },
    {
     "data": {
      "text/plain": [
       "2024-02-06 14:09:48,746 fedbiomed DEBUG - Node: config_mednist_1_sampled polling for the tasks"
      ]
     },
     "metadata": {},
     "output_type": "display_data"
    },
    {
     "data": {
      "text/plain": [
       "2024-02-06 14:09:59,963 fedbiomed DEBUG - Node: config_mednist_1_sampled polling for the tasks"
      ]
     },
     "metadata": {},
     "output_type": "display_data"
    },
    {
     "data": {
      "text/plain": [
       "2024-02-06 14:10:06,661 fedbiomed DEBUG - Node: config_mednist_2_sampled polling for the tasks"
      ]
     },
     "metadata": {},
     "output_type": "display_data"
    },
    {
     "data": {
      "text/plain": [
       "2024-02-06 14:10:15,469 fedbiomed DEBUG - Node: config_mednist_2_sampled polling for the tasks"
      ]
     },
     "metadata": {},
     "output_type": "display_data"
    }
   ],
   "source": [
    "#save model \n",
    "exp.training_plan().export_model('./training_plan2_densenet_MedNIST')"
   ]
  },
  {
   "cell_type": "markdown",
   "id": "ea9785b0",
   "metadata": {},
   "source": [
    "### Tensorboard"
   ]
  },
  {
   "cell_type": "code",
   "execution_count": 82,
   "id": "6d301fa3-50e7-4aee-96d6-b85bed457fae",
   "metadata": {},
   "outputs": [
    {
     "name": "stdout",
     "output_type": "stream",
     "text": [
      "The tensorboard extension is already loaded. To reload it, use:\n",
      "  %reload_ext tensorboard\n"
     ]
    }
   ],
   "source": [
    "%load_ext tensorboard"
   ]
  },
  {
   "cell_type": "code",
   "execution_count": 83,
   "id": "92b73071-f09b-4a87-a0a6-d525ce39c77a",
   "metadata": {},
   "outputs": [
    {
     "data": {
      "text/plain": [
       "Reusing TensorBoard on port 6006 (pid 45074), started 2:26:15 ago. (Use '!kill 45074' to kill it.)"
      ]
     },
     "metadata": {},
     "output_type": "display_data"
    },
    {
     "data": {
      "text/html": [
       "\n",
       "      <iframe id=\"tensorboard-frame-2ab6dabf81d17df5\" width=\"100%\" height=\"800\" frameborder=\"0\">\n",
       "      </iframe>\n",
       "      <script>\n",
       "        (function() {\n",
       "          const frame = document.getElementById(\"tensorboard-frame-2ab6dabf81d17df5\");\n",
       "          const url = new URL(\"/\", window.location);\n",
       "          const port = 6006;\n",
       "          if (port) {\n",
       "            url.port = port;\n",
       "          }\n",
       "          frame.src = url;\n",
       "        })();\n",
       "      </script>\n",
       "    "
      ],
      "text/plain": [
       "<IPython.core.display.HTML object>"
      ]
     },
     "metadata": {},
     "output_type": "display_data"
    },
    {
     "data": {
      "text/plain": [
       "2024-02-06 14:06:22,036 fedbiomed DEBUG - Node: config_mednist_1_sampled polling for the tasks"
      ]
     },
     "metadata": {},
     "output_type": "display_data"
    },
    {
     "data": {
      "text/plain": [
       "2024-02-06 14:06:29,420 fedbiomed DEBUG - Node: config_mednist_1_sampled polling for the tasks"
      ]
     },
     "metadata": {},
     "output_type": "display_data"
    },
    {
     "data": {
      "text/plain": [
       "2024-02-06 14:06:47,827 fedbiomed DEBUG - Node: config_mednist_2_sampled polling for the tasks"
      ]
     },
     "metadata": {},
     "output_type": "display_data"
    },
    {
     "data": {
      "text/plain": [
       "2024-02-06 14:07:29,420 fedbiomed DEBUG - Node: config_mednist_1_sampled polling for the tasks"
      ]
     },
     "metadata": {},
     "output_type": "display_data"
    },
    {
     "data": {
      "text/plain": [
       "2024-02-06 14:07:44,653 fedbiomed DEBUG - Node: config_mednist_1_sampled polling for the tasks"
      ]
     },
     "metadata": {},
     "output_type": "display_data"
    },
    {
     "data": {
      "text/plain": [
       "2024-02-06 14:07:47,823 fedbiomed DEBUG - Node: config_mednist_2_sampled polling for the tasks"
      ]
     },
     "metadata": {},
     "output_type": "display_data"
    },
    {
     "data": {
      "text/plain": [
       "2024-02-06 14:08:00,983 fedbiomed DEBUG - Node: config_mednist_2_sampled polling for the tasks"
      ]
     },
     "metadata": {},
     "output_type": "display_data"
    },
    {
     "data": {
      "text/plain": [
       "2024-02-06 14:08:44,648 fedbiomed DEBUG - Node: config_mednist_1_sampled polling for the tasks"
      ]
     },
     "metadata": {},
     "output_type": "display_data"
    },
    {
     "data": {
      "text/plain": [
       "2024-02-06 14:08:48,750 fedbiomed DEBUG - Node: config_mednist_1_sampled polling for the tasks"
      ]
     },
     "metadata": {},
     "output_type": "display_data"
    }
   ],
   "source": [
    "%tensorboard --logdir \"$tensorboard_dir\""
   ]
  },
  {
   "cell_type": "markdown",
   "id": "2b7bab22",
   "metadata": {},
   "source": [
    "# Le reste est a nettoyer "
   ]
  },
  {
   "cell_type": "markdown",
   "id": "fec85f20",
   "metadata": {},
   "source": [
    "### You could import your first model from TrainingPlan1 instead of loading the original DenseNet  "
   ]
  },
  {
   "cell_type": "code",
   "execution_count": null,
   "id": "365e2eb8-2441-4966-a619-5bf587db2881",
   "metadata": {},
   "outputs": [],
   "source": [
    "exp.training_plan().export_model('./training_plan2_densenet_MedNIST')"
   ]
  },
  {
   "cell_type": "code",
   "execution_count": null,
   "id": "4f2d0692-df7f-490c-a250-39758470349e",
   "metadata": {},
   "outputs": [],
   "source": [
    "# save your model ( all layers model of te training experiment)\n",
    "remote_model = exp.training_plan().model()\n",
    "torch.save(remote_model, './training_plan2_model')"
   ]
  },
  {
   "cell_type": "code",
   "execution_count": null,
   "id": "aebdc0bb-be22-46e3-944a-9cdbd8162a97",
   "metadata": {},
   "outputs": [],
   "source": [
    "#from torchvision import models\n",
    "\n",
    "#torch.save(models.densenet121(pretrained=True).state_dict(), './model_training_plan_2')"
   ]
  },
  {
   "cell_type": "markdown",
   "id": "b428af67-79a8-4cee-8b6b-ad5b010bb411",
   "metadata": {},
   "source": [
    "## Import your model and parameters "
   ]
  },
  {
   "cell_type": "code",
   "execution_count": null,
   "id": "d2e589df-9589-4a78-9878-790f83e0cba2",
   "metadata": {},
   "outputs": [],
   "source": [
    "your_model = torch.load('./training_plan2_model')"
   ]
  },
  {
   "cell_type": "code",
   "execution_count": null,
   "id": "1457eeeb-0618-4f0e-adaa-e0ce03ab21b6",
   "metadata": {},
   "outputs": [],
   "source": [
    "# load your parameters (tensors's values of your tuned-model)\n",
    "tuned_model= torch.load('./training_plan2_densenet_MedNIST')"
   ]
  },
  {
   "cell_type": "code",
   "execution_count": null,
   "id": "ee3b4373-1716-417a-8b28-fd1dfc76ae99",
   "metadata": {},
   "outputs": [],
   "source": [
    "# In a new TrainingPlan experiment you could import your tuned-model \n",
    "exp.training_plan().import_model('./training_plan2_densenet_MedNIST')"
   ]
  },
  {
   "cell_type": "markdown",
   "id": "48ef8f1a-7b6b-4e3b-8351-a78d97964084",
   "metadata": {},
   "source": [
    "### This part needs confirmation, tests,( and agreements to load parameters ? ) "
   ]
  },
  {
   "cell_type": "code",
   "execution_count": null,
   "id": "f6510f7d-d612-476a-98aa-5aef2651f617",
   "metadata": {},
   "outputs": [],
   "source": [
    "#remote_model = remote_experiment.training_plan().model()\n",
    "tuned_model.load_state_dict(exp.aggregated_params()[rounds - 1]['params'])"
   ]
  },
  {
   "cell_type": "code",
   "execution_count": null,
   "id": "693e0cc6-770e-4a34-8037-9eae06bd45ea",
   "metadata": {},
   "outputs": [],
   "source": [
    "tuned_model.load_state_dict(exp.aggregated_params()[rounds - 1]['params'])\n",
    "#tuned_model.load_state_dict(remote_experiment.aggregated_params()[rounds - 1]['params'])"
   ]
  },
  {
   "cell_type": "code",
   "execution_count": null,
   "id": "5ee7346c-d6fb-45d3-804e-e56b0e9f3fd2",
   "metadata": {},
   "outputs": [],
   "source": [
    "tuned_model.load_state_dict(exp.aggregated_params()[rounds - 1]['params'])"
   ]
  },
  {
   "cell_type": "code",
   "execution_count": null,
   "id": "82550831-bf50-480e-a0a9-f16511c48e08",
   "metadata": {},
   "outputs": [],
   "source": []
  }
 ],
 "metadata": {
  "kernelspec": {
   "display_name": "Python 3 (ipykernel)",
   "language": "python",
   "name": "python3"
  },
  "language_info": {
   "codemirror_mode": {
    "name": "ipython",
    "version": 3
   },
   "file_extension": ".py",
   "mimetype": "text/x-python",
   "name": "python",
   "nbconvert_exporter": "python",
   "pygments_lexer": "ipython3",
   "version": "3.10.13"
  }
 },
 "nbformat": 4,
 "nbformat_minor": 5
}
