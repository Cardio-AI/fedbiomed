{
 "cells": [
  {
   "cell_type": "markdown",
   "id": "73501475-4e1f-454c-bc16-0320ecd51d57",
   "metadata": {},
   "source": [
    "# Transfer-learning tutorial using DenseNet-121 pre-trained model: example on MedNIST dataset"
   ]
  },
  {
   "cell_type": "markdown",
   "id": "6d343c58-9d11-400f-9e2e-9b0d1e840105",
   "metadata": {},
   "source": [
    "\n",
    "## Goal of this tutoriel\n",
    "\n",
    "This tutorial shows how to do 2d images classification example on MedNIST dataset using pretrained PyTorch model.\n",
    "\n",
    "The goal of this tutorial is to provide an example of transfer learning methods with Fed-BioMed for medical images classification."
   ]
  },
  {
   "cell_type": "markdown",
   "id": "c4648375-0340-428a-88cf-97c5a52f5560",
   "metadata": {},
   "source": [
    "### About the model\n",
    "\n",
    "The model used is Densenet-121 model(“Densely Connected Convolutional Networks”) pretrained on ImageNet dataset. The Pytorch pretrained model [Densenet121](https://pytorch.org/vision/main/models/generated/torchvision.models.html). to perform image classification on the MedNIST dataset. \n",
    "The goal of this Densenet121 model is to predict the class of `MedNIST` medical images.\n",
    "\n"
   ]
  },
  {
   "cell_type": "markdown",
   "id": "b463ce8b-8c65-4d51-85ad-47ce8fbc5528",
   "metadata": {},
   "source": [
    "### About MedNIST\n",
    "\n",
    "MedNIST provides an artificial 2d classification dataset created by gathering different medical imaging datasets from TCIA, the RSNA Bone Age Challenge, and the NIH Chest X-ray dataset. The dataset is kindly made available by Dr. Bradley J. Erickson M.D., Ph.D. (Department of Radiology, Mayo Clinic) under the Creative Commons CC BY-SA 4.0 license.\n",
    "\n",
    "MedNIST dataset is downloaded from the resources provided by the project [MONAI](https://github.com/Project-MONAI/MONAI-extra-test-data/releases/download/0.8.1/MedNIST.tar.gz)\n",
    "\n",
    "The dataset MedNIST has 58954 images of size (3, 64, 64) distributed into 6 classes (10000 images per class except for BreastMRI class which has 8954 images). Classes are AbdomenCT, BreastMRI, CXR, ChestCT, Hand, HeadCT. It has the structure:\n",
    "\n",
    "└── MedNIST/\n",
    "\n",
    "    ├── AbdomenCT/\n",
    "\n",
    "    └── BreastMRI/\n",
    "\n",
    "    └── CXR/\n",
    "\n",
    "    └── ChestCT/\n",
    "\n",
    "    └── Hand/\n",
    "\n",
    "    └── HeadCT/   \n",
    "   \n",
    "\n",
    "## Transfer-learning\n",
    "Transfer learning is a machine learning technique where a model trained on one task is repurposed or adapted for a second related task. Transfer learning uses a pre-trained neural network on a large dataset, as [Imagenet](https://www.image-net.org) is used to train DenseNet model to perform classification of a wide diversity of images.\n",
    "\n",
    "The objective is that the knowledge gained from learning one task can be useful for learning another task (as we do here, the knowledge of DenseNet model trained on ImageNet is used to classify medical images in 6 categories). This is particularly beneficial when the amount of labeled data for the target task is limited, as the pre-trained model has already learned useful features and representations from a large dataset.\n",
    "\n",
    "Transfer learning is typically applied in one of two ways:\n",
    "\n",
    "- (I) Feature Extraction: In this approach, the pre-trained model is used as a fixed feature extractor. The earlier layers of the neural network, which capture general features and patterns, are frozen, and only the later layers are replaced or retrained for the new task. \n",
    "\n",
    "- (II) Fine-tuning: In this approach, the pre-trained model is further trained or partially trained on the new task. This allows the model to adapt its learned representations to the specifics of the new task while retaining some of the knowledge gained from the original task.\n",
    "\n",
    "\n",
    "In this example, we load on the node a sampled dataset ( 500 or 1000 images) of MedNIST to illustrate the effectiveness of the transfer-learning. The sampled dataset is made with a random selection of images and return a sampled dataset with balanced classes, to avoid classification's bias.\n",
    "We will test these two approches through two independant TrainingPlan experiments and compare with TRainingPlan0 which is the experiment on non-trained model.\n",
    "To illustrate the effectiveness of these two methods, we load 500 images for the first experiment and 1000 images for the second. The more data you have, the more layers's you can unfreeze for a transfer learning task. \n",
    "\n",
    "We will compare these two methods with the TrainingPlan0 experiment which is the basic experiment running on the untrained DenseNet model. We will focus on loss value and accuracy as metrics to evaluate the effectiveness of Transfer-learning methods. "
   ]
  },
  {
   "cell_type": "markdown",
   "id": "37fbf14e-d695-4831-8bdf-0e09f7c2f53e",
   "metadata": {},
   "source": [
    "### 1. Load dataset or sampled dataset\n",
    "- From the root directory of Fed-BioMed, run :  `source ./scripts/fedbiomed_environment node` in order to load the Node environment\n",
    "- If you have already ran Mednist nodes before, clean remaining MedNIST nodes : run `./scripts/fedbiomed_run node delete` or `source ./scripts/fedbiomed_environment clean`\n",
    "- In this new environment, run the script python: `python ./notebooks/transfer-learning/download_sample_of_mednist.py -n <number-of-nodes>`, with `<number-of-nodes>` the number of Nodes you want to create( for more details about this script, please run `notebooks/transfer-learning/download_sample_of_mednist.py --help`)\n",
    "- The script will ask for each Nodes created the number of samples you want for your dataset. Scripts will output configuration files for each of Nodes, with configured database, using the following naming convention: `config_mednist_<i>_sampled.ini` where `<i>` is ranged from 1 to `<number-of-nodes>` entered.  \n",
    "- Finally launch your Nodes (one by terminal) by running: `./scripts/fedbiomed_run node config  start config_mednist_<i>_sampled.ini start`, where `<i>` corresponds to the number of Node created.  Wait until you get Starting task manager.\n",
    "\n",
    "For example, if one wants to create 2 nodes, (`<i>` is equal to 2), one has to run : `python ./notebooks/transfer-learning/download_sample_of_mednist.py -n 2`. One will then launch in seperated terminal `./scripts/fedbiomed_run node config config_mednist_1_sampled.ini start` and `./scripts/fedbiomed_run node config config_mednist_2_sampled.ini start`. Script will ask how many sample should contain the dataset (enter 500 and then 1000).\n",
    "\n",
    "\n",
    "\n",
    "### 2. Launch the researcher \n",
    "- From the root directory of Fed-BioMed, run : `./scripts/fedbiomed_run researcher start`\n",
    "- It opens the Jupyter notebook.\n",
    "\n",
    "To make sure that MedNIST dataset is loaded in the node we can send a request to the network to list the available dataset in the node. The list command should output an entry for mednist data.\n",
    "\n",
    " "
   ]
  },
  {
   "cell_type": "code",
   "execution_count": 1,
   "id": "4bf52151-a981-4189-8be4-ea5ca03fd120",
   "metadata": {},
   "outputs": [
    {
     "data": {
      "text/plain": [
       "2024-02-23 10:15:18,383 fedbiomed INFO - Starting researcher service..."
      ]
     },
     "metadata": {},
     "output_type": "display_data"
    },
    {
     "data": {
      "text/plain": [
       "2024-02-23 10:15:18,384 fedbiomed INFO - Waiting 3s for nodes to connect..."
      ]
     },
     "metadata": {},
     "output_type": "display_data"
    },
    {
     "data": {
      "text/plain": [
       "2024-02-23 10:15:18,853 fedbiomed DEBUG - Node: config_mednist_2_sampled polling for the tasks"
      ]
     },
     "metadata": {},
     "output_type": "display_data"
    },
    {
     "data": {
      "text/plain": [
       "2024-02-23 10:15:18,904 fedbiomed DEBUG - Node: config_mednist_1_sampled polling for the tasks"
      ]
     },
     "metadata": {},
     "output_type": "display_data"
    },
    {
     "data": {
      "text/plain": [
       "2024-02-23 10:15:21,396 fedbiomed DEBUG - Node: config_mednist_1_sampled polling for the tasks"
      ]
     },
     "metadata": {},
     "output_type": "display_data"
    },
    {
     "data": {
      "text/plain": [
       "2024-02-23 10:15:21,398 fedbiomed DEBUG - Node: config_mednist_2_sampled polling for the tasks"
      ]
     },
     "metadata": {},
     "output_type": "display_data"
    },
    {
     "data": {
      "text/plain": [
       "{'config_mednist_2_sampled': [{'name': 'MedNIST_2_sampled',\n",
       "   'data_type': 'mednist',\n",
       "   'tags': ['#MEDNIST', '#dataset'],\n",
       "   'description': 'MedNIST dataset for transfer learning',\n",
       "   'shape': [500, 3, 64, 64],\n",
       "   'dataset_id': 'dataset_1cf8c145-1dea-4867-935a-12d182be5c6d',\n",
       "   'dataset_parameters': None}],\n",
       " 'config_mednist_1_sampled': [{'name': 'MedNIST_1_sampled',\n",
       "   'data_type': 'mednist',\n",
       "   'tags': ['#MEDNIST', '#dataset'],\n",
       "   'description': 'MedNIST dataset for transfer learning',\n",
       "   'shape': [1000, 3, 64, 64],\n",
       "   'dataset_id': 'dataset_c320ef69-75fa-4f3a-ae4a-7fbfee36d2b3',\n",
       "   'dataset_parameters': None}]}"
      ]
     },
     "execution_count": 1,
     "metadata": {},
     "output_type": "execute_result"
    }
   ],
   "source": [
    "from fedbiomed.researcher.requests import Requests\n",
    "req  = Requests()\n",
    "req.list()"
   ]
  },
  {
   "cell_type": "markdown",
   "id": "20148877-d424-4793-9d8b-693d2e47ba44",
   "metadata": {},
   "source": [
    "## Import of librairies "
   ]
  },
  {
   "cell_type": "code",
   "execution_count": 2,
   "id": "dae87e6a-94ac-4ecf-9586-8f9a353fb109",
   "metadata": {},
   "outputs": [],
   "source": [
    "import torch\n",
    "import torch.nn as nn\n",
    "from fedbiomed.common.training_plans import TorchTrainingPlan\n",
    "\n",
    "from fedbiomed.researcher.experiment import Experiment\n",
    "from fedbiomed.researcher.aggregators.fedavg import FedAverage\n"
   ]
  },
  {
   "cell_type": "markdown",
   "id": "55a0516e",
   "metadata": {},
   "source": [
    "## Run an expriment for image's classification without Transfer-learning"
   ]
  },
  {
   "cell_type": "markdown",
   "id": "733e3183",
   "metadata": {},
   "source": [
    "Here we propose to run as first experiment a TrainingPlan0 with the untrained DenseNet model. Then, we will compare the loss value from the two other experiments allowing Transfer-learning methods."
   ]
  },
  {
   "cell_type": "markdown",
   "id": "5218ad11",
   "metadata": {},
   "source": [
    "We don't use the pre-trained weights. It is important to adapt learning rate. I propose you to start with lr=1e-4 and we could adapt learning rate according to the metric's evaluation. "
   ]
  },
  {
   "cell_type": "code",
   "execution_count": 12,
   "id": "56c37d90",
   "metadata": {},
   "outputs": [],
   "source": [
    "class MyTrainingPlan0(TorchTrainingPlan):\n",
    "\n",
    "    def init_model(self, model_args):\n",
    "       \n",
    "        # Load the pre-trained DenseNet model, you have two ways to import your model\n",
    "        \n",
    "        model = models.densenet121(pretrained=False)\n",
    "        \n",
    "        \n",
    "        # Remove the classification layer of DenseNet\n",
    "        for param in model.features[:-1].parameters():\n",
    "            param.requires_grad = False\n",
    "            \n",
    "        # add the classifier \n",
    "        num_classes = model_args['num_classes'] \n",
    "        num_ftrs = model.classifier.in_features\n",
    "        model.classifier= nn.Sequential(\n",
    "            nn.Linear(num_ftrs, 512),\n",
    "            nn.ReLU(inplace=True),\n",
    "            nn.Dropout(0.5),\n",
    "            nn.Linear(512, num_classes)\n",
    "        )\n",
    "      \n",
    "        return model\n",
    "\n",
    "\n",
    "    def init_dependencies(self):\n",
    "        return [\n",
    "            \"from torchvision import datasets, transforms, models\",\n",
    "            \"import torch.optim as optim\",\n",
    "            \"from torchvision.models import densenet121\"\n",
    "        ]\n",
    "\n",
    "\n",
    "    def init_optimizer(self, optimizer_args):        \n",
    "        return optim.Adam(self.model().parameters(), lr=optimizer_args[\"lr\"])\n",
    "\n",
    "    \n",
    "    # training data\n",
    "    \n",
    "    def training_data(self):\n",
    "        \n",
    "\n",
    "        # Transform images and  do data augmentation \n",
    "        preprocess = transforms.Compose([\n",
    "                transforms.Resize((224,224)),  \n",
    "                #transforms.RandomHorizontalFlip(p=0.5),\n",
    "                #transforms.RandomVerticalFlip(p=0.5),\n",
    "                #transforms.RandomRotation(30),\n",
    "                #transforms.RandomResizedCrop(224, scale=(0.8, 1.0)),\n",
    "                transforms.ToTensor(),\n",
    "                transforms.Normalize(mean = [0.485, 0.456, 0.406], std = [0.229, 0.224, 0.225])\n",
    "           ])\n",
    "    \n",
    "        train_data = datasets.ImageFolder(self.dataset_path,transform = preprocess)\n",
    "        train_kwargs = { 'shuffle': True}\n",
    "        return DataManager(dataset=train_data, **train_kwargs)\n",
    "\n",
    "    def training_step(self, data, target):\n",
    "        output = self.model().forward(data)\n",
    "        loss_func = nn.CrossEntropyLoss()\n",
    "        loss   = loss_func(output, target)\n",
    "        return loss\n",
    "\n",
    "\n"
   ]
  },
  {
   "cell_type": "code",
   "execution_count": 13,
   "id": "99a9e4dd",
   "metadata": {},
   "outputs": [],
   "source": [
    "training_args = {\n",
    "    'loader_args': { 'batch_size': 32, }, \n",
    "    'optimizer_args': {'lr': 1e-4}, \n",
    "    'epochs': 10, \n",
    "    'dry_run': False,  \n",
    "    'batch_maxnum': 100 # Fast pass for development : only use ( batch_maxnum * batch_size ) samples\n",
    "}\n",
    "\n",
    "model_args = {\n",
    "    'num_classes': 6 # adapt this number to the number of classes in your dataset\n",
    "}"
   ]
  },
  {
   "cell_type": "code",
   "execution_count": 14,
   "id": "4a81ee6a",
   "metadata": {},
   "outputs": [
    {
     "data": {
      "text/plain": [
       "2024-02-23 10:27:19,742 fedbiomed DEBUG - Node: config_mednist_2_sampled polling for the tasks"
      ]
     },
     "metadata": {},
     "output_type": "display_data"
    },
    {
     "data": {
      "text/plain": [
       "2024-02-23 10:27:19,745 fedbiomed DEBUG - Node: config_mednist_1_sampled polling for the tasks"
      ]
     },
     "metadata": {},
     "output_type": "display_data"
    },
    {
     "data": {
      "text/plain": [
       "2024-02-23 10:27:19,748 fedbiomed INFO - Node selected for training -> config_mednist_2_sampled"
      ]
     },
     "metadata": {},
     "output_type": "display_data"
    },
    {
     "data": {
      "text/plain": [
       "2024-02-23 10:27:19,749 fedbiomed INFO - Node selected for training -> config_mednist_1_sampled"
      ]
     },
     "metadata": {},
     "output_type": "display_data"
    },
    {
     "data": {
      "text/plain": [
       "2024-02-23 10:27:19,752 fedbiomed DEBUG - Model file has been saved: /home/ebirgy/development/fedbiomed_github/fedbiomed/var/experiments/Experiment_0001/model_807f7176-ff1a-4096-ad0c-05a0f2458faf.py"
      ]
     },
     "metadata": {},
     "output_type": "display_data"
    },
    {
     "name": "stderr",
     "output_type": "stream",
     "text": [
      "Secure RNG turned off. This is perfectly fine for experimentation as it allows for much faster training performance, but remember to turn it on and retrain one last time before production with ``secure_mode`` turned on.\n",
      "The parameter 'pretrained' is deprecated since 0.13 and may be removed in the future, please use 'weights' instead.\n",
      "Arguments other than a weight enum or `None` for 'weights' are deprecated since 0.13 and may be removed in the future. The current behavior is equivalent to passing `weights=None`.\n"
     ]
    },
    {
     "data": {
      "text/plain": [
       "2024-02-23 10:27:19,866 fedbiomed DEBUG - using native torch optimizer"
      ]
     },
     "metadata": {},
     "output_type": "display_data"
    },
    {
     "data": {
      "text/plain": [
       "2024-02-23 10:27:19,867 fedbiomed INFO - Removing tensorboard logs from previous experiment"
      ]
     },
     "metadata": {},
     "output_type": "display_data"
    },
    {
     "data": {
      "text/plain": [
       "2024-02-23 10:27:19,870 fedbiomed DEBUG - Experimentation training_args updated for `job`"
      ]
     },
     "metadata": {},
     "output_type": "display_data"
    },
    {
     "data": {
      "text/plain": [
       "2024-02-23 10:27:19,871 fedbiomed DEBUG - Experimentation training_args updated for `job`"
      ]
     },
     "metadata": {},
     "output_type": "display_data"
    },
    {
     "data": {
      "text/plain": [
       "2024-02-23 10:27:19,872 fedbiomed DEBUG - Experimentation training_args updated for `job`"
      ]
     },
     "metadata": {},
     "output_type": "display_data"
    },
    {
     "data": {
      "text/plain": [
       "True"
      ]
     },
     "execution_count": 14,
     "metadata": {},
     "output_type": "execute_result"
    }
   ],
   "source": [
    "tags =  ['#MEDNIST', '#dataset']\n",
    "\n",
    "rounds = 1 # adjsut the number of rounds \n",
    "\n",
    "exp = Experiment(tags=tags,\n",
    "                 training_plan_class=MyTrainingPlan0,\n",
    "                 model_args=model_args,\n",
    "                 training_args=training_args,\n",
    "                 round_limit=rounds,\n",
    "                 aggregator=FedAverage())\n",
    "\n",
    "# testing section \n",
    "from fedbiomed.common.metrics import MetricTypes\n",
    "exp.set_test_ratio(.1) \n",
    "exp.set_test_on_local_updates(True)\n",
    "exp.set_test_metric(MetricTypes.ACCURACY)\n",
    "\n",
    "exp.set_tensorboard(True)"
   ]
  },
  {
   "cell_type": "code",
   "execution_count": 15,
   "id": "b0272d26",
   "metadata": {},
   "outputs": [
    {
     "data": {
      "text/plain": [
       "2024-02-23 10:27:24,391 fedbiomed DEBUG - Experimentation nodes filter changed, you may need to update `training_data`"
      ]
     },
     "metadata": {},
     "output_type": "display_data"
    },
    {
     "data": {
      "text/plain": [
       "2024-02-23 10:27:24,394 fedbiomed DEBUG - Experimentation tags changed, you may need to update `training_data`"
      ]
     },
     "metadata": {},
     "output_type": "display_data"
    },
    {
     "data": {
      "text/plain": [
       "2024-02-23 10:27:24,396 fedbiomed DEBUG - Training data changed, you may need to update `node_selection_strategy`"
      ]
     },
     "metadata": {},
     "output_type": "display_data"
    },
    {
     "data": {
      "text/plain": [
       "2024-02-23 10:27:24,398 fedbiomed DEBUG - Training data changed, you may need to update `job`"
      ]
     },
     "metadata": {},
     "output_type": "display_data"
    },
    {
     "data": {
      "text/plain": [
       "2024-02-23 10:27:24,399 fedbiomed DEBUG - Training data changed, you may need to update `aggregator`"
      ]
     },
     "metadata": {},
     "output_type": "display_data"
    },
    {
     "name": "stdout",
     "output_type": "stream",
     "text": [
      "{'config_mednist_1_sampled': {'name': 'MedNIST_1_sampled', 'data_type': 'mednist', 'tags': ['#MEDNIST', '#dataset'], 'description': 'MedNIST dataset for transfer learning', 'shape': [1000, 3, 64, 64], 'dataset_id': 'dataset_c320ef69-75fa-4f3a-ae4a-7fbfee36d2b3', 'dtypes': [], 'dataset_parameters': None}}\n"
     ]
    }
   ],
   "source": [
    "exp.set_nodes(['config_mednist_1_sampled'])\n",
    "exp.set_tags(['#MEDNIST', '#dataset'])\n",
    "td = exp.training_data().data()\n",
    "td.pop('config_mednist_2_sampled')\n",
    "exp.set_training_data(td)\n",
    "\n",
    "print(exp.training_data().data())"
   ]
  },
  {
   "cell_type": "code",
   "execution_count": 16,
   "id": "1ea8916b",
   "metadata": {},
   "outputs": [
    {
     "data": {
      "text/plain": [
       "2024-02-23 10:27:25,510 fedbiomed INFO - Sampled nodes in round 0 ['config_mednist_1_sampled']"
      ]
     },
     "metadata": {},
     "output_type": "display_data"
    },
    {
     "data": {
      "text/plain": [
       "2024-02-23 10:27:25,519 fedbiomed INFO - \u001b[1mSending request\u001b[0m \n",
       "\t\t\t\t\t\u001b[1m To\u001b[0m: config_mednist_1_sampled \n",
       "\t\t\t\t\t\u001b[1m Request: \u001b[0m: TRAIN\n",
       " -----------------------------------------------------------------"
      ]
     },
     "metadata": {},
     "output_type": "display_data"
    },
    {
     "data": {
      "text/plain": [
       "2024-02-23 10:27:25,694 fedbiomed DEBUG - Node: config_mednist_1_sampled polling for the tasks"
      ]
     },
     "metadata": {},
     "output_type": "display_data"
    },
    {
     "data": {
      "text/plain": [
       "2024-02-23 10:27:27,595 fedbiomed INFO - \u001b[1mTRAINING\u001b[0m \n",
       "\t\t\t\t\t NODE_ID: config_mednist_1_sampled \n",
       "\t\t\t\t\t Round 1 Epoch: 1 | Iteration: 1/29 (3%) | Samples: 32/928\n",
       " \t\t\t\t\t Loss: \u001b[1m1.858775\u001b[0m \n",
       "\t\t\t\t\t ---------"
      ]
     },
     "metadata": {},
     "output_type": "display_data"
    },
    {
     "data": {
      "text/plain": [
       "2024-02-23 10:27:44,717 fedbiomed INFO - \u001b[1mTRAINING\u001b[0m \n",
       "\t\t\t\t\t NODE_ID: config_mednist_1_sampled \n",
       "\t\t\t\t\t Round 1 Epoch: 1 | Iteration: 10/29 (34%) | Samples: 320/928\n",
       " \t\t\t\t\t Loss: \u001b[1m1.529183\u001b[0m \n",
       "\t\t\t\t\t ---------"
      ]
     },
     "metadata": {},
     "output_type": "display_data"
    },
    {
     "data": {
      "text/plain": [
       "2024-02-23 10:27:48,045 fedbiomed DEBUG - Node: config_mednist_2_sampled polling for the tasks"
      ]
     },
     "metadata": {},
     "output_type": "display_data"
    },
    {
     "data": {
      "text/plain": [
       "2024-02-23 10:28:01,469 fedbiomed INFO - \u001b[1mTRAINING\u001b[0m \n",
       "\t\t\t\t\t NODE_ID: config_mednist_1_sampled \n",
       "\t\t\t\t\t Round 1 Epoch: 1 | Iteration: 20/29 (69%) | Samples: 640/928\n",
       " \t\t\t\t\t Loss: \u001b[1m1.347260\u001b[0m \n",
       "\t\t\t\t\t ---------"
      ]
     },
     "metadata": {},
     "output_type": "display_data"
    },
    {
     "data": {
      "text/plain": [
       "2024-02-23 10:28:10,431 fedbiomed DEBUG - Node: config_mednist_1_sampled polling for the tasks"
      ]
     },
     "metadata": {},
     "output_type": "display_data"
    },
    {
     "data": {
      "text/plain": [
       "2024-02-23 10:28:14,589 fedbiomed INFO - \u001b[1mTRAINING\u001b[0m \n",
       "\t\t\t\t\t NODE_ID: config_mednist_1_sampled \n",
       "\t\t\t\t\t Round 1 Epoch: 1 | Iteration: 29/29 (100%) | Samples: 900/900\n",
       " \t\t\t\t\t Loss: \u001b[1m1.503261\u001b[0m \n",
       "\t\t\t\t\t ---------"
      ]
     },
     "metadata": {},
     "output_type": "display_data"
    },
    {
     "data": {
      "text/plain": [
       "2024-02-23 10:28:16,181 fedbiomed INFO - \u001b[1mTRAINING\u001b[0m \n",
       "\t\t\t\t\t NODE_ID: config_mednist_1_sampled \n",
       "\t\t\t\t\t Round 1 Epoch: 2 | Iteration: 1/29 (3%) | Samples: 32/928\n",
       " \t\t\t\t\t Loss: \u001b[1m1.191252\u001b[0m \n",
       "\t\t\t\t\t ---------"
      ]
     },
     "metadata": {},
     "output_type": "display_data"
    },
    {
     "data": {
      "text/plain": [
       "2024-02-23 10:28:34,206 fedbiomed INFO - \u001b[1mTRAINING\u001b[0m \n",
       "\t\t\t\t\t NODE_ID: config_mednist_1_sampled \n",
       "\t\t\t\t\t Round 1 Epoch: 2 | Iteration: 11/29 (38%) | Samples: 352/928\n",
       " \t\t\t\t\t Loss: \u001b[1m1.024164\u001b[0m \n",
       "\t\t\t\t\t ---------"
      ]
     },
     "metadata": {},
     "output_type": "display_data"
    },
    {
     "data": {
      "text/plain": [
       "2024-02-23 10:28:48,042 fedbiomed DEBUG - Node: config_mednist_2_sampled polling for the tasks"
      ]
     },
     "metadata": {},
     "output_type": "display_data"
    },
    {
     "data": {
      "text/plain": [
       "2024-02-23 10:28:51,394 fedbiomed INFO - \u001b[1mTRAINING\u001b[0m \n",
       "\t\t\t\t\t NODE_ID: config_mednist_1_sampled \n",
       "\t\t\t\t\t Round 1 Epoch: 2 | Iteration: 21/29 (72%) | Samples: 672/928\n",
       " \t\t\t\t\t Loss: \u001b[1m0.940107\u001b[0m \n",
       "\t\t\t\t\t ---------"
      ]
     },
     "metadata": {},
     "output_type": "display_data"
    },
    {
     "data": {
      "text/plain": [
       "2024-02-23 10:28:52,288 fedbiomed DEBUG - Node: config_mednist_2_sampled polling for the tasks"
      ]
     },
     "metadata": {},
     "output_type": "display_data"
    },
    {
     "data": {
      "text/plain": [
       "2024-02-23 10:29:09,618 fedbiomed INFO - \u001b[1mTRAINING\u001b[0m \n",
       "\t\t\t\t\t NODE_ID: config_mednist_1_sampled \n",
       "\t\t\t\t\t Round 1 Epoch: 2 | Iteration: 29/29 (100%) | Samples: 900/900\n",
       " \t\t\t\t\t Loss: \u001b[1m1.138714\u001b[0m \n",
       "\t\t\t\t\t ---------"
      ]
     },
     "metadata": {},
     "output_type": "display_data"
    },
    {
     "data": {
      "text/plain": [
       "2024-02-23 10:29:10,431 fedbiomed DEBUG - Node: config_mednist_1_sampled polling for the tasks"
      ]
     },
     "metadata": {},
     "output_type": "display_data"
    },
    {
     "data": {
      "text/plain": [
       "2024-02-23 10:29:12,277 fedbiomed INFO - \u001b[1mTRAINING\u001b[0m \n",
       "\t\t\t\t\t NODE_ID: config_mednist_1_sampled \n",
       "\t\t\t\t\t Round 1 Epoch: 3 | Iteration: 1/29 (3%) | Samples: 32/928\n",
       " \t\t\t\t\t Loss: \u001b[1m0.908263\u001b[0m \n",
       "\t\t\t\t\t ---------"
      ]
     },
     "metadata": {},
     "output_type": "display_data"
    },
    {
     "data": {
      "text/plain": [
       "2024-02-23 10:29:15,030 fedbiomed INFO - \u001b[1mTRAINING\u001b[0m \n",
       "\t\t\t\t\t NODE_ID: config_mednist_1_sampled \n",
       "\t\t\t\t\t Round 1 Epoch: 3 | Iteration: 2/29 (7%) | Samples: 64/928\n",
       " \t\t\t\t\t Loss: \u001b[1m0.863130\u001b[0m \n",
       "\t\t\t\t\t ---------"
      ]
     },
     "metadata": {},
     "output_type": "display_data"
    },
    {
     "data": {
      "text/plain": [
       "2024-02-23 10:29:19,466 fedbiomed DEBUG - Node: config_mednist_1_sampled polling for the tasks"
      ]
     },
     "metadata": {},
     "output_type": "display_data"
    },
    {
     "data": {
      "text/plain": [
       "2024-02-23 10:29:42,661 fedbiomed INFO - \u001b[1mTRAINING\u001b[0m \n",
       "\t\t\t\t\t NODE_ID: config_mednist_1_sampled \n",
       "\t\t\t\t\t Round 1 Epoch: 3 | Iteration: 12/29 (41%) | Samples: 384/928\n",
       " \t\t\t\t\t Loss: \u001b[1m0.755644\u001b[0m \n",
       "\t\t\t\t\t ---------"
      ]
     },
     "metadata": {},
     "output_type": "display_data"
    },
    {
     "data": {
      "text/plain": [
       "2024-02-23 10:29:52,289 fedbiomed DEBUG - Node: config_mednist_2_sampled polling for the tasks"
      ]
     },
     "metadata": {},
     "output_type": "display_data"
    },
    {
     "data": {
      "text/plain": [
       "2024-02-23 10:30:06,284 fedbiomed DEBUG - Node: config_mednist_2_sampled polling for the tasks"
      ]
     },
     "metadata": {},
     "output_type": "display_data"
    },
    {
     "data": {
      "text/plain": [
       "2024-02-23 10:30:10,398 fedbiomed INFO - \u001b[1mTRAINING\u001b[0m \n",
       "\t\t\t\t\t NODE_ID: config_mednist_1_sampled \n",
       "\t\t\t\t\t Round 1 Epoch: 3 | Iteration: 22/29 (76%) | Samples: 704/928\n",
       " \t\t\t\t\t Loss: \u001b[1m0.765437\u001b[0m \n",
       "\t\t\t\t\t ---------"
      ]
     },
     "metadata": {},
     "output_type": "display_data"
    },
    {
     "data": {
      "text/plain": [
       "2024-02-23 10:30:19,465 fedbiomed DEBUG - Node: config_mednist_1_sampled polling for the tasks"
      ]
     },
     "metadata": {},
     "output_type": "display_data"
    },
    {
     "data": {
      "text/plain": [
       "2024-02-23 10:30:27,133 fedbiomed INFO - \u001b[1mTRAINING\u001b[0m \n",
       "\t\t\t\t\t NODE_ID: config_mednist_1_sampled \n",
       "\t\t\t\t\t Round 1 Epoch: 3 | Iteration: 29/29 (100%) | Samples: 900/900\n",
       " \t\t\t\t\t Loss: \u001b[1m1.673585\u001b[0m \n",
       "\t\t\t\t\t ---------"
      ]
     },
     "metadata": {},
     "output_type": "display_data"
    },
    {
     "data": {
      "text/plain": [
       "2024-02-23 10:30:29,844 fedbiomed INFO - \u001b[1mTRAINING\u001b[0m \n",
       "\t\t\t\t\t NODE_ID: config_mednist_1_sampled \n",
       "\t\t\t\t\t Round 1 Epoch: 4 | Iteration: 1/29 (3%) | Samples: 32/928\n",
       " \t\t\t\t\t Loss: \u001b[1m0.830858\u001b[0m \n",
       "\t\t\t\t\t ---------"
      ]
     },
     "metadata": {},
     "output_type": "display_data"
    },
    {
     "data": {
      "text/plain": [
       "2024-02-23 10:30:30,098 fedbiomed DEBUG - Node: config_mednist_1_sampled polling for the tasks"
      ]
     },
     "metadata": {},
     "output_type": "display_data"
    },
    {
     "data": {
      "text/plain": [
       "2024-02-23 10:30:35,404 fedbiomed INFO - \u001b[1mTRAINING\u001b[0m \n",
       "\t\t\t\t\t NODE_ID: config_mednist_1_sampled \n",
       "\t\t\t\t\t Round 1 Epoch: 4 | Iteration: 3/29 (10%) | Samples: 96/928\n",
       " \t\t\t\t\t Loss: \u001b[1m0.788744\u001b[0m \n",
       "\t\t\t\t\t ---------"
      ]
     },
     "metadata": {},
     "output_type": "display_data"
    },
    {
     "data": {
      "text/plain": [
       "2024-02-23 10:31:03,547 fedbiomed INFO - \u001b[1mTRAINING\u001b[0m \n",
       "\t\t\t\t\t NODE_ID: config_mednist_1_sampled \n",
       "\t\t\t\t\t Round 1 Epoch: 4 | Iteration: 13/29 (45%) | Samples: 416/928\n",
       " \t\t\t\t\t Loss: \u001b[1m0.732760\u001b[0m \n",
       "\t\t\t\t\t ---------"
      ]
     },
     "metadata": {},
     "output_type": "display_data"
    },
    {
     "data": {
      "text/plain": [
       "2024-02-23 10:31:06,283 fedbiomed DEBUG - Node: config_mednist_2_sampled polling for the tasks"
      ]
     },
     "metadata": {},
     "output_type": "display_data"
    },
    {
     "data": {
      "text/plain": [
       "2024-02-23 10:31:19,355 fedbiomed DEBUG - Node: config_mednist_2_sampled polling for the tasks"
      ]
     },
     "metadata": {},
     "output_type": "display_data"
    },
    {
     "data": {
      "text/plain": [
       "2024-02-23 10:31:30,097 fedbiomed DEBUG - Node: config_mednist_1_sampled polling for the tasks"
      ]
     },
     "metadata": {},
     "output_type": "display_data"
    },
    {
     "data": {
      "text/plain": [
       "2024-02-23 10:31:31,941 fedbiomed INFO - \u001b[1mTRAINING\u001b[0m \n",
       "\t\t\t\t\t NODE_ID: config_mednist_1_sampled \n",
       "\t\t\t\t\t Round 1 Epoch: 4 | Iteration: 23/29 (79%) | Samples: 736/928\n",
       " \t\t\t\t\t Loss: \u001b[1m0.590424\u001b[0m \n",
       "\t\t\t\t\t ---------"
      ]
     },
     "metadata": {},
     "output_type": "display_data"
    },
    {
     "data": {
      "text/plain": [
       "2024-02-23 10:31:42,257 fedbiomed DEBUG - Node: config_mednist_1_sampled polling for the tasks"
      ]
     },
     "metadata": {},
     "output_type": "display_data"
    },
    {
     "data": {
      "text/plain": [
       "2024-02-23 10:31:46,597 fedbiomed INFO - \u001b[1mTRAINING\u001b[0m \n",
       "\t\t\t\t\t NODE_ID: config_mednist_1_sampled \n",
       "\t\t\t\t\t Round 1 Epoch: 4 | Iteration: 29/29 (100%) | Samples: 900/900\n",
       " \t\t\t\t\t Loss: \u001b[1m1.045113\u001b[0m \n",
       "\t\t\t\t\t ---------"
      ]
     },
     "metadata": {},
     "output_type": "display_data"
    },
    {
     "data": {
      "text/plain": [
       "2024-02-23 10:31:49,336 fedbiomed INFO - \u001b[1mTRAINING\u001b[0m \n",
       "\t\t\t\t\t NODE_ID: config_mednist_1_sampled \n",
       "\t\t\t\t\t Round 1 Epoch: 5 | Iteration: 1/29 (3%) | Samples: 32/928\n",
       " \t\t\t\t\t Loss: \u001b[1m0.697756\u001b[0m \n",
       "\t\t\t\t\t ---------"
      ]
     },
     "metadata": {},
     "output_type": "display_data"
    },
    {
     "data": {
      "text/plain": [
       "2024-02-23 10:31:57,823 fedbiomed INFO - \u001b[1mTRAINING\u001b[0m \n",
       "\t\t\t\t\t NODE_ID: config_mednist_1_sampled \n",
       "\t\t\t\t\t Round 1 Epoch: 5 | Iteration: 4/29 (14%) | Samples: 128/928\n",
       " \t\t\t\t\t Loss: \u001b[1m0.576436\u001b[0m \n",
       "\t\t\t\t\t ---------"
      ]
     },
     "metadata": {},
     "output_type": "display_data"
    },
    {
     "data": {
      "text/plain": [
       "2024-02-23 10:32:19,356 fedbiomed DEBUG - Node: config_mednist_2_sampled polling for the tasks"
      ]
     },
     "metadata": {},
     "output_type": "display_data"
    },
    {
     "data": {
      "text/plain": [
       "2024-02-23 10:32:25,645 fedbiomed INFO - \u001b[1mTRAINING\u001b[0m \n",
       "\t\t\t\t\t NODE_ID: config_mednist_1_sampled \n",
       "\t\t\t\t\t Round 1 Epoch: 5 | Iteration: 14/29 (48%) | Samples: 448/928\n",
       " \t\t\t\t\t Loss: \u001b[1m0.533323\u001b[0m \n",
       "\t\t\t\t\t ---------"
      ]
     },
     "metadata": {},
     "output_type": "display_data"
    },
    {
     "data": {
      "text/plain": [
       "2024-02-23 10:32:32,244 fedbiomed DEBUG - Node: config_mednist_2_sampled polling for the tasks"
      ]
     },
     "metadata": {},
     "output_type": "display_data"
    },
    {
     "data": {
      "text/plain": [
       "2024-02-23 10:32:42,254 fedbiomed DEBUG - Node: config_mednist_1_sampled polling for the tasks"
      ]
     },
     "metadata": {},
     "output_type": "display_data"
    },
    {
     "data": {
      "text/plain": [
       "2024-02-23 10:32:50,144 fedbiomed DEBUG - Node: config_mednist_1_sampled polling for the tasks"
      ]
     },
     "metadata": {},
     "output_type": "display_data"
    },
    {
     "data": {
      "text/plain": [
       "2024-02-23 10:32:53,753 fedbiomed INFO - \u001b[1mTRAINING\u001b[0m \n",
       "\t\t\t\t\t NODE_ID: config_mednist_1_sampled \n",
       "\t\t\t\t\t Round 1 Epoch: 5 | Iteration: 24/29 (83%) | Samples: 768/928\n",
       " \t\t\t\t\t Loss: \u001b[1m0.578839\u001b[0m \n",
       "\t\t\t\t\t ---------"
      ]
     },
     "metadata": {},
     "output_type": "display_data"
    },
    {
     "data": {
      "text/plain": [
       "2024-02-23 10:33:04,671 fedbiomed INFO - \u001b[1mTRAINING\u001b[0m \n",
       "\t\t\t\t\t NODE_ID: config_mednist_1_sampled \n",
       "\t\t\t\t\t Round 1 Epoch: 5 | Iteration: 29/29 (100%) | Samples: 900/900\n",
       " \t\t\t\t\t Loss: \u001b[1m0.632976\u001b[0m \n",
       "\t\t\t\t\t ---------"
      ]
     },
     "metadata": {},
     "output_type": "display_data"
    },
    {
     "data": {
      "text/plain": [
       "2024-02-23 10:33:07,265 fedbiomed INFO - \u001b[1mTRAINING\u001b[0m \n",
       "\t\t\t\t\t NODE_ID: config_mednist_1_sampled \n",
       "\t\t\t\t\t Round 1 Epoch: 6 | Iteration: 1/29 (3%) | Samples: 32/928\n",
       " \t\t\t\t\t Loss: \u001b[1m0.545928\u001b[0m \n",
       "\t\t\t\t\t ---------"
      ]
     },
     "metadata": {},
     "output_type": "display_data"
    },
    {
     "data": {
      "text/plain": [
       "2024-02-23 10:33:16,127 fedbiomed INFO - \u001b[1mTRAINING\u001b[0m \n",
       "\t\t\t\t\t NODE_ID: config_mednist_1_sampled \n",
       "\t\t\t\t\t Round 1 Epoch: 6 | Iteration: 5/29 (17%) | Samples: 160/928\n",
       " \t\t\t\t\t Loss: \u001b[1m0.582466\u001b[0m \n",
       "\t\t\t\t\t ---------"
      ]
     },
     "metadata": {},
     "output_type": "display_data"
    },
    {
     "data": {
      "text/plain": [
       "2024-02-23 10:33:32,244 fedbiomed DEBUG - Node: config_mednist_2_sampled polling for the tasks"
      ]
     },
     "metadata": {},
     "output_type": "display_data"
    },
    {
     "data": {
      "text/plain": [
       "2024-02-23 10:33:36,328 fedbiomed INFO - \u001b[1mTRAINING\u001b[0m \n",
       "\t\t\t\t\t NODE_ID: config_mednist_1_sampled \n",
       "\t\t\t\t\t Round 1 Epoch: 6 | Iteration: 15/29 (52%) | Samples: 480/928\n",
       " \t\t\t\t\t Loss: \u001b[1m0.397152\u001b[0m \n",
       "\t\t\t\t\t ---------"
      ]
     },
     "metadata": {},
     "output_type": "display_data"
    },
    {
     "data": {
      "text/plain": [
       "2024-02-23 10:33:50,142 fedbiomed DEBUG - Node: config_mednist_1_sampled polling for the tasks"
      ]
     },
     "metadata": {},
     "output_type": "display_data"
    },
    {
     "data": {
      "text/plain": [
       "2024-02-23 10:33:54,842 fedbiomed INFO - \u001b[1mTRAINING\u001b[0m \n",
       "\t\t\t\t\t NODE_ID: config_mednist_1_sampled \n",
       "\t\t\t\t\t Round 1 Epoch: 6 | Iteration: 25/29 (86%) | Samples: 800/928\n",
       " \t\t\t\t\t Loss: \u001b[1m0.405308\u001b[0m \n",
       "\t\t\t\t\t ---------"
      ]
     },
     "metadata": {},
     "output_type": "display_data"
    },
    {
     "data": {
      "text/plain": [
       "2024-02-23 10:34:02,265 fedbiomed DEBUG - Node: config_mednist_1_sampled polling for the tasks"
      ]
     },
     "metadata": {},
     "output_type": "display_data"
    },
    {
     "data": {
      "text/plain": [
       "2024-02-23 10:34:02,714 fedbiomed INFO - \u001b[1mTRAINING\u001b[0m \n",
       "\t\t\t\t\t NODE_ID: config_mednist_1_sampled \n",
       "\t\t\t\t\t Round 1 Epoch: 6 | Iteration: 29/29 (100%) | Samples: 900/900\n",
       " \t\t\t\t\t Loss: \u001b[1m0.398396\u001b[0m \n",
       "\t\t\t\t\t ---------"
      ]
     },
     "metadata": {},
     "output_type": "display_data"
    },
    {
     "data": {
      "text/plain": [
       "2024-02-23 10:34:05,023 fedbiomed INFO - \u001b[1mTRAINING\u001b[0m \n",
       "\t\t\t\t\t NODE_ID: config_mednist_1_sampled \n",
       "\t\t\t\t\t Round 1 Epoch: 7 | Iteration: 1/29 (3%) | Samples: 32/928\n",
       " \t\t\t\t\t Loss: \u001b[1m0.398975\u001b[0m \n",
       "\t\t\t\t\t ---------"
      ]
     },
     "metadata": {},
     "output_type": "display_data"
    },
    {
     "data": {
      "text/plain": [
       "2024-02-23 10:34:15,406 fedbiomed INFO - \u001b[1mTRAINING\u001b[0m \n",
       "\t\t\t\t\t NODE_ID: config_mednist_1_sampled \n",
       "\t\t\t\t\t Round 1 Epoch: 7 | Iteration: 6/29 (21%) | Samples: 192/928\n",
       " \t\t\t\t\t Loss: \u001b[1m0.417327\u001b[0m \n",
       "\t\t\t\t\t ---------"
      ]
     },
     "metadata": {},
     "output_type": "display_data"
    },
    {
     "data": {
      "text/plain": [
       "2024-02-23 10:34:32,244 fedbiomed DEBUG - Node: config_mednist_2_sampled polling for the tasks"
      ]
     },
     "metadata": {},
     "output_type": "display_data"
    },
    {
     "data": {
      "text/plain": [
       "2024-02-23 10:34:35,498 fedbiomed INFO - \u001b[1mTRAINING\u001b[0m \n",
       "\t\t\t\t\t NODE_ID: config_mednist_1_sampled \n",
       "\t\t\t\t\t Round 1 Epoch: 7 | Iteration: 16/29 (55%) | Samples: 512/928\n",
       " \t\t\t\t\t Loss: \u001b[1m0.495801\u001b[0m \n",
       "\t\t\t\t\t ---------"
      ]
     },
     "metadata": {},
     "output_type": "display_data"
    },
    {
     "data": {
      "text/plain": [
       "2024-02-23 10:34:53,077 fedbiomed INFO - \u001b[1mTRAINING\u001b[0m \n",
       "\t\t\t\t\t NODE_ID: config_mednist_1_sampled \n",
       "\t\t\t\t\t Round 1 Epoch: 7 | Iteration: 26/29 (90%) | Samples: 832/928\n",
       " \t\t\t\t\t Loss: \u001b[1m0.588867\u001b[0m \n",
       "\t\t\t\t\t ---------"
      ]
     },
     "metadata": {},
     "output_type": "display_data"
    },
    {
     "data": {
      "text/plain": [
       "2024-02-23 10:34:56,801 fedbiomed INFO - \u001b[1mTRAINING\u001b[0m \n",
       "\t\t\t\t\t NODE_ID: config_mednist_1_sampled \n",
       "\t\t\t\t\t Round 1 Epoch: 7 | Iteration: 29/29 (100%) | Samples: 900/900\n",
       " \t\t\t\t\t Loss: \u001b[1m1.078944\u001b[0m \n",
       "\t\t\t\t\t ---------"
      ]
     },
     "metadata": {},
     "output_type": "display_data"
    },
    {
     "data": {
      "text/plain": [
       "2024-02-23 10:34:58,596 fedbiomed INFO - \u001b[1mTRAINING\u001b[0m \n",
       "\t\t\t\t\t NODE_ID: config_mednist_1_sampled \n",
       "\t\t\t\t\t Round 1 Epoch: 8 | Iteration: 1/29 (3%) | Samples: 32/928\n",
       " \t\t\t\t\t Loss: \u001b[1m0.385518\u001b[0m \n",
       "\t\t\t\t\t ---------"
      ]
     },
     "metadata": {},
     "output_type": "display_data"
    },
    {
     "data": {
      "text/plain": [
       "2024-02-23 10:35:02,263 fedbiomed DEBUG - Node: config_mednist_1_sampled polling for the tasks"
      ]
     },
     "metadata": {},
     "output_type": "display_data"
    },
    {
     "data": {
      "text/plain": [
       "2024-02-23 10:35:09,060 fedbiomed INFO - \u001b[1mTRAINING\u001b[0m \n",
       "\t\t\t\t\t NODE_ID: config_mednist_1_sampled \n",
       "\t\t\t\t\t Round 1 Epoch: 8 | Iteration: 7/29 (24%) | Samples: 224/928\n",
       " \t\t\t\t\t Loss: \u001b[1m0.557657\u001b[0m \n",
       "\t\t\t\t\t ---------"
      ]
     },
     "metadata": {},
     "output_type": "display_data"
    },
    {
     "data": {
      "text/plain": [
       "2024-02-23 10:35:14,587 fedbiomed DEBUG - Node: config_mednist_1_sampled polling for the tasks"
      ]
     },
     "metadata": {},
     "output_type": "display_data"
    },
    {
     "data": {
      "text/plain": [
       "2024-02-23 10:35:31,288 fedbiomed INFO - \u001b[1mTRAINING\u001b[0m \n",
       "\t\t\t\t\t NODE_ID: config_mednist_1_sampled \n",
       "\t\t\t\t\t Round 1 Epoch: 8 | Iteration: 17/29 (59%) | Samples: 544/928\n",
       " \t\t\t\t\t Loss: \u001b[1m0.348339\u001b[0m \n",
       "\t\t\t\t\t ---------"
      ]
     },
     "metadata": {},
     "output_type": "display_data"
    },
    {
     "data": {
      "text/plain": [
       "2024-02-23 10:35:32,243 fedbiomed DEBUG - Node: config_mednist_2_sampled polling for the tasks"
      ]
     },
     "metadata": {},
     "output_type": "display_data"
    },
    {
     "data": {
      "text/plain": [
       "2024-02-23 10:35:43,755 fedbiomed DEBUG - Node: config_mednist_2_sampled polling for the tasks"
      ]
     },
     "metadata": {},
     "output_type": "display_data"
    },
    {
     "data": {
      "text/plain": [
       "2024-02-23 10:35:49,813 fedbiomed INFO - \u001b[1mTRAINING\u001b[0m \n",
       "\t\t\t\t\t NODE_ID: config_mednist_1_sampled \n",
       "\t\t\t\t\t Round 1 Epoch: 8 | Iteration: 27/29 (93%) | Samples: 864/928\n",
       " \t\t\t\t\t Loss: \u001b[1m0.481828\u001b[0m \n",
       "\t\t\t\t\t ---------"
      ]
     },
     "metadata": {},
     "output_type": "display_data"
    },
    {
     "data": {
      "text/plain": [
       "2024-02-23 10:35:51,975 fedbiomed INFO - \u001b[1mTRAINING\u001b[0m \n",
       "\t\t\t\t\t NODE_ID: config_mednist_1_sampled \n",
       "\t\t\t\t\t Round 1 Epoch: 8 | Iteration: 29/29 (100%) | Samples: 900/900\n",
       " \t\t\t\t\t Loss: \u001b[1m0.958883\u001b[0m \n",
       "\t\t\t\t\t ---------"
      ]
     },
     "metadata": {},
     "output_type": "display_data"
    },
    {
     "data": {
      "text/plain": [
       "2024-02-23 10:35:54,145 fedbiomed INFO - \u001b[1mTRAINING\u001b[0m \n",
       "\t\t\t\t\t NODE_ID: config_mednist_1_sampled \n",
       "\t\t\t\t\t Round 1 Epoch: 9 | Iteration: 1/29 (3%) | Samples: 32/928\n",
       " \t\t\t\t\t Loss: \u001b[1m0.515115\u001b[0m \n",
       "\t\t\t\t\t ---------"
      ]
     },
     "metadata": {},
     "output_type": "display_data"
    },
    {
     "data": {
      "text/plain": [
       "2024-02-23 10:36:09,534 fedbiomed INFO - \u001b[1mTRAINING\u001b[0m \n",
       "\t\t\t\t\t NODE_ID: config_mednist_1_sampled \n",
       "\t\t\t\t\t Round 1 Epoch: 9 | Iteration: 8/29 (28%) | Samples: 256/928\n",
       " \t\t\t\t\t Loss: \u001b[1m0.489626\u001b[0m \n",
       "\t\t\t\t\t ---------"
      ]
     },
     "metadata": {},
     "output_type": "display_data"
    },
    {
     "data": {
      "text/plain": [
       "2024-02-23 10:36:14,581 fedbiomed DEBUG - Node: config_mednist_1_sampled polling for the tasks"
      ]
     },
     "metadata": {},
     "output_type": "display_data"
    },
    {
     "data": {
      "text/plain": [
       "2024-02-23 10:36:27,108 fedbiomed INFO - \u001b[1mTRAINING\u001b[0m \n",
       "\t\t\t\t\t NODE_ID: config_mednist_1_sampled \n",
       "\t\t\t\t\t Round 1 Epoch: 9 | Iteration: 18/29 (62%) | Samples: 576/928\n",
       " \t\t\t\t\t Loss: \u001b[1m0.335865\u001b[0m \n",
       "\t\t\t\t\t ---------"
      ]
     },
     "metadata": {},
     "output_type": "display_data"
    },
    {
     "data": {
      "text/plain": [
       "2024-02-23 10:36:27,914 fedbiomed DEBUG - Node: config_mednist_1_sampled polling for the tasks"
      ]
     },
     "metadata": {},
     "output_type": "display_data"
    },
    {
     "data": {
      "text/plain": [
       "2024-02-23 10:36:43,753 fedbiomed DEBUG - Node: config_mednist_2_sampled polling for the tasks"
      ]
     },
     "metadata": {},
     "output_type": "display_data"
    },
    {
     "data": {
      "text/plain": [
       "2024-02-23 10:36:44,417 fedbiomed INFO - \u001b[1mTRAINING\u001b[0m \n",
       "\t\t\t\t\t NODE_ID: config_mednist_1_sampled \n",
       "\t\t\t\t\t Round 1 Epoch: 9 | Iteration: 28/29 (97%) | Samples: 896/928\n",
       " \t\t\t\t\t Loss: \u001b[1m0.342275\u001b[0m \n",
       "\t\t\t\t\t ---------"
      ]
     },
     "metadata": {},
     "output_type": "display_data"
    },
    {
     "data": {
      "text/plain": [
       "2024-02-23 10:36:44,600 fedbiomed INFO - \u001b[1mTRAINING\u001b[0m \n",
       "\t\t\t\t\t NODE_ID: config_mednist_1_sampled \n",
       "\t\t\t\t\t Round 1 Epoch: 9 | Iteration: 29/29 (100%) | Samples: 900/900\n",
       " \t\t\t\t\t Loss: \u001b[1m0.355475\u001b[0m \n",
       "\t\t\t\t\t ---------"
      ]
     },
     "metadata": {},
     "output_type": "display_data"
    },
    {
     "data": {
      "text/plain": [
       "2024-02-23 10:36:46,389 fedbiomed INFO - \u001b[1mTRAINING\u001b[0m \n",
       "\t\t\t\t\t NODE_ID: config_mednist_1_sampled \n",
       "\t\t\t\t\t Round 1 Epoch: 10 | Iteration: 1/29 (3%) | Samples: 32/928\n",
       " \t\t\t\t\t Loss: \u001b[1m0.568909\u001b[0m \n",
       "\t\t\t\t\t ---------"
      ]
     },
     "metadata": {},
     "output_type": "display_data"
    },
    {
     "data": {
      "text/plain": [
       "2024-02-23 10:36:56,976 fedbiomed DEBUG - Node: config_mednist_2_sampled polling for the tasks"
      ]
     },
     "metadata": {},
     "output_type": "display_data"
    },
    {
     "data": {
      "text/plain": [
       "2024-02-23 10:37:00,563 fedbiomed INFO - \u001b[1mTRAINING\u001b[0m \n",
       "\t\t\t\t\t NODE_ID: config_mednist_1_sampled \n",
       "\t\t\t\t\t Round 1 Epoch: 10 | Iteration: 9/29 (31%) | Samples: 288/928\n",
       " \t\t\t\t\t Loss: \u001b[1m0.270554\u001b[0m \n",
       "\t\t\t\t\t ---------"
      ]
     },
     "metadata": {},
     "output_type": "display_data"
    },
    {
     "data": {
      "text/plain": [
       "2024-02-23 10:37:18,047 fedbiomed INFO - \u001b[1mTRAINING\u001b[0m \n",
       "\t\t\t\t\t NODE_ID: config_mednist_1_sampled \n",
       "\t\t\t\t\t Round 1 Epoch: 10 | Iteration: 19/29 (66%) | Samples: 608/928\n",
       " \t\t\t\t\t Loss: \u001b[1m0.407931\u001b[0m \n",
       "\t\t\t\t\t ---------"
      ]
     },
     "metadata": {},
     "output_type": "display_data"
    },
    {
     "data": {
      "text/plain": [
       "2024-02-23 10:37:27,912 fedbiomed DEBUG - Node: config_mednist_1_sampled polling for the tasks"
      ]
     },
     "metadata": {},
     "output_type": "display_data"
    },
    {
     "data": {
      "text/plain": [
       "2024-02-23 10:37:34,834 fedbiomed INFO - \u001b[1mTRAINING\u001b[0m \n",
       "\t\t\t\t\t NODE_ID: config_mednist_1_sampled \n",
       "\t\t\t\t\t Round 1 Epoch: 10 | Iteration: 29/29 (100%) | Samples: 900/900\n",
       " \t\t\t\t\t Loss: \u001b[1m0.664922\u001b[0m \n",
       "\t\t\t\t\t ---------"
      ]
     },
     "metadata": {},
     "output_type": "display_data"
    },
    {
     "data": {
      "text/plain": [
       "2024-02-23 10:37:37,489 fedbiomed DEBUG - Node: config_mednist_1_sampled polling for the tasks"
      ]
     },
     "metadata": {},
     "output_type": "display_data"
    },
    {
     "data": {
      "text/plain": [
       "2024-02-23 10:37:40,669 fedbiomed INFO - \u001b[1mVALIDATION ON LOCAL UPDATES\u001b[0m \n",
       "\t\t\t\t\t NODE_ID: config_mednist_1_sampled \n",
       "\t\t\t\t\t Round 1 | Iteration: 1/1 (100%) | Samples: 100/100\n",
       " \t\t\t\t\t ACCURACY: \u001b[1m0.890000\u001b[0m \n",
       "\t\t\t\t\t ---------"
      ]
     },
     "metadata": {},
     "output_type": "display_data"
    },
    {
     "data": {
      "text/plain": [
       "2024-02-23 10:37:40,860 fedbiomed INFO - Nodes that successfully reply in round 0 ['config_mednist_1_sampled']"
      ]
     },
     "metadata": {},
     "output_type": "display_data"
    },
    {
     "data": {
      "text/plain": [
       "2024-02-23 10:37:40,966 fedbiomed INFO - Saved aggregated params for round 0 in /home/ebirgy/development/fedbiomed_github/fedbiomed/var/experiments/Experiment_0001/aggregated_params_55040fb3-54cb-4fdf-b354-9b26b73627f3.mpk"
      ]
     },
     "metadata": {},
     "output_type": "display_data"
    },
    {
     "data": {
      "text/plain": [
       "1"
      ]
     },
     "execution_count": 16,
     "metadata": {},
     "output_type": "execute_result"
    },
    {
     "data": {
      "text/plain": [
       "2024-02-23 10:37:56,976 fedbiomed DEBUG - Node: config_mednist_2_sampled polling for the tasks"
      ]
     },
     "metadata": {},
     "output_type": "display_data"
    },
    {
     "data": {
      "text/plain": [
       "2024-02-23 10:38:03,360 fedbiomed DEBUG - Node: config_mednist_2_sampled polling for the tasks"
      ]
     },
     "metadata": {},
     "output_type": "display_data"
    }
   ],
   "source": [
    "exp.run()"
   ]
  },
  {
   "cell_type": "markdown",
   "id": "0f2cb63d",
   "metadata": {},
   "source": [
    "### Here we see the results after 1 round of 5 epochs on 1000 images without loading pre-trained model.\n",
    "\n",
    "2024-02-23 10:37:37,489 fedbiomed DEBUG - Node: config_mednist_1_sampled polling for the tasks\n",
    "\n",
    "2024-02-23 10:37:40,669 fedbiomed INFO - VALIDATION ON LOCAL UPDATES \n",
    "\t\t\t\t\t NODE_ID: config_mednist_1_sampled \n",
    "\t\t\t\t\t Round 1 | Iteration: 1/1 (100%) | Samples: 100/100\n",
    " \t\t\t\t\t ACCURACY: 0.890000 "
   ]
  },
  {
   "cell_type": "code",
   "execution_count": 17,
   "id": "1c3bdada",
   "metadata": {},
   "outputs": [],
   "source": [
    "#save the model \n",
    "exp.training_plan().export_model('./training_plan0_densenet_MedNIST')"
   ]
  },
  {
   "cell_type": "code",
   "execution_count": 18,
   "id": "81a8ad6d",
   "metadata": {},
   "outputs": [],
   "source": [
    "from fedbiomed.researcher.environ import environ\n",
    "tensorboard_dir = environ['TENSORBOARD_RESULTS_DIR']"
   ]
  },
  {
   "cell_type": "code",
   "execution_count": 19,
   "id": "caa71d1e",
   "metadata": {},
   "outputs": [
    {
     "name": "stdout",
     "output_type": "stream",
     "text": [
      "The tensorboard extension is already loaded. To reload it, use:\n",
      "  %reload_ext tensorboard\n"
     ]
    }
   ],
   "source": [
    "%load_ext tensorboard"
   ]
  },
  {
   "cell_type": "code",
   "execution_count": null,
   "id": "fc0e512a",
   "metadata": {},
   "outputs": [],
   "source": [
    "%tensorboard --logdir \"$tensorboard_dir\""
   ]
  },
  {
   "cell_type": "markdown",
   "id": "d3376115",
   "metadata": {},
   "source": [
    "The loss is rapidly decreasing after some iteration but stop decreasing. We get loss roughly 0.4"
   ]
  },
  {
   "cell_type": "markdown",
   "id": "c2a775bd-4d9e-4f59-9c18-4257ff8ea314",
   "metadata": {},
   "source": [
    "## Run an expriment for image's classification using Transfer-learning "
   ]
  },
  {
   "cell_type": "markdown",
   "id": "e567f368-0dc6-4eaa-95a6-1f7a6e78c6e7",
   "metadata": {},
   "source": [
    "### I- Adapt the last layer to your classification's goal\n",
    "Here we use the DenseNet model that allows classification through 10000 samples. \n",
    "We could adapt this classification's task to the MedNIST dataset by replacing the last layer with our classifier. \n",
    "The `model.classifier` layer of the `DenseNet-121` model classifies images through 6 classes, in the Training Plan, by adapting the num_classes value (can be done in through `model_args` argument). \n",
    "\n",
    "### Data augmentation\n",
    "You could perform data augmentation through the preprocess part if you need. Here I show random flip, rotation and crops. \n",
    "You could do the preprocessing of images by doing only transforms.resize, transforms.to_tensor and transforms.normalize, as mentionned in the code below (commented lines). "
   ]
  },
  {
   "cell_type": "markdown",
   "id": "d36f5b80",
   "metadata": {},
   "source": [
    "### I -1. Define Training plan experiment "
   ]
  },
  {
   "cell_type": "code",
   "execution_count": 3,
   "id": "43761a76-1efc-46cc-80b6-161b3c99731f",
   "metadata": {},
   "outputs": [],
   "source": [
    "class MyTrainingPlan1(TorchTrainingPlan):\n",
    "\n",
    "    def init_model(self, model_args):\n",
    "       \n",
    "        # Load the pre-trained DenseNet model, you have two ways to import your model\n",
    "        \n",
    "        model = models.densenet121(pretrained=True)\n",
    "        \n",
    "        \n",
    "        # Remove the classification layer of DenseNet\n",
    "        for param in model.features[:-1].parameters():\n",
    "            param.requires_grad = False\n",
    "            \n",
    "        # add the classifier \n",
    "        num_classes = model_args['num_classes'] \n",
    "        num_ftrs = model.classifier.in_features\n",
    "        model.classifier= nn.Sequential(\n",
    "            nn.Linear(num_ftrs, 512),\n",
    "            nn.ReLU(inplace=True),\n",
    "            nn.Dropout(0.5),\n",
    "            nn.Linear(512, num_classes)\n",
    "        )\n",
    "      \n",
    "        return model\n",
    "\n",
    "    def init_dependencies(self):\n",
    "        return [\n",
    "            \"from torchvision import datasets, transforms, models\",\n",
    "            \"import torch.optim as optim\",\n",
    "            \"from torchvision.models import densenet121\"\n",
    "        ]\n",
    "\n",
    "\n",
    "    def init_optimizer(self, optimizer_args):        \n",
    "        return optim.Adam(self.model().parameters(), lr=optimizer_args[\"lr\"])\n",
    "\n",
    "    \n",
    "    # training data\n",
    "    \n",
    "    def training_data(self):\n",
    "        \n",
    "\n",
    "        # Transform images and  do data augmentation \n",
    "        preprocess = transforms.Compose([\n",
    "                transforms.Resize((224,224)),  \n",
    "                #transforms.RandomHorizontalFlip(p=0.5),\n",
    "                #transforms.RandomVerticalFlip(p=0.5),\n",
    "                #transforms.RandomRotation(30),\n",
    "                #transforms.RandomResizedCrop(224, scale=(0.8, 1.0)),\n",
    "                transforms.ToTensor(),\n",
    "                transforms.Normalize(mean = [0.485, 0.456, 0.406], std = [0.229, 0.224, 0.225])\n",
    "           ])\n",
    "    \n",
    "        train_data = datasets.ImageFolder(self.dataset_path,transform = preprocess)\n",
    "        train_kwargs = { 'shuffle': True}\n",
    "        return DataManager(dataset=train_data, **train_kwargs)\n",
    "\n",
    "    def training_step(self, data, target):\n",
    "        output = self.model().forward(data)\n",
    "        loss_func = nn.CrossEntropyLoss()\n",
    "        loss   = loss_func(output, target)\n",
    "        return loss\n",
    "\n",
    "\n"
   ]
  },
  {
   "cell_type": "markdown",
   "id": "f7051fed",
   "metadata": {},
   "source": [
    "### Downloading the pretrained model's weights \n",
    "Here we download and save the model's weights through Torch.hub using the command below in a file 'pretrained_model.pt'"
   ]
  },
  {
   "cell_type": "code",
   "execution_count": 13,
   "id": "4035e2a7",
   "metadata": {},
   "outputs": [
    {
     "name": "stderr",
     "output_type": "stream",
     "text": [
      "Using cache found in /user/ebirgy/home/.cache/torch/hub/pytorch_vision_v0.10.0\n",
      "The parameter 'pretrained' is deprecated since 0.13 and may be removed in the future, please use 'weights' instead.\n",
      "Arguments other than a weight enum or `None` for 'weights' are deprecated since 0.13 and may be removed in the future. The current behavior is equivalent to passing `weights=DenseNet121_Weights.IMAGENET1K_V1`. You can also use `weights=DenseNet121_Weights.DEFAULT` to get the most up-to-date weights.\n"
     ]
    }
   ],
   "source": [
    "#model = torch.hub.load('pytorch/vision:v0.10.0', 'densenet121', pretrained=True)\n",
    "#torch.save(model.state_dict(), 'pretrained_model.pt')"
   ]
  },
  {
   "cell_type": "code",
   "execution_count": 4,
   "id": "a011a997-5fc6-4d01-af73-54c6017da976",
   "metadata": {},
   "outputs": [],
   "source": [
    "training_args = {\n",
    "    'loader_args': { 'batch_size': 32, }, \n",
    "    'optimizer_args': {'lr': 1e-3}, \n",
    "    'epochs': 5, \n",
    "    'dry_run': False,  \n",
    "    'batch_maxnum': 100 # Fast pass for development : only use ( batch_maxnum * batch_size ) samples\n",
    "}\n",
    "\n",
    "model_args = {\n",
    "    'num_classes': 6 # adapt this number to the number of classes in your dataset\n",
    "}"
   ]
  },
  {
   "cell_type": "code",
   "execution_count": 5,
   "id": "08f594a9-8d00-464b-80f1-ff42dac59b33",
   "metadata": {},
   "outputs": [
    {
     "data": {
      "text/plain": [
       "2024-02-23 10:45:08,526 fedbiomed INFO - Starting researcher service..."
      ]
     },
     "metadata": {},
     "output_type": "display_data"
    },
    {
     "data": {
      "text/plain": [
       "2024-02-23 10:45:08,535 fedbiomed INFO - Waiting 3s for nodes to connect..."
      ]
     },
     "metadata": {},
     "output_type": "display_data"
    },
    {
     "data": {
      "text/plain": [
       "2024-02-23 10:45:09,640 fedbiomed DEBUG - Node: config_mednist_1_sampled polling for the tasks"
      ]
     },
     "metadata": {},
     "output_type": "display_data"
    },
    {
     "data": {
      "text/plain": [
       "2024-02-23 10:45:11,549 fedbiomed DEBUG - Node: config_mednist_1_sampled polling for the tasks"
      ]
     },
     "metadata": {},
     "output_type": "display_data"
    },
    {
     "data": {
      "text/plain": [
       "2024-02-23 10:45:11,554 fedbiomed INFO - Node selected for training -> config_mednist_1_sampled"
      ]
     },
     "metadata": {},
     "output_type": "display_data"
    },
    {
     "data": {
      "text/plain": [
       "2024-02-23 10:45:11,561 fedbiomed DEBUG - Model file has been saved: /home/ebirgy/development/fedbiomed_github/fedbiomed/var/experiments/Experiment_0004/model_705f2409-4190-4f68-a120-ce71ddedc961.py"
      ]
     },
     "metadata": {},
     "output_type": "display_data"
    },
    {
     "name": "stderr",
     "output_type": "stream",
     "text": [
      "Secure RNG turned off. This is perfectly fine for experimentation as it allows for much faster training performance, but remember to turn it on and retrain one last time before production with ``secure_mode`` turned on.\n",
      "The parameter 'pretrained' is deprecated since 0.13 and may be removed in the future, please use 'weights' instead.\n",
      "Arguments other than a weight enum or `None` for 'weights' are deprecated since 0.13 and may be removed in the future. The current behavior is equivalent to passing `weights=DenseNet121_Weights.IMAGENET1K_V1`. You can also use `weights=DenseNet121_Weights.DEFAULT` to get the most up-to-date weights.\n"
     ]
    },
    {
     "data": {
      "text/plain": [
       "2024-02-23 10:45:11,809 fedbiomed DEBUG - using native torch optimizer"
      ]
     },
     "metadata": {},
     "output_type": "display_data"
    },
    {
     "data": {
      "text/plain": [
       "2024-02-23 10:45:11,809 fedbiomed INFO - Removing tensorboard logs from previous experiment"
      ]
     },
     "metadata": {},
     "output_type": "display_data"
    },
    {
     "data": {
      "text/plain": [
       "2024-02-23 10:45:11,811 fedbiomed DEBUG - Experimentation training_args updated for `job`"
      ]
     },
     "metadata": {},
     "output_type": "display_data"
    },
    {
     "data": {
      "text/plain": [
       "2024-02-23 10:45:11,811 fedbiomed DEBUG - Experimentation training_args updated for `job`"
      ]
     },
     "metadata": {},
     "output_type": "display_data"
    },
    {
     "data": {
      "text/plain": [
       "2024-02-23 10:45:11,812 fedbiomed DEBUG - Experimentation training_args updated for `job`"
      ]
     },
     "metadata": {},
     "output_type": "display_data"
    },
    {
     "data": {
      "text/plain": [
       "True"
      ]
     },
     "execution_count": 5,
     "metadata": {},
     "output_type": "execute_result"
    }
   ],
   "source": [
    "tags =  ['#MEDNIST', '#dataset']\n",
    "\n",
    "rounds = 1 # adjsut the number of rounds \n",
    "\n",
    "exp = Experiment(tags=tags,\n",
    "                 training_plan_class=MyTrainingPlan1,\n",
    "                 model_args=model_args,\n",
    "                 training_args=training_args,\n",
    "                 round_limit=rounds,\n",
    "                 aggregator=FedAverage())\n",
    "\n",
    "# testing section \n",
    "from fedbiomed.common.metrics import MetricTypes\n",
    "exp.set_test_ratio(.1) \n",
    "exp.set_test_on_local_updates(True)\n",
    "exp.set_test_metric(MetricTypes.ACCURACY)\n",
    "\n",
    "exp.set_tensorboard(True)"
   ]
  },
  {
   "cell_type": "markdown",
   "id": "0e12fd54",
   "metadata": {},
   "source": [
    "### I - 2. Define the dataset for your experiment \n",
    "\n",
    "We propose to run this first experiment with only one Node (ie with  MedNIST_sampled_1 dataset, a sub-sampled dataset of 500 MedNIST images), because this first method is a transfer learning without training.\n",
    "\n",
    "Here we show how to select one dataset among the connected datasets:"
   ]
  },
  {
   "cell_type": "code",
   "execution_count": 6,
   "id": "9688fe37",
   "metadata": {},
   "outputs": [
    {
     "data": {
      "text/plain": [
       "2024-02-23 10:45:11,949 fedbiomed DEBUG - Experimentation nodes filter changed, you may need to update `training_data`"
      ]
     },
     "metadata": {},
     "output_type": "display_data"
    },
    {
     "data": {
      "text/plain": [
       "2024-02-23 10:45:11,954 fedbiomed DEBUG - Experimentation tags changed, you may need to update `training_data`"
      ]
     },
     "metadata": {},
     "output_type": "display_data"
    },
    {
     "data": {
      "text/plain": [
       "2024-02-23 10:45:11,957 fedbiomed DEBUG - Training data changed, you may need to update `node_selection_strategy`"
      ]
     },
     "metadata": {},
     "output_type": "display_data"
    },
    {
     "data": {
      "text/plain": [
       "2024-02-23 10:45:11,960 fedbiomed DEBUG - Training data changed, you may need to update `job`"
      ]
     },
     "metadata": {},
     "output_type": "display_data"
    },
    {
     "data": {
      "text/plain": [
       "2024-02-23 10:45:11,961 fedbiomed DEBUG - Training data changed, you may need to update `aggregator`"
      ]
     },
     "metadata": {},
     "output_type": "display_data"
    },
    {
     "name": "stdout",
     "output_type": "stream",
     "text": [
      "{}\n"
     ]
    }
   ],
   "source": [
    "\n",
    "exp.set_nodes(['config_mednist_2_sampled'])\n",
    "exp.set_tags(['#MEDNIST', '#dataset'])\n",
    "td = exp.training_data().data()\n",
    "td.pop('config_mednist_1_sampled')\n",
    "exp.set_training_data(td)\n",
    "\n",
    "print(exp.training_data().data())"
   ]
  },
  {
   "cell_type": "code",
   "execution_count": 30,
   "id": "385d211a",
   "metadata": {},
   "outputs": [
    {
     "data": {
      "text/plain": [
       "2024-02-23 10:41:19,923 fedbiomed WARNING - 'TorchModel.set_weights' received inputs that did not cover alltrainable model parameters; missing weights: {'classifier.0.weight', 'classifier.3.weight', 'classifier.3.bias', 'classifier.0.bias'}"
      ]
     },
     "metadata": {},
     "output_type": "display_data"
    },
    {
     "data": {
      "text/plain": [
       "2024-02-23 10:41:19,924 fedbiomed WARNING - 'TorchModel.set_weights' received inputs with unexpected names: ['classifier.weight', 'classifier.bias']"
      ]
     },
     "metadata": {},
     "output_type": "display_data"
    },
    {
     "data": {
      "text/plain": [
       "2024-02-23 10:41:27,248 fedbiomed INFO - \u001b[1mTRAINING\u001b[0m \n",
       "\t\t\t\t\t NODE_ID: config_mednist_2_sampled \n",
       "\t\t\t\t\t Round 1 Epoch: 4 | Iteration: 15/15 (100%) | Samples: 450/450\n",
       " \t\t\t\t\t Loss: \u001b[1m1.143529\u001b[0m \n",
       "\t\t\t\t\t ---------"
      ]
     },
     "metadata": {},
     "output_type": "display_data"
    },
    {
     "data": {
      "text/plain": [
       "2024-02-23 10:41:29,110 fedbiomed INFO - \u001b[1mTRAINING\u001b[0m \n",
       "\t\t\t\t\t NODE_ID: config_mednist_2_sampled \n",
       "\t\t\t\t\t Round 1 Epoch: 5 | Iteration: 1/15 (7%) | Samples: 32/480\n",
       " \t\t\t\t\t Loss: \u001b[1m0.105942\u001b[0m \n",
       "\t\t\t\t\t ---------"
      ]
     },
     "metadata": {},
     "output_type": "display_data"
    },
    {
     "data": {
      "text/plain": [
       "2024-02-23 10:41:32,636 fedbiomed DEBUG - Node: config_mednist_2_sampled polling for the tasks"
      ]
     },
     "metadata": {},
     "output_type": "display_data"
    }
   ],
   "source": [
    "exp.training_plan().import_model('pretrained_model.pt')"
   ]
  },
  {
   "cell_type": "markdown",
   "id": "b3eee3f6",
   "metadata": {},
   "source": [
    "### I - 3. Run your experiment "
   ]
  },
  {
   "cell_type": "code",
   "execution_count": 7,
   "id": "4087e8b5-cad2-4436-9d85-6686717ba8c3",
   "metadata": {},
   "outputs": [
    {
     "data": {
      "text/plain": [
       "2024-02-23 10:45:21,880 fedbiomed INFO - Sampled nodes in round 0 []"
      ]
     },
     "metadata": {},
     "output_type": "display_data"
    },
    {
     "data": {
      "text/plain": [
       "2024-02-23 10:45:21,891 fedbiomed INFO - Nodes that successfully reply in round 0 []"
      ]
     },
     "metadata": {},
     "output_type": "display_data"
    },
    {
     "name": "stdout",
     "output_type": "stream",
     "text": [
      "\n",
      "--------------------\n",
      "Fed-BioMed researcher stopped due to exception:\n",
      "FB401: aggregation crashes or returns an error. Aggregation aborted due to sum of the weights is equal to 0 {}. Sample sizes received from nodes might be corrupted.\n",
      "--------------------\n"
     ]
    },
    {
     "ename": "FedbiomedSilentTerminationError",
     "evalue": "",
     "output_type": "error",
     "traceback": []
    },
    {
     "data": {
      "text/plain": [
       "2024-02-23 10:46:11,552 fedbiomed DEBUG - Node: config_mednist_1_sampled polling for the tasks"
      ]
     },
     "metadata": {},
     "output_type": "display_data"
    },
    {
     "data": {
      "text/plain": [
       "2024-02-23 10:46:23,974 fedbiomed DEBUG - Node: config_mednist_1_sampled polling for the tasks"
      ]
     },
     "metadata": {},
     "output_type": "display_data"
    },
    {
     "data": {
      "text/plain": [
       "2024-02-23 10:47:23,971 fedbiomed DEBUG - Node: config_mednist_1_sampled polling for the tasks"
      ]
     },
     "metadata": {},
     "output_type": "display_data"
    },
    {
     "data": {
      "text/plain": [
       "2024-02-23 10:47:30,189 fedbiomed DEBUG - Node: config_mednist_1_sampled polling for the tasks"
      ]
     },
     "metadata": {},
     "output_type": "display_data"
    },
    {
     "data": {
      "text/plain": [
       "2024-02-23 10:48:30,184 fedbiomed DEBUG - Node: config_mednist_1_sampled polling for the tasks"
      ]
     },
     "metadata": {},
     "output_type": "display_data"
    },
    {
     "data": {
      "text/plain": [
       "2024-02-23 10:48:36,625 fedbiomed DEBUG - Node: config_mednist_1_sampled polling for the tasks"
      ]
     },
     "metadata": {},
     "output_type": "display_data"
    },
    {
     "data": {
      "text/plain": [
       "2024-02-23 10:49:36,628 fedbiomed DEBUG - Node: config_mednist_1_sampled polling for the tasks"
      ]
     },
     "metadata": {},
     "output_type": "display_data"
    },
    {
     "data": {
      "text/plain": [
       "2024-02-23 10:50:36,625 fedbiomed DEBUG - Node: config_mednist_1_sampled polling for the tasks"
      ]
     },
     "metadata": {},
     "output_type": "display_data"
    },
    {
     "data": {
      "text/plain": [
       "2024-02-23 10:50:47,717 fedbiomed DEBUG - Node: config_mednist_1_sampled polling for the tasks"
      ]
     },
     "metadata": {},
     "output_type": "display_data"
    }
   ],
   "source": [
    "exp.run()"
   ]
  },
  {
   "cell_type": "markdown",
   "id": "71ecf6a7-eb26-4b9c-bc24-492c8cb030b8",
   "metadata": {},
   "source": [
    "###### For example,  At the end of training experiment, I obtained\n",
    "\n",
    "                      INFO - VALIDATION ON LOCAL UPDATES \n",
    "\t\t\t\t\t NODE_ID: NODE_41cd99c8-3571-4ab3-958e-6357ce31e91b \n",
    "\t\t\t\t\t Round 2 | Iteration: 1/1 (100%) | Samples: 100/100\n",
    " \t\t\t\t\t ACCURACY: 0.980000\n",
    "\t\t\t\t\t -\n",
    "\n",
    "As you can see, Accuracy has been increased in comparison to the first `Expermient`   "
   ]
  },
  {
   "cell_type": "markdown",
   "id": "3600b2ce",
   "metadata": {},
   "source": [
    "### I - 4. Save your model \n",
    "You could save your model to later use it in a new TrainingPlan \n",
    "This save allows to import the model including your layers's modification and weights values."
   ]
  },
  {
   "cell_type": "code",
   "execution_count": null,
   "id": "244b54a8-43a0-4009-8e3e-07e62fec2e4b",
   "metadata": {},
   "outputs": [],
   "source": [
    "#save the model \n",
    "exp.training_plan().export_model('./training_plan1_densenet_MedNIST')"
   ]
  },
  {
   "cell_type": "markdown",
   "id": "5263f76b",
   "metadata": {},
   "source": [
    "### I - 5. Results in tensorboard "
   ]
  },
  {
   "cell_type": "code",
   "execution_count": null,
   "id": "326ace09-7f4d-40fd-8646-c3f4cb67042b",
   "metadata": {},
   "outputs": [],
   "source": [
    "from fedbiomed.researcher.environ import environ\n",
    "tensorboard_dir = environ['TENSORBOARD_RESULTS_DIR']"
   ]
  },
  {
   "cell_type": "code",
   "execution_count": null,
   "id": "31041e7e-728d-4b18-a5d7-58f405bd1c14",
   "metadata": {},
   "outputs": [],
   "source": [
    "%load_ext tensorboard"
   ]
  },
  {
   "cell_type": "code",
   "execution_count": null,
   "id": "8c8bdb39-287e-4cc4-973d-1dfb30838aef",
   "metadata": {},
   "outputs": [],
   "source": [
    "%tensorboard --logdir \"$tensorboard_dir\""
   ]
  },
  {
   "cell_type": "markdown",
   "id": "07027428-86f9-4f0f-87da-b8b97da6838e",
   "metadata": {},
   "source": [
    "## II - Partial fine-tuning: Use pretrained DenseNet and train specific layers with your data\n",
    "You can set the second dataset with more images to run the second experiment that uses training steps. \n",
    "\n",
    "In this example, we run a second experiment with 1500 images (from both nodes).\n",
    "The dataset is defined below, after TrainingPlan as previously shown.\n",
    "\n",
    "You could also import the model you saved to perform your second TrainingPlan experiment (let's see below)\n",
    "\n"
   ]
  },
  {
   "cell_type": "code",
   "execution_count": null,
   "id": "1c1a2f8a",
   "metadata": {},
   "outputs": [],
   "source": [
    "from fedbiomed.researcher.requests import Requests\n",
    "req  = Requests()\n",
    "req.list()"
   ]
  },
  {
   "cell_type": "markdown",
   "id": "d33207b0-6d38-4cb6-a1ed-7ea18e55b1ea",
   "metadata": {},
   "source": [
    "Here I freeze 3 layers since we have a bigger dataset than in the first part"
   ]
  },
  {
   "cell_type": "code",
   "execution_count": null,
   "id": "9a62ced6-f7e6-406f-8dfe-77e620aa3018",
   "metadata": {},
   "outputs": [],
   "source": [
    "from fedbiomed.common.training_plans import TorchTrainingPlan\n",
    "class MyTrainingPlan2(TorchTrainingPlan):\n",
    "\n",
    "    def init_model(self, model_args):\n",
    "\n",
    "        # Load the pre-trained DenseNet model\n",
    "        model = models.densenet121(pretrained=True)\n",
    "       \n",
    "        # For example, let's freeze layers of the last dense block\n",
    "        for param in model.features[:-3].parameters():\n",
    "            param.requires_grad = False\n",
    "\n",
    "        # add the classifier \n",
    "        num_ftrs = model.classifier.in_features\n",
    "        num_classes = model_args['num_classes'] \n",
    "        model.classifier = nn.Sequential(\n",
    "            nn.Linear(num_ftrs, 512),\n",
    "            nn.ReLU(inplace=True),\n",
    "            nn.Linear(512, num_classes)       \n",
    "            )\n",
    "        \n",
    "        return model\n",
    "\n",
    "    def init_dependencies(self):\n",
    "        return [\n",
    "            \"from torchvision import datasets, transforms, models\",\n",
    "            \"import torch.optim as optim\"\n",
    "        ]\n",
    "\n",
    "\n",
    "    def init_optimizer(self, optimizer_args):        \n",
    "        return optim.Adam(self.model().parameters(), lr=optimizer_args[\"lr\"])\n",
    "\n",
    "    def training_data(self):\n",
    "        \n",
    "        # Custom torch Dataloader for MedNIST data and transform images and perform data augmentation \n",
    "       \n",
    "        preprocess = transforms.Compose([\n",
    "                transforms.Resize((224,224)),  \n",
    "                #transforms.RandomHorizontalFlip(p=0.5),\n",
    "                #transforms.RandomVerticalFlip(p=0.5),\n",
    "                #transforms.RandomRotation(30),\n",
    "                #transforms.RandomResizedCrop(224, scale=(0.8, 1.0)),\n",
    "                transforms.ToTensor(),\n",
    "                transforms.Normalize(mean = [0.485, 0.456, 0.406], std = [0.229, 0.224, 0.225])\n",
    "           ])\n",
    "        train_data = datasets.ImageFolder(self.dataset_path,transform = preprocess)\n",
    "        train_kwargs = { 'shuffle': True}\n",
    "        return DataManager(dataset=train_data, **train_kwargs)\n",
    "\n",
    "\n",
    "\n",
    "    def training_step(self, data, target):\n",
    "        output = self.model().forward(data)\n",
    "        loss_func = nn.CrossEntropyLoss()\n",
    "        loss   = loss_func(output, target)\n",
    "        return loss\n",
    "\n",
    "\n"
   ]
  },
  {
   "cell_type": "code",
   "execution_count": null,
   "id": "620f3099-b6e6-4395-b9ea-ad2b728d0370",
   "metadata": {},
   "outputs": [],
   "source": [
    "from fedbiomed.researcher.experiment import Experiment\n",
    "from fedbiomed.researcher.aggregators.fedavg import FedAverage\n",
    "\n",
    "training_args = {\n",
    "    'loader_args': { 'batch_size': 32, }, \n",
    "    'optimizer_args': {'lr': 1e-4}, # You could decrease the learning rate\n",
    "    'epochs': 5, # you can increase the epoch's number =10\n",
    "    'dry_run': False,  \n",
    "    'batch_maxnum': 100 # Fast pass for development : only use ( batch_maxnum * batch_size ) samples\n",
    "}\n",
    "model_args={\n",
    "    'num_classes': 6\n",
    "}\n",
    "tags =  ['#MEDNIST', '#dataset']\n",
    "rounds = 2  # you can increase the rounds's number \n",
    "\n",
    "exp = Experiment(tags=tags,\n",
    "                 training_plan_class=MyTrainingPlan2,\n",
    "                 model_args=model_args,\n",
    "                 training_args=training_args,\n",
    "                 round_limit=rounds,\n",
    "                 aggregator=FedAverage())\n",
    "\n",
    "from fedbiomed.common.metrics import MetricTypes\n",
    "exp.set_test_ratio(.1)\n",
    "exp.set_test_on_local_updates(True)\n",
    "exp.set_test_metric(MetricTypes.ACCURACY)\n",
    "\n",
    "exp.set_tensorboard(True)\n",
    "    "
   ]
  },
  {
   "cell_type": "markdown",
   "id": "bb58d926",
   "metadata": {},
   "source": [
    "### II - 1. (Optional) Import a \"custom model\" or continue with the original DenseNet model of the TrainingPlan "
   ]
  },
  {
   "cell_type": "code",
   "execution_count": null,
   "id": "25160054",
   "metadata": {},
   "outputs": [],
   "source": [
    "exp.training_plan().import_model('./training_plan1_densenet_MedNIST') "
   ]
  },
  {
   "cell_type": "markdown",
   "id": "3829e80f",
   "metadata": {},
   "source": [
    "### II - 2. Run your experiment "
   ]
  },
  {
   "cell_type": "code",
   "execution_count": null,
   "id": "35d3e1a9-b0c8-4bbc-b397-0d0b6b14ab55",
   "metadata": {},
   "outputs": [],
   "source": [
    "exp.run()"
   ]
  },
  {
   "cell_type": "markdown",
   "id": "0aaec824-4a01-4c29-b9d9-f4543c8d56ff",
   "metadata": {},
   "source": [
    "For example,  At the end of training experiment, I obtained\n",
    "\n",
    "                    fedbiomed INFO - VALIDATION ON LOCAL UPDATES \n",
    "\t\t\t\t\t NODE_ID: NODE_7842724a-cafa-49cc-862d-149288bbbb22 \n",
    "\t\t\t\t\t Round 1 | Iteration: 1/1 (100%) | Samples: 100/100\n",
    " \t\t\t\t\t ACCURACY: 1.00000\n",
    "\t\t\t\t\t ---------"
   ]
  },
  {
   "cell_type": "code",
   "execution_count": null,
   "id": "c394f0b1-5795-479e-a544-dc07913ac17a",
   "metadata": {},
   "outputs": [],
   "source": [
    "print(\"\\nList the training rounds : \", exp.training_replies().keys())\n",
    "\n",
    "print(\"\\nList the nodes for the last training round and their timings : \")\n",
    "round_data = exp.training_replies()[rounds - 1]\n",
    "for r in round_data.values():\n",
    "    print(\"\\t- {id} :\\\n",
    "    \\n\\t\\trtime_training={rtraining:.2f} seconds\\\n",
    "    \\n\\t\\tptime_training={ptraining:.2f} seconds\\\n",
    "    \\n\\t\\trtime_total={rtotal:.2f} seconds\".format(id = r['node_id'],\n",
    "        rtraining = r['timing']['rtime_training'],\n",
    "        ptraining = r['timing']['ptime_training'],\n",
    "        rtotal = r['timing']['rtime_total']))\n",
    "print('\\n')\n"
   ]
  },
  {
   "cell_type": "markdown",
   "id": "f7f51d1b-960f-4b4b-b301-7c7ea7c68c9a",
   "metadata": {},
   "source": [
    "### II -  3. Export your model "
   ]
  },
  {
   "cell_type": "code",
   "execution_count": null,
   "id": "2c91c98f",
   "metadata": {},
   "outputs": [],
   "source": [
    "#save model \n",
    "exp.training_plan().export_model('./training_plan2_densenet_MedNIST')"
   ]
  },
  {
   "cell_type": "markdown",
   "id": "1db2acea",
   "metadata": {},
   "source": [
    "### II - 4. Display losses on Tensorboard"
   ]
  },
  {
   "cell_type": "code",
   "execution_count": null,
   "id": "6d301fa3-50e7-4aee-96d6-b85bed457fae",
   "metadata": {},
   "outputs": [],
   "source": [
    "%reload_ext tensorboard"
   ]
  },
  {
   "cell_type": "code",
   "execution_count": null,
   "id": "92b73071-f09b-4a87-a0a6-d525ce39c77a",
   "metadata": {},
   "outputs": [],
   "source": [
    "%tensorboard --logdir \"$tensorboard_dir\""
   ]
  },
  {
   "cell_type": "markdown",
   "id": "da4668ca",
   "metadata": {},
   "source": [
    "### II - 5. Save and Import your model and parameters "
   ]
  },
  {
   "cell_type": "markdown",
   "id": "39efaf44",
   "metadata": {},
   "source": [
    "You could import your first model from TrainingPlan1 instead of loading the original DenseNet.\n",
    "You could also retrieve the model's features."
   ]
  },
  {
   "cell_type": "code",
   "execution_count": null,
   "id": "a09c579d",
   "metadata": {},
   "outputs": [],
   "source": [
    "# save your model ( all layers model of te training experiment)\n",
    "remote_model = exp.training_plan().model()  \n",
    "torch.save(remote_model, './training_plan2_model')\n"
   ]
  },
  {
   "cell_type": "code",
   "execution_count": null,
   "id": "3e906de9",
   "metadata": {},
   "outputs": [],
   "source": [
    "# import your model \n",
    "model= torch.load('./training_plan2_model')\n",
    "model"
   ]
  },
  {
   "cell_type": "markdown",
   "id": "014b05c4",
   "metadata": {},
   "source": [
    "### II - 6. Save model's features, parameters "
   ]
  },
  {
   "cell_type": "code",
   "execution_count": null,
   "id": "bbbb54b9",
   "metadata": {},
   "outputs": [],
   "source": [
    "model_features = exp.training_plan().export_model('./training_plan2_model')\n",
    "model_features"
   ]
  },
  {
   "cell_type": "code",
   "execution_count": null,
   "id": "37c18ab8",
   "metadata": {},
   "outputs": [],
   "source": [
    "# import your model's layers features\n",
    "model_features_= torch.load('./training_plan2_model')\n",
    "model_features_"
   ]
  },
  {
   "cell_type": "code",
   "execution_count": null,
   "id": "f6510f7d-d612-476a-98aa-5aef2651f617",
   "metadata": {},
   "outputs": [],
   "source": [
    "# equivalent commands \n",
    "remote_model = exp.training_plan().model()\n",
    "remote_model.load_state_dict(exp.aggregated_params()[rounds - 1]['params'])"
   ]
  }
 ],
 "metadata": {
  "kernelspec": {
   "display_name": "Python 3 (ipykernel)",
   "language": "python",
   "name": "python3"
  },
  "language_info": {
   "codemirror_mode": {
    "name": "ipython",
    "version": 3
   },
   "file_extension": ".py",
   "mimetype": "text/x-python",
   "name": "python",
   "nbconvert_exporter": "python",
   "pygments_lexer": "ipython3",
   "version": "3.10.13"
  }
 },
 "nbformat": 4,
 "nbformat_minor": 5
}
