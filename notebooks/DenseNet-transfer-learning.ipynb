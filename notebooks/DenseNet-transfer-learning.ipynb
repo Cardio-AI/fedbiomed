{
 "cells": [
  {
   "cell_type": "code",
   "execution_count": 89,
   "id": "f107b5bb-d41f-46a2-b45e-cf8eacc5e26e",
   "metadata": {},
   "outputs": [
    {
     "name": "stderr",
     "output_type": "stream",
     "text": [
      "2024-01-18 17:46:47,386 fedbiomed DEBUG - Node: NODE_7842724a-cafa-49cc-862d-149288bbbb22 polling for the tasks\n",
      "2024-01-18 17:46:51,677 fedbiomed DEBUG - Node: NODE_7842724a-cafa-49cc-862d-149288bbbb22 polling for the tasks\n",
      "2024-01-18 17:47:51,669 fedbiomed DEBUG - Node: NODE_7842724a-cafa-49cc-862d-149288bbbb22 polling for the tasks\n",
      "2024-01-18 17:48:04,373 fedbiomed DEBUG - Node: NODE_7842724a-cafa-49cc-862d-149288bbbb22 polling for the tasks\n",
      "2024-01-18 17:49:04,376 fedbiomed DEBUG - Node: NODE_7842724a-cafa-49cc-862d-149288bbbb22 polling for the tasks\n",
      "2024-01-18 17:50:04,367 fedbiomed DEBUG - Node: NODE_7842724a-cafa-49cc-862d-149288bbbb22 polling for the tasks\n",
      "2024-01-18 17:50:16,258 fedbiomed DEBUG - Node: NODE_7842724a-cafa-49cc-862d-149288bbbb22 polling for the tasks\n",
      "2024-01-18 17:51:16,259 fedbiomed DEBUG - Node: NODE_7842724a-cafa-49cc-862d-149288bbbb22 polling for the tasks\n",
      "2024-01-18 17:51:31,599 fedbiomed DEBUG - Node: NODE_7842724a-cafa-49cc-862d-149288bbbb22 polling for the tasks\n",
      "2024-01-18 17:52:31,593 fedbiomed DEBUG - Node: NODE_7842724a-cafa-49cc-862d-149288bbbb22 polling for the tasks\n",
      "2024-01-18 17:52:40,276 fedbiomed DEBUG - Node: NODE_7842724a-cafa-49cc-862d-149288bbbb22 polling for the tasks\n",
      "2024-01-18 17:53:40,278 fedbiomed DEBUG - Node: NODE_7842724a-cafa-49cc-862d-149288bbbb22 polling for the tasks\n",
      "2024-01-18 17:54:40,273 fedbiomed DEBUG - Node: NODE_7842724a-cafa-49cc-862d-149288bbbb22 polling for the tasks\n",
      "2024-01-18 17:54:46,711 fedbiomed DEBUG - Node: NODE_7842724a-cafa-49cc-862d-149288bbbb22 polling for the tasks\n",
      "2024-01-18 17:55:46,711 fedbiomed DEBUG - Node: NODE_7842724a-cafa-49cc-862d-149288bbbb22 polling for the tasks\n",
      "2024-01-18 17:55:50,940 fedbiomed DEBUG - Node: NODE_7842724a-cafa-49cc-862d-149288bbbb22 polling for the tasks\n",
      "2024-01-18 17:56:50,936 fedbiomed DEBUG - Node: NODE_7842724a-cafa-49cc-862d-149288bbbb22 polling for the tasks\n",
      "2024-01-18 17:56:59,399 fedbiomed DEBUG - Node: NODE_7842724a-cafa-49cc-862d-149288bbbb22 polling for the tasks\n"
     ]
    }
   ],
   "source": [
    "#Brain tumor classification using DenseNet Transfer Learning "
   ]
  },
  {
   "cell_type": "code",
   "execution_count": 2,
   "id": "1b3ddf2a-ab28-456d-abca-30b8cba92c07",
   "metadata": {},
   "outputs": [
    {
     "name": "stdout",
     "output_type": "stream",
     "text": [
      "Collecting torch-summary\n",
      "  Downloading torch_summary-1.4.5-py3-none-any.whl (16 kB)\n",
      "Installing collected packages: torch-summary\n",
      "Successfully installed torch-summary-1.4.5\n"
     ]
    }
   ],
   "source": [
    "\n",
    "!pip install torch-summary\n"
   ]
  },
  {
   "cell_type": "code",
   "execution_count": 1,
   "id": "9a22a823-452d-454c-a856-5828cf429aec",
   "metadata": {},
   "outputs": [],
   "source": [
    "\n",
    "import numpy as np\n",
    "import pandas as pd\n",
    "import matplotlib.pyplot as plt\n",
    "import seaborn as sns; sns.set(style='darkgrid')\n",
    "import os # A module that provides a way to interact with the operating system, allowing for tasks such as file and directory manipulation.\n",
    "import torch\n",
    "from PIL import Image # A module from the Python Imaging Library (PIL) that provides functionality for opening, manipulating, and saving various image file formats.\n",
    "from torch.utils.data import Dataset # A PyTorch class that represents a dataset and provides an interface for accessing and processing the data during training.\n",
    "import torchvision\n",
    "from torchvision import datasets, transforms, models\n",
    "import torchvision.transforms as transforms # A module from the torchvision library that provides common image transformations, such as resizing, cropping, and normalization.\n",
    "from torch.utils.data import random_split # A function from PyTorch that allows for randomly splitting a dataset into training and validation subsets.\n",
    "#from torch.optim.lr_scheduler import ReduceLROnPlateau # A PyTorch scheduler that adjusts the learning rate during training based on a specified metric, reducing it when the metric plateaus.\n",
    "import torch.nn as nn # A module in PyTorch that provides classes for defining and building neural networks.\n",
    "from torchvision import utils # A module from torchvision that contains utility functions for working with images, such as saving and visualizing them.\n",
    "from torch.utils.data import Dataset\n",
    "from PIL import Image\n",
    "from torch.utils.data import DataLoader\n",
    "from torchvision.datasets import ImageFolder\n",
    "import torch.optim as optim\n",
    "#import splitfolders\n",
    "from torchsummary import summary\n",
    "#import torch.nn.functional as F\n",
    "import pathlib\n",
    "from sklearn.metrics import confusion_matrix, classification_report\n",
    "import itertools # This import statement imports the itertools module, which provides functions for efficient looping and combining of iterables. It can be used for tasks such as generating combinations or permutations of elements.\n",
    "from tqdm.notebook import trange, tqdm # These functions allow for the creation of progress bars to track the progress of loops or tasks.\n",
    "from torch import optim\n",
    "import warnings\n",
    "warnings.filterwarnings('ignore')"
   ]
  },
  {
   "cell_type": "code",
   "execution_count": 2,
   "id": "31caee0b-c716-4a4d-95b4-426ae4b01fa4",
   "metadata": {},
   "outputs": [
    {
     "name": "stdout",
     "output_type": "stream",
     "text": [
      "|    | image           | class   | format   | mode   | shape         |\n",
      "|---:|:----------------|:--------|:---------|:-------|:--------------|\n",
      "|  0 | Cancer (1).jpg  | tumor   | JPEG     | RGB    | (512, 512, 3) |\n",
      "|  1 | Cancer (1).png  | tumor   | PNG      | L      | (300, 240)    |\n",
      "|  2 | Cancer (1).tif  | tumor   | TIFF     | RGB    | (256, 256, 3) |\n",
      "|  3 | Cancer (10).jpg | tumor   | JPEG     | RGB    | (512, 512, 3) |\n",
      "|  4 | Cancer (10).tif | tumor   | TIFF     | RGB    | (256, 256, 3) |\n"
     ]
    }
   ],
   "source": [
    "labels_df = pd.read_csv(\"/user/ebirgy/home/Downloads/Brain_Tumor_IRM/metadata.csv\") # paths needs to be completed \n",
    "labels_df.drop(columns=['Unnamed: 0'], inplace=True)\n",
    "print(labels_df.head().to_markdown())"
   ]
  },
  {
   "cell_type": "code",
   "execution_count": 3,
   "id": "56f2d2ba-6384-4e9d-b977-9f85208a2a18",
   "metadata": {},
   "outputs": [
    {
     "data": {
      "image/png": "[encoded data removed]",
      "text/plain": [
       "<Figure size 640x480 with 1 Axes>"
      ]
     },
     "metadata": {},
     "output_type": "display_data"
    }
   ],
   "source": [
    "labels_df[\"class\"].value_counts().plot(kind='bar')\n",
    "plt.title('Labels counts')\n",
    "plt.xlabel('Label')\n",
    "plt.ylabel('Count')\n",
    "plt.show()"
   ]
  },
  {
   "cell_type": "code",
   "execution_count": 4,
   "id": "f7a123c5-ef5a-40e4-a2eb-4e6eb7082d41",
   "metadata": {},
   "outputs": [],
   "source": [
    "# Encoding des categories : création d'un dictionnaire\n",
    "label={'tumor': \"1\", 'normal': \"0\"}"
   ]
  },
  {
   "cell_type": "code",
   "execution_count": 5,
   "id": "57ec49ce-d836-4de6-9f2f-571ed72362a5",
   "metadata": {},
   "outputs": [],
   "source": [
    "dict_label=dict(label)\n",
    "labels_df[\"label\"]=labels_df['class'].map(dict_label)"
   ]
  },
  {
   "cell_type": "code",
   "execution_count": 49,
   "id": "cc504559-c1a2-43a3-bba3-14dbbdcc3308",
   "metadata": {},
   "outputs": [],
   "source": [
    "# Specify the path where the images are located\n",
    "path = \"/user/ebirgy/home/Downloads/Brain_Tumor_IRM/\"\n",
    "# Add a new column 'full_path' to the DataFrame\n",
    "labels_df['path_images'] = path + labels_df['image']\n"
   ]
  },
  {
   "cell_type": "code",
   "execution_count": 50,
   "id": "7feec6df-cafe-4ccc-838f-3bf92b4c9411",
   "metadata": {},
   "outputs": [
    {
     "data": {
      "text/html": [
       "<div>\n",
       "<style scoped>\n",
       "    .dataframe tbody tr th:only-of-type {\n",
       "        vertical-align: middle;\n",
       "    }\n",
       "\n",
       "    .dataframe tbody tr th {\n",
       "        vertical-align: top;\n",
       "    }\n",
       "\n",
       "    .dataframe thead th {\n",
       "        text-align: right;\n",
       "    }\n",
       "</style>\n",
       "<table border=\"1\" class=\"dataframe\">\n",
       "  <thead>\n",
       "    <tr style=\"text-align: right;\">\n",
       "      <th></th>\n",
       "      <th>image</th>\n",
       "      <th>class</th>\n",
       "      <th>format</th>\n",
       "      <th>mode</th>\n",
       "      <th>shape</th>\n",
       "      <th>label</th>\n",
       "      <th>path_images</th>\n",
       "    </tr>\n",
       "  </thead>\n",
       "  <tbody>\n",
       "    <tr>\n",
       "      <th>0</th>\n",
       "      <td>Cancer (1).jpg</td>\n",
       "      <td>tumor</td>\n",
       "      <td>JPEG</td>\n",
       "      <td>RGB</td>\n",
       "      <td>(512, 512, 3)</td>\n",
       "      <td>1</td>\n",
       "      <td>/user/ebirgy/home/Downloads/Brain_Tumor_IRM/Ca...</td>\n",
       "    </tr>\n",
       "    <tr>\n",
       "      <th>1</th>\n",
       "      <td>Cancer (1).png</td>\n",
       "      <td>tumor</td>\n",
       "      <td>PNG</td>\n",
       "      <td>L</td>\n",
       "      <td>(300, 240)</td>\n",
       "      <td>1</td>\n",
       "      <td>/user/ebirgy/home/Downloads/Brain_Tumor_IRM/Ca...</td>\n",
       "    </tr>\n",
       "    <tr>\n",
       "      <th>2</th>\n",
       "      <td>Cancer (1).tif</td>\n",
       "      <td>tumor</td>\n",
       "      <td>TIFF</td>\n",
       "      <td>RGB</td>\n",
       "      <td>(256, 256, 3)</td>\n",
       "      <td>1</td>\n",
       "      <td>/user/ebirgy/home/Downloads/Brain_Tumor_IRM/Ca...</td>\n",
       "    </tr>\n",
       "    <tr>\n",
       "      <th>3</th>\n",
       "      <td>Cancer (10).jpg</td>\n",
       "      <td>tumor</td>\n",
       "      <td>JPEG</td>\n",
       "      <td>RGB</td>\n",
       "      <td>(512, 512, 3)</td>\n",
       "      <td>1</td>\n",
       "      <td>/user/ebirgy/home/Downloads/Brain_Tumor_IRM/Ca...</td>\n",
       "    </tr>\n",
       "    <tr>\n",
       "      <th>4</th>\n",
       "      <td>Cancer (10).tif</td>\n",
       "      <td>tumor</td>\n",
       "      <td>TIFF</td>\n",
       "      <td>RGB</td>\n",
       "      <td>(256, 256, 3)</td>\n",
       "      <td>1</td>\n",
       "      <td>/user/ebirgy/home/Downloads/Brain_Tumor_IRM/Ca...</td>\n",
       "    </tr>\n",
       "  </tbody>\n",
       "</table>\n",
       "</div>"
      ],
      "text/plain": [
       "             image  class format mode          shape label  \\\n",
       "0   Cancer (1).jpg  tumor   JPEG  RGB  (512, 512, 3)     1   \n",
       "1   Cancer (1).png  tumor    PNG    L     (300, 240)     1   \n",
       "2   Cancer (1).tif  tumor   TIFF  RGB  (256, 256, 3)     1   \n",
       "3  Cancer (10).jpg  tumor   JPEG  RGB  (512, 512, 3)     1   \n",
       "4  Cancer (10).tif  tumor   TIFF  RGB  (256, 256, 3)     1   \n",
       "\n",
       "                                         path_images  \n",
       "0  /user/ebirgy/home/Downloads/Brain_Tumor_IRM/Ca...  \n",
       "1  /user/ebirgy/home/Downloads/Brain_Tumor_IRM/Ca...  \n",
       "2  /user/ebirgy/home/Downloads/Brain_Tumor_IRM/Ca...  \n",
       "3  /user/ebirgy/home/Downloads/Brain_Tumor_IRM/Ca...  \n",
       "4  /user/ebirgy/home/Downloads/Brain_Tumor_IRM/Ca...  "
      ]
     },
     "execution_count": 50,
     "metadata": {},
     "output_type": "execute_result"
    }
   ],
   "source": [
    "labels_df.head()"
   ]
  },
  {
   "cell_type": "code",
   "execution_count": 51,
   "id": "ebb74cc7-df71-41fc-a260-180909ca722a",
   "metadata": {},
   "outputs": [],
   "source": [
    "dataset=labels_df[['path_images', 'label', 'image']]\n",
    "dataset['label']=dataset['label'].astype('int')"
   ]
  },
  {
   "cell_type": "code",
   "execution_count": 52,
   "id": "3ba8c880-060b-4c1f-9e45-89197814215d",
   "metadata": {},
   "outputs": [
    {
     "data": {
      "text/html": [
       "<div>\n",
       "<style scoped>\n",
       "    .dataframe tbody tr th:only-of-type {\n",
       "        vertical-align: middle;\n",
       "    }\n",
       "\n",
       "    .dataframe tbody tr th {\n",
       "        vertical-align: top;\n",
       "    }\n",
       "\n",
       "    .dataframe thead th {\n",
       "        text-align: right;\n",
       "    }\n",
       "</style>\n",
       "<table border=\"1\" class=\"dataframe\">\n",
       "  <thead>\n",
       "    <tr style=\"text-align: right;\">\n",
       "      <th></th>\n",
       "      <th>path_images</th>\n",
       "      <th>label</th>\n",
       "      <th>image</th>\n",
       "    </tr>\n",
       "  </thead>\n",
       "  <tbody>\n",
       "    <tr>\n",
       "      <th>0</th>\n",
       "      <td>/user/ebirgy/home/Downloads/Brain_Tumor_IRM/Ca...</td>\n",
       "      <td>1</td>\n",
       "      <td>Cancer (1).jpg</td>\n",
       "    </tr>\n",
       "    <tr>\n",
       "      <th>1</th>\n",
       "      <td>/user/ebirgy/home/Downloads/Brain_Tumor_IRM/Ca...</td>\n",
       "      <td>1</td>\n",
       "      <td>Cancer (1).png</td>\n",
       "    </tr>\n",
       "    <tr>\n",
       "      <th>2</th>\n",
       "      <td>/user/ebirgy/home/Downloads/Brain_Tumor_IRM/Ca...</td>\n",
       "      <td>1</td>\n",
       "      <td>Cancer (1).tif</td>\n",
       "    </tr>\n",
       "    <tr>\n",
       "      <th>3</th>\n",
       "      <td>/user/ebirgy/home/Downloads/Brain_Tumor_IRM/Ca...</td>\n",
       "      <td>1</td>\n",
       "      <td>Cancer (10).jpg</td>\n",
       "    </tr>\n",
       "    <tr>\n",
       "      <th>4</th>\n",
       "      <td>/user/ebirgy/home/Downloads/Brain_Tumor_IRM/Ca...</td>\n",
       "      <td>1</td>\n",
       "      <td>Cancer (10).tif</td>\n",
       "    </tr>\n",
       "  </tbody>\n",
       "</table>\n",
       "</div>"
      ],
      "text/plain": [
       "                                         path_images  label            image\n",
       "0  /user/ebirgy/home/Downloads/Brain_Tumor_IRM/Ca...      1   Cancer (1).jpg\n",
       "1  /user/ebirgy/home/Downloads/Brain_Tumor_IRM/Ca...      1   Cancer (1).png\n",
       "2  /user/ebirgy/home/Downloads/Brain_Tumor_IRM/Ca...      1   Cancer (1).tif\n",
       "3  /user/ebirgy/home/Downloads/Brain_Tumor_IRM/Ca...      1  Cancer (10).jpg\n",
       "4  /user/ebirgy/home/Downloads/Brain_Tumor_IRM/Ca...      1  Cancer (10).tif"
      ]
     },
     "execution_count": 52,
     "metadata": {},
     "output_type": "execute_result"
    }
   ],
   "source": [
    "dataset.head()"
   ]
  },
  {
   "cell_type": "code",
   "execution_count": 53,
   "id": "e26316ca-adb3-493a-8904-faac235cfb20",
   "metadata": {},
   "outputs": [],
   "source": [
    "dataset.to_csv(\"../cancer_labels.csv\")\n",
    "df = pd.read_csv(\"../cancer_labels.csv\", index_col=0)"
   ]
  },
  {
   "cell_type": "code",
   "execution_count": 54,
   "id": "ef641434-e45f-419d-8875-44b85d0c86f2",
   "metadata": {},
   "outputs": [
    {
     "data": {
      "text/plain": [
       "'/user/ebirgy/home/Downloads/Brain_Tumor_IRM/Cancer (1).jpg'"
      ]
     },
     "execution_count": 54,
     "metadata": {},
     "output_type": "execute_result"
    },
    {
     "name": "stderr",
     "output_type": "stream",
     "text": [
      "2024-01-18 16:07:44,442 fedbiomed WARNING - Node NODE_7842724a-cafa-49cc-862d-149288bbbb22 is disconnected. Request/task that are created for this node will be flushed\n",
      "2024-01-18 16:08:32,498 fedbiomed DEBUG - Node: NODE_7842724a-cafa-49cc-862d-149288bbbb22 polling for the tasks\n",
      "2024-01-18 16:08:32,498 fedbiomed INFO - Node NODE_7842724a-cafa-49cc-862d-149288bbbb22 is back online!\n"
     ]
    }
   ],
   "source": [
    "df.iloc[0, 0]"
   ]
  },
  {
   "cell_type": "code",
   "execution_count": null,
   "id": "41e0d32e-b660-4033-9758-77b9cecaa1ec",
   "metadata": {},
   "outputs": [],
   "source": [
    "# At the end , to evaluate the model "
   ]
  },
  {
   "cell_type": "code",
   "execution_count": null,
   "id": "5dc5d15e-816b-4b0e-81b4-623dac76c40a",
   "metadata": {},
   "outputs": [],
   "source": [
    "# Plot the convergence curve \n",
    "plt.figure(figsize=(10, 5))\n",
    "plt.plot(range(1, num_epochs + 1), train_losses, label='Training Loss')\n",
    "plt.plot(range(1, num_epochs + 1), valid_losses, label='Validation Loss')\n",
    "plt.xlabel('Epochs')\n",
    "plt.ylabel('Loss')\n",
    "plt.title('Training and Validation Loss')\n",
    "plt.legend()\n",
    "plt.show()\n",
    "\n",
    "plt.figure(figsize=(10, 5))\n",
    "plt.plot(range(1, num_epochs + 1), valid_accuracies, label='Validation Accuracy')\n",
    "plt.xlabel('Epochs')\n",
    "plt.ylabel('Accuracy')\n",
    "plt.title('Validation Accuracy')\n",
    "plt.legend()\n",
    "plt.show()"
   ]
  },
  {
   "cell_type": "code",
   "execution_count": null,
   "id": "4610fa41-6d9d-426e-8d39-c9dabc0aae00",
   "metadata": {},
   "outputs": [],
   "source": [
    "# Calculate confusion matrix\n",
    "conf_matrix = confusion_matrix(true_labels, predicted_labels)\n",
    "\n",
    "# Plot the confusion matrix\n",
    "class_labels = [\"Tumor\", \"No Tumor\"]\n",
    "plt.figure(figsize=(8, 6))\n",
    "sns.heatmap(conf_matrix, annot=True, fmt=\"d\", cmap=\"Blues\", xticklabels=class_labels, yticklabels=class_labels)\n",
    "plt.title('Confusion Matrix')\n",
    "plt.xlabel('Predicted Label')\n",
    "plt.ylabel('True Label')\n",
    "plt.show()"
   ]
  },
  {
   "cell_type": "code",
   "execution_count": null,
   "id": "7a49c768-6b39-4991-b4f8-584fa6ef2138",
   "metadata": {},
   "outputs": [],
   "source": [
    "# comments "
   ]
  },
  {
   "cell_type": "code",
   "execution_count": null,
   "id": "67169bca-4d05-4746-8eee-603c0fffeec7",
   "metadata": {},
   "outputs": [],
   "source": []
  },
  {
   "cell_type": "code",
   "execution_count": 22,
   "id": "ac41ea09-48d4-4408-ad50-5f3670a94771",
   "metadata": {},
   "outputs": [
    {
     "name": "stderr",
     "output_type": "stream",
     "text": [
      "2024-01-18 15:56:35,458 fedbiomed INFO - Starting researcher service...\n",
      "2024-01-18 15:56:35,459 fedbiomed INFO - Waiting 3s for nodes to connect...\n",
      "2024-01-18 15:56:37,492 fedbiomed DEBUG - Node: NODE_7842724a-cafa-49cc-862d-149288bbbb22 polling for the tasks\n",
      "2024-01-18 15:56:38,472 fedbiomed DEBUG - Node: NODE_7842724a-cafa-49cc-862d-149288bbbb22 polling for the tasks\n"
     ]
    },
    {
     "data": {
      "text/plain": [
       "{'NODE_7842724a-cafa-49cc-862d-149288bbbb22': [{'name': 'cancel-labels',\n",
       "   'data_type': 'csv',\n",
       "   'tags': ['cancer'],\n",
       "   'description': 'This CSV dataset keeps the information about where brain images are saved',\n",
       "   'shape': [4600, 4],\n",
       "   'dataset_id': 'dataset_870df87c-a9ab-44ae-957a-d440bdc1c2f0',\n",
       "   'dataset_parameters': None}]}"
      ]
     },
     "execution_count": 22,
     "metadata": {},
     "output_type": "execute_result"
    },
    {
     "name": "stderr",
     "output_type": "stream",
     "text": [
      "2024-01-18 15:57:38,477 fedbiomed DEBUG - Node: NODE_7842724a-cafa-49cc-862d-149288bbbb22 polling for the tasks\n",
      "2024-01-18 15:57:48,181 fedbiomed DEBUG - Node: NODE_7842724a-cafa-49cc-862d-149288bbbb22 polling for the tasks\n"
     ]
    }
   ],
   "source": [
    "from fedbiomed.researcher.requests import Requests\n",
    "req  = Requests()\n",
    "req.list()"
   ]
  },
  {
   "cell_type": "code",
   "execution_count": 72,
   "id": "ef0730fe-fafa-4863-a919-b3488e332879",
   "metadata": {},
   "outputs": [],
   "source": [
    "from fedbiomed.common.training_plans import TorchTrainingPlan \n",
    "from fedbiomed.common.data import DataManager\n",
    "from torch.utils.data import Dataset\n",
    "\n",
    "\n",
    "class MyTrainingPlan(TorchTrainingPlan):\n",
    "\n",
    "    def init_model(self, model_args):\n",
    "        model = models.densenet121(pretrained=True) # # Training of the entire model with your dataset ( a tester !!!)\n",
    "        return model\n",
    "\n",
    "    def init_dependencies(self):\n",
    "        return [\n",
    "            \"import pandas as pd\",\n",
    "            \"from PIL import Image\",\n",
    "            \"from torchvision import datasets, transforms, models\",\n",
    "            \"from torch.utils.data import Dataset\",\n",
    "            \"import torch.optim as optim\"\n",
    "        ]\n",
    "\n",
    "\n",
    "    def init_optimizer(self, optimizer_args):        \n",
    "        return optim.Adam(self.model().parameters(), lr=optimizer_args[\"lr\"])\n",
    "\n",
    "    # training data\n",
    "    class CustomDatasetFedBioMed(Dataset):\n",
    "        def __init__(self, dataset_path: str, transform=None):\n",
    "            self.dataframe = pd.read_csv(dataset_path, index_col=0)\n",
    "            \n",
    "            self.transform = transforms.Compose([\n",
    "                transforms.Resize((224,224)),  \n",
    "                transforms.RandomHorizontalFlip(p=0.5),\n",
    "                transforms.RandomVerticalFlip(p=0.5),\n",
    "                transforms.RandomRotation(30),\n",
    "                transforms.RandomResizedCrop(224, scale=(0.8, 1.0)),\n",
    "                transforms.ToTensor(),\n",
    "                transforms.Normalize(mean = [0.485, 0.456, 0.406], std = [0.229, 0.224, 0.225])\n",
    "           ])\n",
    "    \n",
    "        def __len__(self):\n",
    "            return len(self.dataframe)\n",
    "    \n",
    "        def __getitem__(self, idx):\n",
    "            \n",
    "            img_path = self.dataframe.iloc[idx, 0]  # the file path is in the first column\n",
    "            print(img_path)\n",
    "            image = Image.open(img_path).convert(\"RGB\")\n",
    "    \n",
    "            label = self.dataframe.iloc[idx, 1]  # the class label is in the second column\n",
    "    \n",
    "            if self.transform:\n",
    "                image = self.transform(image)\n",
    "    \n",
    "            label = torch.tensor(label, dtype=torch.long)  # if it returns a tuple instead of a tensor\n",
    "    \n",
    "            return image, label \n",
    "\n",
    "    def training_data(self):\n",
    "        dataset = self.CustomDatasetFedBioMed(self.dataset_path)\n",
    "        return DataManager(dataset)\n",
    "\n",
    "    def training_step(self, data, target):\n",
    "        output = self.model().forward(data)\n",
    "        loss_func = nn.CrossEntropyLoss()\n",
    "        loss   = loss_func(output, target)\n",
    "        return loss\n",
    "\n",
    "\n"
   ]
  },
  {
   "cell_type": "code",
   "execution_count": 73,
   "id": "7ebd4b67-175d-4b1c-bd81-63332f06a721",
   "metadata": {},
   "outputs": [],
   "source": [
    "training_args = {\n",
    "    'loader_args': { 'batch_size': 32, }, \n",
    "    'optimizer_args': {'lr': 1e-4}, \n",
    "    'epochs': 1, \n",
    "    'dry_run': False,  \n",
    "    'batch_maxnum': 100 # Fast pass for development : only use ( batch_maxnum * batch_size ) samples\n",
    "}\n"
   ]
  },
  {
   "cell_type": "code",
   "execution_count": 74,
   "id": "038490bb-1ac2-4932-ad4c-de9475761c0e",
   "metadata": {},
   "outputs": [
    {
     "name": "stderr",
     "output_type": "stream",
     "text": [
      "2024-01-18 16:49:20,108 fedbiomed DEBUG - Node: NODE_7842724a-cafa-49cc-862d-149288bbbb22 polling for the tasks\n",
      "2024-01-18 16:49:20,110 fedbiomed INFO - Node selected for training -> NODE_7842724a-cafa-49cc-862d-149288bbbb22\n",
      "2024-01-18 16:49:20,114 fedbiomed DEBUG - Model file has been saved: /home/ebirgy/development/fedbiomed_github/fedbiomed/var/experiments/Experiment_0010/model_2f0f4c52-3f66-41bc-acdf-ea0eddb06f09.py\n",
      "2024-01-18 16:49:20,265 fedbiomed DEBUG - using native torch optimizer\n"
     ]
    }
   ],
   "source": [
    "from fedbiomed.researcher.experiment import Experiment\n",
    "from fedbiomed.researcher.aggregators.fedavg import FedAverage\n",
    "\n",
    "tags =  ['cancer']\n",
    "rounds = 1\n",
    "\n",
    "exp = Experiment(tags=tags,\n",
    "                 training_plan_class=MyTrainingPlan,\n",
    "                 #model_args=model_args,\n",
    "                 training_args=training_args,\n",
    "                 round_limit=rounds,\n",
    "                 aggregator=FedAverage())"
   ]
  },
  {
   "cell_type": "code",
   "execution_count": 75,
   "id": "3df7a6d6-2632-4bf2-b1c1-b74e99182acf",
   "metadata": {},
   "outputs": [
    {
     "name": "stderr",
     "output_type": "stream",
     "text": [
      "2024-01-18 16:49:21,534 fedbiomed INFO - Sampled nodes in round 0 ['NODE_7842724a-cafa-49cc-862d-149288bbbb22']\n",
      "2024-01-18 16:49:21,546 fedbiomed INFO - \u001b[1mSending request\u001b[0m \n",
      "\t\t\t\t\t\u001b[1m To\u001b[0m: NODE_7842724a-cafa-49cc-862d-149288bbbb22 \n",
      "\t\t\t\t\t\u001b[1m Request: \u001b[0m: TRAIN\n",
      " -----------------------------------------------------------------\n",
      "2024-01-18 16:49:21,728 fedbiomed DEBUG - Node: NODE_7842724a-cafa-49cc-862d-149288bbbb22 polling for the tasks\n",
      "2024-01-18 16:49:25,900 fedbiomed INFO - \u001b[1mTRAINING\u001b[0m \n",
      "\t\t\t\t\t NODE_ID: NODE_7842724a-cafa-49cc-862d-149288bbbb22 \n",
      "\t\t\t\t\t Round 1 Epoch: 1 | Iteration: 1/100 (1%) | Samples: 32/3200\n",
      " \t\t\t\t\t Loss: \u001b[1m9.643567\u001b[0m \n",
      "\t\t\t\t\t ---------\n",
      "2024-01-18 16:50:02,862 fedbiomed INFO - \u001b[1mTRAINING\u001b[0m \n",
      "\t\t\t\t\t NODE_ID: NODE_7842724a-cafa-49cc-862d-149288bbbb22 \n",
      "\t\t\t\t\t Round 1 Epoch: 1 | Iteration: 10/100 (10%) | Samples: 320/3200\n",
      " \t\t\t\t\t Loss: \u001b[1m5.568246\u001b[0m \n",
      "\t\t\t\t\t ---------\n",
      "2024-01-18 16:50:07,291 fedbiomed DEBUG - Node: NODE_7842724a-cafa-49cc-862d-149288bbbb22 polling for the tasks\n",
      "2024-01-18 16:50:47,149 fedbiomed INFO - \u001b[1mTRAINING\u001b[0m \n",
      "\t\t\t\t\t NODE_ID: NODE_7842724a-cafa-49cc-862d-149288bbbb22 \n",
      "\t\t\t\t\t Round 1 Epoch: 1 | Iteration: 20/100 (20%) | Samples: 640/3200\n",
      " \t\t\t\t\t Loss: \u001b[1m3.924375\u001b[0m \n",
      "\t\t\t\t\t ---------\n",
      "2024-01-18 16:51:07,292 fedbiomed DEBUG - Node: NODE_7842724a-cafa-49cc-862d-149288bbbb22 polling for the tasks\n",
      "2024-01-18 16:51:12,156 fedbiomed DEBUG - Node: NODE_7842724a-cafa-49cc-862d-149288bbbb22 polling for the tasks\n",
      "2024-01-18 16:51:35,413 fedbiomed INFO - \u001b[1mTRAINING\u001b[0m \n",
      "\t\t\t\t\t NODE_ID: NODE_7842724a-cafa-49cc-862d-149288bbbb22 \n",
      "\t\t\t\t\t Round 1 Epoch: 1 | Iteration: 30/100 (30%) | Samples: 960/3200\n",
      " \t\t\t\t\t Loss: \u001b[1m1.603951\u001b[0m \n",
      "\t\t\t\t\t ---------\n",
      "2024-01-18 16:52:12,149 fedbiomed DEBUG - Node: NODE_7842724a-cafa-49cc-862d-149288bbbb22 polling for the tasks\n",
      "2024-01-18 16:52:19,333 fedbiomed DEBUG - Node: NODE_7842724a-cafa-49cc-862d-149288bbbb22 polling for the tasks\n",
      "2024-01-18 16:52:23,201 fedbiomed INFO - \u001b[1mTRAINING\u001b[0m \n",
      "\t\t\t\t\t NODE_ID: NODE_7842724a-cafa-49cc-862d-149288bbbb22 \n",
      "\t\t\t\t\t Round 1 Epoch: 1 | Iteration: 40/100 (40%) | Samples: 1280/3200\n",
      " \t\t\t\t\t Loss: \u001b[1m1.869627\u001b[0m \n",
      "\t\t\t\t\t ---------\n",
      "2024-01-18 16:53:19,338 fedbiomed DEBUG - Node: NODE_7842724a-cafa-49cc-862d-149288bbbb22 polling for the tasks\n",
      "2024-01-18 16:53:21,440 fedbiomed INFO - \u001b[1mTRAINING\u001b[0m \n",
      "\t\t\t\t\t NODE_ID: NODE_7842724a-cafa-49cc-862d-149288bbbb22 \n",
      "\t\t\t\t\t Round 1 Epoch: 1 | Iteration: 50/100 (50%) | Samples: 1600/3200\n",
      " \t\t\t\t\t Loss: \u001b[1m0.137902\u001b[0m \n",
      "\t\t\t\t\t ---------\n",
      "2024-01-18 16:54:19,334 fedbiomed DEBUG - Node: NODE_7842724a-cafa-49cc-862d-149288bbbb22 polling for the tasks\n",
      "2024-01-18 16:54:32,131 fedbiomed INFO - \u001b[1mTRAINING\u001b[0m \n",
      "\t\t\t\t\t NODE_ID: NODE_7842724a-cafa-49cc-862d-149288bbbb22 \n",
      "\t\t\t\t\t Round 1 Epoch: 1 | Iteration: 60/100 (60%) | Samples: 1920/3200\n",
      " \t\t\t\t\t Loss: \u001b[1m0.510000\u001b[0m \n",
      "\t\t\t\t\t ---------\n",
      "2024-01-18 16:54:34,745 fedbiomed DEBUG - Node: NODE_7842724a-cafa-49cc-862d-149288bbbb22 polling for the tasks\n",
      "2024-01-18 16:55:29,051 fedbiomed INFO - \u001b[1mTRAINING\u001b[0m \n",
      "\t\t\t\t\t NODE_ID: NODE_7842724a-cafa-49cc-862d-149288bbbb22 \n",
      "\t\t\t\t\t Round 1 Epoch: 1 | Iteration: 70/100 (70%) | Samples: 2240/3200\n",
      " \t\t\t\t\t Loss: \u001b[1m0.070209\u001b[0m \n",
      "\t\t\t\t\t ---------\n",
      "2024-01-18 16:55:34,745 fedbiomed DEBUG - Node: NODE_7842724a-cafa-49cc-862d-149288bbbb22 polling for the tasks\n",
      "2024-01-18 16:55:46,985 fedbiomed DEBUG - Node: NODE_7842724a-cafa-49cc-862d-149288bbbb22 polling for the tasks\n",
      "2024-01-18 16:56:39,602 fedbiomed INFO - \u001b[1mTRAINING\u001b[0m \n",
      "\t\t\t\t\t NODE_ID: NODE_7842724a-cafa-49cc-862d-149288bbbb22 \n",
      "\t\t\t\t\t Round 1 Epoch: 1 | Iteration: 80/100 (80%) | Samples: 2560/3200\n",
      " \t\t\t\t\t Loss: \u001b[1m0.201141\u001b[0m \n",
      "\t\t\t\t\t ---------\n",
      "2024-01-18 16:56:46,984 fedbiomed DEBUG - Node: NODE_7842724a-cafa-49cc-862d-149288bbbb22 polling for the tasks\n",
      "2024-01-18 16:57:02,226 fedbiomed DEBUG - Node: NODE_7842724a-cafa-49cc-862d-149288bbbb22 polling for the tasks\n",
      "2024-01-18 16:57:36,132 fedbiomed INFO - \u001b[1mTRAINING\u001b[0m \n",
      "\t\t\t\t\t NODE_ID: NODE_7842724a-cafa-49cc-862d-149288bbbb22 \n",
      "\t\t\t\t\t Round 1 Epoch: 1 | Iteration: 90/100 (90%) | Samples: 2880/3200\n",
      " \t\t\t\t\t Loss: \u001b[1m0.051781\u001b[0m \n",
      "\t\t\t\t\t ---------\n",
      "2024-01-18 16:58:02,225 fedbiomed DEBUG - Node: NODE_7842724a-cafa-49cc-862d-149288bbbb22 polling for the tasks\n",
      "2024-01-18 16:58:11,204 fedbiomed DEBUG - Node: NODE_7842724a-cafa-49cc-862d-149288bbbb22 polling for the tasks\n",
      "2024-01-18 16:58:23,561 fedbiomed INFO - \u001b[1mTRAINING\u001b[0m \n",
      "\t\t\t\t\t NODE_ID: NODE_7842724a-cafa-49cc-862d-149288bbbb22 \n",
      "\t\t\t\t\t Round 1 Epoch: 1 | Iteration: 100/100 (100%) | Samples: 3200/3200\n",
      " \t\t\t\t\t Loss: \u001b[1m0.096351\u001b[0m \n",
      "\t\t\t\t\t ---------\n",
      "2024-01-18 16:58:23,808 fedbiomed INFO - Nodes that successfully reply in round 0 ['NODE_7842724a-cafa-49cc-862d-149288bbbb22']\n",
      "2024-01-18 16:58:23,944 fedbiomed INFO - Saved aggregated params for round 0 in /home/ebirgy/development/fedbiomed_github/fedbiomed/var/experiments/Experiment_0010/aggregated_params_c1652dc8-e21f-4d57-b38d-e747556e2832.mpk\n"
     ]
    },
    {
     "data": {
      "text/plain": [
       "1"
      ]
     },
     "execution_count": 75,
     "metadata": {},
     "output_type": "execute_result"
    },
    {
     "name": "stderr",
     "output_type": "stream",
     "text": [
      "2024-01-18 16:59:11,198 fedbiomed DEBUG - Node: NODE_7842724a-cafa-49cc-862d-149288bbbb22 polling for the tasks\n",
      "2024-01-18 16:59:22,163 fedbiomed DEBUG - Node: NODE_7842724a-cafa-49cc-862d-149288bbbb22 polling for the tasks\n",
      "2024-01-18 17:00:22,163 fedbiomed DEBUG - Node: NODE_7842724a-cafa-49cc-862d-149288bbbb22 polling for the tasks\n",
      "2024-01-18 17:00:28,792 fedbiomed DEBUG - Node: NODE_7842724a-cafa-49cc-862d-149288bbbb22 polling for the tasks\n",
      "2024-01-18 17:01:28,797 fedbiomed DEBUG - Node: NODE_7842724a-cafa-49cc-862d-149288bbbb22 polling for the tasks\n",
      "2024-01-18 17:02:28,796 fedbiomed DEBUG - Node: NODE_7842724a-cafa-49cc-862d-149288bbbb22 polling for the tasks\n",
      "2024-01-18 17:02:34,235 fedbiomed DEBUG - Node: NODE_7842724a-cafa-49cc-862d-149288bbbb22 polling for the tasks\n",
      "2024-01-18 17:03:34,230 fedbiomed DEBUG - Node: NODE_7842724a-cafa-49cc-862d-149288bbbb22 polling for the tasks\n",
      "2024-01-18 17:03:49,380 fedbiomed DEBUG - Node: NODE_7842724a-cafa-49cc-862d-149288bbbb22 polling for the tasks\n",
      "2024-01-18 17:04:49,374 fedbiomed DEBUG - Node: NODE_7842724a-cafa-49cc-862d-149288bbbb22 polling for the tasks\n",
      "2024-01-18 17:05:01,238 fedbiomed DEBUG - Node: NODE_7842724a-cafa-49cc-862d-149288bbbb22 polling for the tasks\n",
      "2024-01-18 17:06:01,240 fedbiomed DEBUG - Node: NODE_7842724a-cafa-49cc-862d-149288bbbb22 polling for the tasks\n",
      "2024-01-18 17:06:11,459 fedbiomed DEBUG - Node: NODE_7842724a-cafa-49cc-862d-149288bbbb22 polling for the tasks\n",
      "2024-01-18 17:07:11,455 fedbiomed DEBUG - Node: NODE_7842724a-cafa-49cc-862d-149288bbbb22 polling for the tasks\n",
      "2024-01-18 17:07:18,343 fedbiomed DEBUG - Node: NODE_7842724a-cafa-49cc-862d-149288bbbb22 polling for the tasks\n",
      "2024-01-18 17:08:18,350 fedbiomed DEBUG - Node: NODE_7842724a-cafa-49cc-862d-149288bbbb22 polling for the tasks\n",
      "2024-01-18 17:09:18,346 fedbiomed DEBUG - Node: NODE_7842724a-cafa-49cc-862d-149288bbbb22 polling for the tasks\n",
      "2024-01-18 17:09:28,645 fedbiomed DEBUG - Node: NODE_7842724a-cafa-49cc-862d-149288bbbb22 polling for the tasks\n",
      "2024-01-18 17:10:28,639 fedbiomed DEBUG - Node: NODE_7842724a-cafa-49cc-862d-149288bbbb22 polling for the tasks\n",
      "2024-01-18 17:10:39,942 fedbiomed DEBUG - Node: NODE_7842724a-cafa-49cc-862d-149288bbbb22 polling for the tasks\n",
      "2024-01-18 17:11:39,938 fedbiomed DEBUG - Node: NODE_7842724a-cafa-49cc-862d-149288bbbb22 polling for the tasks\n",
      "2024-01-18 17:11:46,422 fedbiomed DEBUG - Node: NODE_7842724a-cafa-49cc-862d-149288bbbb22 polling for the tasks\n",
      "2024-01-18 17:12:46,418 fedbiomed DEBUG - Node: NODE_7842724a-cafa-49cc-862d-149288bbbb22 polling for the tasks\n",
      "2024-01-18 17:12:57,022 fedbiomed DEBUG - Node: NODE_7842724a-cafa-49cc-862d-149288bbbb22 polling for the tasks\n",
      "2024-01-18 17:13:57,016 fedbiomed DEBUG - Node: NODE_7842724a-cafa-49cc-862d-149288bbbb22 polling for the tasks\n",
      "2024-01-18 17:14:08,585 fedbiomed DEBUG - Node: NODE_7842724a-cafa-49cc-862d-149288bbbb22 polling for the tasks\n",
      "2024-01-18 17:15:08,581 fedbiomed DEBUG - Node: NODE_7842724a-cafa-49cc-862d-149288bbbb22 polling for the tasks\n",
      "2024-01-18 17:15:15,614 fedbiomed DEBUG - Node: NODE_7842724a-cafa-49cc-862d-149288bbbb22 polling for the tasks\n"
     ]
    }
   ],
   "source": [
    "exp.run()"
   ]
  },
  {
   "cell_type": "code",
   "execution_count": null,
   "id": "12f99e4a-1ea2-4e7b-8286-d8140a783206",
   "metadata": {},
   "outputs": [],
   "source": [
    "# Save weights of this custom training to test in fine tuning part \n",
    "#torch.save(densenet_model.state_dict(), '/fedbiomed/data/Brain_data')"
   ]
  },
  {
   "cell_type": "code",
   "execution_count": null,
   "id": "0e4b4d50-639d-4377-b966-41b18d07a849",
   "metadata": {},
   "outputs": [],
   "source": [
    "# Change only classification's layer"
   ]
  },
  {
   "cell_type": "code",
   "execution_count": 76,
   "id": "28ef11e8-0908-44cd-a61b-c7a065ffcfbe",
   "metadata": {},
   "outputs": [],
   "source": [
    "class MyTrainingPlan2(TorchTrainingPlan):\n",
    "\n",
    "    def init_model(self, model_args):\n",
    "        # Define your custom classification layer\n",
    "        class CustomClassifier(nn.Module):\n",
    "            def __init__(self, in_features, num_classes):\n",
    "                super(CustomClassifier, self).__init__()\n",
    "                self.fc = nn.Linear(in_features, num_classes)\n",
    "        \n",
    "            def forward(self, x):\n",
    "                x = self.fc(x)\n",
    "                return x\n",
    "        \n",
    "        # Load the pre-trained DenseNet model\n",
    "        model = models.densenet121(pretrained=True)\n",
    "        \n",
    "        # Modify the classifier layer\n",
    "        in_features = model.classifier.in_features\n",
    "        num_classes = model_args['num_classes']  # Change this to the number of classes in your dataset\n",
    "        custom_classifier = CustomClassifier(in_features, num_classes)\n",
    "        \n",
    "        # Replace the classifier\n",
    "        model.classifier = custom_classifier\n",
    "        \n",
    "        return model\n",
    "\n",
    "    def init_dependencies(self):\n",
    "        return [\n",
    "            \"import pandas as pd\",\n",
    "            \"from PIL import Image\",\n",
    "            \"from torchvision import datasets, transforms, models\",\n",
    "            \"from torch.utils.data import Dataset\",\n",
    "            \"import torch.optim as optim\"\n",
    "        ]\n",
    "\n",
    "\n",
    "    def init_optimizer(self, optimizer_args):        \n",
    "        return optim.Adam(self.model().parameters(), lr=optimizer_args[\"lr\"])\n",
    "\n",
    "    # training data\n",
    "    class CustomDatasetFedBioMed(Dataset):\n",
    "        def __init__(self, dataset_path: str, transform=None):\n",
    "            self.dataframe = pd.read_csv(dataset_path, index_col=0)\n",
    "            \n",
    "            self.transform = transforms.Compose([\n",
    "                transforms.Resize((224,224)),  \n",
    "                transforms.RandomHorizontalFlip(p=0.5),\n",
    "                transforms.RandomVerticalFlip(p=0.5),\n",
    "                transforms.RandomRotation(30),\n",
    "                transforms.RandomResizedCrop(224, scale=(0.8, 1.0)),\n",
    "                transforms.ToTensor(),\n",
    "                transforms.Normalize(mean = [0.485, 0.456, 0.406], std = [0.229, 0.224, 0.225])\n",
    "           ])\n",
    "    \n",
    "        def __len__(self):\n",
    "            return len(self.dataframe)\n",
    "    \n",
    "        def __getitem__(self, idx):\n",
    "            \n",
    "            img_path = self.dataframe.iloc[idx, 0]  # the file path is in the first column\n",
    "            print(img_path)\n",
    "            image = Image.open(img_path).convert(\"RGB\")\n",
    "    \n",
    "            label = self.dataframe.iloc[idx, 1]  # the class label is in the second column\n",
    "    \n",
    "            if self.transform:\n",
    "                image = self.transform(image)\n",
    "    \n",
    "            label = torch.tensor(label, dtype=torch.long)  # if it returns a tuple instead of a tensor\n",
    "    \n",
    "            return image, label \n",
    "\n",
    "    def training_data(self):\n",
    "        dataset = self.CustomDatasetFedBioMed(self.dataset_path)\n",
    "        return DataManager(dataset)\n",
    "\n",
    "    def training_step(self, data, target):\n",
    "        output = self.model().forward(data)\n",
    "        loss_func = nn.CrossEntropyLoss()\n",
    "        loss   = loss_func(output, target)\n",
    "        return loss\n",
    "\n"
   ]
  },
  {
   "cell_type": "code",
   "execution_count": 77,
   "id": "7029bcdd-19a8-400c-a9ba-b8f0de1b00fe",
   "metadata": {},
   "outputs": [],
   "source": [
    "training_args = {\n",
    "    'loader_args': { 'batch_size': 32, }, \n",
    "    'optimizer_args': {'lr': 1e-4}, \n",
    "    'epochs': 1, \n",
    "    'dry_run': False,  \n",
    "    'batch_maxnum': 100 # Fast pass for development : only use ( batch_maxnum * batch_size ) samples\n",
    "}\n",
    "\n",
    "model_args = {\n",
    "    'num_classes': 2\n",
    "}"
   ]
  },
  {
   "cell_type": "code",
   "execution_count": 78,
   "id": "31f4bf44-3f0d-4a28-8a2e-52fd0a921caa",
   "metadata": {},
   "outputs": [
    {
     "name": "stderr",
     "output_type": "stream",
     "text": [
      "2024-01-18 17:16:09,203 fedbiomed DEBUG - Node: NODE_7842724a-cafa-49cc-862d-149288bbbb22 polling for the tasks\n",
      "2024-01-18 17:16:09,205 fedbiomed INFO - Node selected for training -> NODE_7842724a-cafa-49cc-862d-149288bbbb22\n",
      "2024-01-18 17:16:09,206 fedbiomed DEBUG - Model file has been saved: /home/ebirgy/development/fedbiomed_github/fedbiomed/var/experiments/Experiment_0011/model_3f1187db-9a65-490e-ba5e-eb51f72539d1.py\n",
      "2024-01-18 17:16:09,349 fedbiomed DEBUG - using native torch optimizer\n"
     ]
    }
   ],
   "source": [
    "\n",
    "tags =  ['cancer']\n",
    "rounds = 1\n",
    "\n",
    "exp = Experiment(tags=tags,\n",
    "                 training_plan_class=MyTrainingPlan2,\n",
    "                 model_args=model_args,\n",
    "                 training_args=training_args,\n",
    "                 round_limit=rounds,\n",
    "                 aggregator=FedAverage())"
   ]
  },
  {
   "cell_type": "code",
   "execution_count": 79,
   "id": "d8f9d05a-98ed-4d3d-affd-3da9e2ecbb7e",
   "metadata": {},
   "outputs": [
    {
     "name": "stderr",
     "output_type": "stream",
     "text": [
      "2024-01-18 17:16:13,009 fedbiomed INFO - Sampled nodes in round 0 ['NODE_7842724a-cafa-49cc-862d-149288bbbb22']\n",
      "2024-01-18 17:16:13,022 fedbiomed INFO - \u001b[1mSending request\u001b[0m \n",
      "\t\t\t\t\t\u001b[1m To\u001b[0m: NODE_7842724a-cafa-49cc-862d-149288bbbb22 \n",
      "\t\t\t\t\t\u001b[1m Request: \u001b[0m: TRAIN\n",
      " -----------------------------------------------------------------\n",
      "2024-01-18 17:16:13,226 fedbiomed DEBUG - Node: NODE_7842724a-cafa-49cc-862d-149288bbbb22 polling for the tasks\n",
      "2024-01-18 17:16:17,287 fedbiomed INFO - \u001b[1mTRAINING\u001b[0m \n",
      "\t\t\t\t\t NODE_ID: NODE_7842724a-cafa-49cc-862d-149288bbbb22 \n",
      "\t\t\t\t\t Round 1 Epoch: 1 | Iteration: 1/100 (1%) | Samples: 32/3200\n",
      " \t\t\t\t\t Loss: \u001b[1m0.628289\u001b[0m \n",
      "\t\t\t\t\t ---------\n",
      "2024-01-18 17:16:26,280 fedbiomed DEBUG - Node: NODE_7842724a-cafa-49cc-862d-149288bbbb22 polling for the tasks\n",
      "2024-01-18 17:17:03,971 fedbiomed INFO - \u001b[1mTRAINING\u001b[0m \n",
      "\t\t\t\t\t NODE_ID: NODE_7842724a-cafa-49cc-862d-149288bbbb22 \n",
      "\t\t\t\t\t Round 1 Epoch: 1 | Iteration: 10/100 (10%) | Samples: 320/3200\n",
      " \t\t\t\t\t Loss: \u001b[1m0.444021\u001b[0m \n",
      "\t\t\t\t\t ---------\n",
      "2024-01-18 17:17:26,277 fedbiomed DEBUG - Node: NODE_7842724a-cafa-49cc-862d-149288bbbb22 polling for the tasks\n",
      "2024-01-18 17:17:37,694 fedbiomed DEBUG - Node: NODE_7842724a-cafa-49cc-862d-149288bbbb22 polling for the tasks\n",
      "2024-01-18 17:18:12,843 fedbiomed INFO - \u001b[1mTRAINING\u001b[0m \n",
      "\t\t\t\t\t NODE_ID: NODE_7842724a-cafa-49cc-862d-149288bbbb22 \n",
      "\t\t\t\t\t Round 1 Epoch: 1 | Iteration: 20/100 (20%) | Samples: 640/3200\n",
      " \t\t\t\t\t Loss: \u001b[1m0.380372\u001b[0m \n",
      "\t\t\t\t\t ---------\n",
      "2024-01-18 17:18:37,692 fedbiomed DEBUG - Node: NODE_7842724a-cafa-49cc-862d-149288bbbb22 polling for the tasks\n",
      "2024-01-18 17:18:43,597 fedbiomed DEBUG - Node: NODE_7842724a-cafa-49cc-862d-149288bbbb22 polling for the tasks\n",
      "2024-01-18 17:19:03,186 fedbiomed INFO - \u001b[1mTRAINING\u001b[0m \n",
      "\t\t\t\t\t NODE_ID: NODE_7842724a-cafa-49cc-862d-149288bbbb22 \n",
      "\t\t\t\t\t Round 1 Epoch: 1 | Iteration: 30/100 (30%) | Samples: 960/3200\n",
      " \t\t\t\t\t Loss: \u001b[1m0.135217\u001b[0m \n",
      "\t\t\t\t\t ---------\n",
      "2024-01-18 17:19:43,595 fedbiomed DEBUG - Node: NODE_7842724a-cafa-49cc-862d-149288bbbb22 polling for the tasks\n",
      "2024-01-18 17:19:44,103 fedbiomed INFO - \u001b[1mTRAINING\u001b[0m \n",
      "\t\t\t\t\t NODE_ID: NODE_7842724a-cafa-49cc-862d-149288bbbb22 \n",
      "\t\t\t\t\t Round 1 Epoch: 1 | Iteration: 40/100 (40%) | Samples: 1280/3200\n",
      " \t\t\t\t\t Loss: \u001b[1m0.122880\u001b[0m \n",
      "\t\t\t\t\t ---------\n",
      "2024-01-18 17:19:50,813 fedbiomed DEBUG - Node: NODE_7842724a-cafa-49cc-862d-149288bbbb22 polling for the tasks\n",
      "2024-01-18 17:20:27,613 fedbiomed INFO - \u001b[1mTRAINING\u001b[0m \n",
      "\t\t\t\t\t NODE_ID: NODE_7842724a-cafa-49cc-862d-149288bbbb22 \n",
      "\t\t\t\t\t Round 1 Epoch: 1 | Iteration: 50/100 (50%) | Samples: 1600/3200\n",
      " \t\t\t\t\t Loss: \u001b[1m0.084285\u001b[0m \n",
      "\t\t\t\t\t ---------\n",
      "2024-01-18 17:20:50,805 fedbiomed DEBUG - Node: NODE_7842724a-cafa-49cc-862d-149288bbbb22 polling for the tasks\n",
      "2024-01-18 17:20:57,069 fedbiomed DEBUG - Node: NODE_7842724a-cafa-49cc-862d-149288bbbb22 polling for the tasks\n",
      "2024-01-18 17:21:10,127 fedbiomed INFO - \u001b[1mTRAINING\u001b[0m \n",
      "\t\t\t\t\t NODE_ID: NODE_7842724a-cafa-49cc-862d-149288bbbb22 \n",
      "\t\t\t\t\t Round 1 Epoch: 1 | Iteration: 60/100 (60%) | Samples: 1920/3200\n",
      " \t\t\t\t\t Loss: \u001b[1m0.076897\u001b[0m \n",
      "\t\t\t\t\t ---------\n",
      "2024-01-18 17:21:57,069 fedbiomed DEBUG - Node: NODE_7842724a-cafa-49cc-862d-149288bbbb22 polling for the tasks\n",
      "2024-01-18 17:21:59,212 fedbiomed INFO - \u001b[1mTRAINING\u001b[0m \n",
      "\t\t\t\t\t NODE_ID: NODE_7842724a-cafa-49cc-862d-149288bbbb22 \n",
      "\t\t\t\t\t Round 1 Epoch: 1 | Iteration: 70/100 (70%) | Samples: 2240/3200\n",
      " \t\t\t\t\t Loss: \u001b[1m0.297148\u001b[0m \n",
      "\t\t\t\t\t ---------\n",
      "2024-01-18 17:22:10,336 fedbiomed DEBUG - Node: NODE_7842724a-cafa-49cc-862d-149288bbbb22 polling for the tasks\n",
      "2024-01-18 17:22:43,819 fedbiomed INFO - \u001b[1mTRAINING\u001b[0m \n",
      "\t\t\t\t\t NODE_ID: NODE_7842724a-cafa-49cc-862d-149288bbbb22 \n",
      "\t\t\t\t\t Round 1 Epoch: 1 | Iteration: 80/100 (80%) | Samples: 2560/3200\n",
      " \t\t\t\t\t Loss: \u001b[1m0.082879\u001b[0m \n",
      "\t\t\t\t\t ---------\n",
      "2024-01-18 17:23:10,338 fedbiomed DEBUG - Node: NODE_7842724a-cafa-49cc-862d-149288bbbb22 polling for the tasks\n",
      "2024-01-18 17:23:22,793 fedbiomed DEBUG - Node: NODE_7842724a-cafa-49cc-862d-149288bbbb22 polling for the tasks\n",
      "2024-01-18 17:23:31,756 fedbiomed INFO - \u001b[1mTRAINING\u001b[0m \n",
      "\t\t\t\t\t NODE_ID: NODE_7842724a-cafa-49cc-862d-149288bbbb22 \n",
      "\t\t\t\t\t Round 1 Epoch: 1 | Iteration: 90/100 (90%) | Samples: 2880/3200\n",
      " \t\t\t\t\t Loss: \u001b[1m0.069574\u001b[0m \n",
      "\t\t\t\t\t ---------\n",
      "2024-01-18 17:24:19,127 fedbiomed INFO - \u001b[1mTRAINING\u001b[0m \n",
      "\t\t\t\t\t NODE_ID: NODE_7842724a-cafa-49cc-862d-149288bbbb22 \n",
      "\t\t\t\t\t Round 1 Epoch: 1 | Iteration: 100/100 (100%) | Samples: 3200/3200\n",
      " \t\t\t\t\t Loss: \u001b[1m0.183303\u001b[0m \n",
      "\t\t\t\t\t ---------\n",
      "2024-01-18 17:24:19,285 fedbiomed INFO - Nodes that successfully reply in round 0 ['NODE_7842724a-cafa-49cc-862d-149288bbbb22']\n",
      "2024-01-18 17:24:19,424 fedbiomed INFO - Saved aggregated params for round 0 in /home/ebirgy/development/fedbiomed_github/fedbiomed/var/experiments/Experiment_0011/aggregated_params_b9bd72ae-ed22-4cea-bf9d-48e3f290c77d.mpk\n"
     ]
    },
    {
     "data": {
      "text/plain": [
       "1"
      ]
     },
     "execution_count": 79,
     "metadata": {},
     "output_type": "execute_result"
    },
    {
     "name": "stderr",
     "output_type": "stream",
     "text": [
      "2024-01-18 17:24:22,792 fedbiomed DEBUG - Node: NODE_7842724a-cafa-49cc-862d-149288bbbb22 polling for the tasks\n",
      "2024-01-18 17:24:35,374 fedbiomed DEBUG - Node: NODE_7842724a-cafa-49cc-862d-149288bbbb22 polling for the tasks\n",
      "2024-01-18 17:25:35,370 fedbiomed DEBUG - Node: NODE_7842724a-cafa-49cc-862d-149288bbbb22 polling for the tasks\n",
      "2024-01-18 17:25:45,013 fedbiomed DEBUG - Node: NODE_7842724a-cafa-49cc-862d-149288bbbb22 polling for the tasks\n",
      "2024-01-18 17:26:45,008 fedbiomed DEBUG - Node: NODE_7842724a-cafa-49cc-862d-149288bbbb22 polling for the tasks\n",
      "2024-01-18 17:26:59,353 fedbiomed DEBUG - Node: NODE_7842724a-cafa-49cc-862d-149288bbbb22 polling for the tasks\n",
      "2024-01-18 17:27:59,347 fedbiomed DEBUG - Node: NODE_7842724a-cafa-49cc-862d-149288bbbb22 polling for the tasks\n",
      "2024-01-18 17:28:09,357 fedbiomed DEBUG - Node: NODE_7842724a-cafa-49cc-862d-149288bbbb22 polling for the tasks\n",
      "2024-01-18 17:29:09,354 fedbiomed DEBUG - Node: NODE_7842724a-cafa-49cc-862d-149288bbbb22 polling for the tasks\n",
      "2024-01-18 17:29:23,113 fedbiomed DEBUG - Node: NODE_7842724a-cafa-49cc-862d-149288bbbb22 polling for the tasks\n",
      "2024-01-18 17:30:23,105 fedbiomed DEBUG - Node: NODE_7842724a-cafa-49cc-862d-149288bbbb22 polling for the tasks\n"
     ]
    }
   ],
   "source": [
    "exp.run()"
   ]
  },
  {
   "cell_type": "code",
   "execution_count": null,
   "id": "7d9306d2-4cce-462f-a5e2-f751db293527",
   "metadata": {},
   "outputs": [],
   "source": [
    "# Fine-tune : train last layers "
   ]
  },
  {
   "cell_type": "code",
   "execution_count": 83,
   "id": "e26cf87a-268a-46dd-96a4-9e5f83e0ff8f",
   "metadata": {},
   "outputs": [],
   "source": [
    "class MyTrainingPlan3(TorchTrainingPlan):\n",
    "\n",
    "    def init_model(self, model_args):\n",
    "        model = models.densenet121(pretrained=True)\n",
    "        # For example, let's freeze all layers up to the second-to-last dense block\n",
    "        for param in model.features[:-6].parameters():\n",
    "            param.requires_grad = False\n",
    "\n",
    "        # Modify the classifier to match the number of classes in your dataset\n",
    "        num_ftrs = model.classifier.in_features\n",
    "        num_classes = model_args['num_classes'] \n",
    "        model.classifier = nn.Sequential(\n",
    "            nn.Linear(num_ftrs, 128),\n",
    "            nn.ReLU(inplace=True),\n",
    "            nn.Linear(128, num_classes)\n",
    "            )\n",
    "        \n",
    "        return model\n",
    "\n",
    "    def init_dependencies(self):\n",
    "        return [\n",
    "            \"import pandas as pd\",\n",
    "            \"from PIL import Image\",\n",
    "            \"from torchvision import datasets, transforms, models\",\n",
    "            \"from torch.utils.data import Dataset\",\n",
    "            \"import torch.optim as optim\"\n",
    "        ]\n",
    "\n",
    "\n",
    "    def init_optimizer(self, optimizer_args):        \n",
    "        return optim.Adam(self.model().parameters(), lr=optimizer_args[\"lr\"])\n",
    "\n",
    "    # training data\n",
    "    class CustomDatasetFedBioMed(Dataset):\n",
    "        def __init__(self, dataset_path: str, transform=None):\n",
    "            self.dataframe = pd.read_csv(dataset_path, index_col=0)\n",
    "            \n",
    "            self.transform = transforms.Compose([\n",
    "                transforms.Resize((224,224)),  \n",
    "                transforms.RandomHorizontalFlip(p=0.5),\n",
    "                transforms.RandomVerticalFlip(p=0.5),\n",
    "                transforms.RandomRotation(30),\n",
    "                transforms.RandomResizedCrop(224, scale=(0.8, 1.0)),\n",
    "                transforms.ToTensor(),\n",
    "                transforms.Normalize(mean = [0.485, 0.456, 0.406], std = [0.229, 0.224, 0.225])\n",
    "           ])\n",
    "    \n",
    "        def __len__(self):\n",
    "            return len(self.dataframe)\n",
    "    \n",
    "        def __getitem__(self, idx):\n",
    "            \n",
    "            img_path = self.dataframe.iloc[idx, 0]  # the file path is in the first column\n",
    "            print(img_path)\n",
    "            image = Image.open(img_path).convert(\"RGB\")\n",
    "    \n",
    "            label = self.dataframe.iloc[idx, 1]  # the class label is in the second column\n",
    "    \n",
    "            if self.transform:\n",
    "                image = self.transform(image)\n",
    "    \n",
    "            label = torch.tensor(label, dtype=torch.long)  # if it returns a tuple instead of a tensor\n",
    "    \n",
    "            return image, label \n",
    "\n",
    "    def training_data(self):\n",
    "        dataset = self.CustomDatasetFedBioMed(self.dataset_path)\n",
    "        return DataManager(dataset)\n",
    "\n",
    "    def training_step(self, data, target):\n",
    "        output = self.model().forward(data)\n",
    "        loss_func = nn.CrossEntropyLoss()\n",
    "        loss   = loss_func(output, target)\n",
    "        return loss\n",
    "\n",
    "\n"
   ]
  },
  {
   "cell_type": "code",
   "execution_count": 84,
   "id": "1b7db972-86fb-4c43-a55b-7b92afafc942",
   "metadata": {},
   "outputs": [],
   "source": [
    "training_args = {\n",
    "    'loader_args': { 'batch_size': 32, }, \n",
    "    'optimizer_args': {'lr': 1e-4}, \n",
    "    'epochs': 1, \n",
    "    'dry_run': False,  \n",
    "    'batch_maxnum': 100 # Fast pass for development : only use ( batch_maxnum * batch_size ) samples\n",
    "}\n",
    "\n",
    "model_args = {\n",
    "    'num_classes': 2\n",
    "}"
   ]
  },
  {
   "cell_type": "code",
   "execution_count": 85,
   "id": "63702f14-45a4-43d7-b2b5-8545f036840b",
   "metadata": {},
   "outputs": [
    {
     "name": "stderr",
     "output_type": "stream",
     "text": [
      "2024-01-18 17:31:16,431 fedbiomed DEBUG - Node: NODE_7842724a-cafa-49cc-862d-149288bbbb22 polling for the tasks\n",
      "2024-01-18 17:31:16,433 fedbiomed INFO - Node selected for training -> NODE_7842724a-cafa-49cc-862d-149288bbbb22\n",
      "2024-01-18 17:31:16,436 fedbiomed DEBUG - Model file has been saved: /home/ebirgy/development/fedbiomed_github/fedbiomed/var/experiments/Experiment_0013/model_057cd3f7-dbbe-4ccf-a700-4a5e080356cb.py\n",
      "2024-01-18 17:31:16,604 fedbiomed DEBUG - using native torch optimizer\n"
     ]
    }
   ],
   "source": [
    "tags =  ['cancer']\n",
    "rounds = 1\n",
    "\n",
    "exp = Experiment(tags=tags,\n",
    "                 training_plan_class=MyTrainingPlan3,\n",
    "                 model_args=model_args,\n",
    "                 training_args=training_args,\n",
    "                 round_limit=rounds,\n",
    "                 aggregator=FedAverage())"
   ]
  },
  {
   "cell_type": "code",
   "execution_count": 87,
   "id": "17a96a5d-614c-49fc-b9b4-8199ed138be0",
   "metadata": {},
   "outputs": [
    {
     "name": "stderr",
     "output_type": "stream",
     "text": [
      "2024-01-18 17:31:27,308 fedbiomed INFO - Sampled nodes in round 0 ['NODE_7842724a-cafa-49cc-862d-149288bbbb22']\n",
      "2024-01-18 17:31:27,317 fedbiomed INFO - \u001b[1mSending request\u001b[0m \n",
      "\t\t\t\t\t\u001b[1m To\u001b[0m: NODE_7842724a-cafa-49cc-862d-149288bbbb22 \n",
      "\t\t\t\t\t\u001b[1m Request: \u001b[0m: TRAIN\n",
      " -----------------------------------------------------------------\n",
      "2024-01-18 17:31:27,476 fedbiomed DEBUG - Node: NODE_7842724a-cafa-49cc-862d-149288bbbb22 polling for the tasks\n",
      "2024-01-18 17:31:30,294 fedbiomed INFO - \u001b[1mTRAINING\u001b[0m \n",
      "\t\t\t\t\t NODE_ID: NODE_7842724a-cafa-49cc-862d-149288bbbb22 \n",
      "\t\t\t\t\t Round 1 Epoch: 1 | Iteration: 1/100 (1%) | Samples: 32/3200\n",
      " \t\t\t\t\t Loss: \u001b[1m0.695706\u001b[0m \n",
      "\t\t\t\t\t ---------\n",
      "2024-01-18 17:31:41,511 fedbiomed DEBUG - Node: NODE_7842724a-cafa-49cc-862d-149288bbbb22 polling for the tasks\n",
      "2024-01-18 17:31:56,604 fedbiomed INFO - \u001b[1mTRAINING\u001b[0m \n",
      "\t\t\t\t\t NODE_ID: NODE_7842724a-cafa-49cc-862d-149288bbbb22 \n",
      "\t\t\t\t\t Round 1 Epoch: 1 | Iteration: 10/100 (10%) | Samples: 320/3200\n",
      " \t\t\t\t\t Loss: \u001b[1m0.545914\u001b[0m \n",
      "\t\t\t\t\t ---------\n",
      "2024-01-18 17:32:32,475 fedbiomed INFO - \u001b[1mTRAINING\u001b[0m \n",
      "\t\t\t\t\t NODE_ID: NODE_7842724a-cafa-49cc-862d-149288bbbb22 \n",
      "\t\t\t\t\t Round 1 Epoch: 1 | Iteration: 20/100 (20%) | Samples: 640/3200\n",
      " \t\t\t\t\t Loss: \u001b[1m0.338292\u001b[0m \n",
      "\t\t\t\t\t ---------\n",
      "2024-01-18 17:32:41,512 fedbiomed DEBUG - Node: NODE_7842724a-cafa-49cc-862d-149288bbbb22 polling for the tasks\n",
      "2024-01-18 17:32:54,919 fedbiomed DEBUG - Node: NODE_7842724a-cafa-49cc-862d-149288bbbb22 polling for the tasks\n",
      "2024-01-18 17:33:05,224 fedbiomed INFO - \u001b[1mTRAINING\u001b[0m \n",
      "\t\t\t\t\t NODE_ID: NODE_7842724a-cafa-49cc-862d-149288bbbb22 \n",
      "\t\t\t\t\t Round 1 Epoch: 1 | Iteration: 30/100 (30%) | Samples: 960/3200\n",
      " \t\t\t\t\t Loss: \u001b[1m0.258368\u001b[0m \n",
      "\t\t\t\t\t ---------\n",
      "2024-01-18 17:33:37,932 fedbiomed INFO - \u001b[1mTRAINING\u001b[0m \n",
      "\t\t\t\t\t NODE_ID: NODE_7842724a-cafa-49cc-862d-149288bbbb22 \n",
      "\t\t\t\t\t Round 1 Epoch: 1 | Iteration: 40/100 (40%) | Samples: 1280/3200\n",
      " \t\t\t\t\t Loss: \u001b[1m0.208034\u001b[0m \n",
      "\t\t\t\t\t ---------\n",
      "2024-01-18 17:33:54,918 fedbiomed DEBUG - Node: NODE_7842724a-cafa-49cc-862d-149288bbbb22 polling for the tasks\n",
      "2024-01-18 17:33:59,228 fedbiomed DEBUG - Node: NODE_7842724a-cafa-49cc-862d-149288bbbb22 polling for the tasks\n",
      "2024-01-18 17:34:15,124 fedbiomed INFO - \u001b[1mTRAINING\u001b[0m \n",
      "\t\t\t\t\t NODE_ID: NODE_7842724a-cafa-49cc-862d-149288bbbb22 \n",
      "\t\t\t\t\t Round 1 Epoch: 1 | Iteration: 50/100 (50%) | Samples: 1600/3200\n",
      " \t\t\t\t\t Loss: \u001b[1m0.065146\u001b[0m \n",
      "\t\t\t\t\t ---------\n",
      "2024-01-18 17:34:52,194 fedbiomed INFO - \u001b[1mTRAINING\u001b[0m \n",
      "\t\t\t\t\t NODE_ID: NODE_7842724a-cafa-49cc-862d-149288bbbb22 \n",
      "\t\t\t\t\t Round 1 Epoch: 1 | Iteration: 60/100 (60%) | Samples: 1920/3200\n",
      " \t\t\t\t\t Loss: \u001b[1m0.065861\u001b[0m \n",
      "\t\t\t\t\t ---------\n",
      "2024-01-18 17:34:59,225 fedbiomed DEBUG - Node: NODE_7842724a-cafa-49cc-862d-149288bbbb22 polling for the tasks\n",
      "2024-01-18 17:35:12,625 fedbiomed DEBUG - Node: NODE_7842724a-cafa-49cc-862d-149288bbbb22 polling for the tasks\n",
      "2024-01-18 17:35:26,090 fedbiomed INFO - \u001b[1mTRAINING\u001b[0m \n",
      "\t\t\t\t\t NODE_ID: NODE_7842724a-cafa-49cc-862d-149288bbbb22 \n",
      "\t\t\t\t\t Round 1 Epoch: 1 | Iteration: 70/100 (70%) | Samples: 2240/3200\n",
      " \t\t\t\t\t Loss: \u001b[1m0.121198\u001b[0m \n",
      "\t\t\t\t\t ---------\n",
      "2024-01-18 17:36:03,731 fedbiomed INFO - \u001b[1mTRAINING\u001b[0m \n",
      "\t\t\t\t\t NODE_ID: NODE_7842724a-cafa-49cc-862d-149288bbbb22 \n",
      "\t\t\t\t\t Round 1 Epoch: 1 | Iteration: 80/100 (80%) | Samples: 2560/3200\n",
      " \t\t\t\t\t Loss: \u001b[1m0.216317\u001b[0m \n",
      "\t\t\t\t\t ---------\n",
      "2024-01-18 17:36:12,621 fedbiomed DEBUG - Node: NODE_7842724a-cafa-49cc-862d-149288bbbb22 polling for the tasks\n",
      "2024-01-18 17:36:23,054 fedbiomed DEBUG - Node: NODE_7842724a-cafa-49cc-862d-149288bbbb22 polling for the tasks\n",
      "2024-01-18 17:36:36,675 fedbiomed INFO - \u001b[1mTRAINING\u001b[0m \n",
      "\t\t\t\t\t NODE_ID: NODE_7842724a-cafa-49cc-862d-149288bbbb22 \n",
      "\t\t\t\t\t Round 1 Epoch: 1 | Iteration: 90/100 (90%) | Samples: 2880/3200\n",
      " \t\t\t\t\t Loss: \u001b[1m0.183223\u001b[0m \n",
      "\t\t\t\t\t ---------\n",
      "2024-01-18 17:37:10,301 fedbiomed INFO - \u001b[1mTRAINING\u001b[0m \n",
      "\t\t\t\t\t NODE_ID: NODE_7842724a-cafa-49cc-862d-149288bbbb22 \n",
      "\t\t\t\t\t Round 1 Epoch: 1 | Iteration: 100/100 (100%) | Samples: 3200/3200\n",
      " \t\t\t\t\t Loss: \u001b[1m0.043812\u001b[0m \n",
      "\t\t\t\t\t ---------\n",
      "2024-01-18 17:37:10,467 fedbiomed INFO - Nodes that successfully reply in round 0 ['NODE_7842724a-cafa-49cc-862d-149288bbbb22']\n",
      "2024-01-18 17:37:10,579 fedbiomed INFO - Saved aggregated params for round 0 in /home/ebirgy/development/fedbiomed_github/fedbiomed/var/experiments/Experiment_0013/aggregated_params_80453dbd-ea12-495e-9d40-527bed82a5b8.mpk\n"
     ]
    },
    {
     "data": {
      "text/plain": [
       "1"
      ]
     },
     "execution_count": 87,
     "metadata": {},
     "output_type": "execute_result"
    },
    {
     "name": "stderr",
     "output_type": "stream",
     "text": [
      "2024-01-18 17:37:23,050 fedbiomed DEBUG - Node: NODE_7842724a-cafa-49cc-862d-149288bbbb22 polling for the tasks\n",
      "2024-01-18 17:37:30,291 fedbiomed DEBUG - Node: NODE_7842724a-cafa-49cc-862d-149288bbbb22 polling for the tasks\n"
     ]
    }
   ],
   "source": [
    "exp.run()"
   ]
  },
  {
   "cell_type": "code",
   "execution_count": null,
   "id": "b30a84a5-ad08-4877-b84d-1e37e1c52628",
   "metadata": {},
   "outputs": [],
   "source": []
  }
 ],
 "metadata": {
  "kernelspec": {
   "display_name": "Python 3 (ipykernel)",
   "language": "python",
   "name": "python3"
  },
  "language_info": {
   "codemirror_mode": {
    "name": "ipython",
    "version": 3
   },
   "file_extension": ".py",
   "mimetype": "text/x-python",
   "name": "python",
   "nbconvert_exporter": "python",
   "pygments_lexer": "ipython3",
   "version": "3.10.13"
  }
 },
 "nbformat": 4,
 "nbformat_minor": 5
}
