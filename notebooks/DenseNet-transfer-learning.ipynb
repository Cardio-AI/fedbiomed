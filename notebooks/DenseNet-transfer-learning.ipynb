{
 "cells": [
  {
   "cell_type": "markdown",
   "id": "033d2892-772f-4cf5-ba04-d2aefb9fb169",
   "metadata": {},
   "source": [
    "# Brain tumors classification using DenseNet Transfer Learning "
   ]
  },
  {
   "cell_type": "markdown",
   "id": "82c1366d-b1b5-4137-8ac5-4212211c5754",
   "metadata": {},
   "source": [
    "This tutorial presents an example of Transfer Learning with DenseNet model to classify images in tumor or healthy brain images.\n",
    "It is interessant to perfom transfer-learning when you have not enough data to train a model.\n",
    "\n",
    "You could use pretrained model with Fed-BioMed and classify your data and/or try to fine-tune the last layers of a pre-trained model with your specific data. This startegy could lead to better classifications results in you have enough data. \n",
    "\n",
    "Here is an example With a public dataset of MRI (Brain dataset from Kaggle).\n",
    "\n"
   ]
  },
  {
   "cell_type": "markdown",
   "id": "811849b1-5047-48d4-b745-93efcb33220d",
   "metadata": {},
   "source": [
    "## About the model\n",
    "\n",
    "The model used is Densenet-121 model(“Densely Connected Convolutional Networks”) pretrained on ImageNet dataset. The Pytorch pretrained Densenet121 is used https://pytorch.org/vision/main/generated/torchvision.models.densenet121.html to perform image classification on the MedNIST dataset. The goal of this Densenet121 model is to predict the class of the image modality given the medical image."
   ]
  },
  {
   "cell_type": "markdown",
   "id": "7bc88874-e1eb-4aa5-bb48-f8519b0b0753",
   "metadata": {},
   "source": [
    "## Librairies "
   ]
  },
  {
   "cell_type": "code",
   "execution_count": 1,
   "id": "9a22a823-452d-454c-a856-5828cf429aec",
   "metadata": {},
   "outputs": [],
   "source": [
    "\n",
    "import pandas as pd\n",
    "import matplotlib.pyplot as plt\n",
    "from PIL import Image # A module from the Python Imaging Library (PIL) that provides functionality for opening, manipulating, and saving various image file formats.\n",
    "import pathlib\n",
    "import os # A module that provides a way to interact with the operating system, allowing for tasks such as file and directory manipulation.\n",
    "\n",
    "import torch\n",
    "import torchvision\n",
    "from torchvision import datasets, transforms, models\n",
    "import torchvision.transforms as transforms # A module from the torchvision library that provides common image transformations, such as resizing, cropping, and normalization.\n",
    "import torch.nn as nn # A module in PyTorch that provides classes for defining and building neural networks.\n",
    "from torchvision import utils # A module from torchvision that contains utility functions for working with images, such as saving and visualizing them.\n",
    "from torch.utils.data import Dataset\n",
    "from torch.utils.data import DataLoader\n",
    "from torch import optim\n",
    "import torch.optim as optim\n",
    "import itertools # This import statement imports the itertools module, which provides functions for efficient looping and combining of iterables. It can be used for tasks such as generating combinations or permutations of elements.\n",
    "\n"
   ]
  },
  {
   "cell_type": "markdown",
   "id": "ac384313-ff90-4192-969b-53a42ccad934",
   "metadata": {},
   "source": [
    "## Data \n",
    "\n",
    "Upload on a node the metadata.csv containing images and labels..."
   ]
  },
  {
   "cell_type": "code",
   "execution_count": 2,
   "id": "31caee0b-c716-4a4d-95b4-426ae4b01fa4",
   "metadata": {},
   "outputs": [
    {
     "name": "stdout",
     "output_type": "stream",
     "text": [
      "|    | image           | class   | format   | mode   | shape         |\n",
      "|---:|:----------------|:--------|:---------|:-------|:--------------|\n",
      "|  0 | Cancer (1).jpg  | tumor   | JPEG     | RGB    | (512, 512, 3) |\n",
      "|  1 | Cancer (1).png  | tumor   | PNG      | L      | (300, 240)    |\n",
      "|  2 | Cancer (1).tif  | tumor   | TIFF     | RGB    | (256, 256, 3) |\n",
      "|  3 | Cancer (10).jpg | tumor   | JPEG     | RGB    | (512, 512, 3) |\n",
      "|  4 | Cancer (10).tif | tumor   | TIFF     | RGB    | (256, 256, 3) |\n"
     ]
    }
   ],
   "source": [
    "labels_df = pd.read_csv(\"/user/ebirgy/home/Downloads/Brain_Tumor_IRM/metadata.csv\") # paths needs to be completed \n",
    "labels_df.drop(columns=['Unnamed: 0'], inplace=True)\n",
    "print(labels_df.head().to_markdown())"
   ]
  },
  {
   "cell_type": "code",
   "execution_count": 3,
   "id": "56f2d2ba-6384-4e9d-b977-9f85208a2a18",
   "metadata": {},
   "outputs": [
    {
     "data": {
      "image/png": "[encoded data removed]",
      "text/plain": [
       "<Figure size 640x480 with 1 Axes>"
      ]
     },
     "metadata": {},
     "output_type": "display_data"
    }
   ],
   "source": [
    "labels_df[\"class\"].value_counts().plot(kind='bar')\n",
    "plt.title('Labels counts')\n",
    "plt.xlabel('Label')\n",
    "plt.ylabel('Count')\n",
    "plt.show()"
   ]
  },
  {
   "cell_type": "code",
   "execution_count": null,
   "id": "f7a123c5-ef5a-40e4-a2eb-4e6eb7082d41",
   "metadata": {},
   "outputs": [],
   "source": [
    "# Encoding des categories : création d'un dictionnaire\n",
    "label={'tumor': \"1\", 'normal': \"0\"}"
   ]
  },
  {
   "cell_type": "code",
   "execution_count": null,
   "id": "57ec49ce-d836-4de6-9f2f-571ed72362a5",
   "metadata": {},
   "outputs": [],
   "source": [
    "dict_label=dict(label)\n",
    "labels_df[\"label\"]=labels_df['class'].map(dict_label)"
   ]
  },
  {
   "cell_type": "code",
   "execution_count": null,
   "id": "cc504559-c1a2-43a3-bba3-14dbbdcc3308",
   "metadata": {},
   "outputs": [],
   "source": [
    "# Specify the path where the images are located\n",
    "path = \"/user/ebirgy/home/Downloads/Brain_Tumor_IRM/\"\n",
    "# Add a new column 'full_path' to the DataFrame\n",
    "labels_df['path_images'] = path + labels_df['image']\n"
   ]
  },
  {
   "cell_type": "code",
   "execution_count": null,
   "id": "7feec6df-cafe-4ccc-838f-3bf92b4c9411",
   "metadata": {},
   "outputs": [],
   "source": [
    "labels_df.head()"
   ]
  },
  {
   "cell_type": "code",
   "execution_count": null,
   "id": "ebb74cc7-df71-41fc-a260-180909ca722a",
   "metadata": {},
   "outputs": [],
   "source": [
    "dataset=labels_df[['path_images', 'label', 'image']]\n",
    "dataset['label']=dataset['label'].astype('int')"
   ]
  },
  {
   "cell_type": "code",
   "execution_count": null,
   "id": "3ba8c880-060b-4c1f-9e45-89197814215d",
   "metadata": {},
   "outputs": [],
   "source": [
    "dataset.head()"
   ]
  },
  {
   "cell_type": "code",
   "execution_count": null,
   "id": "e26316ca-adb3-493a-8904-faac235cfb20",
   "metadata": {},
   "outputs": [],
   "source": [
    "dataset.to_csv(\"../cancer_labels.csv\")\n",
    "df = pd.read_csv(\"../cancer_labels.csv\", index_col=0)"
   ]
  },
  {
   "cell_type": "code",
   "execution_count": null,
   "id": "ef641434-e45f-419d-8875-44b85d0c86f2",
   "metadata": {},
   "outputs": [],
   "source": [
    "df.iloc[0, 0]"
   ]
  },
  {
   "cell_type": "code",
   "execution_count": null,
   "id": "ac41ea09-48d4-4408-ad50-5f3670a94771",
   "metadata": {},
   "outputs": [],
   "source": [
    "from fedbiomed.researcher.requests import Requests\n",
    "req  = Requests()\n",
    "req.list()"
   ]
  },
  {
   "cell_type": "code",
   "execution_count": null,
   "id": "b0b4b254-fed4-4c55-92ce-695127c7db46",
   "metadata": {},
   "outputs": [],
   "source": [
    "from fedbiomed.common.training_plans import TorchTrainingPlan \n",
    "from fedbiomed.common.data import DataManager\n",
    "from torch.utils.data import Dataset\n",
    "from fedbiomed.researcher.experiment import Experiment\n",
    "from fedbiomed.researcher.aggregators.fedavg import FedAverage"
   ]
  },
  {
   "cell_type": "markdown",
   "id": "39b55b89-75f7-4d6e-8b2e-efcccbcbcd1c",
   "metadata": {},
   "source": [
    "## Use pre-trained model to classify your images data "
   ]
  },
  {
   "cell_type": "code",
   "execution_count": null,
   "id": "28ef11e8-0908-44cd-a61b-c7a065ffcfbe",
   "metadata": {},
   "outputs": [],
   "source": [
    "class MyTrainingPlan2(TorchTrainingPlan):\n",
    "\n",
    "    def init_model(self, model_args):\n",
    "        # Define your custom classification layer\n",
    "        class CustomClassifier(nn.Module):\n",
    "            def __init__(self, in_features, num_classes):\n",
    "                super(CustomClassifier, self).__init__()\n",
    "                self.fc = nn.Linear(in_features, num_classes)\n",
    "        \n",
    "            def forward(self, x):\n",
    "                x = self.fc(x)\n",
    "                return x\n",
    "        \n",
    "        # Load the pre-trained DenseNet model\n",
    "        model = models.densenet121(pretrained=True)\n",
    "        \n",
    "        # Modify the classifier layer\n",
    "        in_features = model.classifier.in_features\n",
    "        num_classes = model_args['num_classes']  # Change this to the number of classes in your dataset\n",
    "        custom_classifier = CustomClassifier(in_features, num_classes)\n",
    "        \n",
    "        # Replace the classifier\n",
    "        model.classifier = custom_classifier\n",
    "        \n",
    "        return model\n",
    "\n",
    "    def init_dependencies(self):\n",
    "        return [\n",
    "            \"import pandas as pd\",\n",
    "            \"from PIL import Image\",\n",
    "            \"from torchvision import datasets, transforms, models\",\n",
    "            \"from torch.utils.data import Dataset\",\n",
    "            \"import torch.optim as optim\"\n",
    "        ]\n",
    "\n",
    "\n",
    "    def init_optimizer(self, optimizer_args):        \n",
    "        return optim.Adam(self.model().parameters(), lr=optimizer_args[\"lr\"])\n",
    "\n",
    "    # training data\n",
    "    class CustomDatasetFedBioMed(Dataset):\n",
    "        def __init__(self, dataset_path: str, transform=None):\n",
    "            self.dataframe = pd.read_csv(dataset_path, index_col=0)\n",
    "            \n",
    "            self.transform = transforms.Compose([\n",
    "                transforms.Resize((224,224)),  \n",
    "                transforms.RandomHorizontalFlip(p=0.5),\n",
    "                transforms.RandomVerticalFlip(p=0.5),\n",
    "                transforms.RandomRotation(30),\n",
    "                transforms.RandomResizedCrop(224, scale=(0.8, 1.0)),\n",
    "                transforms.ToTensor(),\n",
    "                transforms.Normalize(mean = [0.485, 0.456, 0.406], std = [0.229, 0.224, 0.225])\n",
    "           ])\n",
    "    \n",
    "        def __len__(self):\n",
    "            return len(self.dataframe)\n",
    "    \n",
    "        def __getitem__(self, idx):\n",
    "            \n",
    "            img_path = self.dataframe.iloc[idx, 0]  # the file path is in the first column\n",
    "            print(img_path)\n",
    "            image = Image.open(img_path).convert(\"RGB\")\n",
    "    \n",
    "            label = self.dataframe.iloc[idx, 1]  # the class label is in the second column\n",
    "    \n",
    "            if self.transform:\n",
    "                image = self.transform(image)\n",
    "    \n",
    "            label = torch.tensor(label, dtype=torch.long)  # if it returns a tuple instead of a tensor\n",
    "    \n",
    "            return image, label \n",
    "\n",
    "    def training_data(self):\n",
    "        dataset = self.CustomDatasetFedBioMed(self.dataset_path)\n",
    "        return DataManager(dataset)\n",
    "\n",
    "    def training_step(self, data, target):\n",
    "        output = self.model().forward(data)\n",
    "        loss_func = nn.CrossEntropyLoss()\n",
    "        loss   = loss_func(output, target)\n",
    "        return loss\n",
    "\n"
   ]
  },
  {
   "cell_type": "code",
   "execution_count": null,
   "id": "7029bcdd-19a8-400c-a9ba-b8f0de1b00fe",
   "metadata": {},
   "outputs": [],
   "source": [
    "training_args = {\n",
    "    'loader_args': { 'batch_size': 32, }, \n",
    "    'optimizer_args': {'lr': 1e-4}, \n",
    "    'epochs': 1, \n",
    "    'dry_run': False,  \n",
    "    'batch_maxnum': 100 # Fast pass for development : only use ( batch_maxnum * batch_size ) samples\n",
    "}\n",
    "\n",
    "model_args = {\n",
    "    'num_classes': 2\n",
    "}"
   ]
  },
  {
   "cell_type": "code",
   "execution_count": null,
   "id": "31f4bf44-3f0d-4a28-8a2e-52fd0a921caa",
   "metadata": {},
   "outputs": [],
   "source": [
    "\n",
    "tags =  ['cancer']\n",
    "rounds = 1\n",
    "\n",
    "exp = Experiment(tags=tags,\n",
    "                 training_plan_class=MyTrainingPlan2,\n",
    "                 model_args=model_args,\n",
    "                 training_args=training_args,\n",
    "                 round_limit=rounds,\n",
    "                 aggregator=FedAverage())\n",
    "\n",
    "from fedbiomed.common.metrics import MetricTypes\n",
    "exp.set_test_ratio(.1)\n",
    "exp.set_test_on_local_updates(True)\n",
    "exp.set_test_metric(MetricTypes.ACCURACY)\n",
    "\n",
    "exp.set_tensorboard(True)"
   ]
  },
  {
   "cell_type": "code",
   "execution_count": null,
   "id": "d8f9d05a-98ed-4d3d-affd-3da9e2ecbb7e",
   "metadata": {},
   "outputs": [],
   "source": [
    "exp.run()"
   ]
  },
  {
   "cell_type": "code",
   "execution_count": null,
   "id": "f7236f29-576a-4c94-ae9c-54695f0c8fdc",
   "metadata": {},
   "outputs": [],
   "source": [
    "exp.training_plan().export_model('./training_plan2_densenet')"
   ]
  },
  {
   "cell_type": "markdown",
   "id": "6b0d0941-fcb4-485a-a3b8-c2a0107956f9",
   "metadata": {},
   "source": [
    "## Fine-tune : train last layers before classification "
   ]
  },
  {
   "cell_type": "code",
   "execution_count": null,
   "id": "e26cf87a-268a-46dd-96a4-9e5f83e0ff8f",
   "metadata": {},
   "outputs": [],
   "source": [
    "class MyTrainingPlan3(TorchTrainingPlan):\n",
    "\n",
    "    def init_model(self, model_args):\n",
    "        model = models.densenet121(pretrained=True)\n",
    "        # For example, let's freeze all layers up to the second-to-last dense block\n",
    "        for param in model.features[:-6].parameters():\n",
    "            param.requires_grad = False\n",
    "\n",
    "        # Modify the classifier to match the number of classes in your dataset\n",
    "        num_ftrs = model.classifier.in_features\n",
    "        num_classes = model_args['num_classes'] \n",
    "        model.classifier = nn.Sequential(\n",
    "            nn.Linear(num_ftrs, 128),\n",
    "            nn.ReLU(inplace=True),\n",
    "            nn.Linear(128, num_classes)\n",
    "            )\n",
    "        \n",
    "        return model\n",
    "\n",
    "    def init_dependencies(self):\n",
    "        return [\n",
    "            \"import pandas as pd\",\n",
    "            \"from PIL import Image\",\n",
    "            \"from torchvision import datasets, transforms, models\",\n",
    "            \"from torch.utils.data import Dataset\",\n",
    "            \"import torch.optim as optim\"\n",
    "        ]\n",
    "\n",
    "\n",
    "    def init_optimizer(self, optimizer_args):        \n",
    "        return optim.Adam(self.model().parameters(), lr=optimizer_args[\"lr\"])\n",
    "\n",
    "    # training data\n",
    "    class CustomDatasetFedBioMed(Dataset):\n",
    "        def __init__(self, dataset_path: str, transform=None):\n",
    "            self.dataframe = pd.read_csv(dataset_path, index_col=0)\n",
    "            \n",
    "            self.transform = transforms.Compose([\n",
    "                transforms.Resize((224,224)),  \n",
    "                transforms.RandomHorizontalFlip(p=0.5),\n",
    "                transforms.RandomVerticalFlip(p=0.5),\n",
    "                transforms.RandomRotation(30),\n",
    "                transforms.RandomResizedCrop(224, scale=(0.8, 1.0)),\n",
    "                transforms.ToTensor(),\n",
    "                transforms.Normalize(mean = [0.485, 0.456, 0.406], std = [0.229, 0.224, 0.225])\n",
    "           ])\n",
    "    \n",
    "        def __len__(self):\n",
    "            return len(self.dataframe)\n",
    "    \n",
    "        def __getitem__(self, idx):\n",
    "            \n",
    "            img_path = self.dataframe.iloc[idx, 0]  # the file path is in the first column\n",
    "            print(img_path)\n",
    "            image = Image.open(img_path).convert(\"RGB\")\n",
    "    \n",
    "            label = self.dataframe.iloc[idx, 1]  # the class label is in the second column\n",
    "    \n",
    "            if self.transform:\n",
    "                image = self.transform(image)\n",
    "    \n",
    "            label = torch.tensor(label, dtype=torch.long)  # if it returns a tuple instead of a tensor\n",
    "    \n",
    "            return image, label \n",
    "\n",
    "    def training_data(self):\n",
    "        dataset = self.CustomDatasetFedBioMed(self.dataset_path)\n",
    "        return DataManager(dataset)\n",
    "\n",
    "    def training_step(self, data, target):\n",
    "        output = self.model().forward(data)\n",
    "        loss_func = nn.CrossEntropyLoss()\n",
    "        loss   = loss_func(output, target)\n",
    "        return loss\n",
    "\n",
    "\n"
   ]
  },
  {
   "cell_type": "code",
   "execution_count": null,
   "id": "1b7db972-86fb-4c43-a55b-7b92afafc942",
   "metadata": {},
   "outputs": [],
   "source": [
    "training_args = {\n",
    "    'loader_args': { 'batch_size': 32, }, \n",
    "    'optimizer_args': {'lr': 1e-4}, \n",
    "    'epochs': 1, \n",
    "    'dry_run': False,  \n",
    "    'batch_maxnum': 100 # Fast pass for development : only use ( batch_maxnum * batch_size ) samples\n",
    "}\n",
    "\n",
    "model_args = {\n",
    "    'num_classes': 2\n",
    "}"
   ]
  },
  {
   "cell_type": "code",
   "execution_count": null,
   "id": "63702f14-45a4-43d7-b2b5-8545f036840b",
   "metadata": {},
   "outputs": [],
   "source": [
    "tags =  ['cancer']\n",
    "rounds = 1\n",
    "\n",
    "\n",
    "exp = Experiment(tags=tags,\n",
    "                 training_plan_class=MyTrainingPlan3,\n",
    "                 model_args=model_args,\n",
    "                 training_args=training_args,\n",
    "                 round_limit=rounds,\n",
    "                 aggregator=FedAverage())\n",
    "\n",
    "\n",
    "from fedbiomed.common.metrics import MetricTypes\n",
    "exp.set_test_ratio(.1)\n",
    "exp.set_test_on_local_updates(True)\n",
    "exp.set_test_metric(MetricTypes.ACCURACY)\n",
    "\n",
    "exp.set_tensorboard(True)"
   ]
  },
  {
   "cell_type": "code",
   "execution_count": null,
   "id": "727b0102-4083-4380-aead-fbced9448b93",
   "metadata": {},
   "outputs": [],
   "source": [
    "from fedbiomed.researcher.environ import environ\n",
    "tensorboard_dir = environ['TENSORBOARD_RESULTS_DIR']"
   ]
  },
  {
   "cell_type": "code",
   "execution_count": null,
   "id": "16c368be-84c5-4324-ac2d-b3ef01c43592",
   "metadata": {},
   "outputs": [],
   "source": [
    "%load_ext tensorboard"
   ]
  },
  {
   "cell_type": "code",
   "execution_count": null,
   "id": "8fcea3c7-5a65-4b9e-8a28-3cfb17846359",
   "metadata": {},
   "outputs": [],
   "source": [
    "%tensorboard --logdir \"$tensorboard_dir\""
   ]
  },
  {
   "cell_type": "code",
   "execution_count": null,
   "id": "17a96a5d-614c-49fc-b9b4-8199ed138be0",
   "metadata": {},
   "outputs": [],
   "source": [
    "exp.run()"
   ]
  },
  {
   "cell_type": "code",
   "execution_count": null,
   "id": "09a82add-678b-48cb-a81f-29958203cd50",
   "metadata": {},
   "outputs": [],
   "source": [
    "exp.training_plan().export_model('./training_planxxxxx')"
   ]
  }
 ],
 "metadata": {
  "kernelspec": {
   "display_name": "Python 3 (ipykernel)",
   "language": "python",
   "name": "python3"
  },
  "language_info": {
   "codemirror_mode": {
    "name": "ipython",
    "version": 3
   },
   "file_extension": ".py",
   "mimetype": "text/x-python",
   "name": "python",
   "nbconvert_exporter": "python",
   "pygments_lexer": "ipython3",
   "version": "3.10.13"
  }
 },
 "nbformat": 4,
 "nbformat_minor": 5
}
