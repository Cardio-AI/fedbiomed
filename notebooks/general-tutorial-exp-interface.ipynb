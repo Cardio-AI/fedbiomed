{
 "cells": [
  {
   "cell_type": "markdown",
   "metadata": {},
   "source": [
    "# In Depth Experiment Configuration"
   ]
  },
  {
   "cell_type": "markdown",
   "metadata": {},
   "source": [
    "The experiment class provides an interface that you can manage your experiment with backward compatibility. It means that even your Experiment has been built/defined you will be able to configure its parameters. This feature will provide more control over your experiment even after your running your experiment for several rounds. In this tutorial, detailed experiment interface will be explained using MNIST basic example."
   ]
  },
  {
   "attachments": {},
   "cell_type": "markdown",
   "metadata": {},
   "source": [
    "## Configuring Environment\n",
    "Before running this notebook, you need to configure your environment by completing following steps:\n",
    "\n",
    "### Deploying MNIST Dataset in the None\n",
    "Please run following command to add MNIST dataset into your Node. This command will deploy MNIST dataset in your default node whose config file is located in `${FEDBIOMED_DIR}/etc` directory as `config_node.ini`\n",
    "\n",
    "After running following command, please select data type `2) default`, use default `tags` and select the folder where MNIST dataset will be saved.\n",
    "\n",
    "```shell\n",
    "${FEDBIOMED_DIR}/scripts/fedbiomed_run node add\n",
    "```\n",
    "\n",
    "### Starting the Node\n",
    " After you have successfully completed previous step, please run following command to start your node.\n",
    "\n",
    "```shell\n",
    "${FEDBIOMED_DIR}/scripts/fedbiomed_run node start\n",
    "```"
   ]
  },
  {
   "cell_type": "markdown",
   "metadata": {},
   "source": [
    "## Creating a Training Plan\n",
    "\n",
    "Before declaring an experiment, the training plan that will be used for federated training should be defined. The model that is goıng to be used is exactly the same training plan that has been created in the Basic MNIST tutorial. We recommend you to follow Basic MNIST tutorial on PyTorch Framework to understand following steps."
   ]
  },
  {
   "cell_type": "code",
   "execution_count": 1,
   "metadata": {},
   "outputs": [],
   "source": [
    "import torch\n",
    "import torch.nn as nn\n",
    "from fedbiomed.common.training_plans import TorchTrainingPlan\n",
    "from fedbiomed.common.data import DataManager\n",
    "from torchvision import datasets, transforms\n",
    "\n",
    "\n",
    "# Here we define the model to be used. \n",
    "# You can use any class name (here 'Net')\n",
    "class MyTrainingPlan(TorchTrainingPlan):\n",
    "    \n",
    "    # Defines and return model \n",
    "    def init_model(self, model_args):\n",
    "        return self.Net(model_args = model_args)\n",
    "    \n",
    "    # Defines and return optimizer\n",
    "    def init_optimizer(self, optimizer_args):\n",
    "        return torch.optim.Adam(self.model().parameters(), lr = optimizer_args[\"lr\"])\n",
    "    \n",
    "    # Declares and return dependencies\n",
    "    def init_dependencies(self):\n",
    "        deps = [\"from torchvision import datasets, transforms\"]\n",
    "        return deps\n",
    "    \n",
    "    class Net(nn.Module):\n",
    "        def __init__(self, model_args):\n",
    "            super().__init__()\n",
    "            self.conv1 = nn.Conv2d(1, 32, 3, 1)\n",
    "            self.conv2 = nn.Conv2d(32, 64, 3, 1)\n",
    "            self.dropout1 = nn.Dropout(0.25)\n",
    "            self.dropout2 = nn.Dropout(0.5)\n",
    "            self.fc1 = nn.Linear(9216, 128)\n",
    "            self.fc2 = nn.Linear(128, 10)\n",
    "\n",
    "        def forward(self, x):\n",
    "            x = self.conv1(x)\n",
    "            x = F.relu(x)\n",
    "            x = self.conv2(x)\n",
    "            x = F.relu(x)\n",
    "            x = F.max_pool2d(x, 2)\n",
    "            x = self.dropout1(x)\n",
    "            x = torch.flatten(x, 1)\n",
    "            x = self.fc1(x)\n",
    "            x = F.relu(x)\n",
    "            x = self.dropout2(x)\n",
    "            x = self.fc2(x)\n",
    "\n",
    "\n",
    "            output = F.log_softmax(x, dim=1)\n",
    "            return output\n",
    "\n",
    "    def training_data(self):\n",
    "        # Custom torch Dataloader for MNIST data\n",
    "        transform = transforms.Compose([transforms.ToTensor(),\n",
    "        transforms.Normalize((0.1307,), (0.3081,))])\n",
    "        dataset1 = datasets.MNIST(self.dataset_path, train=True, download=False, transform=transform)\n",
    "        train_kwargs = { 'shuffle': True}\n",
    "        return DataManager(dataset=dataset1, **train_kwargs)\n",
    "    \n",
    "    def training_step(self, data, target):\n",
    "        output = self.model().forward(data)\n",
    "        loss   = torch.nn.functional.nll_loss(output, target)\n",
    "        return loss\n"
   ]
  },
  {
   "cell_type": "markdown",
   "metadata": {},
   "source": [
    "## Creating an Experiment Step by Step  \n",
    "\n",
    "The experiment class can be created without passing any argument. This will just build an empty experiment object. Afterwards, you will be able to define your arguments using setters of the experiment object.\n",
    "\n",
    "\n",
    "<div class=\"note\"><p>It is always possible to create a fully configured experiment by passing all arguments during the initialization. You can also create your experiment with some of the arguments and set the other arguments after.</p></div>\n",
    "\n",
    "### Building an Empty Experiment\n"
   ]
  },
  {
   "cell_type": "markdown",
   "metadata": {},
   "source": [
    "After building an empty experiment you won't be able to perform federated training, since it is not fully configured. That's why the output of the initialization will always remind you that the experiment is not fully configured."
   ]
  },
  {
   "cell_type": "code",
   "execution_count": 2,
   "metadata": {},
   "outputs": [
    {
     "name": "stderr",
     "output_type": "stream",
     "text": [
      "2024-01-09 11:30:11,494 fedbiomed WARNING - Importing Experiment class from the researcher package has been deprecated. Please use the following import statement instead:\n",
      "from fedbiomed.researcher.federated_workflows import Experiment\n",
      "2024-01-09 11:30:11,495 fedbiomed INFO - Starting researcher service...\n",
      "2024-01-09 11:30:11,496 fedbiomed INFO - Waiting 3s for nodes to connect...\n",
      "2024-01-09 11:30:11,830 fedbiomed DEBUG - Node: NODE_2277a35a-722f-4a30-8a60-85cf8d873d82 polling for the tasks\n",
      "2024-01-09 11:30:11,831 fedbiomed DEBUG - Node: NODE_fbc33f24-6d43-4d43-9031-ed1c4981a72b polling for the tasks\n",
      "2024-01-09 11:30:14,511 fedbiomed DEBUG - Experiment not fully configured yet: no training data\n",
      "2024-01-09 11:30:14,515 fedbiomed DEBUG - Experiment not fully configured yet: no node selection strategy\n"
     ]
    }
   ],
   "source": [
    "from fedbiomed.researcher.federated_workflows import Experiment\n",
    "exp = Experiment()"
   ]
  },
  {
   "cell_type": "markdown",
   "metadata": {},
   "source": [
    "### Displaying Current Status of Experiment\n",
    "As an addition to output of the initialization, to find out more about the current status of the experiment, you can call the `info()` method of your experiment object. This method will print the information about your experiment and what you should complete to be able to start your federated training."
   ]
  },
  {
   "cell_type": "code",
   "execution_count": 3,
   "metadata": {},
   "outputs": [
    {
     "name": "stdout",
     "output_type": "stream",
     "text": [
      "Arguments             Values\n",
      "--------------------  ------------------------------------------------------------\n",
      "Aggregator            FedAverage\n",
      "Strategy              None\n",
      "Aggregator Optimizer  None\n",
      "Rounds already run    0\n",
      "Rounds total          None\n",
      "Breakpoint State      False\n",
      "Training Plan Class   None\n",
      "Model Arguments       None\n",
      "Tags                  None\n",
      "Nodes filter          None\n",
      "Training Data         None\n",
      "Training Arguments    {'optimizer_args': {}, 'loader_args': {}, 'epochs': None, 'n\n",
      "                      um_updates': None, 'dry_run': False, 'batch_maxnum': None, '\n",
      "                      test_ratio': 0.0, 'test_on_local_updates': False, 'test_on_g\n",
      "                      lobal_updates': False, 'test_metric': None, 'test_metric_arg\n",
      "                      s': {}, 'log_interval': 10, 'fedprox_mu': None, 'use_gpu': F\n",
      "                      alse, 'dp_args': None, 'share_persistent_buffers': True, 'ra\n",
      "                      ndom_seed': None}\n",
      "Experiment folder     Experiment_0005\n",
      "Experiment Path       /home/ybouilla/github/fedbiomed_ssh/fedbiomed/var/experiment\n",
      "                      s/Experiment_0005\n",
      "Secure Aggregation    - Using: <fedbiomed.researcher.secagg._secure_aggregation.Se\n",
      "                      cureAggregation object at 0x7fe7946218d0>\n",
      "                      - Active: False\n"
     ]
    },
    {
     "data": {
      "text/plain": [
       "{'Arguments': ['Aggregator',\n",
       "  'Strategy',\n",
       "  'Aggregator Optimizer',\n",
       "  'Rounds already run',\n",
       "  'Rounds total',\n",
       "  'Breakpoint State',\n",
       "  'Training Plan Class',\n",
       "  'Model Arguments',\n",
       "  'Tags',\n",
       "  'Nodes filter',\n",
       "  'Training Data',\n",
       "  'Training Arguments',\n",
       "  'Experiment folder',\n",
       "  'Experiment Path',\n",
       "  'Secure Aggregation'],\n",
       " 'Values': ['FedAverage',\n",
       "  'None',\n",
       "  'None',\n",
       "  '0',\n",
       "  'None',\n",
       "  'False',\n",
       "  'None',\n",
       "  'None',\n",
       "  'None',\n",
       "  'None',\n",
       "  'None',\n",
       "  \"{'optimizer_args': {}, 'loader_args': {}, 'epochs': None, 'n\\num_updates': None, 'dry_run': False, 'batch_maxnum': None, '\\ntest_ratio': 0.0, 'test_on_local_updates': False, 'test_on_g\\nlobal_updates': False, 'test_metric': None, 'test_metric_arg\\ns': {}, 'log_interval': 10, 'fedprox_mu': None, 'use_gpu': F\\nalse, 'dp_args': None, 'share_persistent_buffers': True, 'ra\\nndom_seed': None}\",\n",
       "  'Experiment_0005',\n",
       "  '/home/ybouilla/github/fedbiomed_ssh/fedbiomed/var/experiment\\ns/Experiment_0005',\n",
       "  '- Using: <fedbiomed.researcher.secagg._secure_aggregation.Se\\ncureAggregation object at 0x7fe7946218d0>\\n- Active: False']}"
      ]
     },
     "execution_count": 3,
     "metadata": {},
     "output_type": "execute_result"
    }
   ],
   "source": [
    "exp.info()"
   ]
  },
  {
   "cell_type": "markdown",
   "metadata": {},
   "source": [
    "Based on the output, some arguments are defined with default values, while others are not. Model arguments, training arguments, tags, round limit, training data etc. have no default value, and they are required to be set. However, these arguments are related to each other. For example, to be able to define your federated training data you need to define the `tags` first, and then while setting your training data argument, experiment will be able to send search request to the nodes to receive information about the datasets. These relations between the arguments will be explained in the following steps."
   ]
  },
  {
   "cell_type": "markdown",
   "metadata": {},
   "source": []
  },
  {
   "cell_type": "code",
   "execution_count": 3,
   "metadata": {},
   "outputs": [
    {
     "name": "stdout",
     "output_type": "stream",
     "text": [
      "\n",
      "--------------------\n",
      "Fed-BioMed researcher stopped due to exception:\n",
      "Experiment not fully configured yet: no job. Missing training data\n",
      "--------------------\n"
     ]
    },
    {
     "ename": "FedbiomedSilentTerminationError",
     "evalue": "",
     "output_type": "error",
     "traceback": []
    },
    {
     "name": "stderr",
     "output_type": "stream",
     "text": [
      "2024-01-09 11:31:11,824 fedbiomed DEBUG - Node: NODE_2277a35a-722f-4a30-8a60-85cf8d873d82 polling for the tasks\n",
      "2024-01-09 11:31:11,826 fedbiomed DEBUG - Node: NODE_fbc33f24-6d43-4d43-9031-ed1c4981a72b polling for the tasks\n"
     ]
    }
   ],
   "source": [
    "\n"
   ]
  },
  {
   "cell_type": "markdown",
   "metadata": {},
   "source": [
    "### Setting Model and Training Arguments\n",
    "In the previous step, the model has been defined for your experiment. Now, you can define your model arguments and training arguments that will be used respectively for building your model class and training your model on the node side. The methods `set_model_args` and `set_training_args` of the experiment class will allow you to set these arguments.\n",
    "\n",
    "<div class=\"\">\n",
    "    <p>There isn't any requirement on the order of defining model class and mode/training arguments. It is also possible to\n",
    "        define model/training arguments first and model class after. \n",
    "    </p>    \n",
    "<div>\n"
   ]
  },
  {
   "cell_type": "code",
   "execution_count": 7,
   "metadata": {
    "pycharm": {
     "name": "#%%\n"
    }
   },
   "outputs": [
    {
     "data": {
      "text/plain": [
       "{'loader_args': {'batch_size': 48},\n",
       " 'optimizer_args': {'lr': 0.001},\n",
       " 'epochs': 1,\n",
       " 'dry_run': False,\n",
       " 'batch_maxnum': 100,\n",
       " 'num_updates': None,\n",
       " 'test_ratio': 0.0,\n",
       " 'test_on_local_updates': False,\n",
       " 'test_on_global_updates': False,\n",
       " 'test_metric': None,\n",
       " 'test_metric_args': {},\n",
       " 'log_interval': 10,\n",
       " 'fedprox_mu': None,\n",
       " 'use_gpu': False,\n",
       " 'dp_args': None,\n",
       " 'share_persistent_buffers': True,\n",
       " 'random_seed': None}"
      ]
     },
     "execution_count": 7,
     "metadata": {},
     "output_type": "execute_result"
    },
    {
     "name": "stderr",
     "output_type": "stream",
     "text": [
      "2024-01-09 11:00:36,626 fedbiomed DEBUG - Node: NODE_fbc33f24-6d43-4d43-9031-ed1c4981a72b polling for the tasks\n"
     ]
    }
   ],
   "source": [
    "# Model arguments should be an empty Dict, since our model does not require \n",
    "# any argument for initialization\n",
    "model_args = {}\n",
    "\n",
    "# Training Arguments\n",
    "training_args = {\n",
    "    'loader_args': { 'batch_size': 48, }, \n",
    "    'optimizer_args': {\n",
    "        'lr': 1e-3, \n",
    "    },\n",
    "    'epochs': 1, \n",
    "    'dry_run': False,  \n",
    "    'batch_maxnum': 100 # Fast pass for development : only use ( batch_maxnum * batch_size ) samples\n",
    "}\n",
    "\n",
    "exp.set_model_args(model_args=model_args)\n",
    "exp.set_training_args(training_args=training_args)"
   ]
  },
  {
   "cell_type": "markdown",
   "metadata": {},
   "source": [
    "### Setting Tags"
   ]
  },
  {
   "cell_type": "markdown",
   "metadata": {},
   "source": [
    "The tags for the dataset search request can be set using `set_tags` method of experiment object. \n",
    "\n",
    "<br><div class=\"note\"><p>Setting tags does not mean sending dataset search request. Search request is sent while setting training data. `tags` is the argument that is required for the search request.</p></div>\n",
    "\n",
    "The arguments `tags` of `set_tags` method should be an array of tags which are in `string` type or just a tag in `string` type."
   ]
  },
  {
   "cell_type": "code",
   "execution_count": 8,
   "metadata": {},
   "outputs": [
    {
     "data": {
      "text/plain": [
       "['#MNIST', '#dataset']"
      ]
     },
     "execution_count": 8,
     "metadata": {},
     "output_type": "execute_result"
    }
   ],
   "source": [
    "tags = ['#MNIST', '#dataset']\n",
    "exp.set_tags(tags = tags)"
   ]
  },
  {
   "cell_type": "markdown",
   "metadata": {},
   "source": [
    "To see the tags that are set, you can run `tags()` method of experiment object. "
   ]
  },
  {
   "cell_type": "code",
   "execution_count": 9,
   "metadata": {},
   "outputs": [
    {
     "data": {
      "text/plain": [
       "['#MNIST', '#dataset']"
      ]
     },
     "execution_count": 9,
     "metadata": {},
     "output_type": "execute_result"
    }
   ],
   "source": [
    "exp.tags()"
   ]
  },
  {
   "cell_type": "markdown",
   "metadata": {},
   "source": [
    "### Setting Nodes\n",
    "The `nodes` arguments indicates the nodes that are going to be used for the experiment. By default, it is equal to `None` which means every node up and running will be part of the experiment as long as they have the dataset that is going to be used for training. If the `nodes` has been set in advance, the search request for the dataset search will be sent only the nodes that are indicated. You can set nodes using the method `set_nodes(noes=nodes)`. This method takes `nodes` argument which should be an array of node ids which are in `string` type or just a single node id as `string`.\n",
    "\n",
    "Since the node ids can change randomly, to make this notebook runnable in all environments, we won't be setting nodes for the experiment.\n"
   ]
  },
  {
   "cell_type": "markdown",
   "metadata": {},
   "source": [
    "### Setting Training Data\n",
    "Training data is a `FederatedDataSet` instance which comes from the module `fedbiomed.researcher.datasets`. There are several ways to define your training data.\n",
    "\n",
    "1. You can run `set_training_data(training_data=None, from_tags=True)`. This will send search request to the nodes to get dataset information by using the `tags` which are defined before.\n",
    "2. You can provide `training_data` argument which is an instance of `FederatedDataSet`. \n",
    "3. You can provide `training_data` argument as python `dict` and setter will create a `FederatedDataSet` object by itself.\n",
    "\n",
    "While using the last option please make sure that your `dict` object is configured as coherent to `FederatedDataSet` schema. Otherwise, you might get error while running your experiment.\n",
    "\n",
    "A `FederatedDataSet` object must have **one unique** dataset per node to ensure training uses only one dataset for each node. This is checked and enforced when creating a `FederatedDataSet`\n",
    "\n",
    "If you run `set_training_data(training_data=None)`. No training data is defined yet for the experiment (`training_data` is set to `None`).\n"
   ]
  },
  {
   "cell_type": "code",
   "execution_count": 10,
   "metadata": {},
   "outputs": [
    {
     "name": "stderr",
     "output_type": "stream",
     "text": [
      "2024-01-09 11:00:42,914 fedbiomed DEBUG - Node: NODE_fbc33f24-6d43-4d43-9031-ed1c4981a72b polling for the tasks\n",
      "2024-01-09 11:00:42,917 fedbiomed DEBUG - Node: NODE_2277a35a-722f-4a30-8a60-85cf8d873d82 polling for the tasks\n",
      "2024-01-09 11:00:42,919 fedbiomed INFO - Node selected for training -> NODE_2277a35a-722f-4a30-8a60-85cf8d873d82\n",
      "2024-01-09 11:00:42,920 fedbiomed INFO - Node selected for training -> NODE_fbc33f24-6d43-4d43-9031-ed1c4981a72b\n"
     ]
    }
   ],
   "source": [
    "training_data = exp.set_training_data(training_data=None, from_tags=True)"
   ]
  },
  {
   "cell_type": "markdown",
   "metadata": {},
   "source": [
    "Since it will send search request to the nodes, the output will inform you about selected nodes for training. It means that those nodes have the dataset and able to train your model.\n",
    "\n",
    "`set_training_data` will return a `FederatedDataSet` object. You can either use the return value of the setter or the getter for training data which is `training_data()`."
   ]
  },
  {
   "cell_type": "code",
   "execution_count": 11,
   "metadata": {},
   "outputs": [
    {
     "name": "stderr",
     "output_type": "stream",
     "text": [
      "2024-01-09 11:00:51,485 fedbiomed DEBUG - Node: NODE_fbc33f24-6d43-4d43-9031-ed1c4981a72b polling for the tasks\n"
     ]
    }
   ],
   "source": [
    "training_data = exp.training_data()"
   ]
  },
  {
   "cell_type": "markdown",
   "metadata": {},
   "source": [
    "To inspect the result in detail you can call the method `data()` of the `FederatedDataSet` object. This will return a python dictionary that includes information about the datasets that has been found in the nodes. "
   ]
  },
  {
   "cell_type": "code",
   "execution_count": 12,
   "metadata": {},
   "outputs": [
    {
     "data": {
      "text/plain": [
       "{'NODE_2277a35a-722f-4a30-8a60-85cf8d873d82': {'name': 'MNIST',\n",
       "  'data_type': 'default',\n",
       "  'tags': ['#MNIST', '#dataset'],\n",
       "  'description': 'MNIST database',\n",
       "  'shape': [60000, 1, 28, 28],\n",
       "  'dataset_id': 'dataset_12994421-68ab-4c5a-b589-18633081ec9e',\n",
       "  'dtypes': [],\n",
       "  'dataset_parameters': None},\n",
       " 'NODE_fbc33f24-6d43-4d43-9031-ed1c4981a72b': {'name': 'MNIST',\n",
       "  'data_type': 'default',\n",
       "  'tags': ['#MNIST', '#dataset'],\n",
       "  'description': 'MNIST database',\n",
       "  'shape': [60000, 1, 28, 28],\n",
       "  'dataset_id': 'dataset_076711ca-794f-44b8-a784-5b30cc7f6df8',\n",
       "  'dtypes': [],\n",
       "  'dataset_parameters': None}}"
      ]
     },
     "execution_count": 12,
     "metadata": {},
     "output_type": "execute_result"
    }
   ],
   "source": [
    "training_data.data()"
   ]
  },
  {
   "cell_type": "markdown",
   "metadata": {},
   "source": [
    "As it is mentioned before, setting training data once doesn't mean that you can't change it. You can create a new `FederatedDataSet` with a `dict` that includes the information about the datasets. This will allow you to select the datasets that will be used for federated training.\n",
    "\n",
    "<div class=\"note\"><p>Since the dataset information will be provided, there will be no need to send request to the nodes</p></div>"
   ]
  },
  {
   "cell_type": "code",
   "execution_count": 13,
   "metadata": {},
   "outputs": [
    {
     "data": {
      "text/plain": [
       "<fedbiomed.researcher.datasets.FederatedDataSet at 0x7fe6bc8e7010>"
      ]
     },
     "execution_count": 13,
     "metadata": {},
     "output_type": "execute_result"
    }
   ],
   "source": [
    "from fedbiomed.researcher.datasets import FederatedDataSet \n",
    "\n",
    "tr_data = training_data.data()\n",
    "federated_dataset = FederatedDataSet(tr_data)\n",
    "exp.set_training_data(training_data = federated_dataset)"
   ]
  },
  {
   "cell_type": "markdown",
   "metadata": {},
   "source": [
    "Or, you can directly use `tr_data` in `set_training_data()`"
   ]
  },
  {
   "cell_type": "code",
   "execution_count": 14,
   "metadata": {},
   "outputs": [
    {
     "data": {
      "text/plain": [
       "<fedbiomed.researcher.datasets.FederatedDataSet at 0x7fe6bc8e5270>"
      ]
     },
     "execution_count": 14,
     "metadata": {},
     "output_type": "execute_result"
    }
   ],
   "source": [
    "exp.set_training_data(training_data = tr_data)"
   ]
  },
  {
   "cell_type": "markdown",
   "metadata": {},
   "source": [
    "<div class=\"note\">\n",
    "    <p>\n",
    "        If you change the tags for the dataset by using <code>set_tags</code> and if there is already a defined training data in your experiment object, you have to update your training data by running <code>exp.set_training_data(training_data=None)</code>.  \n",
    "    </p>\n",
    "</div>"
   ]
  },
  {
   "cell_type": "markdown",
   "metadata": {},
   "source": [
    "### Setting Training Plan for The Experiment\n",
    "\n",
    "The training plan that is going to be used for training can be set in the experiment using the method `set_training_plan_class`."
   ]
  },
  {
   "cell_type": "code",
   "execution_count": null,
   "metadata": {},
   "outputs": [],
   "source": [
    "exp.set_training_plan_class(training_plan_class=MyTrainingPlan)"
   ]
  },
  {
   "cell_type": "markdown",
   "metadata": {},
   "source": [
    "### Setting an Aggregator  \n",
    "\n",
    "An aggregator is one of the required arguments for the experiment. It is used for aggregating model parameters that are received from the nodes after every round. By default, when the experiment is initialized without passing any aggregator, it will automatically use the default `FedAverage` aggregator class. However, it is also possible to set a different aggregation algorithm with the method `set_aggregator`. Currently, Fed-BioMed has only `FedAverage` but it is possible to create a custom aggregator classes.\n",
    "\n",
    "You can see the current aggregator by running `exp.aggregator()`. It will return the aggregator object that will be used for aggregation. "
   ]
  },
  {
   "cell_type": "code",
   "execution_count": 16,
   "metadata": {},
   "outputs": [
    {
     "data": {
      "text/plain": [
       "<fedbiomed.researcher.aggregators.fedavg.FedAverage at 0x7fe6bc8e5c00>"
      ]
     },
     "execution_count": 16,
     "metadata": {},
     "output_type": "execute_result"
    }
   ],
   "source": [
    "exp.aggregator()"
   ]
  },
  {
   "cell_type": "markdown",
   "metadata": {},
   "source": [
    "If we supposed that you have created your own aggregator, you can set it as follows,"
   ]
  },
  {
   "cell_type": "code",
   "execution_count": 17,
   "metadata": {},
   "outputs": [
    {
     "data": {
      "text/plain": [
       "<fedbiomed.researcher.aggregators.fedavg.FedAverage at 0x7fe6bc8e70d0>"
      ]
     },
     "execution_count": 17,
     "metadata": {},
     "output_type": "execute_result"
    },
    {
     "name": "stderr",
     "output_type": "stream",
     "text": [
      "2024-01-09 11:01:30,848 fedbiomed DEBUG - Node: NODE_2277a35a-722f-4a30-8a60-85cf8d873d82 polling for the tasks\n",
      "2024-01-09 11:01:51,487 fedbiomed DEBUG - Node: NODE_fbc33f24-6d43-4d43-9031-ed1c4981a72b polling for the tasks\n"
     ]
    }
   ],
   "source": [
    "from fedbiomed.researcher.aggregators.fedavg import FedAverage\n",
    "exp.set_aggregator(aggregator=FedAverage)"
   ]
  },
  {
   "cell_type": "markdown",
   "metadata": {},
   "source": [
    "If your aggregator class needs initialization parameters, you can build your class and pass as an object ."
   ]
  },
  {
   "cell_type": "code",
   "execution_count": 18,
   "metadata": {},
   "outputs": [
    {
     "data": {
      "text/plain": [
       "<fedbiomed.researcher.aggregators.fedavg.FedAverage at 0x7fe6bc8e7d90>"
      ]
     },
     "execution_count": 18,
     "metadata": {},
     "output_type": "execute_result"
    }
   ],
   "source": [
    "fed_average = FedAverage()\n",
    "exp.set_aggregator(aggregator=fed_average)"
   ]
  },
  {
   "cell_type": "markdown",
   "metadata": {},
   "source": [
    "### Setting Node Selection Strategy\n",
    "\n",
    "Node selection Strategy is also one of the required arguments for the experiment. It is used for selecting nodes before each round of training. Since the strategy will be used for selecting nodes, before setting the strategy, training data should be already set. Then, strategy will be able to which nodes are current with their dataset.\n",
    "\n",
    "By default, `set_strategy(node_selection_strategy=None)` will use the default `DefaultStrategy` class. It is default strategy that selects all the nodes available with their datasets at the moment. However, it is also possible to set different strategies. Currently, Fed-BioMed has only `DefaultStrategy` but you can create your custom strategy classes.\n",
    "\n"
   ]
  },
  {
   "cell_type": "code",
   "execution_count": 19,
   "metadata": {},
   "outputs": [
    {
     "data": {
      "text/plain": [
       "<fedbiomed.researcher.strategies.default_strategy.DefaultStrategy at 0x7fe6bc8e66b0>"
      ]
     },
     "execution_count": 19,
     "metadata": {},
     "output_type": "execute_result"
    },
    {
     "name": "stderr",
     "output_type": "stream",
     "text": [
      "2024-01-09 11:02:30,849 fedbiomed DEBUG - Node: NODE_2277a35a-722f-4a30-8a60-85cf8d873d82 polling for the tasks\n"
     ]
    }
   ],
   "source": [
    "exp.set_strategy(node_selection_strategy=None)"
   ]
  },
  {
   "cell_type": "markdown",
   "metadata": {},
   "source": [
    "Or, you can directly pass `DefaultStrategy`"
   ]
  },
  {
   "cell_type": "code",
   "execution_count": 20,
   "metadata": {},
   "outputs": [
    {
     "data": {
      "text/plain": [
       "<fedbiomed.researcher.strategies.default_strategy.DefaultStrategy at 0x7fe6bc8e7e80>"
      ]
     },
     "execution_count": 20,
     "metadata": {},
     "output_type": "execute_result"
    }
   ],
   "source": [
    "from fedbiomed.researcher.strategies.default_strategy import DefaultStrategy\n",
    "exp.set_strategy(node_selection_strategy=DefaultStrategy)\n",
    "\n",
    "# To make the strategy has been set\n",
    "exp.strategy()"
   ]
  },
  {
   "cell_type": "markdown",
   "metadata": {},
   "source": [
    "### Setting Round Limit\n",
    "\n",
    "Round limit is the limit that indicates max number of rounds of the training. By default, it is `None` and it needs to be set before running your experiment. You can set the round limit with the method `set_round_limit`. Round limit can  be changed after running one or several rounds of training. You can always execute `exp.round_limit()` to see current round limit."
   ]
  },
  {
   "cell_type": "code",
   "execution_count": 21,
   "metadata": {},
   "outputs": [
    {
     "data": {
      "text/plain": [
       "2"
      ]
     },
     "execution_count": 21,
     "metadata": {},
     "output_type": "execute_result"
    }
   ],
   "source": [
    "exp.set_round_limit(round_limit=2)\n",
    "exp.round_limit()"
   ]
  },
  {
   "cell_type": "markdown",
   "metadata": {},
   "source": [
    "### Setting Job to Manage Federated Training Rounds\n",
    "\n",
    "Job is a class that manages federated training rounds. Before setting job, strategy for selecting nodes, model and training data should be set. Therefore, please make sure that they all defined before setting job.  The method `set_job` creates the Job instance and it does not take any argument. "
   ]
  },
  {
   "cell_type": "code",
   "execution_count": 22,
   "metadata": {},
   "outputs": [
    {
     "ename": "AttributeError",
     "evalue": "'Experiment' object has no attribute 'set_job'",
     "output_type": "error",
     "traceback": [
      "\u001b[0;31m---------------------------------------------------------------------------\u001b[0m",
      "\u001b[0;31mAttributeError\u001b[0m                            Traceback (most recent call last)",
      "Cell \u001b[0;32mIn[22], line 1\u001b[0m\n\u001b[0;32m----> 1\u001b[0m \u001b[43mexp\u001b[49m\u001b[38;5;241;43m.\u001b[39;49m\u001b[43mset_job\u001b[49m()\n\u001b[1;32m      2\u001b[0m exp\u001b[38;5;241m.\u001b[39mjob()\n",
      "\u001b[0;31mAttributeError\u001b[0m: 'Experiment' object has no attribute 'set_job'"
     ]
    },
    {
     "name": "stderr",
     "output_type": "stream",
     "text": [
      "2024-01-09 11:02:51,484 fedbiomed DEBUG - Node: NODE_fbc33f24-6d43-4d43-9031-ed1c4981a72b polling for the tasks\n",
      "2024-01-09 11:03:06,621 fedbiomed DEBUG - Node: NODE_fbc33f24-6d43-4d43-9031-ed1c4981a72b polling for the tasks\n",
      "2024-01-09 11:03:30,847 fedbiomed DEBUG - Node: NODE_2277a35a-722f-4a30-8a60-85cf8d873d82 polling for the tasks\n",
      "2024-01-09 11:03:44,424 fedbiomed DEBUG - Node: NODE_2277a35a-722f-4a30-8a60-85cf8d873d82 polling for the tasks\n",
      "2024-01-09 11:04:06,616 fedbiomed DEBUG - Node: NODE_fbc33f24-6d43-4d43-9031-ed1c4981a72b polling for the tasks\n",
      "2024-01-09 11:04:14,014 fedbiomed DEBUG - Node: NODE_fbc33f24-6d43-4d43-9031-ed1c4981a72b polling for the tasks\n",
      "2024-01-09 11:04:44,423 fedbiomed DEBUG - Node: NODE_2277a35a-722f-4a30-8a60-85cf8d873d82 polling for the tasks\n",
      "2024-01-09 11:04:55,620 fedbiomed DEBUG - Node: NODE_2277a35a-722f-4a30-8a60-85cf8d873d82 polling for the tasks\n",
      "2024-01-09 11:05:14,008 fedbiomed DEBUG - Node: NODE_fbc33f24-6d43-4d43-9031-ed1c4981a72b polling for the tasks\n",
      "2024-01-09 11:05:22,213 fedbiomed DEBUG - Node: NODE_fbc33f24-6d43-4d43-9031-ed1c4981a72b polling for the tasks\n",
      "2024-01-09 11:05:55,617 fedbiomed DEBUG - Node: NODE_2277a35a-722f-4a30-8a60-85cf8d873d82 polling for the tasks\n",
      "2024-01-09 11:06:07,510 fedbiomed DEBUG - Node: NODE_2277a35a-722f-4a30-8a60-85cf8d873d82 polling for the tasks\n",
      "2024-01-09 11:06:22,213 fedbiomed DEBUG - Node: NODE_fbc33f24-6d43-4d43-9031-ed1c4981a72b polling for the tasks\n",
      "2024-01-09 11:06:33,052 fedbiomed DEBUG - Node: NODE_fbc33f24-6d43-4d43-9031-ed1c4981a72b polling for the tasks\n",
      "2024-01-09 11:07:07,505 fedbiomed DEBUG - Node: NODE_2277a35a-722f-4a30-8a60-85cf8d873d82 polling for the tasks\n",
      "2024-01-09 11:07:12,185 fedbiomed DEBUG - Node: NODE_2277a35a-722f-4a30-8a60-85cf8d873d82 polling for the tasks\n",
      "2024-01-09 11:07:33,046 fedbiomed DEBUG - Node: NODE_fbc33f24-6d43-4d43-9031-ed1c4981a72b polling for the tasks\n",
      "2024-01-09 11:07:46,342 fedbiomed DEBUG - Node: NODE_fbc33f24-6d43-4d43-9031-ed1c4981a72b polling for the tasks\n",
      "2024-01-09 11:08:12,179 fedbiomed DEBUG - Node: NODE_2277a35a-722f-4a30-8a60-85cf8d873d82 polling for the tasks\n",
      "2024-01-09 11:08:26,316 fedbiomed DEBUG - Node: NODE_2277a35a-722f-4a30-8a60-85cf8d873d82 polling for the tasks\n",
      "2024-01-09 11:08:46,342 fedbiomed DEBUG - Node: NODE_fbc33f24-6d43-4d43-9031-ed1c4981a72b polling for the tasks\n",
      "2024-01-09 11:09:01,289 fedbiomed DEBUG - Node: NODE_fbc33f24-6d43-4d43-9031-ed1c4981a72b polling for the tasks\n",
      "2024-01-09 11:09:26,312 fedbiomed DEBUG - Node: NODE_2277a35a-722f-4a30-8a60-85cf8d873d82 polling for the tasks\n",
      "2024-01-09 11:09:39,989 fedbiomed DEBUG - Node: NODE_2277a35a-722f-4a30-8a60-85cf8d873d82 polling for the tasks\n",
      "2024-01-09 11:10:01,290 fedbiomed DEBUG - Node: NODE_fbc33f24-6d43-4d43-9031-ed1c4981a72b polling for the tasks\n",
      "2024-01-09 11:10:08,981 fedbiomed DEBUG - Node: NODE_fbc33f24-6d43-4d43-9031-ed1c4981a72b polling for the tasks\n",
      "2024-01-09 11:10:39,990 fedbiomed DEBUG - Node: NODE_2277a35a-722f-4a30-8a60-85cf8d873d82 polling for the tasks\n",
      "2024-01-09 11:10:54,349 fedbiomed DEBUG - Node: NODE_2277a35a-722f-4a30-8a60-85cf8d873d82 polling for the tasks\n",
      "2024-01-09 11:11:08,982 fedbiomed DEBUG - Node: NODE_fbc33f24-6d43-4d43-9031-ed1c4981a72b polling for the tasks\n",
      "2024-01-09 11:11:23,846 fedbiomed DEBUG - Node: NODE_fbc33f24-6d43-4d43-9031-ed1c4981a72b polling for the tasks\n",
      "2024-01-09 11:11:54,344 fedbiomed DEBUG - Node: NODE_2277a35a-722f-4a30-8a60-85cf8d873d82 polling for the tasks\n",
      "2024-01-09 11:12:08,321 fedbiomed DEBUG - Node: NODE_2277a35a-722f-4a30-8a60-85cf8d873d82 polling for the tasks\n",
      "2024-01-09 11:12:23,848 fedbiomed DEBUG - Node: NODE_fbc33f24-6d43-4d43-9031-ed1c4981a72b polling for the tasks\n",
      "2024-01-09 11:12:34,418 fedbiomed DEBUG - Node: NODE_fbc33f24-6d43-4d43-9031-ed1c4981a72b polling for the tasks\n"
     ]
    }
   ],
   "source": [
    "exp.set_job()\n",
    "exp.job()"
   ]
  },
  {
   "cell_type": "markdown",
   "metadata": {},
   "source": [
    "### Setting Secure Aggregation\n",
    "\n",
    "Secure aggregation enables nodes to send encrypted updates to the researcher. Thus researcher cannot read cleartext updates from the nodes. Nevertheless, researcher can aggregate updates from the nodes. The aggregated model parameters are then in cleartext, and the researcher can read them.\n",
    "\n",
    "The method `use_secagg` toggles usage of secure aggregation. When `True`, a secure aggregation context (cryptographic material) for the experiment is negotiated between the experiment parties (if not existing yet) or existing secure aggregation context is re-used. Then usage of secure aggregation by the experiment is activated.\n",
    "\n",
    "Secure aggregation needs at least 2 active nodes in the experiment (thus 3 parties including the researcher)."
   ]
  },
  {
   "cell_type": "code",
   "execution_count": 23,
   "metadata": {},
   "outputs": [
    {
     "ename": "AttributeError",
     "evalue": "'Experiment' object has no attribute 'set_use_secagg'",
     "output_type": "error",
     "traceback": [
      "\u001b[0;31m---------------------------------------------------------------------------\u001b[0m",
      "\u001b[0;31mAttributeError\u001b[0m                            Traceback (most recent call last)",
      "Cell \u001b[0;32mIn[23], line 1\u001b[0m\n\u001b[0;32m----> 1\u001b[0m \u001b[43mexp\u001b[49m\u001b[38;5;241;43m.\u001b[39;49m\u001b[43mset_use_secagg\u001b[49m(use_secagg\u001b[38;5;241m=\u001b[39m\u001b[38;5;28;01mTrue\u001b[39;00m)\n",
      "\u001b[0;31mAttributeError\u001b[0m: 'Experiment' object has no attribute 'set_use_secagg'"
     ]
    },
    {
     "name": "stderr",
     "output_type": "stream",
     "text": [
      "2024-01-09 11:13:08,316 fedbiomed DEBUG - Node: NODE_2277a35a-722f-4a30-8a60-85cf8d873d82 polling for the tasks\n",
      "2024-01-09 11:13:14,832 fedbiomed DEBUG - Node: NODE_2277a35a-722f-4a30-8a60-85cf8d873d82 polling for the tasks\n",
      "2024-01-09 11:13:34,413 fedbiomed DEBUG - Node: NODE_fbc33f24-6d43-4d43-9031-ed1c4981a72b polling for the tasks\n",
      "2024-01-09 11:13:39,370 fedbiomed DEBUG - Node: NODE_fbc33f24-6d43-4d43-9031-ed1c4981a72b polling for the tasks\n"
     ]
    }
   ],
   "source": [
    "exp.set_use_secagg(use_secagg=True)"
   ]
  },
  {
   "cell_type": "code",
   "execution_count": 24,
   "metadata": {},
   "outputs": [
    {
     "ename": "AttributeError",
     "evalue": "'Experiment' object has no attribute 'use_secagg'",
     "output_type": "error",
     "traceback": [
      "\u001b[0;31m---------------------------------------------------------------------------\u001b[0m",
      "\u001b[0;31mAttributeError\u001b[0m                            Traceback (most recent call last)",
      "Cell \u001b[0;32mIn[24], line 1\u001b[0m\n\u001b[0;32m----> 1\u001b[0m \u001b[38;5;28mprint\u001b[39m(\u001b[38;5;124m\"\u001b[39m\u001b[38;5;124mUsing secagg: \u001b[39m\u001b[38;5;124m\"\u001b[39m, \u001b[43mexp\u001b[49m\u001b[38;5;241;43m.\u001b[39;49m\u001b[43muse_secagg\u001b[49m())\n\u001b[1;32m      2\u001b[0m exp_servkey, exp_biprime \u001b[38;5;241m=\u001b[39m exp\u001b[38;5;241m.\u001b[39msecagg_context()\n\u001b[1;32m      3\u001b[0m \u001b[38;5;28;01mif\u001b[39;00m exp_servkey:\n",
      "\u001b[0;31mAttributeError\u001b[0m: 'Experiment' object has no attribute 'use_secagg'"
     ]
    }
   ],
   "source": [
    "print(\"Using secagg: \", exp.use_secagg())\n",
    "exp_servkey, exp_biprime = exp.secagg_context()\n",
    "if exp_servkey:\n",
    "    print(f\"Secagg servkey:\\n- status {exp_servkey.status()}\\n- secagg_id {exp_servkey.secagg_id ()}\" \\\n",
    "        f\"\\n- context {exp_servkey.context()}\")\n",
    "else:\n",
    "    print(\"No secagg servkey\")\n",
    "if exp_biprime:\n",
    "    print(f\"Secagg biprime:\\n- status {exp_biprime.status()}\\n- secagg_id {exp_biprime.secagg_id ()}\" \\\n",
    "        f\"\\n- context {exp_biprime.context()}\")\n",
    "else:\n",
    "    print(\"No secagg biprime\")"
   ]
  },
  {
   "cell_type": "code",
   "execution_count": null,
   "metadata": {},
   "outputs": [],
   "source": [
    "exp.set_use_secagg(False)"
   ]
  },
  {
   "cell_type": "markdown",
   "metadata": {},
   "source": [
    "### Controlling Experiment Status Before Starting Training Rounds\n",
    "Now, let's see if our experiment is ready for the training."
   ]
  },
  {
   "cell_type": "code",
   "execution_count": 25,
   "metadata": {},
   "outputs": [
    {
     "name": "stdout",
     "output_type": "stream",
     "text": [
      "Arguments             Values\n",
      "--------------------  ------------------------------------------------------------\n",
      "Aggregator            FedAverage\n",
      "Strategy              <fedbiomed.researcher.strategies.default_strategy.DefaultStr\n",
      "                      ategy object at 0x7fe6bc8e7e80>\n",
      "Aggregator Optimizer  None\n",
      "Rounds already run    0\n",
      "Rounds total          2\n",
      "Breakpoint State      False\n",
      "Training Plan Class   <class '__main__.MyTrainingPlan'>\n",
      "Model Arguments       {}\n",
      "Tags                  ['#MNIST', '#dataset']\n",
      "Nodes filter          None\n",
      "Training Data         <fedbiomed.researcher.datasets.FederatedDataSet object at 0x\n",
      "                      7fe6bc8e5270>\n",
      "Training Arguments    {'loader_args': {'batch_size': 48}, 'optimizer_args': {'lr':\n",
      "                       0.001}, 'epochs': 1, 'dry_run': False, 'batch_maxnum': 100,\n",
      "                       'num_updates': None, 'test_ratio': 0.0, 'test_on_local_upda\n",
      "                      tes': False, 'test_on_global_updates': False, 'test_metric':\n",
      "                       None, 'test_metric_args': {}, 'log_interval': 10, 'fedprox_\n",
      "                      mu': None, 'use_gpu': False, 'dp_args': None, 'share_persist\n",
      "                      ent_buffers': True, 'random_seed': None}\n",
      "Experiment folder     Experiment_0005\n",
      "Experiment Path       /home/ybouilla/github/fedbiomed_ssh/fedbiomed/var/experiment\n",
      "                      s/Experiment_0005\n",
      "Secure Aggregation    - Using: <fedbiomed.researcher.secagg._secure_aggregation.Se\n",
      "                      cureAggregation object at 0x7fe7946218d0>\n",
      "                      - Active: False\n"
     ]
    },
    {
     "data": {
      "text/plain": [
       "{'Arguments': ['Aggregator',\n",
       "  'Strategy',\n",
       "  'Aggregator Optimizer',\n",
       "  'Rounds already run',\n",
       "  'Rounds total',\n",
       "  'Breakpoint State',\n",
       "  'Training Plan Class',\n",
       "  'Model Arguments',\n",
       "  'Tags',\n",
       "  'Nodes filter',\n",
       "  'Training Data',\n",
       "  'Training Arguments',\n",
       "  'Experiment folder',\n",
       "  'Experiment Path',\n",
       "  'Secure Aggregation'],\n",
       " 'Values': ['FedAverage',\n",
       "  '<fedbiomed.researcher.strategies.default_strategy.DefaultStr\\nategy object at 0x7fe6bc8e7e80>',\n",
       "  'None',\n",
       "  '0',\n",
       "  '2',\n",
       "  'False',\n",
       "  \"<class '__main__.MyTrainingPlan'>\",\n",
       "  '{}',\n",
       "  \"['#MNIST', '#dataset']\",\n",
       "  'None',\n",
       "  '<fedbiomed.researcher.datasets.FederatedDataSet object at 0x\\n7fe6bc8e5270>',\n",
       "  \"{'loader_args': {'batch_size': 48}, 'optimizer_args': {'lr':\\n 0.001}, 'epochs': 1, 'dry_run': False, 'batch_maxnum': 100,\\n 'num_updates': None, 'test_ratio': 0.0, 'test_on_local_upda\\ntes': False, 'test_on_global_updates': False, 'test_metric':\\n None, 'test_metric_args': {}, 'log_interval': 10, 'fedprox_\\nmu': None, 'use_gpu': False, 'dp_args': None, 'share_persist\\nent_buffers': True, 'random_seed': None}\",\n",
       "  'Experiment_0005',\n",
       "  '/home/ybouilla/github/fedbiomed_ssh/fedbiomed/var/experiment\\ns/Experiment_0005',\n",
       "  '- Using: <fedbiomed.researcher.secagg._secure_aggregation.Se\\ncureAggregation object at 0x7fe7946218d0>\\n- Active: False']}"
      ]
     },
     "execution_count": 25,
     "metadata": {},
     "output_type": "execute_result"
    },
    {
     "name": "stderr",
     "output_type": "stream",
     "text": [
      "2024-01-09 11:14:14,828 fedbiomed DEBUG - Node: NODE_2277a35a-722f-4a30-8a60-85cf8d873d82 polling for the tasks\n"
     ]
    }
   ],
   "source": [
    "exp.info()"
   ]
  },
  {
   "cell_type": "markdown",
   "metadata": {},
   "source": [
    "If the experiment is ready, you will see the message that says `Experiment can be run now (fully defined)` at the bottom of the output. So now, we can run the experiment"
   ]
  },
  {
   "cell_type": "markdown",
   "metadata": {},
   "source": [
    "## Running The Experiment"
   ]
  },
  {
   "cell_type": "markdown",
   "metadata": {},
   "source": [
    "As long as `info()` says that the experiment is fully defined you will be able to run your experiment. Experiment has two methods  as `run()` and `run_once()` for running training rounds.\n",
    "\n",
    " - `run()` runs the experiment rounds from current round to round limit. If the round limit is reached it will indicate that the round limit has been reach. However, the method `run` takes to arguments as `round` and `increase`. \n",
    "    - `round` is an integer that indicates number of rounds that are going to be run. If the experiment is at round `0`, the round limit is `4`, and if you pass `round` as 3, it will run the experiment only for `3` rounds.\n",
    "    - `increase` is a boolean that indicates whether round limit should be increased if the given `round` pass over the round limit. For example, if the current round is `3`, the round limit is `4`, and the `round` argument is `2`, the experiment will increase round limit to `5`\n",
    "    \n",
    " - `run_once()` runs the experiment for single round of training. If the round limit is reached it will indicate that the round limit has been reach. However, if it is executed as `run_once(increase=True)` when the round limit is reach, it increases the round limit for one round."
   ]
  },
  {
   "cell_type": "code",
   "execution_count": 26,
   "metadata": {},
   "outputs": [
    {
     "name": "stderr",
     "output_type": "stream",
     "text": [
      "2024-01-09 11:14:21,363 fedbiomed INFO - Sampled nodes in round 0 ['NODE_2277a35a-722f-4a30-8a60-85cf8d873d82', 'NODE_fbc33f24-6d43-4d43-9031-ed1c4981a72b']\n",
      "2024-01-09 11:14:21,376 fedbiomed INFO - \u001b[1mSending request\u001b[0m \n",
      "\t\t\t\t\t\u001b[1m To\u001b[0m: NODE_2277a35a-722f-4a30-8a60-85cf8d873d82 \n",
      "\t\t\t\t\t\u001b[1m Request: \u001b[0m: TRAIN\n",
      " -----------------------------------------------------------------\n",
      "2024-01-09 11:14:21,377 fedbiomed INFO - \u001b[1mSending request\u001b[0m \n",
      "\t\t\t\t\t\u001b[1m To\u001b[0m: NODE_fbc33f24-6d43-4d43-9031-ed1c4981a72b \n",
      "\t\t\t\t\t\u001b[1m Request: \u001b[0m: TRAIN\n",
      " -----------------------------------------------------------------\n",
      "2024-01-09 11:14:21,380 fedbiomed INFO - Node NODE_2277a35a-722f-4a30-8a60-85cf8d873d82 is in WAITING status. Server is waiting for receiving a request from this node to convert it as ACTIVE. Node will be updated as DISCONNECTED soon if no request received.\n",
      "2024-01-09 11:14:21,441 fedbiomed DEBUG - Node: NODE_fbc33f24-6d43-4d43-9031-ed1c4981a72b polling for the tasks\n",
      "2024-01-09 11:14:21,578 fedbiomed INFO - \u001b[1mTRAINING\u001b[0m \n",
      "\t\t\t\t\t NODE_ID: NODE_fbc33f24-6d43-4d43-9031-ed1c4981a72b \n",
      "\t\t\t\t\t Round 1 Epoch: 1 | Iteration: 1/100 (1%) | Samples: 48/4800\n",
      " \t\t\t\t\t Loss: \u001b[1m2.295532\u001b[0m \n",
      "\t\t\t\t\t ---------\n",
      "2024-01-09 11:14:22,034 fedbiomed INFO - \u001b[1mTRAINING\u001b[0m \n",
      "\t\t\t\t\t NODE_ID: NODE_fbc33f24-6d43-4d43-9031-ed1c4981a72b \n",
      "\t\t\t\t\t Round 1 Epoch: 1 | Iteration: 10/100 (10%) | Samples: 480/4800\n",
      " \t\t\t\t\t Loss: \u001b[1m1.377997\u001b[0m \n",
      "\t\t\t\t\t ---------\n",
      "2024-01-09 11:14:22,617 fedbiomed INFO - \u001b[1mTRAINING\u001b[0m \n",
      "\t\t\t\t\t NODE_ID: NODE_fbc33f24-6d43-4d43-9031-ed1c4981a72b \n",
      "\t\t\t\t\t Round 1 Epoch: 1 | Iteration: 20/100 (20%) | Samples: 960/4800\n",
      " \t\t\t\t\t Loss: \u001b[1m0.830219\u001b[0m \n",
      "\t\t\t\t\t ---------\n",
      "2024-01-09 11:14:22,754 fedbiomed DEBUG - Node: NODE_2277a35a-722f-4a30-8a60-85cf8d873d82 polling for the tasks\n",
      "2024-01-09 11:14:22,813 fedbiomed DEBUG - Node: NODE_2277a35a-722f-4a30-8a60-85cf8d873d82 polling for the tasks\n",
      "2024-01-09 11:14:23,062 fedbiomed INFO - \u001b[1mTRAINING\u001b[0m \n",
      "\t\t\t\t\t NODE_ID: NODE_2277a35a-722f-4a30-8a60-85cf8d873d82 \n",
      "\t\t\t\t\t Round 1 Epoch: 1 | Iteration: 1/100 (1%) | Samples: 48/4800\n",
      " \t\t\t\t\t Loss: \u001b[1m2.342152\u001b[0m \n",
      "\t\t\t\t\t ---------\n",
      "2024-01-09 11:14:23,672 fedbiomed INFO - \u001b[1mTRAINING\u001b[0m \n",
      "\t\t\t\t\t NODE_ID: NODE_2277a35a-722f-4a30-8a60-85cf8d873d82 \n",
      "\t\t\t\t\t Round 1 Epoch: 1 | Iteration: 10/100 (10%) | Samples: 480/4800\n",
      " \t\t\t\t\t Loss: \u001b[1m1.534190\u001b[0m \n",
      "\t\t\t\t\t ---------\n",
      "2024-01-09 11:14:24,101 fedbiomed INFO - \u001b[1mTRAINING\u001b[0m \n",
      "\t\t\t\t\t NODE_ID: NODE_fbc33f24-6d43-4d43-9031-ed1c4981a72b \n",
      "\t\t\t\t\t Round 1 Epoch: 1 | Iteration: 30/100 (30%) | Samples: 1440/4800\n",
      " \t\t\t\t\t Loss: \u001b[1m0.764760\u001b[0m \n",
      "\t\t\t\t\t ---------\n",
      "2024-01-09 11:14:24,330 fedbiomed INFO - \u001b[1mTRAINING\u001b[0m \n",
      "\t\t\t\t\t NODE_ID: NODE_2277a35a-722f-4a30-8a60-85cf8d873d82 \n",
      "\t\t\t\t\t Round 1 Epoch: 1 | Iteration: 20/100 (20%) | Samples: 960/4800\n",
      " \t\t\t\t\t Loss: \u001b[1m0.965149\u001b[0m \n",
      "\t\t\t\t\t ---------\n",
      "2024-01-09 11:14:25,333 fedbiomed INFO - \u001b[1mTRAINING\u001b[0m \n",
      "\t\t\t\t\t NODE_ID: NODE_fbc33f24-6d43-4d43-9031-ed1c4981a72b \n",
      "\t\t\t\t\t Round 1 Epoch: 1 | Iteration: 40/100 (40%) | Samples: 1920/4800\n",
      " \t\t\t\t\t Loss: \u001b[1m0.407995\u001b[0m \n",
      "\t\t\t\t\t ---------\n",
      "2024-01-09 11:14:26,296 fedbiomed INFO - \u001b[1mTRAINING\u001b[0m \n",
      "\t\t\t\t\t NODE_ID: NODE_2277a35a-722f-4a30-8a60-85cf8d873d82 \n",
      "\t\t\t\t\t Round 1 Epoch: 1 | Iteration: 30/100 (30%) | Samples: 1440/4800\n",
      " \t\t\t\t\t Loss: \u001b[1m0.755281\u001b[0m \n",
      "\t\t\t\t\t ---------\n",
      "2024-01-09 11:14:26,336 fedbiomed INFO - \u001b[1mTRAINING\u001b[0m \n",
      "\t\t\t\t\t NODE_ID: NODE_fbc33f24-6d43-4d43-9031-ed1c4981a72b \n",
      "\t\t\t\t\t Round 1 Epoch: 1 | Iteration: 50/100 (50%) | Samples: 2400/4800\n",
      " \t\t\t\t\t Loss: \u001b[1m0.533550\u001b[0m \n",
      "\t\t\t\t\t ---------\n",
      "2024-01-09 11:14:27,590 fedbiomed INFO - \u001b[1mTRAINING\u001b[0m \n",
      "\t\t\t\t\t NODE_ID: NODE_fbc33f24-6d43-4d43-9031-ed1c4981a72b \n",
      "\t\t\t\t\t Round 1 Epoch: 1 | Iteration: 60/100 (60%) | Samples: 2880/4800\n",
      " \t\t\t\t\t Loss: \u001b[1m0.426027\u001b[0m \n",
      "\t\t\t\t\t ---------\n",
      "2024-01-09 11:14:27,608 fedbiomed INFO - \u001b[1mTRAINING\u001b[0m \n",
      "\t\t\t\t\t NODE_ID: NODE_2277a35a-722f-4a30-8a60-85cf8d873d82 \n",
      "\t\t\t\t\t Round 1 Epoch: 1 | Iteration: 40/100 (40%) | Samples: 1920/4800\n",
      " \t\t\t\t\t Loss: \u001b[1m0.675241\u001b[0m \n",
      "\t\t\t\t\t ---------\n",
      "2024-01-09 11:14:28,746 fedbiomed INFO - \u001b[1mTRAINING\u001b[0m \n",
      "\t\t\t\t\t NODE_ID: NODE_2277a35a-722f-4a30-8a60-85cf8d873d82 \n",
      "\t\t\t\t\t Round 1 Epoch: 1 | Iteration: 50/100 (50%) | Samples: 2400/4800\n",
      " \t\t\t\t\t Loss: \u001b[1m0.426730\u001b[0m \n",
      "\t\t\t\t\t ---------\n",
      "2024-01-09 11:14:29,284 fedbiomed INFO - \u001b[1mTRAINING\u001b[0m \n",
      "\t\t\t\t\t NODE_ID: NODE_fbc33f24-6d43-4d43-9031-ed1c4981a72b \n",
      "\t\t\t\t\t Round 1 Epoch: 1 | Iteration: 70/100 (70%) | Samples: 3360/4800\n",
      " \t\t\t\t\t Loss: \u001b[1m0.454699\u001b[0m \n",
      "\t\t\t\t\t ---------\n",
      "2024-01-09 11:14:29,831 fedbiomed INFO - \u001b[1mTRAINING\u001b[0m \n",
      "\t\t\t\t\t NODE_ID: NODE_2277a35a-722f-4a30-8a60-85cf8d873d82 \n",
      "\t\t\t\t\t Round 1 Epoch: 1 | Iteration: 60/100 (60%) | Samples: 2880/4800\n",
      " \t\t\t\t\t Loss: \u001b[1m0.367608\u001b[0m \n",
      "\t\t\t\t\t ---------\n",
      "2024-01-09 11:14:30,500 fedbiomed INFO - \u001b[1mTRAINING\u001b[0m \n",
      "\t\t\t\t\t NODE_ID: NODE_fbc33f24-6d43-4d43-9031-ed1c4981a72b \n",
      "\t\t\t\t\t Round 1 Epoch: 1 | Iteration: 80/100 (80%) | Samples: 3840/4800\n",
      " \t\t\t\t\t Loss: \u001b[1m0.439163\u001b[0m \n",
      "\t\t\t\t\t ---------\n",
      "2024-01-09 11:14:31,353 fedbiomed INFO - \u001b[1mTRAINING\u001b[0m \n",
      "\t\t\t\t\t NODE_ID: NODE_2277a35a-722f-4a30-8a60-85cf8d873d82 \n",
      "\t\t\t\t\t Round 1 Epoch: 1 | Iteration: 70/100 (70%) | Samples: 3360/4800\n",
      " \t\t\t\t\t Loss: \u001b[1m0.557719\u001b[0m \n",
      "\t\t\t\t\t ---------\n",
      "2024-01-09 11:14:31,527 fedbiomed INFO - \u001b[1mTRAINING\u001b[0m \n",
      "\t\t\t\t\t NODE_ID: NODE_fbc33f24-6d43-4d43-9031-ed1c4981a72b \n",
      "\t\t\t\t\t Round 1 Epoch: 1 | Iteration: 90/100 (90%) | Samples: 4320/4800\n",
      " \t\t\t\t\t Loss: \u001b[1m0.383688\u001b[0m \n",
      "\t\t\t\t\t ---------\n",
      "2024-01-09 11:14:32,149 fedbiomed INFO - \u001b[1mTRAINING\u001b[0m \n",
      "\t\t\t\t\t NODE_ID: NODE_2277a35a-722f-4a30-8a60-85cf8d873d82 \n",
      "\t\t\t\t\t Round 1 Epoch: 1 | Iteration: 80/100 (80%) | Samples: 3840/4800\n",
      " \t\t\t\t\t Loss: \u001b[1m0.326589\u001b[0m \n",
      "\t\t\t\t\t ---------\n",
      "2024-01-09 11:14:32,876 fedbiomed INFO - \u001b[1mTRAINING\u001b[0m \n",
      "\t\t\t\t\t NODE_ID: NODE_2277a35a-722f-4a30-8a60-85cf8d873d82 \n",
      "\t\t\t\t\t Round 1 Epoch: 1 | Iteration: 90/100 (90%) | Samples: 4320/4800\n",
      " \t\t\t\t\t Loss: \u001b[1m0.262510\u001b[0m \n",
      "\t\t\t\t\t ---------\n",
      "2024-01-09 11:14:33,594 fedbiomed INFO - \u001b[1mTRAINING\u001b[0m \n",
      "\t\t\t\t\t NODE_ID: NODE_2277a35a-722f-4a30-8a60-85cf8d873d82 \n",
      "\t\t\t\t\t Round 1 Epoch: 1 | Iteration: 100/100 (100%) | Samples: 4800/4800\n",
      " \t\t\t\t\t Loss: \u001b[1m0.760583\u001b[0m \n",
      "\t\t\t\t\t ---------\n",
      "2024-01-09 11:14:33,664 fedbiomed INFO - \u001b[1mTRAINING\u001b[0m \n",
      "\t\t\t\t\t NODE_ID: NODE_fbc33f24-6d43-4d43-9031-ed1c4981a72b \n",
      "\t\t\t\t\t Round 1 Epoch: 1 | Iteration: 100/100 (100%) | Samples: 4800/4800\n",
      " \t\t\t\t\t Loss: \u001b[1m0.197122\u001b[0m \n",
      "\t\t\t\t\t ---------\n",
      "2024-01-09 11:14:33,709 fedbiomed INFO - Nodes that successfully reply in round 0 ['NODE_2277a35a-722f-4a30-8a60-85cf8d873d82', 'NODE_fbc33f24-6d43-4d43-9031-ed1c4981a72b']\n",
      "2024-01-09 11:14:33,726 fedbiomed INFO - Saved aggregated params for round 0 in /home/ybouilla/github/fedbiomed_ssh/fedbiomed/var/experiments/Experiment_0005/aggregated_params_055e2d18-6f27-4b28-b31b-ce8871a0d680.mpk\n"
     ]
    },
    {
     "data": {
      "text/plain": [
       "1"
      ]
     },
     "execution_count": 26,
     "metadata": {},
     "output_type": "execute_result"
    },
    {
     "name": "stderr",
     "output_type": "stream",
     "text": [
      "2024-01-09 11:14:43,225 fedbiomed DEBUG - Node: NODE_fbc33f24-6d43-4d43-9031-ed1c4981a72b polling for the tasks\n",
      "2024-01-09 11:15:22,818 fedbiomed DEBUG - Node: NODE_2277a35a-722f-4a30-8a60-85cf8d873d82 polling for the tasks\n",
      "2024-01-09 11:15:30,256 fedbiomed DEBUG - Node: NODE_2277a35a-722f-4a30-8a60-85cf8d873d82 polling for the tasks\n",
      "2024-01-09 11:15:43,225 fedbiomed DEBUG - Node: NODE_fbc33f24-6d43-4d43-9031-ed1c4981a72b polling for the tasks\n"
     ]
    }
   ],
   "source": [
    "exp.run_once()"
   ]
  },
  {
   "cell_type": "markdown",
   "metadata": {},
   "source": [
    "After running the experiment for once, you can check the current round. It returns `1` which means only one round has been run."
   ]
  },
  {
   "cell_type": "code",
   "execution_count": 27,
   "metadata": {},
   "outputs": [
    {
     "data": {
      "text/plain": [
       "1"
      ]
     },
     "execution_count": 27,
     "metadata": {},
     "output_type": "execute_result"
    }
   ],
   "source": [
    "exp.round_current()"
   ]
  },
  {
   "cell_type": "markdown",
   "metadata": {},
   "source": [
    "Now, let's run the experiment with `run_once()` again. "
   ]
  },
  {
   "cell_type": "code",
   "execution_count": 28,
   "metadata": {
    "pycharm": {
     "name": "#%%\n"
    }
   },
   "outputs": [
    {
     "name": "stderr",
     "output_type": "stream",
     "text": [
      "2024-01-09 11:15:52,479 fedbiomed INFO - Sampled nodes in round 1 ['NODE_2277a35a-722f-4a30-8a60-85cf8d873d82', 'NODE_fbc33f24-6d43-4d43-9031-ed1c4981a72b']\n",
      "2024-01-09 11:15:52,490 fedbiomed INFO - \u001b[1mSending request\u001b[0m \n",
      "\t\t\t\t\t\u001b[1m To\u001b[0m: NODE_2277a35a-722f-4a30-8a60-85cf8d873d82 \n",
      "\t\t\t\t\t\u001b[1m Request: \u001b[0m: TRAIN\n",
      " -----------------------------------------------------------------\n",
      "2024-01-09 11:15:52,493 fedbiomed INFO - \u001b[1mSending request\u001b[0m \n",
      "\t\t\t\t\t\u001b[1m To\u001b[0m: NODE_fbc33f24-6d43-4d43-9031-ed1c4981a72b \n",
      "\t\t\t\t\t\u001b[1m Request: \u001b[0m: TRAIN\n",
      " -----------------------------------------------------------------\n",
      "2024-01-09 11:15:52,540 fedbiomed DEBUG - Node: NODE_2277a35a-722f-4a30-8a60-85cf8d873d82 polling for the tasks\n",
      "2024-01-09 11:15:52,544 fedbiomed DEBUG - Node: NODE_fbc33f24-6d43-4d43-9031-ed1c4981a72b polling for the tasks\n",
      "2024-01-09 11:15:52,708 fedbiomed INFO - \u001b[1mTRAINING\u001b[0m \n",
      "\t\t\t\t\t NODE_ID: NODE_fbc33f24-6d43-4d43-9031-ed1c4981a72b \n",
      "\t\t\t\t\t Round 2 Epoch: 1 | Iteration: 1/100 (1%) | Samples: 48/4800\n",
      " \t\t\t\t\t Loss: \u001b[1m0.422353\u001b[0m \n",
      "\t\t\t\t\t ---------\n",
      "2024-01-09 11:15:52,752 fedbiomed INFO - \u001b[1mTRAINING\u001b[0m \n",
      "\t\t\t\t\t NODE_ID: NODE_2277a35a-722f-4a30-8a60-85cf8d873d82 \n",
      "\t\t\t\t\t Round 2 Epoch: 1 | Iteration: 1/100 (1%) | Samples: 48/4800\n",
      " \t\t\t\t\t Loss: \u001b[1m0.306044\u001b[0m \n",
      "\t\t\t\t\t ---------\n",
      "2024-01-09 11:15:53,403 fedbiomed INFO - \u001b[1mTRAINING\u001b[0m \n",
      "\t\t\t\t\t NODE_ID: NODE_2277a35a-722f-4a30-8a60-85cf8d873d82 \n",
      "\t\t\t\t\t Round 2 Epoch: 1 | Iteration: 10/100 (10%) | Samples: 480/4800\n",
      " \t\t\t\t\t Loss: \u001b[1m0.207988\u001b[0m \n",
      "\t\t\t\t\t ---------\n",
      "2024-01-09 11:15:53,899 fedbiomed INFO - \u001b[1mTRAINING\u001b[0m \n",
      "\t\t\t\t\t NODE_ID: NODE_fbc33f24-6d43-4d43-9031-ed1c4981a72b \n",
      "\t\t\t\t\t Round 2 Epoch: 1 | Iteration: 10/100 (10%) | Samples: 480/4800\n",
      " \t\t\t\t\t Loss: \u001b[1m0.338493\u001b[0m \n",
      "\t\t\t\t\t ---------\n",
      "2024-01-09 11:15:54,633 fedbiomed INFO - \u001b[1mTRAINING\u001b[0m \n",
      "\t\t\t\t\t NODE_ID: NODE_2277a35a-722f-4a30-8a60-85cf8d873d82 \n",
      "\t\t\t\t\t Round 2 Epoch: 1 | Iteration: 20/100 (20%) | Samples: 960/4800\n",
      " \t\t\t\t\t Loss: \u001b[1m0.199171\u001b[0m \n",
      "\t\t\t\t\t ---------\n",
      "2024-01-09 11:15:55,661 fedbiomed INFO - \u001b[1mTRAINING\u001b[0m \n",
      "\t\t\t\t\t NODE_ID: NODE_fbc33f24-6d43-4d43-9031-ed1c4981a72b \n",
      "\t\t\t\t\t Round 2 Epoch: 1 | Iteration: 20/100 (20%) | Samples: 960/4800\n",
      " \t\t\t\t\t Loss: \u001b[1m0.244301\u001b[0m \n",
      "\t\t\t\t\t ---------\n",
      "2024-01-09 11:15:55,915 fedbiomed INFO - \u001b[1mTRAINING\u001b[0m \n",
      "\t\t\t\t\t NODE_ID: NODE_2277a35a-722f-4a30-8a60-85cf8d873d82 \n",
      "\t\t\t\t\t Round 2 Epoch: 1 | Iteration: 30/100 (30%) | Samples: 1440/4800\n",
      " \t\t\t\t\t Loss: \u001b[1m0.273467\u001b[0m \n",
      "\t\t\t\t\t ---------\n",
      "2024-01-09 11:15:56,870 fedbiomed INFO - \u001b[1mTRAINING\u001b[0m \n",
      "\t\t\t\t\t NODE_ID: NODE_2277a35a-722f-4a30-8a60-85cf8d873d82 \n",
      "\t\t\t\t\t Round 2 Epoch: 1 | Iteration: 40/100 (40%) | Samples: 1920/4800\n",
      " \t\t\t\t\t Loss: \u001b[1m0.189428\u001b[0m \n",
      "\t\t\t\t\t ---------\n",
      "2024-01-09 11:15:57,499 fedbiomed INFO - \u001b[1mTRAINING\u001b[0m \n",
      "\t\t\t\t\t NODE_ID: NODE_fbc33f24-6d43-4d43-9031-ed1c4981a72b \n",
      "\t\t\t\t\t Round 2 Epoch: 1 | Iteration: 30/100 (30%) | Samples: 1440/4800\n",
      " \t\t\t\t\t Loss: \u001b[1m0.247521\u001b[0m \n",
      "\t\t\t\t\t ---------\n",
      "2024-01-09 11:15:57,904 fedbiomed INFO - \u001b[1mTRAINING\u001b[0m \n",
      "\t\t\t\t\t NODE_ID: NODE_2277a35a-722f-4a30-8a60-85cf8d873d82 \n",
      "\t\t\t\t\t Round 2 Epoch: 1 | Iteration: 50/100 (50%) | Samples: 2400/4800\n",
      " \t\t\t\t\t Loss: \u001b[1m0.204176\u001b[0m \n",
      "\t\t\t\t\t ---------\n",
      "2024-01-09 11:15:58,088 fedbiomed DEBUG - Node: NODE_fbc33f24-6d43-4d43-9031-ed1c4981a72b polling for the tasks\n",
      "2024-01-09 11:15:58,896 fedbiomed INFO - \u001b[1mTRAINING\u001b[0m \n",
      "\t\t\t\t\t NODE_ID: NODE_fbc33f24-6d43-4d43-9031-ed1c4981a72b \n",
      "\t\t\t\t\t Round 2 Epoch: 1 | Iteration: 40/100 (40%) | Samples: 1920/4800\n",
      " \t\t\t\t\t Loss: \u001b[1m0.212189\u001b[0m \n",
      "\t\t\t\t\t ---------\n",
      "2024-01-09 11:15:59,787 fedbiomed INFO - \u001b[1mTRAINING\u001b[0m \n",
      "\t\t\t\t\t NODE_ID: NODE_fbc33f24-6d43-4d43-9031-ed1c4981a72b \n",
      "\t\t\t\t\t Round 2 Epoch: 1 | Iteration: 50/100 (50%) | Samples: 2400/4800\n",
      " \t\t\t\t\t Loss: \u001b[1m0.319003\u001b[0m \n",
      "\t\t\t\t\t ---------\n",
      "2024-01-09 11:16:00,123 fedbiomed INFO - \u001b[1mTRAINING\u001b[0m \n",
      "\t\t\t\t\t NODE_ID: NODE_2277a35a-722f-4a30-8a60-85cf8d873d82 \n",
      "\t\t\t\t\t Round 2 Epoch: 1 | Iteration: 60/100 (60%) | Samples: 2880/4800\n",
      " \t\t\t\t\t Loss: \u001b[1m0.147768\u001b[0m \n",
      "\t\t\t\t\t ---------\n",
      "2024-01-09 11:16:00,888 fedbiomed INFO - \u001b[1mTRAINING\u001b[0m \n",
      "\t\t\t\t\t NODE_ID: NODE_fbc33f24-6d43-4d43-9031-ed1c4981a72b \n",
      "\t\t\t\t\t Round 2 Epoch: 1 | Iteration: 60/100 (60%) | Samples: 2880/4800\n",
      " \t\t\t\t\t Loss: \u001b[1m0.320228\u001b[0m \n",
      "\t\t\t\t\t ---------\n",
      "2024-01-09 11:16:01,607 fedbiomed INFO - \u001b[1mTRAINING\u001b[0m \n",
      "\t\t\t\t\t NODE_ID: NODE_fbc33f24-6d43-4d43-9031-ed1c4981a72b \n",
      "\t\t\t\t\t Round 2 Epoch: 1 | Iteration: 70/100 (70%) | Samples: 3360/4800\n",
      " \t\t\t\t\t Loss: \u001b[1m0.080496\u001b[0m \n",
      "\t\t\t\t\t ---------\n",
      "2024-01-09 11:16:02,293 fedbiomed INFO - \u001b[1mTRAINING\u001b[0m \n",
      "\t\t\t\t\t NODE_ID: NODE_2277a35a-722f-4a30-8a60-85cf8d873d82 \n",
      "\t\t\t\t\t Round 2 Epoch: 1 | Iteration: 70/100 (70%) | Samples: 3360/4800\n",
      " \t\t\t\t\t Loss: \u001b[1m0.371756\u001b[0m \n",
      "\t\t\t\t\t ---------\n",
      "2024-01-09 11:16:02,601 fedbiomed INFO - \u001b[1mTRAINING\u001b[0m \n",
      "\t\t\t\t\t NODE_ID: NODE_fbc33f24-6d43-4d43-9031-ed1c4981a72b \n",
      "\t\t\t\t\t Round 2 Epoch: 1 | Iteration: 80/100 (80%) | Samples: 3840/4800\n",
      " \t\t\t\t\t Loss: \u001b[1m0.147616\u001b[0m \n",
      "\t\t\t\t\t ---------\n",
      "2024-01-09 11:16:03,433 fedbiomed INFO - \u001b[1mTRAINING\u001b[0m \n",
      "\t\t\t\t\t NODE_ID: NODE_fbc33f24-6d43-4d43-9031-ed1c4981a72b \n",
      "\t\t\t\t\t Round 2 Epoch: 1 | Iteration: 90/100 (90%) | Samples: 4320/4800\n",
      " \t\t\t\t\t Loss: \u001b[1m0.229928\u001b[0m \n",
      "\t\t\t\t\t ---------\n",
      "2024-01-09 11:16:03,713 fedbiomed INFO - \u001b[1mTRAINING\u001b[0m \n",
      "\t\t\t\t\t NODE_ID: NODE_2277a35a-722f-4a30-8a60-85cf8d873d82 \n",
      "\t\t\t\t\t Round 2 Epoch: 1 | Iteration: 80/100 (80%) | Samples: 3840/4800\n",
      " \t\t\t\t\t Loss: \u001b[1m0.083551\u001b[0m \n",
      "\t\t\t\t\t ---------\n",
      "2024-01-09 11:16:04,216 fedbiomed INFO - \u001b[1mTRAINING\u001b[0m \n",
      "\t\t\t\t\t NODE_ID: NODE_fbc33f24-6d43-4d43-9031-ed1c4981a72b \n",
      "\t\t\t\t\t Round 2 Epoch: 1 | Iteration: 100/100 (100%) | Samples: 4800/4800\n",
      " \t\t\t\t\t Loss: \u001b[1m0.147285\u001b[0m \n",
      "\t\t\t\t\t ---------\n",
      "2024-01-09 11:16:04,373 fedbiomed INFO - \u001b[1mTRAINING\u001b[0m \n",
      "\t\t\t\t\t NODE_ID: NODE_2277a35a-722f-4a30-8a60-85cf8d873d82 \n",
      "\t\t\t\t\t Round 2 Epoch: 1 | Iteration: 90/100 (90%) | Samples: 4320/4800\n",
      " \t\t\t\t\t Loss: \u001b[1m0.223405\u001b[0m \n",
      "\t\t\t\t\t ---------\n",
      "2024-01-09 11:16:04,828 fedbiomed INFO - \u001b[1mTRAINING\u001b[0m \n",
      "\t\t\t\t\t NODE_ID: NODE_2277a35a-722f-4a30-8a60-85cf8d873d82 \n",
      "\t\t\t\t\t Round 2 Epoch: 1 | Iteration: 100/100 (100%) | Samples: 4800/4800\n",
      " \t\t\t\t\t Loss: \u001b[1m0.058546\u001b[0m \n",
      "\t\t\t\t\t ---------\n",
      "2024-01-09 11:16:04,883 fedbiomed INFO - Nodes that successfully reply in round 1 ['NODE_2277a35a-722f-4a30-8a60-85cf8d873d82', 'NODE_fbc33f24-6d43-4d43-9031-ed1c4981a72b']\n",
      "2024-01-09 11:16:04,897 fedbiomed INFO - Saved aggregated params for round 1 in /home/ybouilla/github/fedbiomed_ssh/fedbiomed/var/experiments/Experiment_0005/aggregated_params_0b1d4be8-6853-472e-99ce-8dcbfbfef27d.mpk\n"
     ]
    },
    {
     "data": {
      "text/plain": [
       "1"
      ]
     },
     "execution_count": 28,
     "metadata": {},
     "output_type": "execute_result"
    },
    {
     "name": "stderr",
     "output_type": "stream",
     "text": [
      "2024-01-09 11:16:39,546 fedbiomed DEBUG - Node: NODE_2277a35a-722f-4a30-8a60-85cf8d873d82 polling for the tasks\n",
      "2024-01-09 11:16:58,095 fedbiomed DEBUG - Node: NODE_fbc33f24-6d43-4d43-9031-ed1c4981a72b polling for the tasks\n"
     ]
    }
   ],
   "source": [
    "exp.run_once()"
   ]
  },
  {
   "cell_type": "markdown",
   "metadata": {},
   "source": [
    "Since the round limit has been set to `2` the round limit had been reached. If you try to run `run()` or `run_once()` the experiment will indicate that the round limit has been reached."
   ]
  },
  {
   "cell_type": "code",
   "execution_count": 29,
   "metadata": {},
   "outputs": [
    {
     "name": "stderr",
     "output_type": "stream",
     "text": [
      "2024-01-09 11:17:19,799 fedbiomed WARNING - Round limit of 2 was reached, do nothing\n"
     ]
    },
    {
     "data": {
      "text/plain": [
       "0"
      ]
     },
     "execution_count": 29,
     "metadata": {},
     "output_type": "execute_result"
    }
   ],
   "source": [
    "exp.run_once()"
   ]
  },
  {
   "cell_type": "code",
   "execution_count": 30,
   "metadata": {},
   "outputs": [
    {
     "name": "stderr",
     "output_type": "stream",
     "text": [
      "2024-01-09 11:17:20,114 fedbiomed WARNING - Round limit of 2 already reached for this experiment, do nothing.\n"
     ]
    },
    {
     "data": {
      "text/plain": [
       "0"
      ]
     },
     "execution_count": 30,
     "metadata": {},
     "output_type": "execute_result"
    }
   ],
   "source": [
    "exp.run()"
   ]
  },
  {
   "cell_type": "markdown",
   "metadata": {},
   "source": [
    "After this point, if you would like to run the experiment you can increase round limit with `set_round_limit(round)`"
   ]
  },
  {
   "cell_type": "code",
   "execution_count": 31,
   "metadata": {},
   "outputs": [
    {
     "name": "stdout",
     "output_type": "stream",
     "text": [
      "Round Limit    :  4\n",
      "Current Round  :  2\n"
     ]
    }
   ],
   "source": [
    "exp.set_round_limit(4)\n",
    "print('Round Limit    : ' , exp.round_limit())\n",
    "print('Current Round  : ' , exp.round_current())"
   ]
  },
  {
   "cell_type": "markdown",
   "metadata": {},
   "source": [
    "The round limit of the experiment has been set to `4` and the completed number of rounds is `2`. It means if you run the experiment with method `run()` without passing any argument, it will run the experiment for `2` rounds."
   ]
  },
  {
   "cell_type": "code",
   "execution_count": 32,
   "metadata": {},
   "outputs": [
    {
     "name": "stderr",
     "output_type": "stream",
     "text": [
      "2024-01-09 11:17:33,990 fedbiomed INFO - Sampled nodes in round 2 ['NODE_2277a35a-722f-4a30-8a60-85cf8d873d82', 'NODE_fbc33f24-6d43-4d43-9031-ed1c4981a72b']\n",
      "2024-01-09 11:17:34,002 fedbiomed INFO - \u001b[1mSending request\u001b[0m \n",
      "\t\t\t\t\t\u001b[1m To\u001b[0m: NODE_2277a35a-722f-4a30-8a60-85cf8d873d82 \n",
      "\t\t\t\t\t\u001b[1m Request: \u001b[0m: TRAIN\n",
      " -----------------------------------------------------------------\n",
      "2024-01-09 11:17:34,003 fedbiomed INFO - \u001b[1mSending request\u001b[0m \n",
      "\t\t\t\t\t\u001b[1m To\u001b[0m: NODE_fbc33f24-6d43-4d43-9031-ed1c4981a72b \n",
      "\t\t\t\t\t\u001b[1m Request: \u001b[0m: TRAIN\n",
      " -----------------------------------------------------------------\n",
      "2024-01-09 11:17:34,046 fedbiomed DEBUG - Node: NODE_2277a35a-722f-4a30-8a60-85cf8d873d82 polling for the tasks\n",
      "2024-01-09 11:17:34,055 fedbiomed DEBUG - Node: NODE_fbc33f24-6d43-4d43-9031-ed1c4981a72b polling for the tasks\n",
      "2024-01-09 11:17:34,243 fedbiomed INFO - \u001b[1mTRAINING\u001b[0m \n",
      "\t\t\t\t\t NODE_ID: NODE_fbc33f24-6d43-4d43-9031-ed1c4981a72b \n",
      "\t\t\t\t\t Round 3 Epoch: 1 | Iteration: 1/100 (1%) | Samples: 48/4800\n",
      " \t\t\t\t\t Loss: \u001b[1m0.407725\u001b[0m \n",
      "\t\t\t\t\t ---------\n",
      "2024-01-09 11:17:34,263 fedbiomed INFO - \u001b[1mTRAINING\u001b[0m \n",
      "\t\t\t\t\t NODE_ID: NODE_2277a35a-722f-4a30-8a60-85cf8d873d82 \n",
      "\t\t\t\t\t Round 3 Epoch: 1 | Iteration: 1/100 (1%) | Samples: 48/4800\n",
      " \t\t\t\t\t Loss: \u001b[1m0.075137\u001b[0m \n",
      "\t\t\t\t\t ---------\n",
      "2024-01-09 11:17:34,954 fedbiomed INFO - \u001b[1mTRAINING\u001b[0m \n",
      "\t\t\t\t\t NODE_ID: NODE_2277a35a-722f-4a30-8a60-85cf8d873d82 \n",
      "\t\t\t\t\t Round 3 Epoch: 1 | Iteration: 10/100 (10%) | Samples: 480/4800\n",
      " \t\t\t\t\t Loss: \u001b[1m0.325621\u001b[0m \n",
      "\t\t\t\t\t ---------\n",
      "2024-01-09 11:17:35,263 fedbiomed INFO - \u001b[1mTRAINING\u001b[0m \n",
      "\t\t\t\t\t NODE_ID: NODE_fbc33f24-6d43-4d43-9031-ed1c4981a72b \n",
      "\t\t\t\t\t Round 3 Epoch: 1 | Iteration: 10/100 (10%) | Samples: 480/4800\n",
      " \t\t\t\t\t Loss: \u001b[1m0.114622\u001b[0m \n",
      "\t\t\t\t\t ---------\n",
      "2024-01-09 11:17:36,063 fedbiomed INFO - \u001b[1mTRAINING\u001b[0m \n",
      "\t\t\t\t\t NODE_ID: NODE_fbc33f24-6d43-4d43-9031-ed1c4981a72b \n",
      "\t\t\t\t\t Round 3 Epoch: 1 | Iteration: 20/100 (20%) | Samples: 960/4800\n",
      " \t\t\t\t\t Loss: \u001b[1m0.087257\u001b[0m \n",
      "\t\t\t\t\t ---------\n",
      "2024-01-09 11:17:36,222 fedbiomed INFO - \u001b[1mTRAINING\u001b[0m \n",
      "\t\t\t\t\t NODE_ID: NODE_2277a35a-722f-4a30-8a60-85cf8d873d82 \n",
      "\t\t\t\t\t Round 3 Epoch: 1 | Iteration: 20/100 (20%) | Samples: 960/4800\n",
      " \t\t\t\t\t Loss: \u001b[1m0.168634\u001b[0m \n",
      "\t\t\t\t\t ---------\n",
      "2024-01-09 11:17:37,526 fedbiomed INFO - \u001b[1mTRAINING\u001b[0m \n",
      "\t\t\t\t\t NODE_ID: NODE_2277a35a-722f-4a30-8a60-85cf8d873d82 \n",
      "\t\t\t\t\t Round 3 Epoch: 1 | Iteration: 30/100 (30%) | Samples: 1440/4800\n",
      " \t\t\t\t\t Loss: \u001b[1m0.141607\u001b[0m \n",
      "\t\t\t\t\t ---------\n",
      "2024-01-09 11:17:37,774 fedbiomed INFO - \u001b[1mTRAINING\u001b[0m \n",
      "\t\t\t\t\t NODE_ID: NODE_fbc33f24-6d43-4d43-9031-ed1c4981a72b \n",
      "\t\t\t\t\t Round 3 Epoch: 1 | Iteration: 30/100 (30%) | Samples: 1440/4800\n",
      " \t\t\t\t\t Loss: \u001b[1m0.359377\u001b[0m \n",
      "\t\t\t\t\t ---------\n",
      "2024-01-09 11:17:38,645 fedbiomed INFO - \u001b[1mTRAINING\u001b[0m \n",
      "\t\t\t\t\t NODE_ID: NODE_fbc33f24-6d43-4d43-9031-ed1c4981a72b \n",
      "\t\t\t\t\t Round 3 Epoch: 1 | Iteration: 40/100 (40%) | Samples: 1920/4800\n",
      " \t\t\t\t\t Loss: \u001b[1m0.165998\u001b[0m \n",
      "\t\t\t\t\t ---------\n",
      "2024-01-09 11:17:39,558 fedbiomed INFO - \u001b[1mTRAINING\u001b[0m \n",
      "\t\t\t\t\t NODE_ID: NODE_fbc33f24-6d43-4d43-9031-ed1c4981a72b \n",
      "\t\t\t\t\t Round 3 Epoch: 1 | Iteration: 50/100 (50%) | Samples: 2400/4800\n",
      " \t\t\t\t\t Loss: \u001b[1m0.254695\u001b[0m \n",
      "\t\t\t\t\t ---------\n",
      "2024-01-09 11:17:39,973 fedbiomed INFO - \u001b[1mTRAINING\u001b[0m \n",
      "\t\t\t\t\t NODE_ID: NODE_2277a35a-722f-4a30-8a60-85cf8d873d82 \n",
      "\t\t\t\t\t Round 3 Epoch: 1 | Iteration: 40/100 (40%) | Samples: 1920/4800\n",
      " \t\t\t\t\t Loss: \u001b[1m0.316614\u001b[0m \n",
      "\t\t\t\t\t ---------\n",
      "2024-01-09 11:17:40,860 fedbiomed INFO - \u001b[1mTRAINING\u001b[0m \n",
      "\t\t\t\t\t NODE_ID: NODE_fbc33f24-6d43-4d43-9031-ed1c4981a72b \n",
      "\t\t\t\t\t Round 3 Epoch: 1 | Iteration: 60/100 (60%) | Samples: 2880/4800\n",
      " \t\t\t\t\t Loss: \u001b[1m0.368104\u001b[0m \n",
      "\t\t\t\t\t ---------\n",
      "2024-01-09 11:17:41,839 fedbiomed INFO - \u001b[1mTRAINING\u001b[0m \n",
      "\t\t\t\t\t NODE_ID: NODE_2277a35a-722f-4a30-8a60-85cf8d873d82 \n",
      "\t\t\t\t\t Round 3 Epoch: 1 | Iteration: 50/100 (50%) | Samples: 2400/4800\n",
      " \t\t\t\t\t Loss: \u001b[1m0.228657\u001b[0m \n",
      "\t\t\t\t\t ---------\n",
      "2024-01-09 11:17:42,087 fedbiomed INFO - \u001b[1mTRAINING\u001b[0m \n",
      "\t\t\t\t\t NODE_ID: NODE_fbc33f24-6d43-4d43-9031-ed1c4981a72b \n",
      "\t\t\t\t\t Round 3 Epoch: 1 | Iteration: 70/100 (70%) | Samples: 3360/4800\n",
      " \t\t\t\t\t Loss: \u001b[1m0.221919\u001b[0m \n",
      "\t\t\t\t\t ---------\n",
      "2024-01-09 11:17:42,897 fedbiomed INFO - \u001b[1mTRAINING\u001b[0m \n",
      "\t\t\t\t\t NODE_ID: NODE_2277a35a-722f-4a30-8a60-85cf8d873d82 \n",
      "\t\t\t\t\t Round 3 Epoch: 1 | Iteration: 60/100 (60%) | Samples: 2880/4800\n",
      " \t\t\t\t\t Loss: \u001b[1m0.084411\u001b[0m \n",
      "\t\t\t\t\t ---------\n",
      "2024-01-09 11:17:43,271 fedbiomed INFO - \u001b[1mTRAINING\u001b[0m \n",
      "\t\t\t\t\t NODE_ID: NODE_fbc33f24-6d43-4d43-9031-ed1c4981a72b \n",
      "\t\t\t\t\t Round 3 Epoch: 1 | Iteration: 80/100 (80%) | Samples: 3840/4800\n",
      " \t\t\t\t\t Loss: \u001b[1m0.076828\u001b[0m \n",
      "\t\t\t\t\t ---------\n",
      "2024-01-09 11:17:44,087 fedbiomed INFO - \u001b[1mTRAINING\u001b[0m \n",
      "\t\t\t\t\t NODE_ID: NODE_2277a35a-722f-4a30-8a60-85cf8d873d82 \n",
      "\t\t\t\t\t Round 3 Epoch: 1 | Iteration: 70/100 (70%) | Samples: 3360/4800\n",
      " \t\t\t\t\t Loss: \u001b[1m0.071407\u001b[0m \n",
      "\t\t\t\t\t ---------\n",
      "2024-01-09 11:17:44,349 fedbiomed INFO - \u001b[1mTRAINING\u001b[0m \n",
      "\t\t\t\t\t NODE_ID: NODE_fbc33f24-6d43-4d43-9031-ed1c4981a72b \n",
      "\t\t\t\t\t Round 3 Epoch: 1 | Iteration: 90/100 (90%) | Samples: 4320/4800\n",
      " \t\t\t\t\t Loss: \u001b[1m0.419883\u001b[0m \n",
      "\t\t\t\t\t ---------\n",
      "2024-01-09 11:17:44,712 fedbiomed DEBUG - Node: NODE_2277a35a-722f-4a30-8a60-85cf8d873d82 polling for the tasks\n",
      "2024-01-09 11:17:45,128 fedbiomed INFO - \u001b[1mTRAINING\u001b[0m \n",
      "\t\t\t\t\t NODE_ID: NODE_fbc33f24-6d43-4d43-9031-ed1c4981a72b \n",
      "\t\t\t\t\t Round 3 Epoch: 1 | Iteration: 100/100 (100%) | Samples: 4800/4800\n",
      " \t\t\t\t\t Loss: \u001b[1m0.347449\u001b[0m \n",
      "\t\t\t\t\t ---------\n",
      "2024-01-09 11:17:45,405 fedbiomed INFO - \u001b[1mTRAINING\u001b[0m \n",
      "\t\t\t\t\t NODE_ID: NODE_2277a35a-722f-4a30-8a60-85cf8d873d82 \n",
      "\t\t\t\t\t Round 3 Epoch: 1 | Iteration: 80/100 (80%) | Samples: 3840/4800\n",
      " \t\t\t\t\t Loss: \u001b[1m0.130647\u001b[0m \n",
      "\t\t\t\t\t ---------\n",
      "2024-01-09 11:17:45,864 fedbiomed INFO - \u001b[1mTRAINING\u001b[0m \n",
      "\t\t\t\t\t NODE_ID: NODE_2277a35a-722f-4a30-8a60-85cf8d873d82 \n",
      "\t\t\t\t\t Round 3 Epoch: 1 | Iteration: 90/100 (90%) | Samples: 4320/4800\n",
      " \t\t\t\t\t Loss: \u001b[1m0.128715\u001b[0m \n",
      "\t\t\t\t\t ---------\n",
      "2024-01-09 11:17:46,342 fedbiomed INFO - \u001b[1mTRAINING\u001b[0m \n",
      "\t\t\t\t\t NODE_ID: NODE_2277a35a-722f-4a30-8a60-85cf8d873d82 \n",
      "\t\t\t\t\t Round 3 Epoch: 1 | Iteration: 100/100 (100%) | Samples: 4800/4800\n",
      " \t\t\t\t\t Loss: \u001b[1m0.065820\u001b[0m \n",
      "\t\t\t\t\t ---------\n",
      "2024-01-09 11:17:46,399 fedbiomed INFO - Nodes that successfully reply in round 2 ['NODE_2277a35a-722f-4a30-8a60-85cf8d873d82', 'NODE_fbc33f24-6d43-4d43-9031-ed1c4981a72b']\n",
      "2024-01-09 11:17:46,416 fedbiomed INFO - Saved aggregated params for round 2 in /home/ybouilla/github/fedbiomed_ssh/fedbiomed/var/experiments/Experiment_0005/aggregated_params_aa2a8b38-2d34-4866-80b7-c8e8f2a158e1.mpk\n",
      "2024-01-09 11:17:46,417 fedbiomed INFO - Sampled nodes in round 3 ['NODE_2277a35a-722f-4a30-8a60-85cf8d873d82', 'NODE_fbc33f24-6d43-4d43-9031-ed1c4981a72b']\n",
      "2024-01-09 11:17:46,421 fedbiomed INFO - \u001b[1mSending request\u001b[0m \n",
      "\t\t\t\t\t\u001b[1m To\u001b[0m: NODE_2277a35a-722f-4a30-8a60-85cf8d873d82 \n",
      "\t\t\t\t\t\u001b[1m Request: \u001b[0m: TRAIN\n",
      " -----------------------------------------------------------------\n",
      "2024-01-09 11:17:46,422 fedbiomed INFO - \u001b[1mSending request\u001b[0m \n",
      "\t\t\t\t\t\u001b[1m To\u001b[0m: NODE_fbc33f24-6d43-4d43-9031-ed1c4981a72b \n",
      "\t\t\t\t\t\u001b[1m Request: \u001b[0m: TRAIN\n",
      " -----------------------------------------------------------------\n",
      "2024-01-09 11:17:46,453 fedbiomed DEBUG - Node: NODE_2277a35a-722f-4a30-8a60-85cf8d873d82 polling for the tasks\n",
      "2024-01-09 11:17:46,465 fedbiomed DEBUG - Node: NODE_fbc33f24-6d43-4d43-9031-ed1c4981a72b polling for the tasks\n",
      "2024-01-09 11:17:46,606 fedbiomed INFO - \u001b[1mTRAINING\u001b[0m \n",
      "\t\t\t\t\t NODE_ID: NODE_2277a35a-722f-4a30-8a60-85cf8d873d82 \n",
      "\t\t\t\t\t Round 4 Epoch: 1 | Iteration: 1/100 (1%) | Samples: 48/4800\n",
      " \t\t\t\t\t Loss: \u001b[1m0.244184\u001b[0m \n",
      "\t\t\t\t\t ---------\n",
      "2024-01-09 11:17:46,695 fedbiomed INFO - \u001b[1mTRAINING\u001b[0m \n",
      "\t\t\t\t\t NODE_ID: NODE_fbc33f24-6d43-4d43-9031-ed1c4981a72b \n",
      "\t\t\t\t\t Round 4 Epoch: 1 | Iteration: 1/100 (1%) | Samples: 48/4800\n",
      " \t\t\t\t\t Loss: \u001b[1m0.201980\u001b[0m \n",
      "\t\t\t\t\t ---------\n",
      "2024-01-09 11:17:47,636 fedbiomed INFO - \u001b[1mTRAINING\u001b[0m \n",
      "\t\t\t\t\t NODE_ID: NODE_2277a35a-722f-4a30-8a60-85cf8d873d82 \n",
      "\t\t\t\t\t Round 4 Epoch: 1 | Iteration: 10/100 (10%) | Samples: 480/4800\n",
      " \t\t\t\t\t Loss: \u001b[1m0.116416\u001b[0m \n",
      "\t\t\t\t\t ---------\n",
      "2024-01-09 11:17:47,687 fedbiomed INFO - \u001b[1mTRAINING\u001b[0m \n",
      "\t\t\t\t\t NODE_ID: NODE_fbc33f24-6d43-4d43-9031-ed1c4981a72b \n",
      "\t\t\t\t\t Round 4 Epoch: 1 | Iteration: 10/100 (10%) | Samples: 480/4800\n",
      " \t\t\t\t\t Loss: \u001b[1m0.322142\u001b[0m \n",
      "\t\t\t\t\t ---------\n",
      "2024-01-09 11:17:48,743 fedbiomed INFO - \u001b[1mTRAINING\u001b[0m \n",
      "\t\t\t\t\t NODE_ID: NODE_2277a35a-722f-4a30-8a60-85cf8d873d82 \n",
      "\t\t\t\t\t Round 4 Epoch: 1 | Iteration: 20/100 (20%) | Samples: 960/4800\n",
      " \t\t\t\t\t Loss: \u001b[1m0.136672\u001b[0m \n",
      "\t\t\t\t\t ---------\n",
      "2024-01-09 11:17:49,149 fedbiomed INFO - \u001b[1mTRAINING\u001b[0m \n",
      "\t\t\t\t\t NODE_ID: NODE_fbc33f24-6d43-4d43-9031-ed1c4981a72b \n",
      "\t\t\t\t\t Round 4 Epoch: 1 | Iteration: 20/100 (20%) | Samples: 960/4800\n",
      " \t\t\t\t\t Loss: \u001b[1m0.136002\u001b[0m \n",
      "\t\t\t\t\t ---------\n",
      "2024-01-09 11:17:50,311 fedbiomed INFO - \u001b[1mTRAINING\u001b[0m \n",
      "\t\t\t\t\t NODE_ID: NODE_fbc33f24-6d43-4d43-9031-ed1c4981a72b \n",
      "\t\t\t\t\t Round 4 Epoch: 1 | Iteration: 30/100 (30%) | Samples: 1440/4800\n",
      " \t\t\t\t\t Loss: \u001b[1m0.270665\u001b[0m \n",
      "\t\t\t\t\t ---------\n",
      "2024-01-09 11:17:50,522 fedbiomed INFO - \u001b[1mTRAINING\u001b[0m \n",
      "\t\t\t\t\t NODE_ID: NODE_2277a35a-722f-4a30-8a60-85cf8d873d82 \n",
      "\t\t\t\t\t Round 4 Epoch: 1 | Iteration: 30/100 (30%) | Samples: 1440/4800\n",
      " \t\t\t\t\t Loss: \u001b[1m0.151459\u001b[0m \n",
      "\t\t\t\t\t ---------\n",
      "2024-01-09 11:17:51,298 fedbiomed INFO - \u001b[1mTRAINING\u001b[0m \n",
      "\t\t\t\t\t NODE_ID: NODE_2277a35a-722f-4a30-8a60-85cf8d873d82 \n",
      "\t\t\t\t\t Round 4 Epoch: 1 | Iteration: 40/100 (40%) | Samples: 1920/4800\n",
      " \t\t\t\t\t Loss: \u001b[1m0.249078\u001b[0m \n",
      "\t\t\t\t\t ---------\n",
      "2024-01-09 11:17:52,398 fedbiomed INFO - \u001b[1mTRAINING\u001b[0m \n",
      "\t\t\t\t\t NODE_ID: NODE_fbc33f24-6d43-4d43-9031-ed1c4981a72b \n",
      "\t\t\t\t\t Round 4 Epoch: 1 | Iteration: 40/100 (40%) | Samples: 1920/4800\n",
      " \t\t\t\t\t Loss: \u001b[1m0.099191\u001b[0m \n",
      "\t\t\t\t\t ---------\n",
      "2024-01-09 11:17:52,439 fedbiomed INFO - \u001b[1mTRAINING\u001b[0m \n",
      "\t\t\t\t\t NODE_ID: NODE_2277a35a-722f-4a30-8a60-85cf8d873d82 \n",
      "\t\t\t\t\t Round 4 Epoch: 1 | Iteration: 50/100 (50%) | Samples: 2400/4800\n",
      " \t\t\t\t\t Loss: \u001b[1m0.107460\u001b[0m \n",
      "\t\t\t\t\t ---------\n",
      "2024-01-09 11:17:53,195 fedbiomed INFO - \u001b[1mTRAINING\u001b[0m \n",
      "\t\t\t\t\t NODE_ID: NODE_2277a35a-722f-4a30-8a60-85cf8d873d82 \n",
      "\t\t\t\t\t Round 4 Epoch: 1 | Iteration: 60/100 (60%) | Samples: 2880/4800\n",
      " \t\t\t\t\t Loss: \u001b[1m0.201051\u001b[0m \n",
      "\t\t\t\t\t ---------\n",
      "2024-01-09 11:17:53,712 fedbiomed INFO - \u001b[1mTRAINING\u001b[0m \n",
      "\t\t\t\t\t NODE_ID: NODE_fbc33f24-6d43-4d43-9031-ed1c4981a72b \n",
      "\t\t\t\t\t Round 4 Epoch: 1 | Iteration: 50/100 (50%) | Samples: 2400/4800\n",
      " \t\t\t\t\t Loss: \u001b[1m0.109783\u001b[0m \n",
      "\t\t\t\t\t ---------\n",
      "2024-01-09 11:17:54,558 fedbiomed INFO - \u001b[1mTRAINING\u001b[0m \n",
      "\t\t\t\t\t NODE_ID: NODE_2277a35a-722f-4a30-8a60-85cf8d873d82 \n",
      "\t\t\t\t\t Round 4 Epoch: 1 | Iteration: 70/100 (70%) | Samples: 3360/4800\n",
      " \t\t\t\t\t Loss: \u001b[1m0.157565\u001b[0m \n",
      "\t\t\t\t\t ---------\n",
      "2024-01-09 11:17:54,611 fedbiomed INFO - \u001b[1mTRAINING\u001b[0m \n",
      "\t\t\t\t\t NODE_ID: NODE_fbc33f24-6d43-4d43-9031-ed1c4981a72b \n",
      "\t\t\t\t\t Round 4 Epoch: 1 | Iteration: 60/100 (60%) | Samples: 2880/4800\n",
      " \t\t\t\t\t Loss: \u001b[1m0.169183\u001b[0m \n",
      "\t\t\t\t\t ---------\n",
      "2024-01-09 11:17:55,414 fedbiomed INFO - \u001b[1mTRAINING\u001b[0m \n",
      "\t\t\t\t\t NODE_ID: NODE_2277a35a-722f-4a30-8a60-85cf8d873d82 \n",
      "\t\t\t\t\t Round 4 Epoch: 1 | Iteration: 80/100 (80%) | Samples: 3840/4800\n",
      " \t\t\t\t\t Loss: \u001b[1m0.039915\u001b[0m \n",
      "\t\t\t\t\t ---------\n",
      "2024-01-09 11:17:55,648 fedbiomed INFO - \u001b[1mTRAINING\u001b[0m \n",
      "\t\t\t\t\t NODE_ID: NODE_fbc33f24-6d43-4d43-9031-ed1c4981a72b \n",
      "\t\t\t\t\t Round 4 Epoch: 1 | Iteration: 70/100 (70%) | Samples: 3360/4800\n",
      " \t\t\t\t\t Loss: \u001b[1m0.085712\u001b[0m \n",
      "\t\t\t\t\t ---------\n",
      "2024-01-09 11:17:56,290 fedbiomed INFO - \u001b[1mTRAINING\u001b[0m \n",
      "\t\t\t\t\t NODE_ID: NODE_2277a35a-722f-4a30-8a60-85cf8d873d82 \n",
      "\t\t\t\t\t Round 4 Epoch: 1 | Iteration: 90/100 (90%) | Samples: 4320/4800\n",
      " \t\t\t\t\t Loss: \u001b[1m0.234366\u001b[0m \n",
      "\t\t\t\t\t ---------\n",
      "2024-01-09 11:17:56,329 fedbiomed INFO - \u001b[1mTRAINING\u001b[0m \n",
      "\t\t\t\t\t NODE_ID: NODE_fbc33f24-6d43-4d43-9031-ed1c4981a72b \n",
      "\t\t\t\t\t Round 4 Epoch: 1 | Iteration: 80/100 (80%) | Samples: 3840/4800\n",
      " \t\t\t\t\t Loss: \u001b[1m0.123868\u001b[0m \n",
      "\t\t\t\t\t ---------\n",
      "2024-01-09 11:17:56,985 fedbiomed INFO - \u001b[1mTRAINING\u001b[0m \n",
      "\t\t\t\t\t NODE_ID: NODE_fbc33f24-6d43-4d43-9031-ed1c4981a72b \n",
      "\t\t\t\t\t Round 4 Epoch: 1 | Iteration: 90/100 (90%) | Samples: 4320/4800\n",
      " \t\t\t\t\t Loss: \u001b[1m0.112645\u001b[0m \n",
      "\t\t\t\t\t ---------\n",
      "2024-01-09 11:17:57,017 fedbiomed INFO - \u001b[1mTRAINING\u001b[0m \n",
      "\t\t\t\t\t NODE_ID: NODE_2277a35a-722f-4a30-8a60-85cf8d873d82 \n",
      "\t\t\t\t\t Round 4 Epoch: 1 | Iteration: 100/100 (100%) | Samples: 4800/4800\n",
      " \t\t\t\t\t Loss: \u001b[1m0.121852\u001b[0m \n",
      "\t\t\t\t\t ---------\n",
      "2024-01-09 11:17:57,452 fedbiomed INFO - \u001b[1mTRAINING\u001b[0m \n",
      "\t\t\t\t\t NODE_ID: NODE_fbc33f24-6d43-4d43-9031-ed1c4981a72b \n",
      "\t\t\t\t\t Round 4 Epoch: 1 | Iteration: 100/100 (100%) | Samples: 4800/4800\n",
      " \t\t\t\t\t Loss: \u001b[1m0.116866\u001b[0m \n",
      "\t\t\t\t\t ---------\n",
      "2024-01-09 11:17:57,502 fedbiomed INFO - Nodes that successfully reply in round 3 ['NODE_2277a35a-722f-4a30-8a60-85cf8d873d82', 'NODE_fbc33f24-6d43-4d43-9031-ed1c4981a72b']\n",
      "2024-01-09 11:17:57,515 fedbiomed INFO - Saved aggregated params for round 3 in /home/ybouilla/github/fedbiomed_ssh/fedbiomed/var/experiments/Experiment_0005/aggregated_params_a4215ee6-face-4c50-b322-4caf5e184561.mpk\n"
     ]
    },
    {
     "data": {
      "text/plain": [
       "2"
      ]
     },
     "execution_count": 32,
     "metadata": {},
     "output_type": "execute_result"
    },
    {
     "name": "stderr",
     "output_type": "stream",
     "text": [
      "2024-01-09 11:18:02,233 fedbiomed DEBUG - Node: NODE_fbc33f24-6d43-4d43-9031-ed1c4981a72b polling for the tasks\n",
      "2024-01-09 11:18:46,456 fedbiomed DEBUG - Node: NODE_2277a35a-722f-4a30-8a60-85cf8d873d82 polling for the tasks\n",
      "2024-01-09 11:18:56,166 fedbiomed DEBUG - Node: NODE_2277a35a-722f-4a30-8a60-85cf8d873d82 polling for the tasks\n"
     ]
    }
   ],
   "source": [
    "exp.run()"
   ]
  },
  {
   "cell_type": "markdown",
   "metadata": {},
   "source": [
    "Let's check the current round status of the experiment. "
   ]
  },
  {
   "cell_type": "code",
   "execution_count": 33,
   "metadata": {},
   "outputs": [
    {
     "name": "stdout",
     "output_type": "stream",
     "text": [
      "Round Limit    :  4\n",
      "Current Round  :  4\n"
     ]
    }
   ],
   "source": [
    "print('Round Limit    : ' , exp.round_limit())\n",
    "print('Current Round  : ' , exp.round_current())"
   ]
  },
  {
   "cell_type": "markdown",
   "metadata": {},
   "source": [
    "Another way to run our experiment if the round limit is reached is passing `rounds` to the method `run()`. For example, following cell will run the experiment for `2` more rounds."
   ]
  },
  {
   "cell_type": "code",
   "execution_count": 34,
   "metadata": {},
   "outputs": [
    {
     "name": "stderr",
     "output_type": "stream",
     "text": [
      "2024-01-09 11:19:02,129 fedbiomed DEBUG - Auto increasing total rounds for experiment from 4 to 6\n",
      "2024-01-09 11:19:02,132 fedbiomed INFO - Sampled nodes in round 4 ['NODE_2277a35a-722f-4a30-8a60-85cf8d873d82', 'NODE_fbc33f24-6d43-4d43-9031-ed1c4981a72b']\n",
      "2024-01-09 11:19:02,137 fedbiomed INFO - \u001b[1mSending request\u001b[0m \n",
      "\t\t\t\t\t\u001b[1m To\u001b[0m: NODE_2277a35a-722f-4a30-8a60-85cf8d873d82 \n",
      "\t\t\t\t\t\u001b[1m Request: \u001b[0m: TRAIN\n",
      " -----------------------------------------------------------------\n",
      "2024-01-09 11:19:02,138 fedbiomed INFO - \u001b[1mSending request\u001b[0m \n",
      "\t\t\t\t\t\u001b[1m To\u001b[0m: NODE_fbc33f24-6d43-4d43-9031-ed1c4981a72b \n",
      "\t\t\t\t\t\u001b[1m Request: \u001b[0m: TRAIN\n",
      " -----------------------------------------------------------------\n",
      "2024-01-09 11:19:02,177 fedbiomed DEBUG - Node: NODE_2277a35a-722f-4a30-8a60-85cf8d873d82 polling for the tasks\n",
      "2024-01-09 11:19:02,180 fedbiomed DEBUG - Node: NODE_fbc33f24-6d43-4d43-9031-ed1c4981a72b polling for the tasks\n",
      "2024-01-09 11:19:02,343 fedbiomed INFO - \u001b[1mTRAINING\u001b[0m \n",
      "\t\t\t\t\t NODE_ID: NODE_2277a35a-722f-4a30-8a60-85cf8d873d82 \n",
      "\t\t\t\t\t Round 5 Epoch: 1 | Iteration: 1/100 (1%) | Samples: 48/4800\n",
      " \t\t\t\t\t Loss: \u001b[1m0.099483\u001b[0m \n",
      "\t\t\t\t\t ---------\n",
      "2024-01-09 11:19:02,380 fedbiomed INFO - \u001b[1mTRAINING\u001b[0m \n",
      "\t\t\t\t\t NODE_ID: NODE_fbc33f24-6d43-4d43-9031-ed1c4981a72b \n",
      "\t\t\t\t\t Round 5 Epoch: 1 | Iteration: 1/100 (1%) | Samples: 48/4800\n",
      " \t\t\t\t\t Loss: \u001b[1m0.051048\u001b[0m \n",
      "\t\t\t\t\t ---------\n",
      "2024-01-09 11:19:03,200 fedbiomed INFO - \u001b[1mTRAINING\u001b[0m \n",
      "\t\t\t\t\t NODE_ID: NODE_2277a35a-722f-4a30-8a60-85cf8d873d82 \n",
      "\t\t\t\t\t Round 5 Epoch: 1 | Iteration: 10/100 (10%) | Samples: 480/4800\n",
      " \t\t\t\t\t Loss: \u001b[1m0.168174\u001b[0m \n",
      "\t\t\t\t\t ---------\n",
      "2024-01-09 11:19:03,481 fedbiomed INFO - \u001b[1mTRAINING\u001b[0m \n",
      "\t\t\t\t\t NODE_ID: NODE_fbc33f24-6d43-4d43-9031-ed1c4981a72b \n",
      "\t\t\t\t\t Round 5 Epoch: 1 | Iteration: 10/100 (10%) | Samples: 480/4800\n",
      " \t\t\t\t\t Loss: \u001b[1m0.136790\u001b[0m \n",
      "\t\t\t\t\t ---------\n",
      "2024-01-09 11:19:04,115 fedbiomed INFO - \u001b[1mTRAINING\u001b[0m \n",
      "\t\t\t\t\t NODE_ID: NODE_fbc33f24-6d43-4d43-9031-ed1c4981a72b \n",
      "\t\t\t\t\t Round 5 Epoch: 1 | Iteration: 20/100 (20%) | Samples: 960/4800\n",
      " \t\t\t\t\t Loss: \u001b[1m0.061346\u001b[0m \n",
      "\t\t\t\t\t ---------\n",
      "2024-01-09 11:19:04,877 fedbiomed INFO - \u001b[1mTRAINING\u001b[0m \n",
      "\t\t\t\t\t NODE_ID: NODE_2277a35a-722f-4a30-8a60-85cf8d873d82 \n",
      "\t\t\t\t\t Round 5 Epoch: 1 | Iteration: 20/100 (20%) | Samples: 960/4800\n",
      " \t\t\t\t\t Loss: \u001b[1m0.232233\u001b[0m \n",
      "\t\t\t\t\t ---------\n",
      "2024-01-09 11:19:05,534 fedbiomed INFO - \u001b[1mTRAINING\u001b[0m \n",
      "\t\t\t\t\t NODE_ID: NODE_fbc33f24-6d43-4d43-9031-ed1c4981a72b \n",
      "\t\t\t\t\t Round 5 Epoch: 1 | Iteration: 30/100 (30%) | Samples: 1440/4800\n",
      " \t\t\t\t\t Loss: \u001b[1m0.110612\u001b[0m \n",
      "\t\t\t\t\t ---------\n",
      "2024-01-09 11:19:05,831 fedbiomed INFO - \u001b[1mTRAINING\u001b[0m \n",
      "\t\t\t\t\t NODE_ID: NODE_2277a35a-722f-4a30-8a60-85cf8d873d82 \n",
      "\t\t\t\t\t Round 5 Epoch: 1 | Iteration: 30/100 (30%) | Samples: 1440/4800\n",
      " \t\t\t\t\t Loss: \u001b[1m0.072473\u001b[0m \n",
      "\t\t\t\t\t ---------\n",
      "2024-01-09 11:19:06,678 fedbiomed INFO - \u001b[1mTRAINING\u001b[0m \n",
      "\t\t\t\t\t NODE_ID: NODE_fbc33f24-6d43-4d43-9031-ed1c4981a72b \n",
      "\t\t\t\t\t Round 5 Epoch: 1 | Iteration: 40/100 (40%) | Samples: 1920/4800\n",
      " \t\t\t\t\t Loss: \u001b[1m0.141584\u001b[0m \n",
      "\t\t\t\t\t ---------\n",
      "2024-01-09 11:19:07,834 fedbiomed INFO - \u001b[1mTRAINING\u001b[0m \n",
      "\t\t\t\t\t NODE_ID: NODE_2277a35a-722f-4a30-8a60-85cf8d873d82 \n",
      "\t\t\t\t\t Round 5 Epoch: 1 | Iteration: 40/100 (40%) | Samples: 1920/4800\n",
      " \t\t\t\t\t Loss: \u001b[1m0.078691\u001b[0m \n",
      "\t\t\t\t\t ---------\n",
      "2024-01-09 11:19:08,686 fedbiomed INFO - \u001b[1mTRAINING\u001b[0m \n",
      "\t\t\t\t\t NODE_ID: NODE_2277a35a-722f-4a30-8a60-85cf8d873d82 \n",
      "\t\t\t\t\t Round 5 Epoch: 1 | Iteration: 50/100 (50%) | Samples: 2400/4800\n",
      " \t\t\t\t\t Loss: \u001b[1m0.156933\u001b[0m \n",
      "\t\t\t\t\t ---------\n",
      "2024-01-09 11:19:09,042 fedbiomed INFO - \u001b[1mTRAINING\u001b[0m \n",
      "\t\t\t\t\t NODE_ID: NODE_fbc33f24-6d43-4d43-9031-ed1c4981a72b \n",
      "\t\t\t\t\t Round 5 Epoch: 1 | Iteration: 50/100 (50%) | Samples: 2400/4800\n",
      " \t\t\t\t\t Loss: \u001b[1m0.130089\u001b[0m \n",
      "\t\t\t\t\t ---------\n",
      "2024-01-09 11:19:09,379 fedbiomed INFO - \u001b[1mTRAINING\u001b[0m \n",
      "\t\t\t\t\t NODE_ID: NODE_2277a35a-722f-4a30-8a60-85cf8d873d82 \n",
      "\t\t\t\t\t Round 5 Epoch: 1 | Iteration: 60/100 (60%) | Samples: 2880/4800\n",
      " \t\t\t\t\t Loss: \u001b[1m0.047321\u001b[0m \n",
      "\t\t\t\t\t ---------\n",
      "2024-01-09 11:19:10,099 fedbiomed INFO - \u001b[1mTRAINING\u001b[0m \n",
      "\t\t\t\t\t NODE_ID: NODE_2277a35a-722f-4a30-8a60-85cf8d873d82 \n",
      "\t\t\t\t\t Round 5 Epoch: 1 | Iteration: 70/100 (70%) | Samples: 3360/4800\n",
      " \t\t\t\t\t Loss: \u001b[1m0.090923\u001b[0m \n",
      "\t\t\t\t\t ---------\n",
      "2024-01-09 11:19:11,047 fedbiomed INFO - \u001b[1mTRAINING\u001b[0m \n",
      "\t\t\t\t\t NODE_ID: NODE_fbc33f24-6d43-4d43-9031-ed1c4981a72b \n",
      "\t\t\t\t\t Round 5 Epoch: 1 | Iteration: 60/100 (60%) | Samples: 2880/4800\n",
      " \t\t\t\t\t Loss: \u001b[1m0.067601\u001b[0m \n",
      "\t\t\t\t\t ---------\n",
      "2024-01-09 11:19:11,095 fedbiomed INFO - \u001b[1mTRAINING\u001b[0m \n",
      "\t\t\t\t\t NODE_ID: NODE_2277a35a-722f-4a30-8a60-85cf8d873d82 \n",
      "\t\t\t\t\t Round 5 Epoch: 1 | Iteration: 80/100 (80%) | Samples: 3840/4800\n",
      " \t\t\t\t\t Loss: \u001b[1m0.125307\u001b[0m \n",
      "\t\t\t\t\t ---------\n",
      "2024-01-09 11:19:12,018 fedbiomed INFO - \u001b[1mTRAINING\u001b[0m \n",
      "\t\t\t\t\t NODE_ID: NODE_2277a35a-722f-4a30-8a60-85cf8d873d82 \n",
      "\t\t\t\t\t Round 5 Epoch: 1 | Iteration: 90/100 (90%) | Samples: 4320/4800\n",
      " \t\t\t\t\t Loss: \u001b[1m0.185977\u001b[0m \n",
      "\t\t\t\t\t ---------\n",
      "2024-01-09 11:19:12,607 fedbiomed INFO - \u001b[1mTRAINING\u001b[0m \n",
      "\t\t\t\t\t NODE_ID: NODE_fbc33f24-6d43-4d43-9031-ed1c4981a72b \n",
      "\t\t\t\t\t Round 5 Epoch: 1 | Iteration: 70/100 (70%) | Samples: 3360/4800\n",
      " \t\t\t\t\t Loss: \u001b[1m0.315794\u001b[0m \n",
      "\t\t\t\t\t ---------\n",
      "2024-01-09 11:19:12,851 fedbiomed INFO - \u001b[1mTRAINING\u001b[0m \n",
      "\t\t\t\t\t NODE_ID: NODE_2277a35a-722f-4a30-8a60-85cf8d873d82 \n",
      "\t\t\t\t\t Round 5 Epoch: 1 | Iteration: 100/100 (100%) | Samples: 4800/4800\n",
      " \t\t\t\t\t Loss: \u001b[1m0.226490\u001b[0m \n",
      "\t\t\t\t\t ---------\n",
      "2024-01-09 11:19:13,260 fedbiomed INFO - \u001b[1mTRAINING\u001b[0m \n",
      "\t\t\t\t\t NODE_ID: NODE_fbc33f24-6d43-4d43-9031-ed1c4981a72b \n",
      "\t\t\t\t\t Round 5 Epoch: 1 | Iteration: 80/100 (80%) | Samples: 3840/4800\n",
      " \t\t\t\t\t Loss: \u001b[1m0.362560\u001b[0m \n",
      "\t\t\t\t\t ---------\n",
      "2024-01-09 11:19:13,703 fedbiomed INFO - \u001b[1mTRAINING\u001b[0m \n",
      "\t\t\t\t\t NODE_ID: NODE_fbc33f24-6d43-4d43-9031-ed1c4981a72b \n",
      "\t\t\t\t\t Round 5 Epoch: 1 | Iteration: 90/100 (90%) | Samples: 4320/4800\n",
      " \t\t\t\t\t Loss: \u001b[1m0.234822\u001b[0m \n",
      "\t\t\t\t\t ---------\n",
      "2024-01-09 11:19:14,161 fedbiomed INFO - \u001b[1mTRAINING\u001b[0m \n",
      "\t\t\t\t\t NODE_ID: NODE_fbc33f24-6d43-4d43-9031-ed1c4981a72b \n",
      "\t\t\t\t\t Round 5 Epoch: 1 | Iteration: 100/100 (100%) | Samples: 4800/4800\n",
      " \t\t\t\t\t Loss: \u001b[1m0.102677\u001b[0m \n",
      "\t\t\t\t\t ---------\n",
      "2024-01-09 11:19:14,220 fedbiomed INFO - Nodes that successfully reply in round 4 ['NODE_2277a35a-722f-4a30-8a60-85cf8d873d82', 'NODE_fbc33f24-6d43-4d43-9031-ed1c4981a72b']\n",
      "2024-01-09 11:19:14,236 fedbiomed INFO - Saved aggregated params for round 4 in /home/ybouilla/github/fedbiomed_ssh/fedbiomed/var/experiments/Experiment_0005/aggregated_params_c3c2dbf9-f9b3-41f7-81c1-5d97870ce8d7.mpk\n",
      "2024-01-09 11:19:14,237 fedbiomed INFO - Sampled nodes in round 5 ['NODE_2277a35a-722f-4a30-8a60-85cf8d873d82', 'NODE_fbc33f24-6d43-4d43-9031-ed1c4981a72b']\n",
      "2024-01-09 11:19:14,241 fedbiomed INFO - \u001b[1mSending request\u001b[0m \n",
      "\t\t\t\t\t\u001b[1m To\u001b[0m: NODE_2277a35a-722f-4a30-8a60-85cf8d873d82 \n",
      "\t\t\t\t\t\u001b[1m Request: \u001b[0m: TRAIN\n",
      " -----------------------------------------------------------------\n",
      "2024-01-09 11:19:14,242 fedbiomed INFO - \u001b[1mSending request\u001b[0m \n",
      "\t\t\t\t\t\u001b[1m To\u001b[0m: NODE_fbc33f24-6d43-4d43-9031-ed1c4981a72b \n",
      "\t\t\t\t\t\u001b[1m Request: \u001b[0m: TRAIN\n",
      " -----------------------------------------------------------------\n",
      "2024-01-09 11:19:14,245 fedbiomed INFO - Node NODE_fbc33f24-6d43-4d43-9031-ed1c4981a72b is in WAITING status. Server is waiting for receiving a request from this node to convert it as ACTIVE. Node will be updated as DISCONNECTED soon if no request received.\n",
      "2024-01-09 11:19:14,270 fedbiomed DEBUG - Node: NODE_2277a35a-722f-4a30-8a60-85cf8d873d82 polling for the tasks\n",
      "2024-01-09 11:19:14,407 fedbiomed INFO - \u001b[1mTRAINING\u001b[0m \n",
      "\t\t\t\t\t NODE_ID: NODE_2277a35a-722f-4a30-8a60-85cf8d873d82 \n",
      "\t\t\t\t\t Round 6 Epoch: 1 | Iteration: 1/100 (1%) | Samples: 48/4800\n",
      " \t\t\t\t\t Loss: \u001b[1m0.213381\u001b[0m \n",
      "\t\t\t\t\t ---------\n",
      "2024-01-09 11:19:14,410 fedbiomed DEBUG - Node: NODE_fbc33f24-6d43-4d43-9031-ed1c4981a72b polling for the tasks\n",
      "2024-01-09 11:19:14,436 fedbiomed DEBUG - Node: NODE_fbc33f24-6d43-4d43-9031-ed1c4981a72b polling for the tasks\n",
      "2024-01-09 11:19:14,636 fedbiomed INFO - \u001b[1mTRAINING\u001b[0m \n",
      "\t\t\t\t\t NODE_ID: NODE_fbc33f24-6d43-4d43-9031-ed1c4981a72b \n",
      "\t\t\t\t\t Round 6 Epoch: 1 | Iteration: 1/100 (1%) | Samples: 48/4800\n",
      " \t\t\t\t\t Loss: \u001b[1m0.048840\u001b[0m \n",
      "\t\t\t\t\t ---------\n",
      "2024-01-09 11:19:15,207 fedbiomed INFO - \u001b[1mTRAINING\u001b[0m \n",
      "\t\t\t\t\t NODE_ID: NODE_2277a35a-722f-4a30-8a60-85cf8d873d82 \n",
      "\t\t\t\t\t Round 6 Epoch: 1 | Iteration: 10/100 (10%) | Samples: 480/4800\n",
      " \t\t\t\t\t Loss: \u001b[1m0.077467\u001b[0m \n",
      "\t\t\t\t\t ---------\n",
      "2024-01-09 11:19:15,503 fedbiomed INFO - \u001b[1mTRAINING\u001b[0m \n",
      "\t\t\t\t\t NODE_ID: NODE_fbc33f24-6d43-4d43-9031-ed1c4981a72b \n",
      "\t\t\t\t\t Round 6 Epoch: 1 | Iteration: 10/100 (10%) | Samples: 480/4800\n",
      " \t\t\t\t\t Loss: \u001b[1m0.262847\u001b[0m \n",
      "\t\t\t\t\t ---------\n",
      "2024-01-09 11:19:16,307 fedbiomed INFO - \u001b[1mTRAINING\u001b[0m \n",
      "\t\t\t\t\t NODE_ID: NODE_2277a35a-722f-4a30-8a60-85cf8d873d82 \n",
      "\t\t\t\t\t Round 6 Epoch: 1 | Iteration: 20/100 (20%) | Samples: 960/4800\n",
      " \t\t\t\t\t Loss: \u001b[1m0.109756\u001b[0m \n",
      "\t\t\t\t\t ---------\n",
      "2024-01-09 11:19:17,058 fedbiomed INFO - \u001b[1mTRAINING\u001b[0m \n",
      "\t\t\t\t\t NODE_ID: NODE_fbc33f24-6d43-4d43-9031-ed1c4981a72b \n",
      "\t\t\t\t\t Round 6 Epoch: 1 | Iteration: 20/100 (20%) | Samples: 960/4800\n",
      " \t\t\t\t\t Loss: \u001b[1m0.061172\u001b[0m \n",
      "\t\t\t\t\t ---------\n",
      "2024-01-09 11:19:17,978 fedbiomed INFO - \u001b[1mTRAINING\u001b[0m \n",
      "\t\t\t\t\t NODE_ID: NODE_2277a35a-722f-4a30-8a60-85cf8d873d82 \n",
      "\t\t\t\t\t Round 6 Epoch: 1 | Iteration: 30/100 (30%) | Samples: 1440/4800\n",
      " \t\t\t\t\t Loss: \u001b[1m0.144024\u001b[0m \n",
      "\t\t\t\t\t ---------\n",
      "2024-01-09 11:19:18,129 fedbiomed INFO - \u001b[1mTRAINING\u001b[0m \n",
      "\t\t\t\t\t NODE_ID: NODE_fbc33f24-6d43-4d43-9031-ed1c4981a72b \n",
      "\t\t\t\t\t Round 6 Epoch: 1 | Iteration: 30/100 (30%) | Samples: 1440/4800\n",
      " \t\t\t\t\t Loss: \u001b[1m0.081422\u001b[0m \n",
      "\t\t\t\t\t ---------\n",
      "2024-01-09 11:19:19,338 fedbiomed INFO - \u001b[1mTRAINING\u001b[0m \n",
      "\t\t\t\t\t NODE_ID: NODE_fbc33f24-6d43-4d43-9031-ed1c4981a72b \n",
      "\t\t\t\t\t Round 6 Epoch: 1 | Iteration: 40/100 (40%) | Samples: 1920/4800\n",
      " \t\t\t\t\t Loss: \u001b[1m0.100307\u001b[0m \n",
      "\t\t\t\t\t ---------\n",
      "2024-01-09 11:19:19,373 fedbiomed INFO - \u001b[1mTRAINING\u001b[0m \n",
      "\t\t\t\t\t NODE_ID: NODE_2277a35a-722f-4a30-8a60-85cf8d873d82 \n",
      "\t\t\t\t\t Round 6 Epoch: 1 | Iteration: 40/100 (40%) | Samples: 1920/4800\n",
      " \t\t\t\t\t Loss: \u001b[1m0.196541\u001b[0m \n",
      "\t\t\t\t\t ---------\n",
      "2024-01-09 11:19:20,527 fedbiomed INFO - \u001b[1mTRAINING\u001b[0m \n",
      "\t\t\t\t\t NODE_ID: NODE_fbc33f24-6d43-4d43-9031-ed1c4981a72b \n",
      "\t\t\t\t\t Round 6 Epoch: 1 | Iteration: 50/100 (50%) | Samples: 2400/4800\n",
      " \t\t\t\t\t Loss: \u001b[1m0.443095\u001b[0m \n",
      "\t\t\t\t\t ---------\n",
      "2024-01-09 11:19:20,530 fedbiomed INFO - \u001b[1mTRAINING\u001b[0m \n",
      "\t\t\t\t\t NODE_ID: NODE_2277a35a-722f-4a30-8a60-85cf8d873d82 \n",
      "\t\t\t\t\t Round 6 Epoch: 1 | Iteration: 50/100 (50%) | Samples: 2400/4800\n",
      " \t\t\t\t\t Loss: \u001b[1m0.022345\u001b[0m \n",
      "\t\t\t\t\t ---------\n",
      "2024-01-09 11:19:21,341 fedbiomed INFO - \u001b[1mTRAINING\u001b[0m \n",
      "\t\t\t\t\t NODE_ID: NODE_fbc33f24-6d43-4d43-9031-ed1c4981a72b \n",
      "\t\t\t\t\t Round 6 Epoch: 1 | Iteration: 60/100 (60%) | Samples: 2880/4800\n",
      " \t\t\t\t\t Loss: \u001b[1m0.028585\u001b[0m \n",
      "\t\t\t\t\t ---------\n",
      "2024-01-09 11:19:21,787 fedbiomed INFO - \u001b[1mTRAINING\u001b[0m \n",
      "\t\t\t\t\t NODE_ID: NODE_2277a35a-722f-4a30-8a60-85cf8d873d82 \n",
      "\t\t\t\t\t Round 6 Epoch: 1 | Iteration: 60/100 (60%) | Samples: 2880/4800\n",
      " \t\t\t\t\t Loss: \u001b[1m0.014172\u001b[0m \n",
      "\t\t\t\t\t ---------\n",
      "2024-01-09 11:19:22,951 fedbiomed INFO - \u001b[1mTRAINING\u001b[0m \n",
      "\t\t\t\t\t NODE_ID: NODE_fbc33f24-6d43-4d43-9031-ed1c4981a72b \n",
      "\t\t\t\t\t Round 6 Epoch: 1 | Iteration: 70/100 (70%) | Samples: 3360/4800\n",
      " \t\t\t\t\t Loss: \u001b[1m0.076434\u001b[0m \n",
      "\t\t\t\t\t ---------\n",
      "2024-01-09 11:19:23,626 fedbiomed INFO - \u001b[1mTRAINING\u001b[0m \n",
      "\t\t\t\t\t NODE_ID: NODE_2277a35a-722f-4a30-8a60-85cf8d873d82 \n",
      "\t\t\t\t\t Round 6 Epoch: 1 | Iteration: 70/100 (70%) | Samples: 3360/4800\n",
      " \t\t\t\t\t Loss: \u001b[1m0.291819\u001b[0m \n",
      "\t\t\t\t\t ---------\n",
      "2024-01-09 11:19:23,809 fedbiomed INFO - \u001b[1mTRAINING\u001b[0m \n",
      "\t\t\t\t\t NODE_ID: NODE_fbc33f24-6d43-4d43-9031-ed1c4981a72b \n",
      "\t\t\t\t\t Round 6 Epoch: 1 | Iteration: 80/100 (80%) | Samples: 3840/4800\n",
      " \t\t\t\t\t Loss: \u001b[1m0.137393\u001b[0m \n",
      "\t\t\t\t\t ---------\n",
      "2024-01-09 11:19:24,382 fedbiomed INFO - \u001b[1mTRAINING\u001b[0m \n",
      "\t\t\t\t\t NODE_ID: NODE_2277a35a-722f-4a30-8a60-85cf8d873d82 \n",
      "\t\t\t\t\t Round 6 Epoch: 1 | Iteration: 80/100 (80%) | Samples: 3840/4800\n",
      " \t\t\t\t\t Loss: \u001b[1m0.043722\u001b[0m \n",
      "\t\t\t\t\t ---------\n",
      "2024-01-09 11:19:24,671 fedbiomed INFO - \u001b[1mTRAINING\u001b[0m \n",
      "\t\t\t\t\t NODE_ID: NODE_fbc33f24-6d43-4d43-9031-ed1c4981a72b \n",
      "\t\t\t\t\t Round 6 Epoch: 1 | Iteration: 90/100 (90%) | Samples: 4320/4800\n",
      " \t\t\t\t\t Loss: \u001b[1m0.135354\u001b[0m \n",
      "\t\t\t\t\t ---------\n",
      "2024-01-09 11:19:25,372 fedbiomed INFO - \u001b[1mTRAINING\u001b[0m \n",
      "\t\t\t\t\t NODE_ID: NODE_2277a35a-722f-4a30-8a60-85cf8d873d82 \n",
      "\t\t\t\t\t Round 6 Epoch: 1 | Iteration: 90/100 (90%) | Samples: 4320/4800\n",
      " \t\t\t\t\t Loss: \u001b[1m0.037600\u001b[0m \n",
      "\t\t\t\t\t ---------\n",
      "2024-01-09 11:19:25,969 fedbiomed INFO - \u001b[1mTRAINING\u001b[0m \n",
      "\t\t\t\t\t NODE_ID: NODE_fbc33f24-6d43-4d43-9031-ed1c4981a72b \n",
      "\t\t\t\t\t Round 6 Epoch: 1 | Iteration: 100/100 (100%) | Samples: 4800/4800\n",
      " \t\t\t\t\t Loss: \u001b[1m0.186383\u001b[0m \n",
      "\t\t\t\t\t ---------\n",
      "2024-01-09 11:19:26,224 fedbiomed INFO - \u001b[1mTRAINING\u001b[0m \n",
      "\t\t\t\t\t NODE_ID: NODE_2277a35a-722f-4a30-8a60-85cf8d873d82 \n",
      "\t\t\t\t\t Round 6 Epoch: 1 | Iteration: 100/100 (100%) | Samples: 4800/4800\n",
      " \t\t\t\t\t Loss: \u001b[1m0.066150\u001b[0m \n",
      "\t\t\t\t\t ---------\n",
      "2024-01-09 11:19:26,279 fedbiomed INFO - Nodes that successfully reply in round 5 ['NODE_2277a35a-722f-4a30-8a60-85cf8d873d82', 'NODE_fbc33f24-6d43-4d43-9031-ed1c4981a72b']\n",
      "2024-01-09 11:19:26,301 fedbiomed INFO - Saved aggregated params for round 5 in /home/ybouilla/github/fedbiomed_ssh/fedbiomed/var/experiments/Experiment_0005/aggregated_params_47df22fd-5854-4d51-85c4-1273afa91859.mpk\n"
     ]
    },
    {
     "data": {
      "text/plain": [
       "2"
      ]
     },
     "execution_count": 34,
     "metadata": {},
     "output_type": "execute_result"
    }
   ],
   "source": [
    "exp.run(rounds=2, increase=True) # increase is True by default"
   ]
  },
  {
   "cell_type": "markdown",
   "metadata": {},
   "source": [
    "If the argument `increase` is `False`, it will not increase the round limit automatically. "
   ]
  },
  {
   "cell_type": "code",
   "execution_count": 35,
   "metadata": {},
   "outputs": [
    {
     "name": "stderr",
     "output_type": "stream",
     "text": [
      "2024-01-09 11:19:26,313 fedbiomed WARNING - Round limit of 6 already reached for this experiment, do nothing.\n"
     ]
    },
    {
     "data": {
      "text/plain": [
       "0"
      ]
     },
     "execution_count": 35,
     "metadata": {},
     "output_type": "execute_result"
    }
   ],
   "source": [
    "exp.run(rounds=2, increase=False)"
   ]
  },
  {
   "cell_type": "code",
   "execution_count": 36,
   "metadata": {},
   "outputs": [
    {
     "name": "stdout",
     "output_type": "stream",
     "text": [
      "Round Limit    :  6\n",
      "Current Round  :  6\n"
     ]
    },
    {
     "name": "stderr",
     "output_type": "stream",
     "text": [
      "2024-01-09 11:20:11,464 fedbiomed DEBUG - Node: NODE_2277a35a-722f-4a30-8a60-85cf8d873d82 polling for the tasks\n",
      "2024-01-09 11:20:14,439 fedbiomed DEBUG - Node: NODE_fbc33f24-6d43-4d43-9031-ed1c4981a72b polling for the tasks\n",
      "2024-01-09 11:20:20,569 fedbiomed DEBUG - Node: NODE_fbc33f24-6d43-4d43-9031-ed1c4981a72b polling for the tasks\n",
      "2024-01-09 11:21:11,465 fedbiomed DEBUG - Node: NODE_2277a35a-722f-4a30-8a60-85cf8d873d82 polling for the tasks\n",
      "2024-01-09 11:21:20,565 fedbiomed DEBUG - Node: NODE_fbc33f24-6d43-4d43-9031-ed1c4981a72b polling for the tasks\n",
      "2024-01-09 11:21:24,811 fedbiomed DEBUG - Node: NODE_2277a35a-722f-4a30-8a60-85cf8d873d82 polling for the tasks\n",
      "2024-01-09 11:21:31,863 fedbiomed DEBUG - Node: NODE_fbc33f24-6d43-4d43-9031-ed1c4981a72b polling for the tasks\n",
      "2024-01-09 11:22:24,812 fedbiomed DEBUG - Node: NODE_2277a35a-722f-4a30-8a60-85cf8d873d82 polling for the tasks\n",
      "2024-01-09 11:22:31,862 fedbiomed DEBUG - Node: NODE_fbc33f24-6d43-4d43-9031-ed1c4981a72b polling for the tasks\n",
      "2024-01-09 11:22:36,581 fedbiomed DEBUG - Node: NODE_2277a35a-722f-4a30-8a60-85cf8d873d82 polling for the tasks\n",
      "2024-01-09 11:22:42,458 fedbiomed DEBUG - Node: NODE_fbc33f24-6d43-4d43-9031-ed1c4981a72b polling for the tasks\n"
     ]
    }
   ],
   "source": [
    "print('Round Limit    : ' , exp.round_limit())\n",
    "print('Current Round  : ' , exp.round_current())"
   ]
  },
  {
   "cell_type": "markdown",
   "metadata": {},
   "source": [
    "It is also possible to increase number of rounds while running the experiment with `run_once()` by passing `increase` argument as `True`"
   ]
  },
  {
   "cell_type": "code",
   "execution_count": 37,
   "metadata": {},
   "outputs": [
    {
     "name": "stderr",
     "output_type": "stream",
     "text": [
      "2024-01-09 11:23:10,397 fedbiomed DEBUG - Auto increasing total rounds for experiment from 6 to 7\n",
      "2024-01-09 11:23:10,399 fedbiomed INFO - Sampled nodes in round 6 ['NODE_2277a35a-722f-4a30-8a60-85cf8d873d82', 'NODE_fbc33f24-6d43-4d43-9031-ed1c4981a72b']\n",
      "2024-01-09 11:23:10,405 fedbiomed INFO - \u001b[1mSending request\u001b[0m \n",
      "\t\t\t\t\t\u001b[1m To\u001b[0m: NODE_2277a35a-722f-4a30-8a60-85cf8d873d82 \n",
      "\t\t\t\t\t\u001b[1m Request: \u001b[0m: TRAIN\n",
      " -----------------------------------------------------------------\n",
      "2024-01-09 11:23:10,406 fedbiomed INFO - \u001b[1mSending request\u001b[0m \n",
      "\t\t\t\t\t\u001b[1m To\u001b[0m: NODE_fbc33f24-6d43-4d43-9031-ed1c4981a72b \n",
      "\t\t\t\t\t\u001b[1m Request: \u001b[0m: TRAIN\n",
      " -----------------------------------------------------------------\n",
      "2024-01-09 11:23:10,444 fedbiomed DEBUG - Node: NODE_fbc33f24-6d43-4d43-9031-ed1c4981a72b polling for the tasks\n",
      "2024-01-09 11:23:10,446 fedbiomed DEBUG - Node: NODE_2277a35a-722f-4a30-8a60-85cf8d873d82 polling for the tasks\n",
      "2024-01-09 11:23:10,609 fedbiomed INFO - \u001b[1mTRAINING\u001b[0m \n",
      "\t\t\t\t\t NODE_ID: NODE_2277a35a-722f-4a30-8a60-85cf8d873d82 \n",
      "\t\t\t\t\t Round 7 Epoch: 1 | Iteration: 1/100 (1%) | Samples: 48/4800\n",
      " \t\t\t\t\t Loss: \u001b[1m0.079458\u001b[0m \n",
      "\t\t\t\t\t ---------\n",
      "2024-01-09 11:23:10,677 fedbiomed INFO - \u001b[1mTRAINING\u001b[0m \n",
      "\t\t\t\t\t NODE_ID: NODE_fbc33f24-6d43-4d43-9031-ed1c4981a72b \n",
      "\t\t\t\t\t Round 7 Epoch: 1 | Iteration: 1/100 (1%) | Samples: 48/4800\n",
      " \t\t\t\t\t Loss: \u001b[1m0.072127\u001b[0m \n",
      "\t\t\t\t\t ---------\n",
      "2024-01-09 11:23:11,362 fedbiomed INFO - \u001b[1mTRAINING\u001b[0m \n",
      "\t\t\t\t\t NODE_ID: NODE_2277a35a-722f-4a30-8a60-85cf8d873d82 \n",
      "\t\t\t\t\t Round 7 Epoch: 1 | Iteration: 10/100 (10%) | Samples: 480/4800\n",
      " \t\t\t\t\t Loss: \u001b[1m0.179567\u001b[0m \n",
      "\t\t\t\t\t ---------\n",
      "2024-01-09 11:23:12,042 fedbiomed INFO - \u001b[1mTRAINING\u001b[0m \n",
      "\t\t\t\t\t NODE_ID: NODE_2277a35a-722f-4a30-8a60-85cf8d873d82 \n",
      "\t\t\t\t\t Round 7 Epoch: 1 | Iteration: 20/100 (20%) | Samples: 960/4800\n",
      " \t\t\t\t\t Loss: \u001b[1m0.031672\u001b[0m \n",
      "\t\t\t\t\t ---------\n",
      "2024-01-09 11:23:12,089 fedbiomed INFO - \u001b[1mTRAINING\u001b[0m \n",
      "\t\t\t\t\t NODE_ID: NODE_fbc33f24-6d43-4d43-9031-ed1c4981a72b \n",
      "\t\t\t\t\t Round 7 Epoch: 1 | Iteration: 10/100 (10%) | Samples: 480/4800\n",
      " \t\t\t\t\t Loss: \u001b[1m0.077696\u001b[0m \n",
      "\t\t\t\t\t ---------\n",
      "2024-01-09 11:23:13,047 fedbiomed INFO - \u001b[1mTRAINING\u001b[0m \n",
      "\t\t\t\t\t NODE_ID: NODE_2277a35a-722f-4a30-8a60-85cf8d873d82 \n",
      "\t\t\t\t\t Round 7 Epoch: 1 | Iteration: 30/100 (30%) | Samples: 1440/4800\n",
      " \t\t\t\t\t Loss: \u001b[1m0.308866\u001b[0m \n",
      "\t\t\t\t\t ---------\n",
      "2024-01-09 11:23:13,839 fedbiomed INFO - \u001b[1mTRAINING\u001b[0m \n",
      "\t\t\t\t\t NODE_ID: NODE_2277a35a-722f-4a30-8a60-85cf8d873d82 \n",
      "\t\t\t\t\t Round 7 Epoch: 1 | Iteration: 40/100 (40%) | Samples: 1920/4800\n",
      " \t\t\t\t\t Loss: \u001b[1m0.041752\u001b[0m \n",
      "\t\t\t\t\t ---------\n",
      "2024-01-09 11:23:14,248 fedbiomed INFO - \u001b[1mTRAINING\u001b[0m \n",
      "\t\t\t\t\t NODE_ID: NODE_fbc33f24-6d43-4d43-9031-ed1c4981a72b \n",
      "\t\t\t\t\t Round 7 Epoch: 1 | Iteration: 20/100 (20%) | Samples: 960/4800\n",
      " \t\t\t\t\t Loss: \u001b[1m0.025496\u001b[0m \n",
      "\t\t\t\t\t ---------\n",
      "2024-01-09 11:23:15,251 fedbiomed INFO - \u001b[1mTRAINING\u001b[0m \n",
      "\t\t\t\t\t NODE_ID: NODE_2277a35a-722f-4a30-8a60-85cf8d873d82 \n",
      "\t\t\t\t\t Round 7 Epoch: 1 | Iteration: 50/100 (50%) | Samples: 2400/4800\n",
      " \t\t\t\t\t Loss: \u001b[1m0.078024\u001b[0m \n",
      "\t\t\t\t\t ---------\n",
      "2024-01-09 11:23:15,648 fedbiomed INFO - \u001b[1mTRAINING\u001b[0m \n",
      "\t\t\t\t\t NODE_ID: NODE_fbc33f24-6d43-4d43-9031-ed1c4981a72b \n",
      "\t\t\t\t\t Round 7 Epoch: 1 | Iteration: 30/100 (30%) | Samples: 1440/4800\n",
      " \t\t\t\t\t Loss: \u001b[1m0.051228\u001b[0m \n",
      "\t\t\t\t\t ---------\n",
      "2024-01-09 11:23:16,200 fedbiomed INFO - \u001b[1mTRAINING\u001b[0m \n",
      "\t\t\t\t\t NODE_ID: NODE_2277a35a-722f-4a30-8a60-85cf8d873d82 \n",
      "\t\t\t\t\t Round 7 Epoch: 1 | Iteration: 60/100 (60%) | Samples: 2880/4800\n",
      " \t\t\t\t\t Loss: \u001b[1m0.127230\u001b[0m \n",
      "\t\t\t\t\t ---------\n",
      "2024-01-09 11:23:17,285 fedbiomed INFO - \u001b[1mTRAINING\u001b[0m \n",
      "\t\t\t\t\t NODE_ID: NODE_2277a35a-722f-4a30-8a60-85cf8d873d82 \n",
      "\t\t\t\t\t Round 7 Epoch: 1 | Iteration: 70/100 (70%) | Samples: 3360/4800\n",
      " \t\t\t\t\t Loss: \u001b[1m0.032673\u001b[0m \n",
      "\t\t\t\t\t ---------\n",
      "2024-01-09 11:23:17,952 fedbiomed INFO - \u001b[1mTRAINING\u001b[0m \n",
      "\t\t\t\t\t NODE_ID: NODE_2277a35a-722f-4a30-8a60-85cf8d873d82 \n",
      "\t\t\t\t\t Round 7 Epoch: 1 | Iteration: 80/100 (80%) | Samples: 3840/4800\n",
      " \t\t\t\t\t Loss: \u001b[1m0.109770\u001b[0m \n",
      "\t\t\t\t\t ---------\n",
      "2024-01-09 11:23:18,292 fedbiomed INFO - \u001b[1mTRAINING\u001b[0m \n",
      "\t\t\t\t\t NODE_ID: NODE_fbc33f24-6d43-4d43-9031-ed1c4981a72b \n",
      "\t\t\t\t\t Round 7 Epoch: 1 | Iteration: 40/100 (40%) | Samples: 1920/4800\n",
      " \t\t\t\t\t Loss: \u001b[1m0.025187\u001b[0m \n",
      "\t\t\t\t\t ---------\n",
      "2024-01-09 11:23:18,835 fedbiomed INFO - \u001b[1mTRAINING\u001b[0m \n",
      "\t\t\t\t\t NODE_ID: NODE_2277a35a-722f-4a30-8a60-85cf8d873d82 \n",
      "\t\t\t\t\t Round 7 Epoch: 1 | Iteration: 90/100 (90%) | Samples: 4320/4800\n",
      " \t\t\t\t\t Loss: \u001b[1m0.200328\u001b[0m \n",
      "\t\t\t\t\t ---------\n",
      "2024-01-09 11:23:19,642 fedbiomed INFO - \u001b[1mTRAINING\u001b[0m \n",
      "\t\t\t\t\t NODE_ID: NODE_fbc33f24-6d43-4d43-9031-ed1c4981a72b \n",
      "\t\t\t\t\t Round 7 Epoch: 1 | Iteration: 50/100 (50%) | Samples: 2400/4800\n",
      " \t\t\t\t\t Loss: \u001b[1m0.142225\u001b[0m \n",
      "\t\t\t\t\t ---------\n",
      "2024-01-09 11:23:20,064 fedbiomed INFO - \u001b[1mTRAINING\u001b[0m \n",
      "\t\t\t\t\t NODE_ID: NODE_2277a35a-722f-4a30-8a60-85cf8d873d82 \n",
      "\t\t\t\t\t Round 7 Epoch: 1 | Iteration: 100/100 (100%) | Samples: 4800/4800\n",
      " \t\t\t\t\t Loss: \u001b[1m0.156598\u001b[0m \n",
      "\t\t\t\t\t ---------\n",
      "2024-01-09 11:23:20,647 fedbiomed INFO - \u001b[1mTRAINING\u001b[0m \n",
      "\t\t\t\t\t NODE_ID: NODE_fbc33f24-6d43-4d43-9031-ed1c4981a72b \n",
      "\t\t\t\t\t Round 7 Epoch: 1 | Iteration: 60/100 (60%) | Samples: 2880/4800\n",
      " \t\t\t\t\t Loss: \u001b[1m0.060534\u001b[0m \n",
      "\t\t\t\t\t ---------\n",
      "2024-01-09 11:23:21,187 fedbiomed INFO - \u001b[1mTRAINING\u001b[0m \n",
      "\t\t\t\t\t NODE_ID: NODE_fbc33f24-6d43-4d43-9031-ed1c4981a72b \n",
      "\t\t\t\t\t Round 7 Epoch: 1 | Iteration: 70/100 (70%) | Samples: 3360/4800\n",
      " \t\t\t\t\t Loss: \u001b[1m0.147137\u001b[0m \n",
      "\t\t\t\t\t ---------\n",
      "2024-01-09 11:23:21,648 fedbiomed INFO - \u001b[1mTRAINING\u001b[0m \n",
      "\t\t\t\t\t NODE_ID: NODE_fbc33f24-6d43-4d43-9031-ed1c4981a72b \n",
      "\t\t\t\t\t Round 7 Epoch: 1 | Iteration: 80/100 (80%) | Samples: 3840/4800\n",
      " \t\t\t\t\t Loss: \u001b[1m0.145489\u001b[0m \n",
      "\t\t\t\t\t ---------\n",
      "2024-01-09 11:23:22,093 fedbiomed INFO - \u001b[1mTRAINING\u001b[0m \n",
      "\t\t\t\t\t NODE_ID: NODE_fbc33f24-6d43-4d43-9031-ed1c4981a72b \n",
      "\t\t\t\t\t Round 7 Epoch: 1 | Iteration: 90/100 (90%) | Samples: 4320/4800\n",
      " \t\t\t\t\t Loss: \u001b[1m0.139023\u001b[0m \n",
      "\t\t\t\t\t ---------\n",
      "2024-01-09 11:23:22,580 fedbiomed INFO - \u001b[1mTRAINING\u001b[0m \n",
      "\t\t\t\t\t NODE_ID: NODE_fbc33f24-6d43-4d43-9031-ed1c4981a72b \n",
      "\t\t\t\t\t Round 7 Epoch: 1 | Iteration: 100/100 (100%) | Samples: 4800/4800\n",
      " \t\t\t\t\t Loss: \u001b[1m0.166810\u001b[0m \n",
      "\t\t\t\t\t ---------\n",
      "2024-01-09 11:23:22,638 fedbiomed INFO - Nodes that successfully reply in round 6 ['NODE_2277a35a-722f-4a30-8a60-85cf8d873d82', 'NODE_fbc33f24-6d43-4d43-9031-ed1c4981a72b']\n",
      "2024-01-09 11:23:22,661 fedbiomed INFO - Saved aggregated params for round 6 in /home/ybouilla/github/fedbiomed_ssh/fedbiomed/var/experiments/Experiment_0005/aggregated_params_9bb69791-23df-49df-8d39-ab5de7386636.mpk\n"
     ]
    },
    {
     "data": {
      "text/plain": [
       "1"
      ]
     },
     "execution_count": 37,
     "metadata": {},
     "output_type": "execute_result"
    }
   ],
   "source": [
    "exp.run_once(increase=True)"
   ]
  },
  {
   "cell_type": "code",
   "execution_count": 38,
   "metadata": {},
   "outputs": [
    {
     "name": "stdout",
     "output_type": "stream",
     "text": [
      "Round Limit    :  7\n",
      "Current Round  :  7\n"
     ]
    }
   ],
   "source": [
    "print('Round Limit    : ' , exp.round_limit())\n",
    "print('Current Round  : ' , exp.round_current())"
   ]
  },
  {
   "cell_type": "markdown",
   "metadata": {},
   "source": [
    "### Changing Training Arguments for the Next Round\n",
    "\n",
    "The method `set_training_args()` allows you to change the training arguments even you've already run your experiment several times. Thanks to the method `set_training_args()` you will be able to configure your training from one round to another. For example, we can change our `batch_size` to `64` and `batch_maxnum` to `50` for the next round.\n"
   ]
  },
  {
   "cell_type": "code",
   "execution_count": 39,
   "metadata": {},
   "outputs": [
    {
     "data": {
      "text/plain": [
       "{'loader_args': {'batch_size': 64},\n",
       " 'optimizer_args': {'lr': 0.001},\n",
       " 'epochs': 1,\n",
       " 'dry_run': False,\n",
       " 'batch_maxnum': 50,\n",
       " 'num_updates': None,\n",
       " 'test_ratio': 0.0,\n",
       " 'test_on_local_updates': False,\n",
       " 'test_on_global_updates': False,\n",
       " 'test_metric': None,\n",
       " 'test_metric_args': {},\n",
       " 'log_interval': 10,\n",
       " 'fedprox_mu': None,\n",
       " 'use_gpu': False,\n",
       " 'dp_args': None,\n",
       " 'share_persistent_buffers': True,\n",
       " 'random_seed': None}"
      ]
     },
     "execution_count": 39,
     "metadata": {},
     "output_type": "execute_result"
    }
   ],
   "source": [
    "# Training Arguments\n",
    "training_args = {\n",
    "    'loader_args': { 'batch_size': 64, }, \n",
    "    'optimizer_args': {\n",
    "        'lr': 1e-3\n",
    "    },\n",
    "    'epochs': 1, \n",
    "    'dry_run': False,  \n",
    "    'batch_maxnum': 50\n",
    "}\n",
    "\n",
    "exp.set_training_args(training_args=training_args)"
   ]
  },
  {
   "cell_type": "code",
   "execution_count": 40,
   "metadata": {},
   "outputs": [
    {
     "name": "stderr",
     "output_type": "stream",
     "text": [
      "2024-01-09 11:23:22,702 fedbiomed DEBUG - Auto increasing total rounds for experiment from 7 to 8\n",
      "2024-01-09 11:23:22,703 fedbiomed INFO - Sampled nodes in round 7 ['NODE_2277a35a-722f-4a30-8a60-85cf8d873d82', 'NODE_fbc33f24-6d43-4d43-9031-ed1c4981a72b']\n",
      "2024-01-09 11:23:22,706 fedbiomed INFO - \u001b[1mSending request\u001b[0m \n",
      "\t\t\t\t\t\u001b[1m To\u001b[0m: NODE_2277a35a-722f-4a30-8a60-85cf8d873d82 \n",
      "\t\t\t\t\t\u001b[1m Request: \u001b[0m: TRAIN\n",
      " -----------------------------------------------------------------\n",
      "2024-01-09 11:23:22,707 fedbiomed INFO - \u001b[1mSending request\u001b[0m \n",
      "\t\t\t\t\t\u001b[1m To\u001b[0m: NODE_fbc33f24-6d43-4d43-9031-ed1c4981a72b \n",
      "\t\t\t\t\t\u001b[1m Request: \u001b[0m: TRAIN\n",
      " -----------------------------------------------------------------\n",
      "2024-01-09 11:23:22,749 fedbiomed DEBUG - Node: NODE_2277a35a-722f-4a30-8a60-85cf8d873d82 polling for the tasks\n",
      "2024-01-09 11:23:22,751 fedbiomed DEBUG - Node: NODE_fbc33f24-6d43-4d43-9031-ed1c4981a72b polling for the tasks\n",
      "2024-01-09 11:23:22,922 fedbiomed INFO - \u001b[1mTRAINING\u001b[0m \n",
      "\t\t\t\t\t NODE_ID: NODE_2277a35a-722f-4a30-8a60-85cf8d873d82 \n",
      "\t\t\t\t\t Round 8 Epoch: 1 | Iteration: 1/50 (2%) | Samples: 64/3200\n",
      " \t\t\t\t\t Loss: \u001b[1m0.163471\u001b[0m \n",
      "\t\t\t\t\t ---------\n",
      "2024-01-09 11:23:22,953 fedbiomed INFO - \u001b[1mTRAINING\u001b[0m \n",
      "\t\t\t\t\t NODE_ID: NODE_fbc33f24-6d43-4d43-9031-ed1c4981a72b \n",
      "\t\t\t\t\t Round 8 Epoch: 1 | Iteration: 1/50 (2%) | Samples: 64/3200\n",
      " \t\t\t\t\t Loss: \u001b[1m0.041867\u001b[0m \n",
      "\t\t\t\t\t ---------\n",
      "2024-01-09 11:23:23,715 fedbiomed INFO - \u001b[1mTRAINING\u001b[0m \n",
      "\t\t\t\t\t NODE_ID: NODE_fbc33f24-6d43-4d43-9031-ed1c4981a72b \n",
      "\t\t\t\t\t Round 8 Epoch: 1 | Iteration: 10/50 (20%) | Samples: 640/3200\n",
      " \t\t\t\t\t Loss: \u001b[1m0.194282\u001b[0m \n",
      "\t\t\t\t\t ---------\n",
      "2024-01-09 11:23:24,627 fedbiomed INFO - \u001b[1mTRAINING\u001b[0m \n",
      "\t\t\t\t\t NODE_ID: NODE_fbc33f24-6d43-4d43-9031-ed1c4981a72b \n",
      "\t\t\t\t\t Round 8 Epoch: 1 | Iteration: 20/50 (40%) | Samples: 1280/3200\n",
      " \t\t\t\t\t Loss: \u001b[1m0.057106\u001b[0m \n",
      "\t\t\t\t\t ---------\n",
      "2024-01-09 11:23:24,799 fedbiomed INFO - \u001b[1mTRAINING\u001b[0m \n",
      "\t\t\t\t\t NODE_ID: NODE_2277a35a-722f-4a30-8a60-85cf8d873d82 \n",
      "\t\t\t\t\t Round 8 Epoch: 1 | Iteration: 10/50 (20%) | Samples: 640/3200\n",
      " \t\t\t\t\t Loss: \u001b[1m0.053504\u001b[0m \n",
      "\t\t\t\t\t ---------\n",
      "2024-01-09 11:23:26,126 fedbiomed INFO - \u001b[1mTRAINING\u001b[0m \n",
      "\t\t\t\t\t NODE_ID: NODE_2277a35a-722f-4a30-8a60-85cf8d873d82 \n",
      "\t\t\t\t\t Round 8 Epoch: 1 | Iteration: 20/50 (40%) | Samples: 1280/3200\n",
      " \t\t\t\t\t Loss: \u001b[1m0.110937\u001b[0m \n",
      "\t\t\t\t\t ---------\n",
      "2024-01-09 11:23:26,662 fedbiomed INFO - \u001b[1mTRAINING\u001b[0m \n",
      "\t\t\t\t\t NODE_ID: NODE_fbc33f24-6d43-4d43-9031-ed1c4981a72b \n",
      "\t\t\t\t\t Round 8 Epoch: 1 | Iteration: 30/50 (60%) | Samples: 1920/3200\n",
      " \t\t\t\t\t Loss: \u001b[1m0.066313\u001b[0m \n",
      "\t\t\t\t\t ---------\n",
      "2024-01-09 11:23:27,640 fedbiomed INFO - \u001b[1mTRAINING\u001b[0m \n",
      "\t\t\t\t\t NODE_ID: NODE_fbc33f24-6d43-4d43-9031-ed1c4981a72b \n",
      "\t\t\t\t\t Round 8 Epoch: 1 | Iteration: 40/50 (80%) | Samples: 2560/3200\n",
      " \t\t\t\t\t Loss: \u001b[1m0.027539\u001b[0m \n",
      "\t\t\t\t\t ---------\n",
      "2024-01-09 11:23:28,418 fedbiomed INFO - \u001b[1mTRAINING\u001b[0m \n",
      "\t\t\t\t\t NODE_ID: NODE_2277a35a-722f-4a30-8a60-85cf8d873d82 \n",
      "\t\t\t\t\t Round 8 Epoch: 1 | Iteration: 30/50 (60%) | Samples: 1920/3200\n",
      " \t\t\t\t\t Loss: \u001b[1m0.127715\u001b[0m \n",
      "\t\t\t\t\t ---------\n",
      "2024-01-09 11:23:29,167 fedbiomed INFO - \u001b[1mTRAINING\u001b[0m \n",
      "\t\t\t\t\t NODE_ID: NODE_fbc33f24-6d43-4d43-9031-ed1c4981a72b \n",
      "\t\t\t\t\t Round 8 Epoch: 1 | Iteration: 50/50 (100%) | Samples: 3200/3200\n",
      " \t\t\t\t\t Loss: \u001b[1m0.091753\u001b[0m \n",
      "\t\t\t\t\t ---------\n",
      "2024-01-09 11:23:29,571 fedbiomed INFO - \u001b[1mTRAINING\u001b[0m \n",
      "\t\t\t\t\t NODE_ID: NODE_2277a35a-722f-4a30-8a60-85cf8d873d82 \n",
      "\t\t\t\t\t Round 8 Epoch: 1 | Iteration: 40/50 (80%) | Samples: 2560/3200\n",
      " \t\t\t\t\t Loss: \u001b[1m0.062667\u001b[0m \n",
      "\t\t\t\t\t ---------\n",
      "2024-01-09 11:23:30,281 fedbiomed INFO - \u001b[1mTRAINING\u001b[0m \n",
      "\t\t\t\t\t NODE_ID: NODE_2277a35a-722f-4a30-8a60-85cf8d873d82 \n",
      "\t\t\t\t\t Round 8 Epoch: 1 | Iteration: 50/50 (100%) | Samples: 3200/3200\n",
      " \t\t\t\t\t Loss: \u001b[1m0.102404\u001b[0m \n",
      "\t\t\t\t\t ---------\n",
      "2024-01-09 11:23:30,347 fedbiomed INFO - Nodes that successfully reply in round 7 ['NODE_2277a35a-722f-4a30-8a60-85cf8d873d82', 'NODE_fbc33f24-6d43-4d43-9031-ed1c4981a72b']\n",
      "2024-01-09 11:23:30,367 fedbiomed INFO - Saved aggregated params for round 7 in /home/ybouilla/github/fedbiomed_ssh/fedbiomed/var/experiments/Experiment_0005/aggregated_params_adccee4e-029e-41b2-acc0-64c340929c23.mpk\n"
     ]
    },
    {
     "data": {
      "text/plain": [
       "1"
      ]
     },
     "execution_count": 40,
     "metadata": {},
     "output_type": "execute_result"
    },
    {
     "name": "stderr",
     "output_type": "stream",
     "text": [
      "2024-01-09 11:23:47,861 fedbiomed DEBUG - Node: NODE_2277a35a-722f-4a30-8a60-85cf8d873d82 polling for the tasks\n",
      "2024-01-09 11:23:49,488 fedbiomed DEBUG - Node: NODE_fbc33f24-6d43-4d43-9031-ed1c4981a72b polling for the tasks\n",
      "2024-01-09 11:24:47,856 fedbiomed DEBUG - Node: NODE_2277a35a-722f-4a30-8a60-85cf8d873d82 polling for the tasks\n",
      "2024-01-09 11:24:49,485 fedbiomed DEBUG - Node: NODE_fbc33f24-6d43-4d43-9031-ed1c4981a72b polling for the tasks\n",
      "2024-01-09 11:24:54,661 fedbiomed DEBUG - Node: NODE_2277a35a-722f-4a30-8a60-85cf8d873d82 polling for the tasks\n",
      "2024-01-09 11:25:04,803 fedbiomed DEBUG - Node: NODE_fbc33f24-6d43-4d43-9031-ed1c4981a72b polling for the tasks\n",
      "2024-01-09 11:25:54,657 fedbiomed DEBUG - Node: NODE_2277a35a-722f-4a30-8a60-85cf8d873d82 polling for the tasks\n",
      "2024-01-09 11:25:59,620 fedbiomed DEBUG - Node: NODE_2277a35a-722f-4a30-8a60-85cf8d873d82 polling for the tasks\n",
      "2024-01-09 11:26:04,798 fedbiomed DEBUG - Node: NODE_fbc33f24-6d43-4d43-9031-ed1c4981a72b polling for the tasks\n",
      "2024-01-09 11:26:19,778 fedbiomed DEBUG - Node: NODE_fbc33f24-6d43-4d43-9031-ed1c4981a72b polling for the tasks\n",
      "2024-01-09 11:26:59,618 fedbiomed DEBUG - Node: NODE_2277a35a-722f-4a30-8a60-85cf8d873d82 polling for the tasks\n",
      "2024-01-09 11:27:11,226 fedbiomed DEBUG - Node: NODE_2277a35a-722f-4a30-8a60-85cf8d873d82 polling for the tasks\n",
      "2024-01-09 11:27:19,778 fedbiomed DEBUG - Node: NODE_fbc33f24-6d43-4d43-9031-ed1c4981a72b polling for the tasks\n",
      "2024-01-09 11:27:27,280 fedbiomed DEBUG - Node: NODE_fbc33f24-6d43-4d43-9031-ed1c4981a72b polling for the tasks\n",
      "2024-01-09 11:28:11,220 fedbiomed DEBUG - Node: NODE_2277a35a-722f-4a30-8a60-85cf8d873d82 polling for the tasks\n",
      "2024-01-09 11:28:25,655 fedbiomed DEBUG - Node: NODE_2277a35a-722f-4a30-8a60-85cf8d873d82 polling for the tasks\n",
      "2024-01-09 11:28:27,281 fedbiomed DEBUG - Node: NODE_fbc33f24-6d43-4d43-9031-ed1c4981a72b polling for the tasks\n",
      "2024-01-09 11:28:40,109 fedbiomed DEBUG - Node: NODE_fbc33f24-6d43-4d43-9031-ed1c4981a72b polling for the tasks\n",
      "2024-01-09 11:29:25,649 fedbiomed DEBUG - Node: NODE_2277a35a-722f-4a30-8a60-85cf8d873d82 polling for the tasks\n",
      "2024-01-09 11:29:39,937 fedbiomed DEBUG - Node: NODE_2277a35a-722f-4a30-8a60-85cf8d873d82 polling for the tasks\n",
      "2024-01-09 11:29:40,109 fedbiomed DEBUG - Node: NODE_fbc33f24-6d43-4d43-9031-ed1c4981a72b polling for the tasks\n",
      "2024-01-09 11:29:49,104 fedbiomed DEBUG - Node: NODE_fbc33f24-6d43-4d43-9031-ed1c4981a72b polling for the tasks\n"
     ]
    }
   ],
   "source": [
    "exp.run_once(increase=True)"
   ]
  },
  {
   "cell_type": "markdown",
   "metadata": {
    "pycharm": {
     "name": "#%% md\n"
    }
   },
   "source": [
    "### Conclusions \n",
    "The experiment class is the interface and the orchestrator of the whole processes behind federated training on the researcher side. It allows you to manage your federated training experiment easily. It has been extended with setter and getter methods to ease its declaration. This also provides more control before, during or after the training rounds. The purpose of the experiment class is to provide a robust interface for end-user to make them able to easily perform their federated training on Fed-BioMed nodes."
   ]
  }
 ],
 "metadata": {
  "kernelspec": {
   "display_name": "Python 3 (ipykernel)",
   "language": "python",
   "name": "python3"
  },
  "language_info": {
   "codemirror_mode": {
    "name": "ipython",
    "version": 3
   },
   "file_extension": ".py",
   "mimetype": "text/x-python",
   "name": "python",
   "nbconvert_exporter": "python",
   "pygments_lexer": "ipython3",
   "version": "3.10.13"
  },
  "vscode": {
   "interpreter": {
    "hash": "ab76e3e624c52aae5e80807d730e4eaa4ecc8ddffbfd9d62b69327b02ed88a35"
   }
  }
 },
 "nbformat": 4,
 "nbformat_minor": 4
}
