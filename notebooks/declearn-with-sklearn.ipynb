{
 "cells": [
  {
   "cell_type": "markdown",
   "id": "64e87007",
   "metadata": {
    "pycharm": {
     "name": "#%% md\n"
    }
   },
   "source": [
    "# Fed-BioMed to train a federated SGD regressor model"
   ]
  },
  {
   "cell_type": "markdown",
   "id": "11c0bc07",
   "metadata": {
    "pycharm": {
     "name": "#%% md\n"
    }
   },
   "source": [
    "## Data \n",
    "\n",
    "\n",
    "This tutorial shows how to deploy in Fed-BioMed to solve a federated regression problem with scikit-learn.\n",
    "\n",
    "In this tutorial we are using the wrapper of Fed-BioMed for the SGD regressor (https://scikit-learn.org/stable/modules/generated/sklearn.linear_model.SGDRegressor.html).\n",
    "The goal of the notebook is to train a model on a realistic dataset of (synthetic) medical information mimicking the ADNI dataset (http://adni.loni.usc.edu/). \n",
    "\n",
    "## Creating nodes\n",
    "\n",
    "To proceed with the tutorial, we create 3 clients with corresponding dataframes of clinical information in .csv format. Each client has 300 data points composed by several features corresponding to clinical and medical imaging informations. **The data is entirely synthetic and randomly sampled to mimick the variability of the real ADNI dataset**. The training partitions are availables at the following link:\n",
    "\n",
    "https://drive.google.com/file/d/1R39Ir60oQi8ZnmHoPz5CoGCrVIglcO9l/view?usp=sharing\n",
    "\n",
    "The federated task we aim at solve is to predict a clinical variable (the mini-mental state examination, MMSE) from a combination of demographic and imaging features. The regressors variables are the following features:\n",
    "\n",
    "['SEX', 'AGE', 'PTEDUCAT', 'WholeBrain.bl', 'Ventricles.bl', 'Hippocampus.bl', 'MidTemp.bl', 'Entorhinal.bl']\n",
    "\n",
    "and the target variable is:\n",
    "\n",
    "['MMSE.bl']\n",
    "    \n",
    "\n",
    "To create the federated dataset, we follow the standard procedure for node creation/population of Fed-BioMed. \n",
    "After activating the fedbiomed network with the commands\n",
    "\n",
    "`source ./scripts/fedbiomed_environment network`\n",
    "\n",
    "and \n",
    "\n",
    "`./scripts/fedbiomed_run network`\n",
    "\n",
    "we create a first node by using the commands\n",
    "\n",
    "`source ./scripts/fedbiomed_environment node`\n",
    "\n",
    "`./scripts/fedbiomed_run node start`\n",
    "\n",
    "We then poulate the node with the data of first client:\n",
    "\n",
    "`./scripts/fedbiomed_run node config conf.ini add`\n",
    "\n",
    "Thn, we select option 1 (csv dataset) to add the .csv partition of client 1, by just picking the .csv of client 1. We use `adni` as tag to save the selected dataset. We can further check that the data has been added by executing `./scripts/fedbiomed_run node list`\n",
    "\n",
    "Following the same procedure, we create the other two nodes with the datasets of client 2 and client 3 respectively. To do so, we add and launch a `Node`using others configuration files"
   ]
  },
  {
   "cell_type": "markdown",
   "id": "f5411d74",
   "metadata": {
    "pycharm": {
     "name": "#%% md\n"
    }
   },
   "source": [
    "## Fed-BioMed Researcher\n",
    "\n",
    "We are now ready to start the reseracher enviroment with the command `source ./scripts/fedbiomed_environment researcher`, and open the Jupyter notebook with `./scripts/fedbiomed_run researcher start`. \n",
    "\n",
    "We can first query the network for the adni dataset. In this case, the nodes are sharing the respective partitions unsing the same tag `adni`:"
   ]
  },
  {
   "cell_type": "code",
   "execution_count": null,
   "id": "ade4cbea",
   "metadata": {
    "pycharm": {
     "name": "#%%\n"
    }
   },
   "outputs": [],
   "source": [
    "%load_ext autoreload\n",
    "%autoreload 2"
   ]
  },
  {
   "cell_type": "code",
   "execution_count": null,
   "id": "fccd2a0b",
   "metadata": {
    "pycharm": {
     "name": "#%%\n"
    },
    "scrolled": true
   },
   "outputs": [],
   "source": [
    "from fedbiomed.researcher.requests import Requests\n",
    "req = Requests()\n",
    "req.list(verbose=True)"
   ]
  },
  {
   "cell_type": "markdown",
   "id": "8e9aaa87",
   "metadata": {
    "pycharm": {
     "name": "#%% md\n"
    }
   },
   "source": [
    "The code for network and data loader of the sklearn SGDRegressor can now be deployed in Fed-BioMed.\n",
    "We first import the necessary module `SGDSkLearnModel` from `fedbiomed`:\n",
    "\n",
    "**__init__** : we add here the needed sklearn libraries\n",
    "       \n",
    "**training_data** : you must return here a tuple (data,targets) that must be of the same type of \n",
    "your method partial_fit parameters. \n",
    "\n",
    "We note that this model performs a common standardization across federated datasets by **centering with respect to the same parameters**."
   ]
  },
  {
   "cell_type": "code",
   "execution_count": null,
   "id": "0729cfee",
   "metadata": {
    "pycharm": {
     "name": "#%%\n"
    }
   },
   "outputs": [],
   "source": [
    "from fedbiomed.common.training_plans import FedSGDRegressor\n",
    "from fedbiomed.common.data import DataManager\n",
    "\n",
    "from fedbiomed.common.optimizers import Optimizer\n",
    "from fedbiomed.common.optimizers.declearn import AdamModule, FedProxRegularizer\n",
    "\n",
    "\n",
    "class SGDRegressorTrainingPlan(FedSGDRegressor):\n",
    "    # Declares and return dependencies\n",
    "    def init_dependencies(self):\n",
    "        deps = [\"from torchvision import datasets, transforms\",\n",
    "                \"from declearn.optimizer import Optimizer\",\n",
    "                \"from fedbiomed.common.optimizers.declearn import AdamModule\",\n",
    "                \"from fedbiomed.common.optimizers.declearn import FedProxRegularizer\"]\n",
    "        return deps\n",
    "\n",
    "    def training_data(self):\n",
    "        dataset = pd.read_csv(self.dataset_path, delimiter=',')\n",
    "        regressors_col = ['AGE', 'WholeBrain.bl',\n",
    "                          'Ventricles.bl', 'Hippocampus.bl', 'MidTemp.bl', 'Entorhinal.bl']\n",
    "        target_col = ['MMSE.bl']\n",
    "        \n",
    "        # mean and standard deviation for normalizing dataset\n",
    "        # it has been computed over the whole dataset\n",
    "        scaling_mean = np.array([72.3, 0.7, 0.0, 0.0, 0.0, 0.0])\n",
    "        scaling_sd = np.array([7.3e+00, 5.0e-02, 1.1e-02, 1.0e-03, 2.0e-03, 1.0e-03])\n",
    "        \n",
    "        X = (dataset[regressors_col].values-scaling_mean)/scaling_sd\n",
    "        y = dataset[target_col]\n",
    "        return DataManager(dataset=X, target=y.values.ravel(),  shuffle=True)\n",
    "\n",
    "    # Defines and return a declearn optimizer\n",
    "    def init_optimizer(self, optimizer_args):\n",
    "        return Optimizer(lrate=.1 ,modules=[AdamModule()], regularizers=[FedProxRegularizer()])"
   ]
  },
  {
   "cell_type": "markdown",
   "id": "177db3bb",
   "metadata": {
    "pycharm": {
     "name": "#%% md\n"
    }
   },
   "source": [
    "**model_args** is a dictionary containing your model arguments, in case of SGDRegressor this will be max_iter and tol. n_features is provided to correctly initialize the SGDRegressor coef_ array.\n",
    "\n",
    "**training_args** is a dictionary with parameters related to Federated Learning. "
   ]
  },
  {
   "cell_type": "code",
   "execution_count": null,
   "id": "bc4007f8",
   "metadata": {
    "pycharm": {
     "name": "#%%\n"
    }
   },
   "outputs": [],
   "source": [
    "from fedbiomed.common.metrics import MetricTypes\n",
    "RANDOM_SEED = 1234\n",
    "\n",
    "\n",
    "model_args = {\n",
    "    'max_iter':2000,\n",
    "    'tol': 1e-5,\n",
    "    'eta0':0.05,\n",
    "    'n_features': 6,\n",
    "    'random_state': RANDOM_SEED\n",
    "}\n",
    "\n",
    "training_args = {\n",
    "    'epochs': 5,\n",
    "    'loader_args': { 'batch_size': 32, },\n",
    "    'test_ratio':.3,\n",
    "    'test_metric': MetricTypes.MEAN_SQUARE_ERROR,\n",
    "    'test_on_local_updates': True,\n",
    "    'test_on_global_updates': True\n",
    "}"
   ]
  },
  {
   "cell_type": "markdown",
   "id": "9da2b46d",
   "metadata": {
    "pycharm": {
     "name": "#%% md\n"
    }
   },
   "source": [
    "The experiment can be now defined, by providing the `adni` tag, and running the local training on nodes with model defined in `model_path`, standard `aggregator` (FedAvg) and `client_selection_strategy` (all nodes used). Federated learning is going to be perfomed through 10 optimization rounds."
   ]
  },
  {
   "cell_type": "code",
   "execution_count": null,
   "id": "4b1a1341",
   "metadata": {
    "pycharm": {
     "is_executing": true,
     "name": "#%%\n"
    }
   },
   "outputs": [],
   "source": [
    "from fedbiomed.researcher.experiment import Experiment\n",
    "from fedbiomed.researcher.aggregators.fedavg import FedAverage\n",
    "\n",
    "tags =  ['adni']\n",
    "\n",
    "# Add more rounds for results with better accuracy\n",
    "#\n",
    "#rounds = 40\n",
    "rounds = 5\n",
    "\n",
    "# select nodes participating to this experiment\n",
    "exp = Experiment(tags=tags,\n",
    "                 model_args=model_args,\n",
    "                 training_plan_class=SGDRegressorTrainingPlan,\n",
    "                 training_args=training_args,\n",
    "                 round_limit=rounds,\n",
    "                 aggregator=FedAverage(),\n",
    "                 node_selection_strategy=None)"
   ]
  },
  {
   "cell_type": "code",
   "execution_count": null,
   "id": "d6ff55da",
   "metadata": {
    "pycharm": {
     "is_executing": true,
     "name": "#%%\n"
    }
   },
   "outputs": [
    {
     "name": "stderr",
     "output_type": "stream",
     "text": [
      "2023-09-06 15:40:39,948 fedbiomed INFO - \u001b[1mTRAINING\u001b[0m \n",
      "\t\t\t\t\t NODE_ID: node_0874f153-2bbb-4e2b-b1ce-cfd20858a636 \n",
      "\t\t\t\t\t Round 6 Epoch: 1 | Iteration: 80/100 (80%) | Samples: 3840/4800\n",
      " \t\t\t\t\t Loss: \u001b[1m2.566728\u001b[0m \n",
      "\t\t\t\t\t ---------\n",
      "2023-09-06 15:40:40,622 fedbiomed INFO - \u001b[1mTRAINING\u001b[0m \n",
      "\t\t\t\t\t NODE_ID: node_0874f153-2bbb-4e2b-b1ce-cfd20858a636 \n",
      "\t\t\t\t\t Round 6 Epoch: 1 | Iteration: 90/100 (90%) | Samples: 4320/4800\n",
      " \t\t\t\t\t Loss: \u001b[1m2.679407\u001b[0m \n",
      "\t\t\t\t\t ---------\n",
      "2023-09-06 15:40:41,152 fedbiomed INFO - \u001b[1mTRAINING\u001b[0m \n",
      "\t\t\t\t\t NODE_ID: node_0874f153-2bbb-4e2b-b1ce-cfd20858a636 \n",
      "\t\t\t\t\t Round 6 Epoch: 1 | Iteration: 100/100 (100%) | Samples: 4800/4800\n",
      " \t\t\t\t\t Loss: \u001b[1m2.452188\u001b[0m \n",
      "\t\t\t\t\t ---------\n",
      "2023-09-06 15:40:41,295 fedbiomed INFO - \u001b[1mINFO\u001b[0m\n",
      "\t\t\t\t\t\u001b[1m NODE\u001b[0m node_0874f153-2bbb-4e2b-b1ce-cfd20858a636\n",
      "\t\t\t\t\t\u001b[1m MESSAGE:\u001b[0m results uploaded successfully \u001b[0m\n",
      "-----------------------------------------------------------------\n",
      "2023-09-06 15:40:41,300 fedbiomed INFO - \u001b[1mWARNING\u001b[0m\n",
      "\t\t\t\t\t\u001b[1m NODE\u001b[0m node_0874f153-2bbb-4e2b-b1ce-cfd20858a636\n",
      "\t\t\t\t\t\u001b[1m MESSAGE:\u001b[0m optimizer info bfore aving {'config': {'lrate': 0.1, 'w_decay': 0.0, 'regularizers': [], 'modules': [('adam', {'beta_1': 0.5, 'beta_2': 0.99, 'amsgrad': False, 'eps': 1e-07}), ('momentum', {'beta': 0.9, 'nesterov': False})]}, 'states': {'modules': [('adam', {'steps': 100, 'vmax': None, 'momentum': {'state': TorchVector with 8 coefs:\n",
      "    conv1.weight: float32 torch.Tensor with shape (32, 1, 3, 3)\n",
      "    conv1.bias: float32 torch.Tensor with shape (32,)\n",
      "    conv2.weight: float32 torch.Tensor with shape (64, 32, 3, 3)\n",
      "    conv2.bias: float32 torch.Tensor with shape (64,)\n",
      "    fc1.weight: float32 torch.Tensor with shape (128, 9216)\n",
      "    fc1.bias: float32 torch.Tensor with shape (128,)\n",
      "    fc2.weight: float32 torch.Tensor with shape (10, 128)\n",
      "    fc2.bias: float32 torch.Tensor with shape (10,)}, 'velocity': {'state': TorchVector with 8 coefs:\n",
      "    conv1.weight: float32 torch.Tensor with shape (32, 1, 3, 3)\n",
      "    conv1.bias: float32 torch.Tensor with shape (32,)\n",
      "    conv2.weight: float32 torch.Tensor with shape (64, 32, 3, 3)\n",
      "    conv2.bias: float32 torch.Tensor with shape (64,)\n",
      "    fc1.weight: float32 torch.Tensor with shape (128, 9216)\n",
      "    fc1.bias: float32 torch.Tensor with shape (128,)\n",
      "    fc2.weight: float32 torch.Tensor with shape (10, 128)\n",
      "    fc2.bias: float32 torch.Tensor with shape (10,)}}), ('momentum', {'velocity': TorchVector with 8 coefs:\n",
      "    conv1.weight: float32 torch.Tensor with shape (32, 1, 3, 3)\n",
      "    conv1.bias: float32 torch.Tensor with shape (32,)\n",
      "    conv2.weight: float32 torch.Tensor with shape (64, 32, 3, 3)\n",
      "    conv2.bias: float32 torch.Tensor with shape (64,)\n",
      "    fc1.weight: float32 torch.Tensor with shape (128, 9216)\n",
      "    fc1.bias: float32 torch.Tensor with shape (128,)\n",
      "    fc2.weight: float32 torch.Tensor with shape (10, 128)\n",
      "    fc2.bias: float32 torch.Tensor with shape (10,)})]}}, <class 'fedbiomed.common.optimizers.generic_optimizers.DeclearnOptimizer'>\u001b[0m\n",
      "-----------------------------------------------------------------\n",
      "2023-09-06 15:40:41,342 fedbiomed INFO - \u001b[1mWARNING\u001b[0m\n",
      "\t\t\t\t\t\u001b[1m NODE\u001b[0m node_0874f153-2bbb-4e2b-b1ce-cfd20858a636\n",
      "\t\t\t\t\t\u001b[1m MESSAGE:\u001b[0m saving optim state{'config': {'lrate': 0.1, 'w_decay': 0.0, 'regularizers': [], 'modules': [('adam', {'beta_1': 0.5, 'beta_2': 0.99, 'amsgrad': False, 'eps': 1e-07}), ('momentum', {'beta': 0.9, 'nesterov': False})]}, 'states': {'modules': [('adam', {'steps': 100, 'vmax': None, 'momentum': {'state': TorchVector with 8 coefs:\n",
      "    conv1.weight: float32 torch.Tensor with shape (32, 1, 3, 3)\n",
      "    conv1.bias: float32 torch.Tensor with shape (32,)\n",
      "    conv2.weight: float32 torch.Tensor with shape (64, 32, 3, 3)\n",
      "    conv2.bias: float32 torch.Tensor with shape (64,)\n",
      "    fc1.weight: float32 torch.Tensor with shape (128, 9216)\n",
      "    fc1.bias: float32 torch.Tensor with shape (128,)\n",
      "    fc2.weight: float32 torch.Tensor with shape (10, 128)\n",
      "    fc2.bias: float32 torch.Tensor with shape (10,)}, 'velocity': {'state': TorchVector with 8 coefs:\n",
      "    conv1.weight: float32 torch.Tensor with shape (32, 1, 3, 3)\n",
      "    conv1.bias: float32 torch.Tensor with shape (32,)\n",
      "    conv2.weight: float32 torch.Tensor with shape (64, 32, 3, 3)\n",
      "    conv2.bias: float32 torch.Tensor with shape (64,)\n",
      "    fc1.weight: float32 torch.Tensor with shape (128, 9216)\n",
      "    fc1.bias: float32 torch.Tensor with shape (128,)\n",
      "    fc2.weight: float32 torch.Tensor with shape (10, 128)\n",
      "    fc2.bias: float32 torch.Tensor with shape (10,)}}), ('momentum', {'velocity': TorchVector with 8 coefs:\n",
      "    conv1.weight: float32 torch.Tensor with shape (32, 1, 3, 3)\n",
      "    conv1.bias: float32 torch.Tensor with shape (32,)\n",
      "    conv2.weight: float32 torch.Tensor with shape (64, 32, 3, 3)\n",
      "    conv2.bias: float32 torch.Tensor with shape (64,)\n",
      "    fc1.weight: float32 torch.Tensor with shape (128, 9216)\n",
      "    fc1.bias: float32 torch.Tensor with shape (128,)\n",
      "    fc2.weight: float32 torch.Tensor with shape (10, 128)\n",
      "    fc2.bias: float32 torch.Tensor with shape (10,)})]}}\u001b[0m\n",
      "-----------------------------------------------------------------\n",
      "2023-09-06 15:40:51,550 fedbiomed INFO - \u001b[1mINFO\u001b[0m\n",
      "\t\t\t\t\t\u001b[1m NODE\u001b[0m node_0874f153-2bbb-4e2b-b1ce-cfd20858a636\n",
      "\t\t\t\t\t\u001b[1m MESSAGE:\u001b[0m Detected changes in the optimizer!\u001b[0m\n",
      "-----------------------------------------------------------------\n",
      "2023-09-06 15:40:51,551 fedbiomed INFO - \u001b[1mINFO\u001b[0m\n",
      "\t\t\t\t\t\u001b[1m NODE\u001b[0m node_0874f153-2bbb-4e2b-b1ce-cfd20858a636\n",
      "\t\t\t\t\t\u001b[1m MESSAGE:\u001b[0m Detected changes in the optimizer!\u001b[0m\n",
      "-----------------------------------------------------------------\n",
      "2023-09-06 15:40:51,554 fedbiomed INFO - \u001b[1mINFO\u001b[0m\n",
      "\t\t\t\t\t\u001b[1m NODE\u001b[0m node_0874f153-2bbb-4e2b-b1ce-cfd20858a636\n",
      "\t\t\t\t\t\u001b[1m MESSAGE:\u001b[0m State node_state_3a17e098-d447-49e6-a3b3-a7068d2da48a loaded\u001b[0m\n",
      "-----------------------------------------------------------------\n",
      "2023-09-06 15:40:51,556 fedbiomed INFO - \u001b[1mWARNING\u001b[0m\n",
      "\t\t\t\t\t\u001b[1m NODE\u001b[0m node_0874f153-2bbb-4e2b-b1ce-cfd20858a636\n",
      "\t\t\t\t\t\u001b[1m MESSAGE:\u001b[0m Optimizer 2loaded state {'config': {'lrate': 0.1, 'w_decay': 0.0, 'regularizers': [], 'modules': [('adam', {'beta_1': 0.5, 'beta_2': 0.99, 'amsgrad': False, 'eps': 1e-07}), ('momentum', {'beta': 0.9, 'nesterov': False})]}, 'states': {'modules': [('adam', {'steps': 100, 'vmax': None, 'momentum': {'state': TorchVector with 8 coefs:\n",
      "    conv1.weight: float32 torch.Tensor with shape (32, 1, 3, 3)\n",
      "    conv1.bias: float32 torch.Tensor with shape (32,)\n",
      "    conv2.weight: float32 torch.Tensor with shape (64, 32, 3, 3)\n",
      "    conv2.bias: float32 torch.Tensor with shape (64,)\n",
      "    fc1.weight: float32 torch.Tensor with shape (128, 9216)\n",
      "    fc1.bias: float32 torch.Tensor with shape (128,)\n",
      "    fc2.weight: float32 torch.Tensor with shape (10, 128)\n",
      "    fc2.bias: float32 torch.Tensor with shape (10,)}, 'velocity': {'state': TorchVector with 8 coefs:\n",
      "    conv1.weight: float32 torch.Tensor with shape (32, 1, 3, 3)\n",
      "    conv1.bias: float32 torch.Tensor with shape (32,)\n",
      "    conv2.weight: float32 torch.Tensor with shape (64, 32, 3, 3)\n",
      "    conv2.bias: float32 torch.Tensor with shape (64,)\n",
      "    fc1.weight: float32 torch.Tensor with shape (128, 9216)\n",
      "    fc1.bias: float32 torch.Tensor with shape (128,)\n",
      "    fc2.weight: float32 torch.Tensor with shape (10, 128)\n",
      "    fc2.bias: float32 torch.Tensor with shape (10,)}}), ('momentum', {'velocity': TorchVector with 8 coefs:\n",
      "    conv1.weight: float32 torch.Tensor with shape (32, 1, 3, 3)\n",
      "    conv1.bias: float32 torch.Tensor with shape (32,)\n",
      "    conv2.weight: float32 torch.Tensor with shape (64, 32, 3, 3)\n",
      "    conv2.bias: float32 torch.Tensor with shape (64,)\n",
      "    fc1.weight: float32 torch.Tensor with shape (128, 9216)\n",
      "    fc1.bias: float32 torch.Tensor with shape (128,)\n",
      "    fc2.weight: float32 torch.Tensor with shape (10, 128)\n",
      "    fc2.bias: float32 torch.Tensor with shape (10,)})]}}\u001b[0m\n",
      "-----------------------------------------------------------------\n",
      "2023-09-06 15:40:51,559 fedbiomed INFO - \u001b[1mWARNING\u001b[0m\n",
      "\t\t\t\t\t\u001b[1m NODE\u001b[0m node_0874f153-2bbb-4e2b-b1ce-cfd20858a636\n",
      "\t\t\t\t\t\u001b[1m MESSAGE:\u001b[0m There is no validation activated for the round. Please set flag for `test_on_global_updates`, `test_on_local_updates`, or both. Splitting dataset for validation will be ignored\u001b[0m\n",
      "-----------------------------------------------------------------\n"
     ]
    },
    {
     "name": "stderr",
     "output_type": "stream",
     "text": [
      "2023-09-06 15:40:51,613 fedbiomed INFO - \u001b[1mINFO\u001b[0m\n",
      "\t\t\t\t\t\u001b[1m NODE\u001b[0m node_f42cc93b-396e-44dd-9585-46ee2469b4ab\n",
      "\t\t\t\t\t\u001b[1m MESSAGE:\u001b[0m Detected changes in the optimizer!\u001b[0m\n",
      "-----------------------------------------------------------------\n",
      "2023-09-06 15:40:51,621 fedbiomed INFO - \u001b[1mINFO\u001b[0m\n",
      "\t\t\t\t\t\u001b[1m NODE\u001b[0m node_f42cc93b-396e-44dd-9585-46ee2469b4ab\n",
      "\t\t\t\t\t\u001b[1m MESSAGE:\u001b[0m Detected changes in the optimizer!\u001b[0m\n",
      "-----------------------------------------------------------------\n",
      "2023-09-06 15:40:51,629 fedbiomed INFO - \u001b[1mINFO\u001b[0m\n",
      "\t\t\t\t\t\u001b[1m NODE\u001b[0m node_f42cc93b-396e-44dd-9585-46ee2469b4ab\n",
      "\t\t\t\t\t\u001b[1m MESSAGE:\u001b[0m State node_state_06816012-946f-4a0d-908e-255c776a11b7 loaded\u001b[0m\n",
      "-----------------------------------------------------------------\n",
      "2023-09-06 15:40:51,638 fedbiomed INFO - \u001b[1mWARNING\u001b[0m\n",
      "\t\t\t\t\t\u001b[1m NODE\u001b[0m node_f42cc93b-396e-44dd-9585-46ee2469b4ab\n",
      "\t\t\t\t\t\u001b[1m MESSAGE:\u001b[0m Optimizer 2loaded state {'config': {'lrate': 0.1, 'w_decay': 0.0, 'regularizers': [], 'modules': [('adam', {'beta_1': 0.5, 'beta_2': 0.99, 'amsgrad': False, 'eps': 1e-07}), ('momentum', {'beta': 0.9, 'nesterov': False})]}, 'states': {'modules': [('adam', {'steps': 100, 'vmax': None, 'momentum': {'state': TorchVector with 8 coefs:\n",
      "    conv1.weight: float32 torch.Tensor with shape (32, 1, 3, 3)\n",
      "    conv1.bias: float32 torch.Tensor with shape (32,)\n",
      "    conv2.weight: float32 torch.Tensor with shape (64, 32, 3, 3)\n",
      "    conv2.bias: float32 torch.Tensor with shape (64,)\n",
      "    fc1.weight: float32 torch.Tensor with shape (128, 9216)\n",
      "    fc1.bias: float32 torch.Tensor with shape (128,)\n",
      "    fc2.weight: float32 torch.Tensor with shape (10, 128)\n",
      "    fc2.bias: float32 torch.Tensor with shape (10,)}, 'velocity': {'state': TorchVector with 8 coefs:\n",
      "    conv1.weight: float32 torch.Tensor with shape (32, 1, 3, 3)\n",
      "    conv1.bias: float32 torch.Tensor with shape (32,)\n",
      "    conv2.weight: float32 torch.Tensor with shape (64, 32, 3, 3)\n",
      "    conv2.bias: float32 torch.Tensor with shape (64,)\n",
      "    fc1.weight: float32 torch.Tensor with shape (128, 9216)\n",
      "    fc1.bias: float32 torch.Tensor with shape (128,)\n",
      "    fc2.weight: float32 torch.Tensor with shape (10, 128)\n",
      "    fc2.bias: float32 torch.Tensor with shape (10,)}}), ('momentum', {'velocity': TorchVector with 8 coefs:\n",
      "    conv1.weight: float32 torch.Tensor with shape (32, 1, 3, 3)\n",
      "    conv1.bias: float32 torch.Tensor with shape (32,)\n",
      "    conv2.weight: float32 torch.Tensor with shape (64, 32, 3, 3)\n",
      "    conv2.bias: float32 torch.Tensor with shape (64,)\n",
      "    fc1.weight: float32 torch.Tensor with shape (128, 9216)\n",
      "    fc1.bias: float32 torch.Tensor with shape (128,)\n",
      "    fc2.weight: float32 torch.Tensor with shape (10, 128)\n",
      "    fc2.bias: float32 torch.Tensor with shape (10,)})]}}\u001b[0m\n",
      "-----------------------------------------------------------------\n",
      "2023-09-06 15:40:51,644 fedbiomed INFO - \u001b[1mWARNING\u001b[0m\n",
      "\t\t\t\t\t\u001b[1m NODE\u001b[0m node_f42cc93b-396e-44dd-9585-46ee2469b4ab\n",
      "\t\t\t\t\t\u001b[1m MESSAGE:\u001b[0m There is no validation activated for the round. Please set flag for `test_on_global_updates`, `test_on_local_updates`, or both. Splitting dataset for validation will be ignored\u001b[0m\n",
      "-----------------------------------------------------------------\n",
      "2023-09-06 15:40:51,730 fedbiomed INFO - \u001b[1mTRAINING\u001b[0m \n",
      "\t\t\t\t\t NODE_ID: node_0874f153-2bbb-4e2b-b1ce-cfd20858a636 \n",
      "\t\t\t\t\t Round 6 Epoch: 1 | Iteration: 1/100 (1%) | Samples: 48/4800\n",
      " \t\t\t\t\t Loss: \u001b[1m2.505358\u001b[0m \n",
      "\t\t\t\t\t ---------\n",
      "2023-09-06 15:40:51,813 fedbiomed INFO - \u001b[1mTRAINING\u001b[0m \n",
      "\t\t\t\t\t NODE_ID: node_f42cc93b-396e-44dd-9585-46ee2469b4ab \n",
      "\t\t\t\t\t Round 6 Epoch: 1 | Iteration: 1/100 (1%) | Samples: 48/4800\n",
      " \t\t\t\t\t Loss: \u001b[1m2.476847\u001b[0m \n",
      "\t\t\t\t\t ---------\n",
      "2023-09-06 15:40:52,485 fedbiomed INFO - \u001b[1mTRAINING\u001b[0m \n",
      "\t\t\t\t\t NODE_ID: node_0874f153-2bbb-4e2b-b1ce-cfd20858a636 \n",
      "\t\t\t\t\t Round 6 Epoch: 1 | Iteration: 10/100 (10%) | Samples: 480/4800\n",
      " \t\t\t\t\t Loss: \u001b[1m2.772651\u001b[0m \n",
      "\t\t\t\t\t ---------\n",
      "2023-09-06 15:40:52,982 fedbiomed INFO - \u001b[1mTRAINING\u001b[0m \n",
      "\t\t\t\t\t NODE_ID: node_f42cc93b-396e-44dd-9585-46ee2469b4ab \n",
      "\t\t\t\t\t Round 6 Epoch: 1 | Iteration: 10/100 (10%) | Samples: 480/4800\n",
      " \t\t\t\t\t Loss: \u001b[1m2.489519\u001b[0m \n",
      "\t\t\t\t\t ---------\n",
      "2023-09-06 15:40:54,005 fedbiomed INFO - \u001b[1mTRAINING\u001b[0m \n",
      "\t\t\t\t\t NODE_ID: node_f42cc93b-396e-44dd-9585-46ee2469b4ab \n",
      "\t\t\t\t\t Round 6 Epoch: 1 | Iteration: 20/100 (20%) | Samples: 960/4800\n",
      " \t\t\t\t\t Loss: \u001b[1m2.508897\u001b[0m \n",
      "\t\t\t\t\t ---------\n",
      "2023-09-06 15:40:54,238 fedbiomed INFO - \u001b[1mTRAINING\u001b[0m \n",
      "\t\t\t\t\t NODE_ID: node_0874f153-2bbb-4e2b-b1ce-cfd20858a636 \n",
      "\t\t\t\t\t Round 6 Epoch: 1 | Iteration: 20/100 (20%) | Samples: 960/4800\n",
      " \t\t\t\t\t Loss: \u001b[1m2.479933\u001b[0m \n",
      "\t\t\t\t\t ---------\n",
      "2023-09-06 15:40:55,187 fedbiomed INFO - \u001b[1mTRAINING\u001b[0m \n",
      "\t\t\t\t\t NODE_ID: node_0874f153-2bbb-4e2b-b1ce-cfd20858a636 \n",
      "\t\t\t\t\t Round 6 Epoch: 1 | Iteration: 30/100 (30%) | Samples: 1440/4800\n",
      " \t\t\t\t\t Loss: \u001b[1m2.402785\u001b[0m \n",
      "\t\t\t\t\t ---------\n",
      "2023-09-06 15:40:56,020 fedbiomed INFO - \u001b[1mTRAINING\u001b[0m \n",
      "\t\t\t\t\t NODE_ID: node_f42cc93b-396e-44dd-9585-46ee2469b4ab \n",
      "\t\t\t\t\t Round 6 Epoch: 1 | Iteration: 30/100 (30%) | Samples: 1440/4800\n",
      " \t\t\t\t\t Loss: \u001b[1m2.601617\u001b[0m \n",
      "\t\t\t\t\t ---------\n",
      "2023-09-06 15:40:56,629 fedbiomed INFO - \u001b[1mTRAINING\u001b[0m \n",
      "\t\t\t\t\t NODE_ID: node_0874f153-2bbb-4e2b-b1ce-cfd20858a636 \n",
      "\t\t\t\t\t Round 6 Epoch: 1 | Iteration: 40/100 (40%) | Samples: 1920/4800\n",
      " \t\t\t\t\t Loss: \u001b[1m2.575615\u001b[0m \n",
      "\t\t\t\t\t ---------\n",
      "2023-09-06 15:40:57,536 fedbiomed INFO - \u001b[1mTRAINING\u001b[0m \n",
      "\t\t\t\t\t NODE_ID: node_f42cc93b-396e-44dd-9585-46ee2469b4ab \n",
      "\t\t\t\t\t Round 6 Epoch: 1 | Iteration: 40/100 (40%) | Samples: 1920/4800\n",
      " \t\t\t\t\t Loss: \u001b[1m2.635299\u001b[0m \n",
      "\t\t\t\t\t ---------\n",
      "2023-09-06 15:40:57,672 fedbiomed INFO - \u001b[1mTRAINING\u001b[0m \n",
      "\t\t\t\t\t NODE_ID: node_0874f153-2bbb-4e2b-b1ce-cfd20858a636 \n",
      "\t\t\t\t\t Round 6 Epoch: 1 | Iteration: 50/100 (50%) | Samples: 2400/4800\n",
      " \t\t\t\t\t Loss: \u001b[1m2.535712\u001b[0m \n",
      "\t\t\t\t\t ---------\n",
      "2023-09-06 15:40:58,930 fedbiomed INFO - \u001b[1mTRAINING\u001b[0m \n",
      "\t\t\t\t\t NODE_ID: node_f42cc93b-396e-44dd-9585-46ee2469b4ab \n",
      "\t\t\t\t\t Round 6 Epoch: 1 | Iteration: 50/100 (50%) | Samples: 2400/4800\n",
      " \t\t\t\t\t Loss: \u001b[1m2.728719\u001b[0m \n",
      "\t\t\t\t\t ---------\n",
      "2023-09-06 15:40:59,062 fedbiomed INFO - \u001b[1mTRAINING\u001b[0m \n",
      "\t\t\t\t\t NODE_ID: node_0874f153-2bbb-4e2b-b1ce-cfd20858a636 \n",
      "\t\t\t\t\t Round 6 Epoch: 1 | Iteration: 60/100 (60%) | Samples: 2880/4800\n",
      " \t\t\t\t\t Loss: \u001b[1m2.444102\u001b[0m \n",
      "\t\t\t\t\t ---------\n",
      "2023-09-06 15:40:59,854 fedbiomed INFO - \u001b[1mTRAINING\u001b[0m \n",
      "\t\t\t\t\t NODE_ID: node_f42cc93b-396e-44dd-9585-46ee2469b4ab \n",
      "\t\t\t\t\t Round 6 Epoch: 1 | Iteration: 60/100 (60%) | Samples: 2880/4800\n",
      " \t\t\t\t\t Loss: \u001b[1m2.443361\u001b[0m \n",
      "\t\t\t\t\t ---------\n",
      "2023-09-06 15:41:00,631 fedbiomed INFO - \u001b[1mTRAINING\u001b[0m \n",
      "\t\t\t\t\t NODE_ID: node_0874f153-2bbb-4e2b-b1ce-cfd20858a636 \n",
      "\t\t\t\t\t Round 6 Epoch: 1 | Iteration: 70/100 (70%) | Samples: 3360/4800\n",
      " \t\t\t\t\t Loss: \u001b[1m2.529568\u001b[0m \n",
      "\t\t\t\t\t ---------\n",
      "2023-09-06 15:41:01,038 fedbiomed INFO - \u001b[1mTRAINING\u001b[0m \n",
      "\t\t\t\t\t NODE_ID: node_f42cc93b-396e-44dd-9585-46ee2469b4ab \n",
      "\t\t\t\t\t Round 6 Epoch: 1 | Iteration: 70/100 (70%) | Samples: 3360/4800\n",
      " \t\t\t\t\t Loss: \u001b[1m2.754550\u001b[0m \n",
      "\t\t\t\t\t ---------\n",
      "2023-09-06 15:41:01,847 fedbiomed INFO - \u001b[1mTRAINING\u001b[0m \n",
      "\t\t\t\t\t NODE_ID: node_0874f153-2bbb-4e2b-b1ce-cfd20858a636 \n",
      "\t\t\t\t\t Round 6 Epoch: 1 | Iteration: 80/100 (80%) | Samples: 3840/4800\n",
      " \t\t\t\t\t Loss: \u001b[1m2.526703\u001b[0m \n",
      "\t\t\t\t\t ---------\n",
      "2023-09-06 15:41:02,616 fedbiomed INFO - \u001b[1mTRAINING\u001b[0m \n",
      "\t\t\t\t\t NODE_ID: node_f42cc93b-396e-44dd-9585-46ee2469b4ab \n",
      "\t\t\t\t\t Round 6 Epoch: 1 | Iteration: 80/100 (80%) | Samples: 3840/4800\n",
      " \t\t\t\t\t Loss: \u001b[1m3.043600\u001b[0m \n",
      "\t\t\t\t\t ---------\n",
      "2023-09-06 15:41:02,691 fedbiomed INFO - \u001b[1mTRAINING\u001b[0m \n",
      "\t\t\t\t\t NODE_ID: node_0874f153-2bbb-4e2b-b1ce-cfd20858a636 \n",
      "\t\t\t\t\t Round 6 Epoch: 1 | Iteration: 90/100 (90%) | Samples: 4320/4800\n",
      " \t\t\t\t\t Loss: \u001b[1m2.476362\u001b[0m \n",
      "\t\t\t\t\t ---------\n",
      "2023-09-06 15:41:03,443 fedbiomed INFO - \u001b[1mTRAINING\u001b[0m \n",
      "\t\t\t\t\t NODE_ID: node_f42cc93b-396e-44dd-9585-46ee2469b4ab \n",
      "\t\t\t\t\t Round 6 Epoch: 1 | Iteration: 90/100 (90%) | Samples: 4320/4800\n",
      " \t\t\t\t\t Loss: \u001b[1m3.161496\u001b[0m \n",
      "\t\t\t\t\t ---------\n",
      "2023-09-06 15:41:03,472 fedbiomed INFO - \u001b[1mTRAINING\u001b[0m \n",
      "\t\t\t\t\t NODE_ID: node_0874f153-2bbb-4e2b-b1ce-cfd20858a636 \n",
      "\t\t\t\t\t Round 6 Epoch: 1 | Iteration: 100/100 (100%) | Samples: 4800/4800\n",
      " \t\t\t\t\t Loss: \u001b[1m2.488440\u001b[0m \n",
      "\t\t\t\t\t ---------\n",
      "2023-09-06 15:41:03,658 fedbiomed INFO - \u001b[1mINFO\u001b[0m\n",
      "\t\t\t\t\t\u001b[1m NODE\u001b[0m node_0874f153-2bbb-4e2b-b1ce-cfd20858a636\n",
      "\t\t\t\t\t\u001b[1m MESSAGE:\u001b[0m results uploaded successfully \u001b[0m\n",
      "-----------------------------------------------------------------\n"
     ]
    },
    {
     "name": "stderr",
     "output_type": "stream",
     "text": [
      "2023-09-06 15:41:03,673 fedbiomed INFO - \u001b[1mWARNING\u001b[0m\n",
      "\t\t\t\t\t\u001b[1m NODE\u001b[0m node_0874f153-2bbb-4e2b-b1ce-cfd20858a636\n",
      "\t\t\t\t\t\u001b[1m MESSAGE:\u001b[0m optimizer info bfore aving {'config': {'lrate': 0.1, 'w_decay': 0.0, 'regularizers': [], 'modules': [('adam', {'beta_1': 0.5, 'beta_2': 0.99, 'amsgrad': False, 'eps': 1e-07}), ('momentum', {'beta': 0.9, 'nesterov': False})]}, 'states': {'modules': [('adam', {'steps': 200, 'vmax': None, 'momentum': {'state': TorchVector with 8 coefs:\n",
      "    conv1.weight: float32 torch.Tensor with shape (32, 1, 3, 3)\n",
      "    conv1.bias: float32 torch.Tensor with shape (32,)\n",
      "    conv2.weight: float32 torch.Tensor with shape (64, 32, 3, 3)\n",
      "    conv2.bias: float32 torch.Tensor with shape (64,)\n",
      "    fc1.weight: float32 torch.Tensor with shape (128, 9216)\n",
      "    fc1.bias: float32 torch.Tensor with shape (128,)\n",
      "    fc2.weight: float32 torch.Tensor with shape (10, 128)\n",
      "    fc2.bias: float32 torch.Tensor with shape (10,)}, 'velocity': {'state': TorchVector with 8 coefs:\n",
      "    conv1.weight: float32 torch.Tensor with shape (32, 1, 3, 3)\n",
      "    conv1.bias: float32 torch.Tensor with shape (32,)\n",
      "    conv2.weight: float32 torch.Tensor with shape (64, 32, 3, 3)\n",
      "    conv2.bias: float32 torch.Tensor with shape (64,)\n",
      "    fc1.weight: float32 torch.Tensor with shape (128, 9216)\n",
      "    fc1.bias: float32 torch.Tensor with shape (128,)\n",
      "    fc2.weight: float32 torch.Tensor with shape (10, 128)\n",
      "    fc2.bias: float32 torch.Tensor with shape (10,)}}), ('momentum', {'velocity': TorchVector with 8 coefs:\n",
      "    conv1.weight: float32 torch.Tensor with shape (32, 1, 3, 3)\n",
      "    conv1.bias: float32 torch.Tensor with shape (32,)\n",
      "    conv2.weight: float32 torch.Tensor with shape (64, 32, 3, 3)\n",
      "    conv2.bias: float32 torch.Tensor with shape (64,)\n",
      "    fc1.weight: float32 torch.Tensor with shape (128, 9216)\n",
      "    fc1.bias: float32 torch.Tensor with shape (128,)\n",
      "    fc2.weight: float32 torch.Tensor with shape (10, 128)\n",
      "    fc2.bias: float32 torch.Tensor with shape (10,)})]}}, <class 'fedbiomed.common.optimizers.generic_optimizers.DeclearnOptimizer'>\u001b[0m\n",
      "-----------------------------------------------------------------\n",
      "2023-09-06 15:41:03,694 fedbiomed INFO - \u001b[1mWARNING\u001b[0m\n",
      "\t\t\t\t\t\u001b[1m NODE\u001b[0m node_0874f153-2bbb-4e2b-b1ce-cfd20858a636\n",
      "\t\t\t\t\t\u001b[1m MESSAGE:\u001b[0m saving optim state{'config': {'lrate': 0.1, 'w_decay': 0.0, 'regularizers': [], 'modules': [('adam', {'beta_1': 0.5, 'beta_2': 0.99, 'amsgrad': False, 'eps': 1e-07}), ('momentum', {'beta': 0.9, 'nesterov': False})]}, 'states': {'modules': [('adam', {'steps': 200, 'vmax': None, 'momentum': {'state': TorchVector with 8 coefs:\n",
      "    conv1.weight: float32 torch.Tensor with shape (32, 1, 3, 3)\n",
      "    conv1.bias: float32 torch.Tensor with shape (32,)\n",
      "    conv2.weight: float32 torch.Tensor with shape (64, 32, 3, 3)\n",
      "    conv2.bias: float32 torch.Tensor with shape (64,)\n",
      "    fc1.weight: float32 torch.Tensor with shape (128, 9216)\n",
      "    fc1.bias: float32 torch.Tensor with shape (128,)\n",
      "    fc2.weight: float32 torch.Tensor with shape (10, 128)\n",
      "    fc2.bias: float32 torch.Tensor with shape (10,)}, 'velocity': {'state': TorchVector with 8 coefs:\n",
      "    conv1.weight: float32 torch.Tensor with shape (32, 1, 3, 3)\n",
      "    conv1.bias: float32 torch.Tensor with shape (32,)\n",
      "    conv2.weight: float32 torch.Tensor with shape (64, 32, 3, 3)\n",
      "    conv2.bias: float32 torch.Tensor with shape (64,)\n",
      "    fc1.weight: float32 torch.Tensor with shape (128, 9216)\n",
      "    fc1.bias: float32 torch.Tensor with shape (128,)\n",
      "    fc2.weight: float32 torch.Tensor with shape (10, 128)\n",
      "    fc2.bias: float32 torch.Tensor with shape (10,)}}), ('momentum', {'velocity': TorchVector with 8 coefs:\n",
      "    conv1.weight: float32 torch.Tensor with shape (32, 1, 3, 3)\n",
      "    conv1.bias: float32 torch.Tensor with shape (32,)\n",
      "    conv2.weight: float32 torch.Tensor with shape (64, 32, 3, 3)\n",
      "    conv2.bias: float32 torch.Tensor with shape (64,)\n",
      "    fc1.weight: float32 torch.Tensor with shape (128, 9216)\n",
      "    fc1.bias: float32 torch.Tensor with shape (128,)\n",
      "    fc2.weight: float32 torch.Tensor with shape (10, 128)\n",
      "    fc2.bias: float32 torch.Tensor with shape (10,)})]}}\u001b[0m\n",
      "-----------------------------------------------------------------\n",
      "2023-09-06 15:41:04,061 fedbiomed INFO - \u001b[1mTRAINING\u001b[0m \n",
      "\t\t\t\t\t NODE_ID: node_f42cc93b-396e-44dd-9585-46ee2469b4ab \n",
      "\t\t\t\t\t Round 6 Epoch: 1 | Iteration: 100/100 (100%) | Samples: 4800/4800\n",
      " \t\t\t\t\t Loss: \u001b[1m3.093619\u001b[0m \n",
      "\t\t\t\t\t ---------\n",
      "2023-09-06 15:41:04,227 fedbiomed INFO - \u001b[1mINFO\u001b[0m\n",
      "\t\t\t\t\t\u001b[1m NODE\u001b[0m node_f42cc93b-396e-44dd-9585-46ee2469b4ab\n",
      "\t\t\t\t\t\u001b[1m MESSAGE:\u001b[0m results uploaded successfully \u001b[0m\n",
      "-----------------------------------------------------------------\n",
      "2023-09-06 15:41:04,233 fedbiomed INFO - \u001b[1mWARNING\u001b[0m\n",
      "\t\t\t\t\t\u001b[1m NODE\u001b[0m node_f42cc93b-396e-44dd-9585-46ee2469b4ab\n",
      "\t\t\t\t\t\u001b[1m MESSAGE:\u001b[0m optimizer info bfore aving {'config': {'lrate': 0.1, 'w_decay': 0.0, 'regularizers': [], 'modules': [('adam', {'beta_1': 0.5, 'beta_2': 0.99, 'amsgrad': False, 'eps': 1e-07}), ('momentum', {'beta': 0.9, 'nesterov': False})]}, 'states': {'modules': [('adam', {'steps': 200, 'vmax': None, 'momentum': {'state': TorchVector with 8 coefs:\n",
      "    conv1.weight: float32 torch.Tensor with shape (32, 1, 3, 3)\n",
      "    conv1.bias: float32 torch.Tensor with shape (32,)\n",
      "    conv2.weight: float32 torch.Tensor with shape (64, 32, 3, 3)\n",
      "    conv2.bias: float32 torch.Tensor with shape (64,)\n",
      "    fc1.weight: float32 torch.Tensor with shape (128, 9216)\n",
      "    fc1.bias: float32 torch.Tensor with shape (128,)\n",
      "    fc2.weight: float32 torch.Tensor with shape (10, 128)\n",
      "    fc2.bias: float32 torch.Tensor with shape (10,)}, 'velocity': {'state': TorchVector with 8 coefs:\n",
      "    conv1.weight: float32 torch.Tensor with shape (32, 1, 3, 3)\n",
      "    conv1.bias: float32 torch.Tensor with shape (32,)\n",
      "    conv2.weight: float32 torch.Tensor with shape (64, 32, 3, 3)\n",
      "    conv2.bias: float32 torch.Tensor with shape (64,)\n",
      "    fc1.weight: float32 torch.Tensor with shape (128, 9216)\n",
      "    fc1.bias: float32 torch.Tensor with shape (128,)\n",
      "    fc2.weight: float32 torch.Tensor with shape (10, 128)\n",
      "    fc2.bias: float32 torch.Tensor with shape (10,)}}), ('momentum', {'velocity': TorchVector with 8 coefs:\n",
      "    conv1.weight: float32 torch.Tensor with shape (32, 1, 3, 3)\n",
      "    conv1.bias: float32 torch.Tensor with shape (32,)\n",
      "    conv2.weight: float32 torch.Tensor with shape (64, 32, 3, 3)\n",
      "    conv2.bias: float32 torch.Tensor with shape (64,)\n",
      "    fc1.weight: float32 torch.Tensor with shape (128, 9216)\n",
      "    fc1.bias: float32 torch.Tensor with shape (128,)\n",
      "    fc2.weight: float32 torch.Tensor with shape (10, 128)\n",
      "    fc2.bias: float32 torch.Tensor with shape (10,)})]}}, <class 'fedbiomed.common.optimizers.generic_optimizers.DeclearnOptimizer'>\u001b[0m\n",
      "-----------------------------------------------------------------\n",
      "2023-09-06 15:41:04,268 fedbiomed INFO - \u001b[1mWARNING\u001b[0m\n",
      "\t\t\t\t\t\u001b[1m NODE\u001b[0m node_f42cc93b-396e-44dd-9585-46ee2469b4ab\n",
      "\t\t\t\t\t\u001b[1m MESSAGE:\u001b[0m saving optim state{'config': {'lrate': 0.1, 'w_decay': 0.0, 'regularizers': [], 'modules': [('adam', {'beta_1': 0.5, 'beta_2': 0.99, 'amsgrad': False, 'eps': 1e-07}), ('momentum', {'beta': 0.9, 'nesterov': False})]}, 'states': {'modules': [('adam', {'steps': 200, 'vmax': None, 'momentum': {'state': TorchVector with 8 coefs:\n",
      "    conv1.weight: float32 torch.Tensor with shape (32, 1, 3, 3)\n",
      "    conv1.bias: float32 torch.Tensor with shape (32,)\n",
      "    conv2.weight: float32 torch.Tensor with shape (64, 32, 3, 3)\n",
      "    conv2.bias: float32 torch.Tensor with shape (64,)\n",
      "    fc1.weight: float32 torch.Tensor with shape (128, 9216)\n",
      "    fc1.bias: float32 torch.Tensor with shape (128,)\n",
      "    fc2.weight: float32 torch.Tensor with shape (10, 128)\n",
      "    fc2.bias: float32 torch.Tensor with shape (10,)}, 'velocity': {'state': TorchVector with 8 coefs:\n",
      "    conv1.weight: float32 torch.Tensor with shape (32, 1, 3, 3)\n",
      "    conv1.bias: float32 torch.Tensor with shape (32,)\n",
      "    conv2.weight: float32 torch.Tensor with shape (64, 32, 3, 3)\n",
      "    conv2.bias: float32 torch.Tensor with shape (64,)\n",
      "    fc1.weight: float32 torch.Tensor with shape (128, 9216)\n",
      "    fc1.bias: float32 torch.Tensor with shape (128,)\n",
      "    fc2.weight: float32 torch.Tensor with shape (10, 128)\n",
      "    fc2.bias: float32 torch.Tensor with shape (10,)}}), ('momentum', {'velocity': TorchVector with 8 coefs:\n",
      "    conv1.weight: float32 torch.Tensor with shape (32, 1, 3, 3)\n",
      "    conv1.bias: float32 torch.Tensor with shape (32,)\n",
      "    conv2.weight: float32 torch.Tensor with shape (64, 32, 3, 3)\n",
      "    conv2.bias: float32 torch.Tensor with shape (64,)\n",
      "    fc1.weight: float32 torch.Tensor with shape (128, 9216)\n",
      "    fc1.bias: float32 torch.Tensor with shape (128,)\n",
      "    fc2.weight: float32 torch.Tensor with shape (10, 128)\n",
      "    fc2.bias: float32 torch.Tensor with shape (10,)})]}}\u001b[0m\n",
      "-----------------------------------------------------------------\n"
     ]
    },
    {
     "name": "stderr",
     "output_type": "stream",
     "text": [
      "2023-09-06 15:45:19,571 fedbiomed INFO - \u001b[1mERROR\u001b[0m\n",
      "\t\t\t\t\t\u001b[1m NODE\u001b[0m test_logger_node_96fa4b06-a639-4adf-9e68-3e75613a03b4\n",
      "\t\t\t\t\t\u001b[1m MESSAGE:\u001b[0m mqtt+console ERROR message\u001b[0m\n",
      "-----------------------------------------------------------------\n",
      "2023-09-06 15:45:32,437 fedbiomed INFO - \u001b[1mINFO\u001b[0m\n",
      "\t\t\t\t\t\u001b[1m NODE\u001b[0m node_1234\n",
      "\t\t\t\t\t\u001b[1m MESSAGE:\u001b[0m Messaging mock_researcher__res_8b3a8eb2-3218-4373-b4bd-b3502aa88ccf_XXX successfully connected to the message broker, object = <fedbiomed.common.messaging.Messaging object at 0x7f8ff50a6fe0>\u001b[0m\n",
      "-----------------------------------------------------------------\n",
      "2023-09-06 15:45:34,523 fedbiomed INFO - \u001b[1mWARNING\u001b[0m\n",
      "\t\t\t\t\t\u001b[1m NODE\u001b[0m node_1234\n",
      "\t\t\t\t\t\u001b[1m MESSAGE:\u001b[0m Target data seems to be a regression, metric ACCURACY might not be appropriate\u001b[0m\n",
      "-----------------------------------------------------------------\n",
      "2023-09-06 15:45:34,524 fedbiomed INFO - \u001b[1mWARNING\u001b[0m\n",
      "\t\t\t\t\t\u001b[1m NODE\u001b[0m node_1234\n",
      "\t\t\t\t\t\u001b[1m MESSAGE:\u001b[0m Target data seems to be a regression, metric ACCURACY might not be appropriate\u001b[0m\n",
      "-----------------------------------------------------------------\n",
      "2023-09-06 15:45:34,525 fedbiomed INFO - \u001b[1mINFO\u001b[0m\n",
      "\t\t\t\t\t\u001b[1m NODE\u001b[0m node_1234\n",
      "\t\t\t\t\t\u001b[1m MESSAGE:\u001b[0m Actual/True values (y_true) has more than two levels, using multiclass `weighted` calculation for the metric ACCURACY\u001b[0m\n",
      "-----------------------------------------------------------------\n",
      "2023-09-06 15:45:34,533 fedbiomed INFO - \u001b[1mINFO\u001b[0m\n",
      "\t\t\t\t\t\u001b[1m NODE\u001b[0m node_1234\n",
      "\t\t\t\t\t\u001b[1m MESSAGE:\u001b[0m Actual/True values (y_true) has more than two levels, using multiclass `weighted` calculation for the metric ACCURACY\u001b[0m\n",
      "-----------------------------------------------------------------\n",
      "2023-09-06 15:45:34,534 fedbiomed INFO - \u001b[1mWARNING\u001b[0m\n",
      "\t\t\t\t\t\u001b[1m NODE\u001b[0m node_1234\n",
      "\t\t\t\t\t\u001b[1m MESSAGE:\u001b[0m Target data seems to be a regression, metric F1_SCORE might not be appropriate\u001b[0m\n",
      "-----------------------------------------------------------------\n",
      "2023-09-06 15:45:34,539 fedbiomed INFO - \u001b[1mWARNING\u001b[0m\n",
      "\t\t\t\t\t\u001b[1m NODE\u001b[0m node_1234\n",
      "\t\t\t\t\t\u001b[1m MESSAGE:\u001b[0m Target data seems to be a regression, metric F1_SCORE might not be appropriate\u001b[0m\n",
      "-----------------------------------------------------------------\n",
      "2023-09-06 15:45:34,545 fedbiomed INFO - \u001b[1mWARNING\u001b[0m\n",
      "\t\t\t\t\t\u001b[1m NODE\u001b[0m node_1234\n",
      "\t\t\t\t\t\u001b[1m MESSAGE:\u001b[0m Target data seems to be a regression, metric F1_SCORE might not be appropriate\u001b[0m\n",
      "-----------------------------------------------------------------\n",
      "2023-09-06 15:45:34,546 fedbiomed INFO - \u001b[1mWARNING\u001b[0m\n",
      "\t\t\t\t\t\u001b[1m NODE\u001b[0m node_1234\n",
      "\t\t\t\t\t\u001b[1m MESSAGE:\u001b[0m Target data seems to be a regression, metric RECALL might not be appropriate\u001b[0m\n",
      "-----------------------------------------------------------------\n",
      "2023-09-06 15:45:34,550 fedbiomed INFO - \u001b[1mWARNING\u001b[0m\n",
      "\t\t\t\t\t\u001b[1m NODE\u001b[0m node_1234\n",
      "\t\t\t\t\t\u001b[1m MESSAGE:\u001b[0m Target data seems to be a regression, metric RECALL might not be appropriate\u001b[0m\n",
      "-----------------------------------------------------------------\n",
      "2023-09-06 15:45:34,556 fedbiomed INFO - \u001b[1mWARNING\u001b[0m\n",
      "\t\t\t\t\t\u001b[1m NODE\u001b[0m node_1234\n",
      "\t\t\t\t\t\u001b[1m MESSAGE:\u001b[0m Target data seems to be a regression, metric RECALL might not be appropriate\u001b[0m\n",
      "-----------------------------------------------------------------\n",
      "2023-09-06 15:45:34,557 fedbiomed INFO - \u001b[1mWARNING\u001b[0m\n",
      "\t\t\t\t\t\u001b[1m NODE\u001b[0m node_1234\n",
      "\t\t\t\t\t\u001b[1m MESSAGE:\u001b[0m Target data seems to be a regression, metric PRECISION might not be appropriate\u001b[0m\n",
      "-----------------------------------------------------------------\n",
      "2023-09-06 15:45:34,565 fedbiomed INFO - \u001b[1mWARNING\u001b[0m\n",
      "\t\t\t\t\t\u001b[1m NODE\u001b[0m node_1234\n",
      "\t\t\t\t\t\u001b[1m MESSAGE:\u001b[0m Target data seems to be a regression, metric PRECISION might not be appropriate\u001b[0m\n",
      "-----------------------------------------------------------------\n",
      "2023-09-06 15:45:34,568 fedbiomed INFO - \u001b[1mWARNING\u001b[0m\n",
      "\t\t\t\t\t\u001b[1m NODE\u001b[0m node_1234\n",
      "\t\t\t\t\t\u001b[1m MESSAGE:\u001b[0m Target data seems to be a regression, metric PRECISION might not be appropriate\u001b[0m\n",
      "-----------------------------------------------------------------\n",
      "2023-09-06 15:45:34,572 fedbiomed INFO - \u001b[1mINFO\u001b[0m\n",
      "\t\t\t\t\t\u001b[1m NODE\u001b[0m node_1234\n",
      "\t\t\t\t\t\u001b[1m MESSAGE:\u001b[0m Actual/True values (y_true) has more than two levels, using multiclass `weighted` calculation for the metric ACCURACY\u001b[0m\n",
      "-----------------------------------------------------------------\n",
      "2023-09-06 15:45:34,579 fedbiomed INFO - \u001b[1mINFO\u001b[0m\n",
      "\t\t\t\t\t\u001b[1m NODE\u001b[0m node_1234\n",
      "\t\t\t\t\t\u001b[1m MESSAGE:\u001b[0m Actual/True values (y_true) has more than two levels, using multiclass `weighted` calculation for the metric F1_SCORE\u001b[0m\n",
      "-----------------------------------------------------------------\n",
      "2023-09-06 15:45:34,584 fedbiomed INFO - \u001b[1mINFO\u001b[0m\n",
      "\t\t\t\t\t\u001b[1m NODE\u001b[0m node_1234\n",
      "\t\t\t\t\t\u001b[1m MESSAGE:\u001b[0m Actual/True values (y_true) has more than two levels, using multiclass `weighted` calculation for the metric RECALL\u001b[0m\n",
      "-----------------------------------------------------------------\n",
      "2023-09-06 15:45:34,596 fedbiomed INFO - \u001b[1mINFO\u001b[0m\n",
      "\t\t\t\t\t\u001b[1m NODE\u001b[0m node_1234\n",
      "\t\t\t\t\t\u001b[1m MESSAGE:\u001b[0m Actual/True values (y_true) has more than two levels, using multiclass `weighted` calculation for the metric PRECISION\u001b[0m\n",
      "-----------------------------------------------------------------\n",
      "2023-09-06 15:45:34,608 fedbiomed INFO - \u001b[1mINFO\u001b[0m\n",
      "\t\t\t\t\t\u001b[1m NODE\u001b[0m node_1234\n",
      "\t\t\t\t\t\u001b[1m MESSAGE:\u001b[0m Actual/True values (y_true) has more than two levels, using multiclass `weighted` calculation for the metric ACCURACY\u001b[0m\n",
      "-----------------------------------------------------------------\n",
      "2023-09-06 15:45:34,612 fedbiomed INFO - \u001b[1mINFO\u001b[0m\n",
      "\t\t\t\t\t\u001b[1m NODE\u001b[0m node_1234\n",
      "\t\t\t\t\t\u001b[1m MESSAGE:\u001b[0m Actual/True values (y_true) has more than two levels, using multiclass `weighted` calculation for the metric F1_SCORE\u001b[0m\n",
      "-----------------------------------------------------------------\n",
      "2023-09-06 15:45:34,618 fedbiomed INFO - \u001b[1mINFO\u001b[0m\n",
      "\t\t\t\t\t\u001b[1m NODE\u001b[0m node_1234\n",
      "\t\t\t\t\t\u001b[1m MESSAGE:\u001b[0m Actual/True values (y_true) has more than two levels, using multiclass `weighted` calculation for the metric RECALL\u001b[0m\n",
      "-----------------------------------------------------------------\n",
      "2023-09-06 15:45:34,626 fedbiomed INFO - \u001b[1mINFO\u001b[0m\n",
      "\t\t\t\t\t\u001b[1m NODE\u001b[0m node_1234\n",
      "\t\t\t\t\t\u001b[1m MESSAGE:\u001b[0m Actual/True values (y_true) has more than two levels, using multiclass `weighted` calculation for the metric PRECISION\u001b[0m\n",
      "-----------------------------------------------------------------\n",
      "2023-09-06 15:45:34,637 fedbiomed INFO - \u001b[1mINFO\u001b[0m\n",
      "\t\t\t\t\t\u001b[1m NODE\u001b[0m node_1234\n",
      "\t\t\t\t\t\u001b[1m MESSAGE:\u001b[0m Actual/True values (y_true) has more than two levels, using multiclass `weighted` calculation for the metric ACCURACY\u001b[0m\n",
      "-----------------------------------------------------------------\n",
      "2023-09-06 15:45:34,645 fedbiomed INFO - \u001b[1mINFO\u001b[0m\n",
      "\t\t\t\t\t\u001b[1m NODE\u001b[0m node_1234\n",
      "\t\t\t\t\t\u001b[1m MESSAGE:\u001b[0m Actual/True values (y_true) has more than two levels, using multiclass `weighted` calculation for the metric F1_SCORE\u001b[0m\n",
      "-----------------------------------------------------------------\n",
      "2023-09-06 15:45:34,651 fedbiomed INFO - \u001b[1mINFO\u001b[0m\n",
      "\t\t\t\t\t\u001b[1m NODE\u001b[0m node_1234\n",
      "\t\t\t\t\t\u001b[1m MESSAGE:\u001b[0m Actual/True values (y_true) has more than two levels, using multiclass `weighted` calculation for the metric RECALL\u001b[0m\n",
      "-----------------------------------------------------------------\n",
      "2023-09-06 15:45:34,656 fedbiomed INFO - \u001b[1mINFO\u001b[0m\n",
      "\t\t\t\t\t\u001b[1m NODE\u001b[0m node_1234\n",
      "\t\t\t\t\t\u001b[1m MESSAGE:\u001b[0m Actual/True values (y_true) has more than two levels, using multiclass `weighted` calculation for the metric PRECISION\u001b[0m\n",
      "-----------------------------------------------------------------\n",
      "2023-09-06 15:45:34,662 fedbiomed INFO - \u001b[1mINFO\u001b[0m\n",
      "\t\t\t\t\t\u001b[1m NODE\u001b[0m node_1234\n",
      "\t\t\t\t\t\u001b[1m MESSAGE:\u001b[0m Actual/True values (y_true) has more than two levels, using multiclass `weighted` calculation for the metric ACCURACY\u001b[0m\n",
      "-----------------------------------------------------------------\n",
      "2023-09-06 15:45:34,671 fedbiomed INFO - \u001b[1mINFO\u001b[0m\n",
      "\t\t\t\t\t\u001b[1m NODE\u001b[0m node_1234\n",
      "\t\t\t\t\t\u001b[1m MESSAGE:\u001b[0m Actual/True values (y_true) has more than two levels, using multiclass `weighted` calculation for the metric F1_SCORE\u001b[0m\n",
      "-----------------------------------------------------------------\n",
      "2023-09-06 15:45:34,679 fedbiomed INFO - \u001b[1mINFO\u001b[0m\n",
      "\t\t\t\t\t\u001b[1m NODE\u001b[0m node_1234\n",
      "\t\t\t\t\t\u001b[1m MESSAGE:\u001b[0m Actual/True values (y_true) has more than two levels, using multiclass `weighted` calculation for the metric RECALL\u001b[0m\n",
      "-----------------------------------------------------------------\n"
     ]
    },
    {
     "name": "stderr",
     "output_type": "stream",
     "text": [
      "2023-09-06 15:45:34,688 fedbiomed INFO - \u001b[1mINFO\u001b[0m\n",
      "\t\t\t\t\t\u001b[1m NODE\u001b[0m node_1234\n",
      "\t\t\t\t\t\u001b[1m MESSAGE:\u001b[0m Actual/True values (y_true) has more than two levels, using multiclass `weighted` calculation for the metric PRECISION\u001b[0m\n",
      "-----------------------------------------------------------------\n",
      "2023-09-06 15:45:34,701 fedbiomed INFO - \u001b[1mINFO\u001b[0m\n",
      "\t\t\t\t\t\u001b[1m NODE\u001b[0m node_1234\n",
      "\t\t\t\t\t\u001b[1m MESSAGE:\u001b[0m Actual/True values (y_true) has more than two levels, using multiclass `samples` calculation for the metric F1_SCORE\u001b[0m\n",
      "-----------------------------------------------------------------\n",
      "2023-09-06 15:45:34,703 fedbiomed INFO - \u001b[1mINFO\u001b[0m\n",
      "\t\t\t\t\t\u001b[1m NODE\u001b[0m node_1234\n",
      "\t\t\t\t\t\u001b[1m MESSAGE:\u001b[0m Actual/True values (y_true) has more than two levels, using multiclass `samples` calculation for the metric RECALL\u001b[0m\n",
      "-----------------------------------------------------------------\n",
      "2023-09-06 15:45:34,711 fedbiomed INFO - \u001b[1mINFO\u001b[0m\n",
      "\t\t\t\t\t\u001b[1m NODE\u001b[0m node_1234\n",
      "\t\t\t\t\t\u001b[1m MESSAGE:\u001b[0m Actual/True values (y_true) has more than two levels, using multiclass `samples` calculation for the metric PRECISION\u001b[0m\n",
      "-----------------------------------------------------------------\n",
      "2023-09-06 15:45:34,718 fedbiomed INFO - \u001b[1mINFO\u001b[0m\n",
      "\t\t\t\t\t\u001b[1m NODE\u001b[0m node_1234\n",
      "\t\t\t\t\t\u001b[1m MESSAGE:\u001b[0m Actual/True values (y_true) has more than two levels, using multiclass `macro` calculation for the metric F1_SCORE\u001b[0m\n",
      "-----------------------------------------------------------------\n",
      "2023-09-06 15:45:34,731 fedbiomed INFO - \u001b[1mINFO\u001b[0m\n",
      "\t\t\t\t\t\u001b[1m NODE\u001b[0m node_1234\n",
      "\t\t\t\t\t\u001b[1m MESSAGE:\u001b[0m Actual/True values (y_true) has more than two levels, using multiclass `macro` calculation for the metric RECALL\u001b[0m\n",
      "-----------------------------------------------------------------\n",
      "2023-09-06 15:45:34,733 fedbiomed INFO - \u001b[1mINFO\u001b[0m\n",
      "\t\t\t\t\t\u001b[1m NODE\u001b[0m node_1234\n",
      "\t\t\t\t\t\u001b[1m MESSAGE:\u001b[0m Actual/True values (y_true) has more than two levels, using multiclass `macro` calculation for the metric PRECISION\u001b[0m\n",
      "-----------------------------------------------------------------\n",
      "2023-09-06 15:45:34,742 fedbiomed INFO - \u001b[1mINFO\u001b[0m\n",
      "\t\t\t\t\t\u001b[1m NODE\u001b[0m node_1234\n",
      "\t\t\t\t\t\u001b[1m MESSAGE:\u001b[0m Actual/True values (y_true) has more than two levels, using multiclass `weighted` calculation for the metric ACCURACY\u001b[0m\n",
      "-----------------------------------------------------------------\n",
      "2023-09-06 15:45:34,747 fedbiomed INFO - \u001b[1mINFO\u001b[0m\n",
      "\t\t\t\t\t\u001b[1m NODE\u001b[0m node_1234\n",
      "\t\t\t\t\t\u001b[1m MESSAGE:\u001b[0m Actual/True values (y_true) has more than two levels, using multiclass `weighted` calculation for the metric ACCURACY\u001b[0m\n",
      "-----------------------------------------------------------------\n",
      "2023-09-06 15:45:34,750 fedbiomed INFO - \u001b[1mINFO\u001b[0m\n",
      "\t\t\t\t\t\u001b[1m NODE\u001b[0m node_1234\n",
      "\t\t\t\t\t\u001b[1m MESSAGE:\u001b[0m Actual/True values (y_true) has more than two levels, using multiclass `weighted` calculation for the metric F1_SCORE\u001b[0m\n",
      "-----------------------------------------------------------------\n",
      "2023-09-06 15:45:34,753 fedbiomed INFO - \u001b[1mINFO\u001b[0m\n",
      "\t\t\t\t\t\u001b[1m NODE\u001b[0m node_1234\n",
      "\t\t\t\t\t\u001b[1m MESSAGE:\u001b[0m Actual/True values (y_true) has more than two levels, using multiclass `weighted` calculation for the metric RECALL\u001b[0m\n",
      "-----------------------------------------------------------------\n",
      "2023-09-06 15:45:34,754 fedbiomed INFO - \u001b[1mINFO\u001b[0m\n",
      "\t\t\t\t\t\u001b[1m NODE\u001b[0m node_1234\n",
      "\t\t\t\t\t\u001b[1m MESSAGE:\u001b[0m Actual/True values (y_true) has more than two levels, using multiclass `weighted` calculation for the metric PRECISION\u001b[0m\n",
      "-----------------------------------------------------------------\n",
      "2023-09-06 15:45:37,256 fedbiomed INFO - \u001b[1mWARNING\u001b[0m\n",
      "\t\t\t\t\t\u001b[1m NODE\u001b[0m node_1234\n",
      "\t\t\t\t\t\u001b[1m MESSAGE:\u001b[0m The following non-default model parameters were overridden due to the disabling of the scikit-learn internal optimizer:\n",
      "\teta0,\n",
      "\tlearning_rate\u001b[0m\n",
      "-----------------------------------------------------------------\n",
      "2023-09-06 15:45:37,264 fedbiomed INFO - \u001b[1mWARNING\u001b[0m\n",
      "\t\t\t\t\t\u001b[1m NODE\u001b[0m node_1234\n",
      "\t\t\t\t\t\u001b[1m MESSAGE:\u001b[0m Warning: can not retrieve all gradients from the model. Are you sure you have trained the model beforehand?\u001b[0m\n",
      "-----------------------------------------------------------------\n",
      "2023-09-06 15:45:37,302 fedbiomed INFO - \u001b[1mCRITICAL\u001b[0m\n",
      "\t\t\t\t\t\u001b[1m NODE\u001b[0m node_1234\n",
      "\t\t\t\t\t\u001b[1m MESSAGE:\u001b[0m FB622: Model error: unproper type for imported model: expected '<class 'torch.nn.modules.module.Module'>', but 'got <class 'unittest.mock.MagicMock'>'.\u001b[0m\n",
      "-----------------------------------------------------------------\n",
      "2023-09-06 15:45:37,308 fedbiomed INFO - \u001b[1mINFO\u001b[0m\n",
      "\t\t\t\t\t\u001b[1m NODE\u001b[0m node_1234\n",
      "\t\t\t\t\t\u001b[1m MESSAGE:\u001b[0m Removing tensorboard logs from previous experiment\u001b[0m\n",
      "-----------------------------------------------------------------\n",
      "2023-09-06 15:45:37,316 fedbiomed INFO - \u001b[1mINFO\u001b[0m\n",
      "\t\t\t\t\t\u001b[1m NODE\u001b[0m node_1234\n",
      "\t\t\t\t\t\u001b[1m MESSAGE:\u001b[0m \u001b[1mVALIDATION ON GLOBAL UPDATES\u001b[0m \n",
      "\t\t\t\t\t NODE_ID: asd123 \n",
      "\t\t\t\t\t Round 1 Epoch: 1 | Iteration: 1/1 (100%) | Samples: 13/1000\n",
      " \t\t\t\t\t metric_1: \u001b[1m12.000000\u001b[0m \n",
      "\t\t\t\t\t metric_2: \u001b[1m13.000000\u001b[0m \n",
      "\t\t\t\t\t ---------\u001b[0m\n",
      "-----------------------------------------------------------------\n",
      "2023-09-06 15:45:37,317 fedbiomed INFO - \u001b[1mINFO\u001b[0m\n",
      "\t\t\t\t\t\u001b[1m NODE\u001b[0m node_1234\n",
      "\t\t\t\t\t\u001b[1m MESSAGE:\u001b[0m \u001b[1mTRAINING\u001b[0m \n",
      "\t\t\t\t\t NODE_ID: asd123 \n",
      "\t\t\t\t\t Round 1 Epoch: 1 | Iteration: 1/1 (100%) | Samples: 13/1000\n",
      " \t\t\t\t\t metric_1: \u001b[1m12.000000\u001b[0m \n",
      "\t\t\t\t\t metric_2: \u001b[1m13.000000\u001b[0m \n",
      "\t\t\t\t\t ---------\u001b[0m\n",
      "-----------------------------------------------------------------\n",
      "2023-09-06 15:45:37,318 fedbiomed INFO - \u001b[1mINFO\u001b[0m\n",
      "\t\t\t\t\t\u001b[1m NODE\u001b[0m node_1234\n",
      "\t\t\t\t\t\u001b[1m MESSAGE:\u001b[0m \u001b[1mVALIDATION ON GLOBAL UPDATES\u001b[0m \n",
      "\t\t\t\t\t NODE_ID: asd123 \n",
      "\t\t\t\t\t Round 1 Epoch: 1 | Iteration: 2/1 (200%) | Samples: 13/1000\n",
      " \t\t\t\t\t metric_1: \u001b[1m12.000000\u001b[0m \n",
      "\t\t\t\t\t metric_2: \u001b[1m13.000000\u001b[0m \n",
      "\t\t\t\t\t ---------\u001b[0m\n",
      "-----------------------------------------------------------------\n",
      "2023-09-06 15:45:37,320 fedbiomed INFO - \u001b[1mERROR\u001b[0m\n",
      "\t\t\t\t\t\u001b[1m NODE\u001b[0m node_1234\n",
      "\t\t\t\t\t\u001b[1m MESSAGE:\u001b[0m tensorboard should be a boolean\u001b[0m\n",
      "-----------------------------------------------------------------\n",
      "2023-09-06 15:45:37,321 fedbiomed INFO - \u001b[1mINFO\u001b[0m\n",
      "\t\t\t\t\t\u001b[1m NODE\u001b[0m node_1234\n",
      "\t\t\t\t\t\u001b[1m MESSAGE:\u001b[0m \u001b[1mVALIDATION ON GLOBAL UPDATES\u001b[0m \n",
      "\t\t\t\t\t NODE_ID: asd123 \n",
      "\t\t\t\t\t Round 1 Epoch: 1 | Iteration: 2/1 (200%) | Samples: 13/1000\n",
      " \t\t\t\t\t metric_1: \u001b[1m12.000000\u001b[0m \n",
      "\t\t\t\t\t metric_2: \u001b[1m13.000000\u001b[0m \n",
      "\t\t\t\t\t ---------\u001b[0m\n",
      "-----------------------------------------------------------------\n",
      "2023-09-06 15:45:37,760 fedbiomed CRITICAL - FB104: message exchange error: Received message with protocol version 0 which is incompatible with the current protocol version 1 -> See https://fedbiomed.org/latest/user-guide/deployment/versions for more information\n",
      "Exception in thread Thread-5 (_thread_main):\n",
      "Traceback (most recent call last):\n",
      "  File \"/user/ybouilla/home/.conda/envs/fedbiomed-researcher/lib/python3.10/site-packages/paho/mqtt/client.py\", line 3570, in _handle_on_message\n",
      "    on_message(self, self._userdata, message)\n",
      "  File \"/home/ybouilla/github/fedbiomed_ssh/fedbiomed/fedbiomed/common/messaging.py\", line 99, in on_message\n",
      "    raise_for_version_compatibility(msg_version, __messaging_protocol_version__,\n",
      "  File \"/home/ybouilla/github/fedbiomed_ssh/fedbiomed/fedbiomed/common/utils/_versions.py\", line 105, in raise_for_version_compatibility\n",
      "    raise FedbiomedVersionError(msg)\n",
      "fedbiomed.common.exceptions.FedbiomedVersionError: FB104: message exchange error: Received message with protocol version 0 which is incompatible with the current protocol version 1 -> See https://fedbiomed.org/latest/user-guide/deployment/versions for more information\n"
     ]
    }
   ],
   "source": [
    "# start federated training\n",
    "exp.run()"
   ]
  },
  {
   "cell_type": "markdown",
   "id": "57811a0f",
   "metadata": {},
   "source": [
    "# Declearn Optimizers with Scikit learn Perceptron Classifier"
   ]
  },
  {
   "cell_type": "code",
   "execution_count": null,
   "id": "bca86812",
   "metadata": {},
   "outputs": [],
   "source": [
    "from fedbiomed.common.training_plans import FedPerceptron\n",
    "from fedbiomed.common.data import DataManager\n",
    "import numpy as np\n",
    "\n",
    "from fedbiomed.common.optimizers import Optimizer\n",
    "from fedbiomed.common.optimizers.declearn import AdamModule, FedProxRegularizer\n",
    "\n",
    "class SkLearnClassifierTrainingPlan(FedPerceptron):\n",
    "    def init_dependencies(self):\n",
    "        \"\"\"Define additional dependencies.\n",
    "        \n",
    "        In this case, we rely on torchvision functions for preprocessing the images.\n",
    "        \"\"\"\n",
    "        return [\"from torchvision import datasets, transforms\",\n",
    "                \"from fedbiomed.common.optimizers import Optimizer\",\n",
    "                \"from fedbiomed.common.optimizers.declearn import AdamModule, FedProxRegularizer\",]\n",
    "\n",
    "    def training_data(self):\n",
    "        \"\"\"Prepare data for training.\n",
    "        \n",
    "        This function loads a MNIST dataset from the node's filesystem, applies some\n",
    "        preprocessing and converts the full dataset to a numpy array. \n",
    "        Finally, it returns a DataManager created with these numpy arrays.\n",
    "        \"\"\"\n",
    "        transform = transforms.Compose([transforms.ToTensor(),\n",
    "        transforms.Normalize((0.1307,), (0.3081,))])\n",
    "        dataset = datasets.MNIST(self.dataset_path, train=True, download=False, transform=transform)\n",
    "        \n",
    "        X_train = dataset.data.numpy()\n",
    "        X_train = X_train.reshape(-1, 28*28)\n",
    "        Y_train = dataset.targets.numpy()\n",
    "        return DataManager(dataset=X_train, target=Y_train,  shuffle=False)\n",
    "    \n",
    "    # Defines and return a declearn optimizer\n",
    "    def init_optimizer(self, optimizer_args):\n",
    "        return Optimizer(lr=.1 ,modules=[AdamModule()], regularizers=[FedProxRegularizer()])"
   ]
  },
  {
   "cell_type": "code",
   "execution_count": null,
   "id": "61ba3825",
   "metadata": {},
   "outputs": [],
   "source": [
    "model_args = {'n_features': 28*28,\n",
    "              'n_classes' : 10,\n",
    "              'eta0':1e-6,\n",
    "              'random_state':1234,\n",
    "              'alpha':0.1 }\n",
    "\n",
    "training_args = {\n",
    "    'epochs': 3, \n",
    "    'batch_maxnum': 20,  # can be used to debugging to limit the number of batches per epoch\n",
    "    'optimizer_args': {\n",
    "        \"lr\" : 1e-3\n",
    "    },\n",
    "#    'log_interval': 1,  # output a logging message every log_interval batches\n",
    "    'loader_args': { 'batch_size': 4, }, \n",
    "}"
   ]
  },
  {
   "cell_type": "code",
   "execution_count": null,
   "id": "9b9c24bb",
   "metadata": {},
   "outputs": [],
   "source": [
    "from fedbiomed.researcher.experiment import Experiment\n",
    "from fedbiomed.researcher.aggregators.fedavg import FedAverage\n",
    "\n",
    "tags =  ['#MNIST', '#dataset']\n",
    "rounds = 3\n",
    "\n",
    "# select nodes participating in this experiment\n",
    "exp = Experiment(tags=tags,\n",
    "                 model_args=model_args,\n",
    "                 training_plan_class=SkLearnClassifierTrainingPlan,\n",
    "                 training_args=training_args,\n",
    "                 round_limit=rounds,\n",
    "                 aggregator=FedAverage(),\n",
    "                 node_selection_strategy=None)\n"
   ]
  },
  {
   "cell_type": "code",
   "execution_count": null,
   "id": "8e5f510c",
   "metadata": {},
   "outputs": [],
   "source": [
    "exp.run(increase=True)"
   ]
  },
  {
   "cell_type": "markdown",
   "id": "88e2a782",
   "metadata": {
    "pycharm": {
     "name": "#%% md\n"
    }
   },
   "source": [
    "##  Testing\n",
    "\n",
    "Once the federated model is obtained, it is possible to test it locally on an independent testing partition.\n",
    "The test dataset is available at this link:\n",
    "\n",
    "https://drive.google.com/file/d/1zNUGp6TMn6WSKYVC8FQiQ9lJAUdasxk1/"
   ]
  },
  {
   "cell_type": "code",
   "execution_count": null,
   "id": "b5335f2d",
   "metadata": {
    "pycharm": {
     "name": "#%%\n"
    }
   },
   "outputs": [],
   "source": [
    "!pip install matplotlib\n",
    "!pip install gdown"
   ]
  },
  {
   "cell_type": "markdown",
   "id": "3bc6d9b2",
   "metadata": {
    "pycharm": {
     "name": "#%% md\n"
    }
   },
   "source": [
    "Download the testing dataset on the local temporary folder."
   ]
  },
  {
   "cell_type": "code",
   "execution_count": null,
   "id": "8500a4f0",
   "metadata": {
    "pycharm": {
     "name": "#%%\n"
    }
   },
   "outputs": [],
   "source": [
    "import os\n",
    "import gdown\n",
    "import tempfile\n",
    "import zipfile\n",
    "import pandas as pd\n",
    "import numpy as np\n",
    "\n",
    "from fedbiomed.common.constants import ComponentType\n",
    "from fedbiomed.researcher.environ import environ\n",
    "\n",
    "\n",
    "resource = \"https://drive.google.com/uc?id=19kxuI146WA2fhcOU2_AvF8dy-ppJkzW7\"\n",
    "\n",
    "tmpdir = tempfile.TemporaryDirectory(dir=environ['TMP_DIR'])\n",
    "base_dir = tmpdir.name\n",
    "\n",
    "test_file = os.path.join(base_dir, \"test_data.zip\")\n",
    "gdown.download(resource, test_file, quiet=False)\n",
    "\n",
    "zf = zipfile.ZipFile(test_file)\n",
    "\n",
    "for file in zf.infolist():\n",
    "    zf.extract(file, base_dir)\n",
    "\n",
    "# loading testing dataset\n",
    "test_data = pd.read_csv(os.path.join(base_dir,'adni_validation.csv'))"
   ]
  },
  {
   "cell_type": "code",
   "execution_count": null,
   "id": "91f579d5",
   "metadata": {
    "pycharm": {
     "name": "#%%\n"
    }
   },
   "outputs": [],
   "source": [
    "from sklearn.linear_model import SGDRegressor\n",
    "import matplotlib.pyplot as plt"
   ]
  },
  {
   "cell_type": "code",
   "execution_count": null,
   "id": "d73be6dd",
   "metadata": {
    "pycharm": {
     "name": "#%%\n"
    }
   },
   "outputs": [],
   "source": [
    "%matplotlib inline"
   ]
  },
  {
   "cell_type": "markdown",
   "id": "7fb078c6",
   "metadata": {
    "pycharm": {
     "name": "#%% md\n"
    }
   },
   "source": [
    "Here we extract the relevant regressors and target from the testing data "
   ]
  },
  {
   "cell_type": "code",
   "execution_count": null,
   "id": "05ca90a2",
   "metadata": {
    "pycharm": {
     "name": "#%%\n"
    }
   },
   "outputs": [],
   "source": [
    "regressors_col = ['AGE', 'WholeBrain.bl', 'Ventricles.bl',\n",
    "                  'Hippocampus.bl', 'MidTemp.bl', 'Entorhinal.bl']\n",
    "target_col = ['MMSE.bl']\n",
    "X_test = test_data[regressors_col].values\n",
    "y_test = test_data[target_col].values"
   ]
  },
  {
   "cell_type": "markdown",
   "id": "63e6d380",
   "metadata": {
    "pycharm": {
     "name": "#%% md\n"
    }
   },
   "source": [
    "To inspect the model evolution across FL rounds, we export `exp.aggregated_params()` containing models parameters collected at the end of each round. The MSE (Mean Squarred Error) should be decreasing at each iteration with the federated parameters obtained at each round. "
   ]
  },
  {
   "cell_type": "code",
   "execution_count": null,
   "id": "6edb32ed",
   "metadata": {
    "pycharm": {
     "name": "#%%\n"
    }
   },
   "outputs": [],
   "source": [
    "scaling_mean = np.array([72.3, 0.7, 0.0, 0.0, 0.0, 0.0])\n",
    "scaling_sd = np.array([7.3e+00, 5.0e-02, 1.1e-02, 1.0e-03, 2.0e-03, 1.0e-03])\n",
    "\n",
    "testing_error = []\n",
    "\n",
    "\n",
    "# we create here several instances of SGDRegressor using same sklearn arguments\n",
    "# we have used for Federated Learning training\n",
    "fed_model = exp.training_plan().model()\n",
    "regressor_args = {key: model_args[key] for key in model_args.keys() if key in fed_model.get_params().keys()}\n",
    "\n",
    "for i in range(rounds):\n",
    "    fed_model.coef_ = exp.aggregated_params()[i]['params']['coef_'].copy()\n",
    "    fed_model.intercept_ = exp.aggregated_params()[i]['params']['intercept_'].copy()  \n",
    "    mse = np.mean((fed_model.predict((X_test-scaling_mean)/scaling_sd) - y_test)**2)\n",
    "    testing_error.append(mse)\n",
    "\n",
    "plt.plot(testing_error)\n",
    "plt.title('FL testing loss')\n",
    "plt.xlabel('FL round')\n",
    "plt.ylabel('testing loss (MSE)')"
   ]
  },
  {
   "cell_type": "markdown",
   "id": "60406da1",
   "metadata": {
    "pycharm": {
     "name": "#%% md\n"
    }
   },
   "source": [
    "We finally inspect the predictions of the final federated model on the testing data."
   ]
  },
  {
   "cell_type": "code",
   "execution_count": null,
   "id": "3191befa",
   "metadata": {
    "pycharm": {
     "name": "#%%\n"
    }
   },
   "outputs": [],
   "source": [
    "y_predicted = fed_model.predict((X_test-scaling_mean)/scaling_sd)\n",
    "plt.scatter(y_predicted, y_test, label='model prediction')\n",
    "plt.xlabel('predicted')\n",
    "plt.ylabel('target')\n",
    "plt.title('Federated model testing prediction')\n",
    "\n",
    "first_diag = np.arange(np.min(y_test.flatten()),\n",
    "                       np.max(y_test.flatten()+1))\n",
    "plt.scatter(first_diag, first_diag, label='correct Target')\n",
    "plt.legend()"
   ]
  },
  {
   "cell_type": "code",
   "execution_count": null,
   "id": "1e398dcc",
   "metadata": {
    "pycharm": {
     "name": "#%%\n"
    }
   },
   "outputs": [],
   "source": [
    "a = X_test / scaling_sd\n",
    "a.shape"
   ]
  },
  {
   "cell_type": "code",
   "execution_count": null,
   "id": "eb7af803",
   "metadata": {
    "pycharm": {
     "name": "#%%\n"
    }
   },
   "outputs": [],
   "source": [
    "X_test.shape"
   ]
  },
  {
   "cell_type": "code",
   "execution_count": null,
   "id": "3b2b38c1",
   "metadata": {
    "pycharm": {
     "name": "#%%\n"
    }
   },
   "outputs": [],
   "source": [
    "X_test[:,1] / scaling_sd[1] - a[:,1]"
   ]
  },
  {
   "cell_type": "code",
   "execution_count": null,
   "id": "0ff686e4",
   "metadata": {
    "pycharm": {
     "name": "#%%\n"
    }
   },
   "outputs": [],
   "source": []
  }
 ],
 "metadata": {
  "kernelspec": {
   "display_name": "Python 3 (ipykernel)",
   "language": "python",
   "name": "python3"
  },
  "language_info": {
   "codemirror_mode": {
    "name": "ipython",
    "version": 3
   },
   "file_extension": ".py",
   "mimetype": "text/x-python",
   "name": "python",
   "nbconvert_exporter": "python",
   "pygments_lexer": "ipython3",
   "version": "3.10.13"
  }
 },
 "nbformat": 4,
 "nbformat_minor": 5
}
