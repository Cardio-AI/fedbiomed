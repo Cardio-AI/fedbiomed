{
 "cells": [
  {
   "cell_type": "markdown",
   "metadata": {},
   "source": [
    "# Fed-BioMed Researcher base example"
   ]
  },
  {
   "cell_type": "markdown",
   "metadata": {},
   "source": [
    "Use for developing (autoreloads changes made across packages)"
   ]
  },
  {
   "cell_type": "code",
   "execution_count": null,
   "metadata": {},
   "outputs": [],
   "source": [
    "%load_ext autoreload\n",
    "%autoreload 2"
   ]
  },
  {
   "cell_type": "code",
   "execution_count": 1,
   "metadata": {},
   "outputs": [
    {
     "name": "stderr",
     "output_type": "stream",
     "text": [
      "2023-11-07 16:33:55,303 fedbiomed INFO - Starting researcher service...\n",
      "2023-11-07 16:33:55,304 fedbiomed INFO - Waiting 3s for nodes to connect...\n",
      "2023-11-07 16:33:57,149 fedbiomed DEBUG - Node: node_56066d82-ae6e-411b-a06b-8eec48f17acd polling for the tasks\n",
      "2023-11-07 16:33:58,078 fedbiomed DEBUG - Node: node_01f09341-906f-4cc9-81c7-0bd9882c5c15 polling for the tasks\n",
      "2023-11-07 16:33:58,311 fedbiomed DEBUG - Node: node_56066d82-ae6e-411b-a06b-8eec48f17acd polling for the tasks\n",
      "2023-11-07 16:33:58,313 fedbiomed DEBUG - Node: node_01f09341-906f-4cc9-81c7-0bd9882c5c15 polling for the tasks\n"
     ]
    },
    {
     "name": "stdout",
     "output_type": "stream",
     "text": [
      "here\n"
     ]
    },
    {
     "name": "stderr",
     "output_type": "stream",
     "text": [
      "2023-11-07 16:33:58,816 fedbiomed INFO - \n",
      " Node: node_56066d82-ae6e-411b-a06b-8eec48f17acd | Number of Datasets: 5 \n",
      "+--------------+-------------+--------------------------+------------------------+-----------------------+----------------------------------------------+\n",
      "| name         | data_type   | shape                    | tags                   | description           | dataset_id                                   |\n",
      "+==============+=============+==========================+========================+=======================+==============================================+\n",
      "| MNIST        | default     | [60000, 1, 28, 28]       | ['#MNIST', '#dataset'] | Default MNIST dataset | dataset_6304d6e7-c7f6-4b73-9c95-0cf526866030 |\n",
      "+--------------+-------------+--------------------------+------------------------+-----------------------+----------------------------------------------+\n",
      "| falmby-ixi   | flamby      | ['flamby-ixi']           | s                      | [145, 1, 48, 60, 48]  | dataset_104e8135-e8dc-41c2-a448-ca019de91662 |\n",
      "+--------------+-------------+--------------------------+------------------------+-----------------------+----------------------------------------------+\n",
      "| flamby-heart | flamby      | ['flamby-heart']         |                        | [172, 13]             | dataset_72ad8a47-d3f2-4754-88d3-dba593d00720 |\n",
      "+--------------+-------------+--------------------------+------------------------+-----------------------+----------------------------------------------+\n",
      "| Celeba       | images      | ['#celeba']              | Celeba dataset         | [67533, 3, 218, 178]  | dataset_ca8933c1-f0df-4ebb-9f03-ab44bae4d114 |\n",
      "+--------------+-------------+--------------------------+------------------------+-----------------------+----------------------------------------------+\n",
      "| MEDNIST      | mednist     | ['#MEDNIST', '#dataset'] | MEDNIST dataset        | [58954, 3, 64, 64]    | dataset_fb2ed157-03f1-4ddf-a366-8bf93e667691 |\n",
      "+--------------+-------------+--------------------------+------------------------+-----------------------+----------------------------------------------+\n",
      "\n",
      "2023-11-07 16:33:58,820 fedbiomed INFO - \n",
      " Node: node_01f09341-906f-4cc9-81c7-0bd9882c5c15 | Number of Datasets: 5 \n",
      "+------------+-------------+--------------------------+-----------------+----------------------+----------------------------------------------+----------------------+\n",
      "| name       | data_type   | tags                     | description     | shape                | dataset_id                                   | dataset_parameters   |\n",
      "+============+=============+==========================+=================+======================+==============================================+======================+\n",
      "| MNIST      | default     | ['#MNIST', '#dataset']   | MNIST database  | [60000, 1, 28, 28]   | dataset_cf85b6d1-7b1d-40fe-a1bc-3fddc1e36601 |                      |\n",
      "+------------+-------------+--------------------------+-----------------+----------------------+----------------------------------------------+----------------------+\n",
      "| flamby-ixi | flamby      | ['flamby-ixi']           | fedixi          | [249, 1, 48, 60, 48] | dataset_fdb555d8-5f86-4ba5-8833-52245129e16e |                      |\n",
      "+------------+-------------+--------------------------+-----------------+----------------------+----------------------------------------------+----------------------+\n",
      "| heart      | flamby      | ['flamby-heart']         | s               | [199, 13]            | dataset_963f6fd9-9bdf-4634-b00b-f46c61321563 |                      |\n",
      "+------------+-------------+--------------------------+-----------------+----------------------+----------------------------------------------+----------------------+\n",
      "| celeba     | images      | ['#celeba']              | Celeba dataset  | [67533, 3, 218, 178] | dataset_3e7d52d3-2a23-4885-a026-ef280f353b3c |                      |\n",
      "+------------+-------------+--------------------------+-----------------+----------------------+----------------------------------------------+----------------------+\n",
      "| MEDNIST    | mednist     | ['#MEDNIST', '#dataset'] | MEDNIST dataset | [58954, 3, 64, 64]   | dataset_a8c7ba56-2f16-4601-829c-fc9e306fd708 |                      |\n",
      "+------------+-------------+--------------------------+-----------------+----------------------+----------------------------------------------+----------------------+\n",
      "\n"
     ]
    },
    {
     "data": {
      "text/plain": [
       "{'node_56066d82-ae6e-411b-a06b-8eec48f17acd': [{'name': 'MNIST',\n",
       "   'data_type': 'default',\n",
       "   'shape': [60000, 1, 28, 28],\n",
       "   'tags': ['#MNIST', '#dataset'],\n",
       "   'description': 'Default MNIST dataset',\n",
       "   'dataset_id': 'dataset_6304d6e7-c7f6-4b73-9c95-0cf526866030'},\n",
       "  {'name': 'falmby-ixi',\n",
       "   'data_type': 'flamby',\n",
       "   'tags': ['flamby-ixi'],\n",
       "   'description': 's',\n",
       "   'shape': [145, 1, 48, 60, 48],\n",
       "   'dataset_id': 'dataset_104e8135-e8dc-41c2-a448-ca019de91662',\n",
       "   'dataset_parameters': None,\n",
       "   'dlp_id': 'dlp_f86a40e7-b9a8-4469-abd6-478f511d42f3'},\n",
       "  {'name': 'flamby-heart',\n",
       "   'data_type': 'flamby',\n",
       "   'tags': ['flamby-heart'],\n",
       "   'description': '',\n",
       "   'shape': [172, 13],\n",
       "   'dataset_id': 'dataset_72ad8a47-d3f2-4754-88d3-dba593d00720',\n",
       "   'dataset_parameters': None,\n",
       "   'dlp_id': 'dlp_52feb42c-6c7a-4f72-b16b-abdb8f4f66f1'},\n",
       "  {'name': 'Celeba',\n",
       "   'data_type': 'images',\n",
       "   'tags': ['#celeba'],\n",
       "   'description': 'Celeba dataset',\n",
       "   'shape': [67533, 3, 218, 178],\n",
       "   'dataset_id': 'dataset_ca8933c1-f0df-4ebb-9f03-ab44bae4d114',\n",
       "   'dataset_parameters': None},\n",
       "  {'name': 'MEDNIST',\n",
       "   'data_type': 'mednist',\n",
       "   'tags': ['#MEDNIST', '#dataset'],\n",
       "   'description': 'MEDNIST dataset',\n",
       "   'shape': [58954, 3, 64, 64],\n",
       "   'dataset_id': 'dataset_fb2ed157-03f1-4ddf-a366-8bf93e667691',\n",
       "   'dataset_parameters': None}],\n",
       " 'node_01f09341-906f-4cc9-81c7-0bd9882c5c15': [{'name': 'MNIST',\n",
       "   'data_type': 'default',\n",
       "   'tags': ['#MNIST', '#dataset'],\n",
       "   'description': 'MNIST database',\n",
       "   'shape': [60000, 1, 28, 28],\n",
       "   'dataset_id': 'dataset_cf85b6d1-7b1d-40fe-a1bc-3fddc1e36601',\n",
       "   'dataset_parameters': None},\n",
       "  {'name': 'flamby-ixi',\n",
       "   'data_type': 'flamby',\n",
       "   'tags': ['flamby-ixi'],\n",
       "   'description': 'fedixi',\n",
       "   'shape': [249, 1, 48, 60, 48],\n",
       "   'dataset_id': 'dataset_fdb555d8-5f86-4ba5-8833-52245129e16e',\n",
       "   'dataset_parameters': None,\n",
       "   'dlp_id': 'dlp_f7d429f3-09bd-4ae7-a263-dc45e8b4daad'},\n",
       "  {'name': 'heart',\n",
       "   'data_type': 'flamby',\n",
       "   'tags': ['flamby-heart'],\n",
       "   'description': 's',\n",
       "   'shape': [199, 13],\n",
       "   'dataset_id': 'dataset_963f6fd9-9bdf-4634-b00b-f46c61321563',\n",
       "   'dataset_parameters': None,\n",
       "   'dlp_id': 'dlp_cd375d33-2590-44ac-88f9-59c160ccea9d'},\n",
       "  {'name': 'celeba',\n",
       "   'data_type': 'images',\n",
       "   'tags': ['#celeba'],\n",
       "   'description': 'Celeba dataset',\n",
       "   'shape': [67533, 3, 218, 178],\n",
       "   'dataset_id': 'dataset_3e7d52d3-2a23-4885-a026-ef280f353b3c',\n",
       "   'dataset_parameters': None},\n",
       "  {'name': 'MEDNIST',\n",
       "   'data_type': 'mednist',\n",
       "   'tags': ['#MEDNIST', '#dataset'],\n",
       "   'description': 'MEDNIST dataset',\n",
       "   'shape': [58954, 3, 64, 64],\n",
       "   'dataset_id': 'dataset_a8c7ba56-2f16-4601-829c-fc9e306fd708',\n",
       "   'dataset_parameters': None}]}"
      ]
     },
     "execution_count": 1,
     "metadata": {},
     "output_type": "execute_result"
    }
   ],
   "source": [
    "from fedbiomed.researcher.requests import Requests \n",
    "req = Requests()\n",
    "req.list(verbose=True)\n"
   ]
  },
  {
   "cell_type": "markdown",
   "metadata": {},
   "source": [
    "## Setting the node up\n",
    "It is necessary to previously configure a node:\n",
    "1. `./scripts/fedbiomed_run node add`\n",
    "  * Select option 2 (default) to add MNIST to the node\n",
    "  * Confirm default tags by hitting \"y\" and ENTER\n",
    "  * Pick the folder where MNIST is downloaded (this is due to a pytorch issue https://github.com/pytorch/vision/issues/3549)\n",
    "  * Data must have been added (if you get a warning saying that data must be unique is because it's been already added)\n",
    "  \n",
    "2. Check that your data has been added by executing `./scripts/fedbiomed_run node list`\n",
    "3. Run the node using `./scripts/fedbiomed_run node start`. Wait until you get `Starting task manager`. it means you are online."
   ]
  },
  {
   "cell_type": "markdown",
   "metadata": {},
   "source": [
    "## Define an experiment model and parameters\""
   ]
  },
  {
   "cell_type": "markdown",
   "metadata": {},
   "source": [
    "Declare a torch training plan MyTrainingPlan class to send for training on the node"
   ]
  },
  {
   "cell_type": "code",
   "execution_count": 2,
   "metadata": {},
   "outputs": [],
   "source": [
    "import torch\n",
    "import torch.nn as nn\n",
    "from fedbiomed.common.training_plans import TorchTrainingPlan\n",
    "from fedbiomed.common.data import DataManager\n",
    "from torchvision import datasets, transforms\n",
    "\n",
    "\n",
    "# Here we define the model to be used. \n",
    "# You can use any class name (here 'Net')\n",
    "class MyTrainingPlan(TorchTrainingPlan):\n",
    "    \n",
    "    # Defines and return model \n",
    "    def init_model(self, model_args):\n",
    "        return self.Net(model_args = model_args)\n",
    "    \n",
    "    # Defines and return optimizer\n",
    "    def init_optimizer(self, optimizer_args):\n",
    "        return torch.optim.Adam(self.model().parameters(), lr = optimizer_args[\"lr\"])\n",
    "    \n",
    "    # Declares and return dependencies\n",
    "    def init_dependencies(self):\n",
    "        deps = [\"from torchvision import datasets, transforms\"]\n",
    "        return deps\n",
    "    \n",
    "    class Net(nn.Module):\n",
    "        def __init__(self, model_args):\n",
    "            super().__init__()\n",
    "            self.conv1 = nn.Conv2d(1, 32, 3, 1)\n",
    "            self.conv2 = nn.Conv2d(32, 64, 3, 1)\n",
    "            self.dropout1 = nn.Dropout(0.25)\n",
    "            self.dropout2 = nn.Dropout(0.5)\n",
    "            self.fc1 = nn.Linear(9216, 128)\n",
    "            self.fc2 = nn.Linear(128, 10)\n",
    "\n",
    "        def forward(self, x):\n",
    "            x = self.conv1(x)\n",
    "            x = F.relu(x)\n",
    "            x = self.conv2(x)\n",
    "            x = F.relu(x)\n",
    "            x = F.max_pool2d(x, 2)\n",
    "            x = self.dropout1(x)\n",
    "            x = torch.flatten(x, 1)\n",
    "            x = self.fc1(x)\n",
    "            x = F.relu(x)\n",
    "            x = self.dropout2(x)\n",
    "            x = self.fc2(x)\n",
    "\n",
    "\n",
    "            output = F.log_softmax(x, dim=1)\n",
    "            return output\n",
    "\n",
    "    def training_data(self):\n",
    "        # Custom torch Dataloader for MNIST data\n",
    "        transform = transforms.Compose([transforms.ToTensor(),\n",
    "        transforms.Normalize((0.1307,), (0.3081,))])\n",
    "        dataset1 = datasets.MNIST(self.dataset_path, train=True, download=False, transform=transform)\n",
    "        train_kwargs = { 'shuffle': True}\n",
    "        return DataManager(dataset=dataset1, **train_kwargs)\n",
    "    \n",
    "    def training_step(self, data, target):\n",
    "        output = self.model().forward(data)\n",
    "        loss   = torch.nn.functional.nll_loss(output, target)\n",
    "        return loss\n"
   ]
  },
  {
   "cell_type": "markdown",
   "metadata": {},
   "source": [
    "This group of arguments correspond respectively:\n",
    "* `model_args`: a dictionary with the arguments related to the model (e.g. number of layers, features, etc.). This will be passed to the model class on the node side.\n",
    "* `training_args`: a dictionary containing the arguments for the training routine (e.g. batch size, learning rate, epochs, etc.). This will be passed to the routine on the node side.\n",
    "\n",
    "**NOTE:** typos and/or lack of positional (required) arguments will raise error. 🤓"
   ]
  },
  {
   "cell_type": "code",
   "execution_count": 3,
   "metadata": {
    "pycharm": {
     "name": "#%%\n"
    }
   },
   "outputs": [],
   "source": [
    "model_args = {}\n",
    "\n",
    "training_args = {\n",
    "    'loader_args': { 'batch_size': 48, }, \n",
    "    'optimizer_args': {\n",
    "        \"lr\" : 1e-3\n",
    "    },\n",
    "    'epochs': 1, \n",
    "    'dry_run': False,  \n",
    "    'batch_maxnum': 100 # Fast pass for development : only use ( batch_maxnum * batch_size ) samples\n",
    "}"
   ]
  },
  {
   "cell_type": "markdown",
   "metadata": {},
   "source": [
    "## Declare and run the experiment\n",
    "\n",
    "- search nodes serving data for these `tags`, optionally filter on a list of node ID with `nodes`\n",
    "- run a round of local training on nodes with model defined in `model_path` + federation with `aggregator`\n",
    "- run for `round_limit` rounds, applying the `node_selection_strategy` between the rounds"
   ]
  },
  {
   "cell_type": "code",
   "execution_count": 4,
   "metadata": {
    "pycharm": {
     "name": "#%%\n"
    }
   },
   "outputs": [
    {
     "name": "stderr",
     "output_type": "stream",
     "text": [
      "2023-11-07 16:34:06,757 fedbiomed DEBUG - Node: node_01f09341-906f-4cc9-81c7-0bd9882c5c15 polling for the tasks\n",
      "2023-11-07 16:34:06,765 fedbiomed DEBUG - Node: node_56066d82-ae6e-411b-a06b-8eec48f17acd polling for the tasks\n"
     ]
    },
    {
     "name": "stdout",
     "output_type": "stream",
     "text": [
      "here\n"
     ]
    },
    {
     "name": "stderr",
     "output_type": "stream",
     "text": [
      "2023-11-07 16:34:07,252 fedbiomed INFO - Node selected for training -> node_56066d82-ae6e-411b-a06b-8eec48f17acd\n",
      "2023-11-07 16:34:07,252 fedbiomed INFO - Node selected for training -> node_01f09341-906f-4cc9-81c7-0bd9882c5c15\n",
      "2023-11-07 16:34:07,256 fedbiomed DEBUG - Model file has been saved: /home/scansiz/projects/fedbiomed-dev/fedbiomed/var/experiments/Experiment_0093/my_model_fff341ec-8836-477d-b72e-a1a9da8136e9.py\n",
      "Secure RNG turned off. This is perfectly fine for experimentation as it allows for much faster training performance, but remember to turn it on and retrain one last time before production with ``secure_mode`` turned on.\n",
      "2023-11-07 16:34:07,278 fedbiomed DEBUG - using native torch optimizer\n"
     ]
    }
   ],
   "source": [
    "from fedbiomed.researcher.experiment import Experiment\n",
    "from fedbiomed.researcher.aggregators.fedavg import FedAverage\n",
    "\n",
    "tags =  ['#MNIST', '#dataset']\n",
    "rounds = 2\n",
    "\n",
    "exp = Experiment(tags=tags,\n",
    "                 model_args=model_args,\n",
    "                 training_plan_class=MyTrainingPlan,\n",
    "                 training_args=training_args,\n",
    "                 round_limit=rounds,\n",
    "                 aggregator=FedAverage(),\n",
    "                 node_selection_strategy=None)"
   ]
  },
  {
   "cell_type": "markdown",
   "metadata": {
    "pycharm": {
     "name": "#%% md\n"
    }
   },
   "source": [
    "Let's start the experiment.\n",
    "\n",
    "By default, this function doesn't stop until all the `round_limit` rounds are done for all the nodes"
   ]
  },
  {
   "cell_type": "code",
   "execution_count": null,
   "metadata": {},
   "outputs": [],
   "source": [
    "exp.info()"
   ]
  },
  {
   "cell_type": "code",
   "execution_count": 5,
   "metadata": {
    "pycharm": {
     "name": "#%%\n"
    },
    "scrolled": true
   },
   "outputs": [
    {
     "name": "stderr",
     "output_type": "stream",
     "text": [
      "2023-11-07 16:34:13,519 fedbiomed INFO - Sampled nodes in round 0 ['node_56066d82-ae6e-411b-a06b-8eec48f17acd', 'node_01f09341-906f-4cc9-81c7-0bd9882c5c15']\n",
      "2023-11-07 16:34:13,525 fedbiomed INFO - \u001b[1mSending request\u001b[0m \n",
      "\t\t\t\t\t\u001b[1m To\u001b[0m: node_56066d82-ae6e-411b-a06b-8eec48f17acd \n",
      "\t\t\t\t\t\u001b[1m Request: \u001b[0m: TRAIN\n",
      " -----------------------------------------------------------------\n",
      "2023-11-07 16:34:13,526 fedbiomed INFO - \u001b[1mSending request\u001b[0m \n",
      "\t\t\t\t\t\u001b[1m To\u001b[0m: node_01f09341-906f-4cc9-81c7-0bd9882c5c15 \n",
      "\t\t\t\t\t\u001b[1m Request: \u001b[0m: TRAIN\n",
      " -----------------------------------------------------------------\n",
      "2023-11-07 16:34:13,655 fedbiomed DEBUG - Node: node_56066d82-ae6e-411b-a06b-8eec48f17acd polling for the tasks\n",
      "2023-11-07 16:34:13,671 fedbiomed DEBUG - Node: node_01f09341-906f-4cc9-81c7-0bd9882c5c15 polling for the tasks\n",
      "2023-11-07 16:34:13,705 fedbiomed INFO - \u001b[1mWARNING\u001b[0m\n",
      "\t\t\t\t\t\u001b[1m NODE\u001b[0m node_56066d82-ae6e-411b-a06b-8eec48f17acd\n",
      "\t\t\t\t\t\u001b[1m MESSAGE:\u001b[0m There is no validation activated for the round. Please set flag for `test_on_global_updates`, `test_on_local_updates`, or both. Splitting dataset for validation will be ignored\u001b[0m\n",
      "-----------------------------------------------------------------\n",
      "2023-11-07 16:34:13,720 fedbiomed INFO - \u001b[1mWARNING\u001b[0m\n",
      "\t\t\t\t\t\u001b[1m NODE\u001b[0m node_01f09341-906f-4cc9-81c7-0bd9882c5c15\n",
      "\t\t\t\t\t\u001b[1m MESSAGE:\u001b[0m There is no validation activated for the round. Please set flag for `test_on_global_updates`, `test_on_local_updates`, or both. Splitting dataset for validation will be ignored\u001b[0m\n",
      "-----------------------------------------------------------------\n",
      "2023-11-07 16:34:13,967 fedbiomed INFO - \u001b[1mTRAINING\u001b[0m \n",
      "\t\t\t\t\t NODE_ID: node_01f09341-906f-4cc9-81c7-0bd9882c5c15 \n",
      "\t\t\t\t\t Round 1 Epoch: 1 | Iteration: 1/100 (1%) | Samples: 48/4800\n",
      " \t\t\t\t\t Loss: \u001b[1m2.292134\u001b[0m \n",
      "\t\t\t\t\t ---------\n",
      "2023-11-07 16:34:13,985 fedbiomed INFO - \u001b[1mTRAINING\u001b[0m \n",
      "\t\t\t\t\t NODE_ID: node_56066d82-ae6e-411b-a06b-8eec48f17acd \n",
      "\t\t\t\t\t Round 1 Epoch: 1 | Iteration: 1/100 (1%) | Samples: 48/4800\n",
      " \t\t\t\t\t Loss: \u001b[1m2.304912\u001b[0m \n",
      "\t\t\t\t\t ---------\n",
      "2023-11-07 16:34:15,036 fedbiomed INFO - \u001b[1mTRAINING\u001b[0m \n",
      "\t\t\t\t\t NODE_ID: node_01f09341-906f-4cc9-81c7-0bd9882c5c15 \n",
      "\t\t\t\t\t Round 1 Epoch: 1 | Iteration: 10/100 (10%) | Samples: 480/4800\n",
      " \t\t\t\t\t Loss: \u001b[1m1.474575\u001b[0m \n",
      "\t\t\t\t\t ---------\n",
      "2023-11-07 16:34:15,099 fedbiomed INFO - \u001b[1mTRAINING\u001b[0m \n",
      "\t\t\t\t\t NODE_ID: node_56066d82-ae6e-411b-a06b-8eec48f17acd \n",
      "\t\t\t\t\t Round 1 Epoch: 1 | Iteration: 10/100 (10%) | Samples: 480/4800\n",
      " \t\t\t\t\t Loss: \u001b[1m1.401235\u001b[0m \n",
      "\t\t\t\t\t ---------\n",
      "2023-11-07 16:34:16,427 fedbiomed INFO - \u001b[1mTRAINING\u001b[0m \n",
      "\t\t\t\t\t NODE_ID: node_01f09341-906f-4cc9-81c7-0bd9882c5c15 \n",
      "\t\t\t\t\t Round 1 Epoch: 1 | Iteration: 20/100 (20%) | Samples: 960/4800\n",
      " \t\t\t\t\t Loss: \u001b[1m1.050104\u001b[0m \n",
      "\t\t\t\t\t ---------\n",
      "2023-11-07 16:34:16,558 fedbiomed INFO - \u001b[1mTRAINING\u001b[0m \n",
      "\t\t\t\t\t NODE_ID: node_56066d82-ae6e-411b-a06b-8eec48f17acd \n",
      "\t\t\t\t\t Round 1 Epoch: 1 | Iteration: 20/100 (20%) | Samples: 960/4800\n",
      " \t\t\t\t\t Loss: \u001b[1m1.049037\u001b[0m \n",
      "\t\t\t\t\t ---------\n",
      "2023-11-07 16:34:17,792 fedbiomed INFO - \u001b[1mTRAINING\u001b[0m \n",
      "\t\t\t\t\t NODE_ID: node_01f09341-906f-4cc9-81c7-0bd9882c5c15 \n",
      "\t\t\t\t\t Round 1 Epoch: 1 | Iteration: 30/100 (30%) | Samples: 1440/4800\n",
      " \t\t\t\t\t Loss: \u001b[1m0.776573\u001b[0m \n",
      "\t\t\t\t\t ---------\n",
      "2023-11-07 16:34:17,931 fedbiomed INFO - \u001b[1mTRAINING\u001b[0m \n",
      "\t\t\t\t\t NODE_ID: node_56066d82-ae6e-411b-a06b-8eec48f17acd \n",
      "\t\t\t\t\t Round 1 Epoch: 1 | Iteration: 30/100 (30%) | Samples: 1440/4800\n",
      " \t\t\t\t\t Loss: \u001b[1m0.868114\u001b[0m \n",
      "\t\t\t\t\t ---------\n",
      "2023-11-07 16:34:18,805 fedbiomed INFO - \u001b[1mTRAINING\u001b[0m \n",
      "\t\t\t\t\t NODE_ID: node_01f09341-906f-4cc9-81c7-0bd9882c5c15 \n",
      "\t\t\t\t\t Round 1 Epoch: 1 | Iteration: 40/100 (40%) | Samples: 1920/4800\n",
      " \t\t\t\t\t Loss: \u001b[1m1.013514\u001b[0m \n",
      "\t\t\t\t\t ---------\n",
      "2023-11-07 16:34:19,122 fedbiomed INFO - \u001b[1mTRAINING\u001b[0m \n",
      "\t\t\t\t\t NODE_ID: node_56066d82-ae6e-411b-a06b-8eec48f17acd \n",
      "\t\t\t\t\t Round 1 Epoch: 1 | Iteration: 40/100 (40%) | Samples: 1920/4800\n",
      " \t\t\t\t\t Loss: \u001b[1m0.906416\u001b[0m \n",
      "\t\t\t\t\t ---------\n",
      "2023-11-07 16:34:20,688 fedbiomed INFO - \u001b[1mTRAINING\u001b[0m \n",
      "\t\t\t\t\t NODE_ID: node_56066d82-ae6e-411b-a06b-8eec48f17acd \n",
      "\t\t\t\t\t Round 1 Epoch: 1 | Iteration: 50/100 (50%) | Samples: 2400/4800\n",
      " \t\t\t\t\t Loss: \u001b[1m0.746562\u001b[0m \n",
      "\t\t\t\t\t ---------\n",
      "2023-11-07 16:34:20,772 fedbiomed INFO - \u001b[1mTRAINING\u001b[0m \n",
      "\t\t\t\t\t NODE_ID: node_01f09341-906f-4cc9-81c7-0bd9882c5c15 \n",
      "\t\t\t\t\t Round 1 Epoch: 1 | Iteration: 50/100 (50%) | Samples: 2400/4800\n",
      " \t\t\t\t\t Loss: \u001b[1m0.557623\u001b[0m \n",
      "\t\t\t\t\t ---------\n",
      "2023-11-07 16:34:22,687 fedbiomed INFO - \u001b[1mTRAINING\u001b[0m \n",
      "\t\t\t\t\t NODE_ID: node_56066d82-ae6e-411b-a06b-8eec48f17acd \n",
      "\t\t\t\t\t Round 1 Epoch: 1 | Iteration: 60/100 (60%) | Samples: 2880/4800\n",
      " \t\t\t\t\t Loss: \u001b[1m0.338347\u001b[0m \n",
      "\t\t\t\t\t ---------\n",
      "2023-11-07 16:34:22,825 fedbiomed INFO - \u001b[1mTRAINING\u001b[0m \n",
      "\t\t\t\t\t NODE_ID: node_01f09341-906f-4cc9-81c7-0bd9882c5c15 \n",
      "\t\t\t\t\t Round 1 Epoch: 1 | Iteration: 60/100 (60%) | Samples: 2880/4800\n",
      " \t\t\t\t\t Loss: \u001b[1m0.318767\u001b[0m \n",
      "\t\t\t\t\t ---------\n",
      "2023-11-07 16:34:24,667 fedbiomed INFO - \u001b[1mTRAINING\u001b[0m \n",
      "\t\t\t\t\t NODE_ID: node_01f09341-906f-4cc9-81c7-0bd9882c5c15 \n",
      "\t\t\t\t\t Round 1 Epoch: 1 | Iteration: 70/100 (70%) | Samples: 3360/4800\n",
      " \t\t\t\t\t Loss: \u001b[1m0.408889\u001b[0m \n",
      "\t\t\t\t\t ---------\n",
      "2023-11-07 16:34:24,764 fedbiomed INFO - \u001b[1mTRAINING\u001b[0m \n",
      "\t\t\t\t\t NODE_ID: node_56066d82-ae6e-411b-a06b-8eec48f17acd \n",
      "\t\t\t\t\t Round 1 Epoch: 1 | Iteration: 70/100 (70%) | Samples: 3360/4800\n",
      " \t\t\t\t\t Loss: \u001b[1m0.460965\u001b[0m \n",
      "\t\t\t\t\t ---------\n",
      "2023-11-07 16:34:26,572 fedbiomed INFO - \u001b[1mTRAINING\u001b[0m \n",
      "\t\t\t\t\t NODE_ID: node_56066d82-ae6e-411b-a06b-8eec48f17acd \n",
      "\t\t\t\t\t Round 1 Epoch: 1 | Iteration: 80/100 (80%) | Samples: 3840/4800\n",
      " \t\t\t\t\t Loss: \u001b[1m0.368352\u001b[0m \n",
      "\t\t\t\t\t ---------\n",
      "2023-11-07 16:34:26,866 fedbiomed INFO - \u001b[1mTRAINING\u001b[0m \n",
      "\t\t\t\t\t NODE_ID: node_01f09341-906f-4cc9-81c7-0bd9882c5c15 \n",
      "\t\t\t\t\t Round 1 Epoch: 1 | Iteration: 80/100 (80%) | Samples: 3840/4800\n",
      " \t\t\t\t\t Loss: \u001b[1m0.332387\u001b[0m \n",
      "\t\t\t\t\t ---------\n",
      "2023-11-07 16:34:28,884 fedbiomed INFO - \u001b[1mTRAINING\u001b[0m \n",
      "\t\t\t\t\t NODE_ID: node_01f09341-906f-4cc9-81c7-0bd9882c5c15 \n",
      "\t\t\t\t\t Round 1 Epoch: 1 | Iteration: 90/100 (90%) | Samples: 4320/4800\n",
      " \t\t\t\t\t Loss: \u001b[1m0.409627\u001b[0m \n",
      "\t\t\t\t\t ---------\n",
      "2023-11-07 16:34:29,061 fedbiomed INFO - \u001b[1mTRAINING\u001b[0m \n",
      "\t\t\t\t\t NODE_ID: node_56066d82-ae6e-411b-a06b-8eec48f17acd \n",
      "\t\t\t\t\t Round 1 Epoch: 1 | Iteration: 90/100 (90%) | Samples: 4320/4800\n",
      " \t\t\t\t\t Loss: \u001b[1m0.683974\u001b[0m \n",
      "\t\t\t\t\t ---------\n",
      "2023-11-07 16:34:31,127 fedbiomed INFO - \u001b[1mTRAINING\u001b[0m \n",
      "\t\t\t\t\t NODE_ID: node_01f09341-906f-4cc9-81c7-0bd9882c5c15 \n",
      "\t\t\t\t\t Round 1 Epoch: 1 | Iteration: 100/100 (100%) | Samples: 4800/4800\n",
      " \t\t\t\t\t Loss: \u001b[1m0.340456\u001b[0m \n",
      "\t\t\t\t\t ---------\n",
      "2023-11-07 16:34:31,450 fedbiomed INFO - \u001b[1mTRAINING\u001b[0m \n",
      "\t\t\t\t\t NODE_ID: node_56066d82-ae6e-411b-a06b-8eec48f17acd \n",
      "\t\t\t\t\t Round 1 Epoch: 1 | Iteration: 100/100 (100%) | Samples: 4800/4800\n",
      " \t\t\t\t\t Loss: \u001b[1m0.505608\u001b[0m \n",
      "\t\t\t\t\t ---------\n",
      "2023-11-07 16:34:31,798 fedbiomed INFO - Nodes that successfully reply in round 0 ['node_56066d82-ae6e-411b-a06b-8eec48f17acd', 'node_01f09341-906f-4cc9-81c7-0bd9882c5c15']\n",
      "2023-11-07 16:34:31,889 fedbiomed INFO - Saved aggregated params for round 0 in /home/scansiz/projects/fedbiomed-dev/fedbiomed/var/experiments/Experiment_0093/aggregated_params_31e1d6bf-4dd7-452c-80c4-9acda01e4baf.mpk\n",
      "2023-11-07 16:34:31,891 fedbiomed INFO - Sampled nodes in round 1 ['node_56066d82-ae6e-411b-a06b-8eec48f17acd', 'node_01f09341-906f-4cc9-81c7-0bd9882c5c15']\n",
      "2023-11-07 16:34:31,900 fedbiomed INFO - \u001b[1mSending request\u001b[0m \n",
      "\t\t\t\t\t\u001b[1m To\u001b[0m: node_56066d82-ae6e-411b-a06b-8eec48f17acd \n",
      "\t\t\t\t\t\u001b[1m Request: \u001b[0m: TRAIN\n",
      " -----------------------------------------------------------------\n",
      "2023-11-07 16:34:31,901 fedbiomed INFO - \u001b[1mSending request\u001b[0m \n",
      "\t\t\t\t\t\u001b[1m To\u001b[0m: node_01f09341-906f-4cc9-81c7-0bd9882c5c15 \n",
      "\t\t\t\t\t\u001b[1m Request: \u001b[0m: TRAIN\n",
      " -----------------------------------------------------------------\n",
      "2023-11-07 16:34:31,982 fedbiomed DEBUG - Node: node_56066d82-ae6e-411b-a06b-8eec48f17acd polling for the tasks\n",
      "2023-11-07 16:34:32,012 fedbiomed DEBUG - Node: node_01f09341-906f-4cc9-81c7-0bd9882c5c15 polling for the tasks\n",
      "2023-11-07 16:34:32,053 fedbiomed INFO - \u001b[1mWARNING\u001b[0m\n",
      "\t\t\t\t\t\u001b[1m NODE\u001b[0m node_56066d82-ae6e-411b-a06b-8eec48f17acd\n",
      "\t\t\t\t\t\u001b[1m MESSAGE:\u001b[0m There is no validation activated for the round. Please set flag for `test_on_global_updates`, `test_on_local_updates`, or both. Splitting dataset for validation will be ignored\u001b[0m\n",
      "-----------------------------------------------------------------\n"
     ]
    },
    {
     "name": "stderr",
     "output_type": "stream",
     "text": [
      "2023-11-07 16:34:32,070 fedbiomed INFO - \u001b[1mWARNING\u001b[0m\n",
      "\t\t\t\t\t\u001b[1m NODE\u001b[0m node_01f09341-906f-4cc9-81c7-0bd9882c5c15\n",
      "\t\t\t\t\t\u001b[1m MESSAGE:\u001b[0m There is no validation activated for the round. Please set flag for `test_on_global_updates`, `test_on_local_updates`, or both. Splitting dataset for validation will be ignored\u001b[0m\n",
      "-----------------------------------------------------------------\n",
      "2023-11-07 16:34:32,733 fedbiomed INFO - \u001b[1mTRAINING\u001b[0m \n",
      "\t\t\t\t\t NODE_ID: node_01f09341-906f-4cc9-81c7-0bd9882c5c15 \n",
      "\t\t\t\t\t Round 2 Epoch: 1 | Iteration: 1/100 (1%) | Samples: 48/4800\n",
      " \t\t\t\t\t Loss: \u001b[1m0.318490\u001b[0m \n",
      "\t\t\t\t\t ---------\n",
      "2023-11-07 16:34:32,916 fedbiomed INFO - \u001b[1mTRAINING\u001b[0m \n",
      "\t\t\t\t\t NODE_ID: node_56066d82-ae6e-411b-a06b-8eec48f17acd \n",
      "\t\t\t\t\t Round 2 Epoch: 1 | Iteration: 1/100 (1%) | Samples: 48/4800\n",
      " \t\t\t\t\t Loss: \u001b[1m0.434122\u001b[0m \n",
      "\t\t\t\t\t ---------\n",
      "2023-11-07 16:34:34,407 fedbiomed INFO - \u001b[1mTRAINING\u001b[0m \n",
      "\t\t\t\t\t NODE_ID: node_56066d82-ae6e-411b-a06b-8eec48f17acd \n",
      "\t\t\t\t\t Round 2 Epoch: 1 | Iteration: 10/100 (10%) | Samples: 480/4800\n",
      " \t\t\t\t\t Loss: \u001b[1m0.148475\u001b[0m \n",
      "\t\t\t\t\t ---------\n",
      "2023-11-07 16:34:35,129 fedbiomed INFO - \u001b[1mTRAINING\u001b[0m \n",
      "\t\t\t\t\t NODE_ID: node_01f09341-906f-4cc9-81c7-0bd9882c5c15 \n",
      "\t\t\t\t\t Round 2 Epoch: 1 | Iteration: 10/100 (10%) | Samples: 480/4800\n",
      " \t\t\t\t\t Loss: \u001b[1m0.551557\u001b[0m \n",
      "\t\t\t\t\t ---------\n",
      "2023-11-07 16:34:37,946 fedbiomed INFO - \u001b[1mTRAINING\u001b[0m \n",
      "\t\t\t\t\t NODE_ID: node_56066d82-ae6e-411b-a06b-8eec48f17acd \n",
      "\t\t\t\t\t Round 2 Epoch: 1 | Iteration: 20/100 (20%) | Samples: 960/4800\n",
      " \t\t\t\t\t Loss: \u001b[1m0.319373\u001b[0m \n",
      "\t\t\t\t\t ---------\n",
      "2023-11-07 16:34:38,081 fedbiomed INFO - \u001b[1mTRAINING\u001b[0m \n",
      "\t\t\t\t\t NODE_ID: node_01f09341-906f-4cc9-81c7-0bd9882c5c15 \n",
      "\t\t\t\t\t Round 2 Epoch: 1 | Iteration: 20/100 (20%) | Samples: 960/4800\n",
      " \t\t\t\t\t Loss: \u001b[1m0.305902\u001b[0m \n",
      "\t\t\t\t\t ---------\n",
      "2023-11-07 16:34:40,505 fedbiomed INFO - \u001b[1mTRAINING\u001b[0m \n",
      "\t\t\t\t\t NODE_ID: node_01f09341-906f-4cc9-81c7-0bd9882c5c15 \n",
      "\t\t\t\t\t Round 2 Epoch: 1 | Iteration: 30/100 (30%) | Samples: 1440/4800\n",
      " \t\t\t\t\t Loss: \u001b[1m0.338514\u001b[0m \n",
      "\t\t\t\t\t ---------\n",
      "2023-11-07 16:34:40,902 fedbiomed INFO - \u001b[1mTRAINING\u001b[0m \n",
      "\t\t\t\t\t NODE_ID: node_56066d82-ae6e-411b-a06b-8eec48f17acd \n",
      "\t\t\t\t\t Round 2 Epoch: 1 | Iteration: 30/100 (30%) | Samples: 1440/4800\n",
      " \t\t\t\t\t Loss: \u001b[1m0.408268\u001b[0m \n",
      "\t\t\t\t\t ---------\n",
      "2023-11-07 16:34:42,443 fedbiomed INFO - \u001b[1mTRAINING\u001b[0m \n",
      "\t\t\t\t\t NODE_ID: node_01f09341-906f-4cc9-81c7-0bd9882c5c15 \n",
      "\t\t\t\t\t Round 2 Epoch: 1 | Iteration: 40/100 (40%) | Samples: 1920/4800\n",
      " \t\t\t\t\t Loss: \u001b[1m0.410260\u001b[0m \n",
      "\t\t\t\t\t ---------\n",
      "2023-11-07 16:34:42,716 fedbiomed INFO - \u001b[1mTRAINING\u001b[0m \n",
      "\t\t\t\t\t NODE_ID: node_56066d82-ae6e-411b-a06b-8eec48f17acd \n",
      "\t\t\t\t\t Round 2 Epoch: 1 | Iteration: 40/100 (40%) | Samples: 1920/4800\n",
      " \t\t\t\t\t Loss: \u001b[1m0.270550\u001b[0m \n",
      "\t\t\t\t\t ---------\n",
      "2023-11-07 16:34:44,467 fedbiomed INFO - \u001b[1mTRAINING\u001b[0m \n",
      "\t\t\t\t\t NODE_ID: node_56066d82-ae6e-411b-a06b-8eec48f17acd \n",
      "\t\t\t\t\t Round 2 Epoch: 1 | Iteration: 50/100 (50%) | Samples: 2400/4800\n",
      " \t\t\t\t\t Loss: \u001b[1m0.323617\u001b[0m \n",
      "\t\t\t\t\t ---------\n",
      "2023-11-07 16:34:44,761 fedbiomed INFO - \u001b[1mTRAINING\u001b[0m \n",
      "\t\t\t\t\t NODE_ID: node_01f09341-906f-4cc9-81c7-0bd9882c5c15 \n",
      "\t\t\t\t\t Round 2 Epoch: 1 | Iteration: 50/100 (50%) | Samples: 2400/4800\n",
      " \t\t\t\t\t Loss: \u001b[1m0.274233\u001b[0m \n",
      "\t\t\t\t\t ---------\n",
      "2023-11-07 16:34:46,014 fedbiomed INFO - \u001b[1mTRAINING\u001b[0m \n",
      "\t\t\t\t\t NODE_ID: node_56066d82-ae6e-411b-a06b-8eec48f17acd \n",
      "\t\t\t\t\t Round 2 Epoch: 1 | Iteration: 60/100 (60%) | Samples: 2880/4800\n",
      " \t\t\t\t\t Loss: \u001b[1m0.299117\u001b[0m \n",
      "\t\t\t\t\t ---------\n",
      "2023-11-07 16:34:46,668 fedbiomed INFO - \u001b[1mTRAINING\u001b[0m \n",
      "\t\t\t\t\t NODE_ID: node_01f09341-906f-4cc9-81c7-0bd9882c5c15 \n",
      "\t\t\t\t\t Round 2 Epoch: 1 | Iteration: 60/100 (60%) | Samples: 2880/4800\n",
      " \t\t\t\t\t Loss: \u001b[1m0.240333\u001b[0m \n",
      "\t\t\t\t\t ---------\n",
      "2023-11-07 16:34:47,859 fedbiomed INFO - \u001b[1mTRAINING\u001b[0m \n",
      "\t\t\t\t\t NODE_ID: node_56066d82-ae6e-411b-a06b-8eec48f17acd \n",
      "\t\t\t\t\t Round 2 Epoch: 1 | Iteration: 70/100 (70%) | Samples: 3360/4800\n",
      " \t\t\t\t\t Loss: \u001b[1m0.164586\u001b[0m \n",
      "\t\t\t\t\t ---------\n",
      "2023-11-07 16:34:48,444 fedbiomed INFO - \u001b[1mTRAINING\u001b[0m \n",
      "\t\t\t\t\t NODE_ID: node_01f09341-906f-4cc9-81c7-0bd9882c5c15 \n",
      "\t\t\t\t\t Round 2 Epoch: 1 | Iteration: 70/100 (70%) | Samples: 3360/4800\n",
      " \t\t\t\t\t Loss: \u001b[1m0.554412\u001b[0m \n",
      "\t\t\t\t\t ---------\n",
      "2023-11-07 16:34:50,156 fedbiomed INFO - \u001b[1mTRAINING\u001b[0m \n",
      "\t\t\t\t\t NODE_ID: node_01f09341-906f-4cc9-81c7-0bd9882c5c15 \n",
      "\t\t\t\t\t Round 2 Epoch: 1 | Iteration: 80/100 (80%) | Samples: 3840/4800\n",
      " \t\t\t\t\t Loss: \u001b[1m0.278566\u001b[0m \n",
      "\t\t\t\t\t ---------\n",
      "2023-11-07 16:34:50,294 fedbiomed INFO - \u001b[1mTRAINING\u001b[0m \n",
      "\t\t\t\t\t NODE_ID: node_56066d82-ae6e-411b-a06b-8eec48f17acd \n",
      "\t\t\t\t\t Round 2 Epoch: 1 | Iteration: 80/100 (80%) | Samples: 3840/4800\n",
      " \t\t\t\t\t Loss: \u001b[1m0.264195\u001b[0m \n",
      "\t\t\t\t\t ---------\n",
      "2023-11-07 16:34:52,442 fedbiomed INFO - \u001b[1mTRAINING\u001b[0m \n",
      "\t\t\t\t\t NODE_ID: node_56066d82-ae6e-411b-a06b-8eec48f17acd \n",
      "\t\t\t\t\t Round 2 Epoch: 1 | Iteration: 90/100 (90%) | Samples: 4320/4800\n",
      " \t\t\t\t\t Loss: \u001b[1m0.174202\u001b[0m \n",
      "\t\t\t\t\t ---------\n",
      "2023-11-07 16:34:52,622 fedbiomed INFO - \u001b[1mTRAINING\u001b[0m \n",
      "\t\t\t\t\t NODE_ID: node_01f09341-906f-4cc9-81c7-0bd9882c5c15 \n",
      "\t\t\t\t\t Round 2 Epoch: 1 | Iteration: 90/100 (90%) | Samples: 4320/4800\n",
      " \t\t\t\t\t Loss: \u001b[1m0.235861\u001b[0m \n",
      "\t\t\t\t\t ---------\n",
      "2023-11-07 16:34:55,351 fedbiomed INFO - \u001b[1mTRAINING\u001b[0m \n",
      "\t\t\t\t\t NODE_ID: node_56066d82-ae6e-411b-a06b-8eec48f17acd \n",
      "\t\t\t\t\t Round 2 Epoch: 1 | Iteration: 100/100 (100%) | Samples: 4800/4800\n",
      " \t\t\t\t\t Loss: \u001b[1m0.304883\u001b[0m \n",
      "\t\t\t\t\t ---------\n",
      "2023-11-07 16:34:55,651 fedbiomed INFO - \u001b[1mTRAINING\u001b[0m \n",
      "\t\t\t\t\t NODE_ID: node_01f09341-906f-4cc9-81c7-0bd9882c5c15 \n",
      "\t\t\t\t\t Round 2 Epoch: 1 | Iteration: 100/100 (100%) | Samples: 4800/4800\n",
      " \t\t\t\t\t Loss: \u001b[1m0.122634\u001b[0m \n",
      "\t\t\t\t\t ---------\n",
      "2023-11-07 16:34:56,319 fedbiomed INFO - Nodes that successfully reply in round 1 ['node_56066d82-ae6e-411b-a06b-8eec48f17acd', 'node_01f09341-906f-4cc9-81c7-0bd9882c5c15']\n",
      "2023-11-07 16:34:56,382 fedbiomed INFO - Saved aggregated params for round 1 in /home/scansiz/projects/fedbiomed-dev/fedbiomed/var/experiments/Experiment_0093/aggregated_params_1d04379f-fc03-4bdf-8275-be595edcc0c7.mpk\n"
     ]
    },
    {
     "data": {
      "text/plain": [
       "2"
      ]
     },
     "execution_count": 5,
     "metadata": {},
     "output_type": "execute_result"
    },
    {
     "name": "stderr",
     "output_type": "stream",
     "text": [
      "2023-11-07 16:35:31,986 fedbiomed DEBUG - Node: node_56066d82-ae6e-411b-a06b-8eec48f17acd polling for the tasks\n",
      "2023-11-07 16:35:32,016 fedbiomed DEBUG - Node: node_01f09341-906f-4cc9-81c7-0bd9882c5c15 polling for the tasks\n",
      "2023-11-07 16:35:36,001 fedbiomed DEBUG - Node: node_56066d82-ae6e-411b-a06b-8eec48f17acd polling for the tasks\n",
      "2023-11-07 16:35:38,023 fedbiomed DEBUG - Node: node_01f09341-906f-4cc9-81c7-0bd9882c5c15 polling for the tasks\n"
     ]
    }
   ],
   "source": [
    "exp.run()"
   ]
  },
  {
   "cell_type": "code",
   "execution_count": null,
   "metadata": {},
   "outputs": [],
   "source": [
    "await exp._reqs._grpc_server._agent_store._node_agents[\"node_01f09341-906f-4cc9-81c7-0bd9882c5c15\"].status"
   ]
  },
  {
   "cell_type": "markdown",
   "metadata": {},
   "source": [
    "Local training results for each round and each node are available via `exp.training_replies()` (index 0 to (`rounds` - 1) ).\n",
    "\n",
    "For example you can view the training results for the last round below.\n",
    "\n",
    "Different timings (in seconds) are reported for each dataset of a node participating in a round :\n",
    "- `rtime_training` real time (clock time) spent in the training function on the node\n",
    "- `ptime_training` process time (user and system CPU) spent in the training function on the node\n",
    "- `rtime_total` real time (clock time) spent in the researcher between sending the request and handling the response, at the `Job()` layer"
   ]
  },
  {
   "cell_type": "code",
   "execution_count": null,
   "metadata": {
    "pycharm": {
     "name": "#%%\n"
    },
    "scrolled": true
   },
   "outputs": [],
   "source": [
    "print(\"\\nList the training rounds : \", exp.training_replies().keys())\n",
    "\n",
    "print(\"\\nList the nodes for the last training round and their timings : \")\n",
    "round_data = exp.training_replies()[rounds - 1].data()\n",
    "for c in range(len(round_data)):\n",
    "    print(\"\\t- {id} :\\\n",
    "    \\n\\t\\trtime_training={rtraining:.2f} seconds\\\n",
    "    \\n\\t\\tptime_training={ptraining:.2f} seconds\\\n",
    "    \\n\\t\\trtime_total={rtotal:.2f} seconds\".format(id = round_data[c]['node_id'],\n",
    "        rtraining = round_data[c]['timing']['rtime_training'],\n",
    "        ptraining = round_data[c]['timing']['ptime_training'],\n",
    "        rtotal = round_data[c]['timing']['rtime_total']))\n",
    "print('\\n')\n",
    "    \n",
    "exp.training_replies()[rounds - 1].dataframe()"
   ]
  },
  {
   "cell_type": "markdown",
   "metadata": {},
   "source": [
    "Federated parameters for each round are available via `exp.aggregated_params()` (index 0 to (`rounds` - 1) ).\n",
    "\n",
    "For example you can view the federated parameters for the last round of the experiment :"
   ]
  },
  {
   "cell_type": "code",
   "execution_count": null,
   "metadata": {},
   "outputs": [],
   "source": [
    "print(\"\\nList the training rounds : \", exp.aggregated_params().keys())\n",
    "\n",
    "print(\"\\nAccess the federated params for the last training round :\")\n",
    "print(\"\\t- params_path: \", exp.aggregated_params()[rounds - 1]['params_path'])\n",
    "print(\"\\t- parameter data: \", exp.aggregated_params()[rounds - 1]['params'].keys())\n"
   ]
  },
  {
   "cell_type": "markdown",
   "metadata": {
    "pycharm": {
     "name": "#%% md\n"
    }
   },
   "source": [
    "Feel free to run other sample notebooks or try your own models :D"
   ]
  }
 ],
 "metadata": {
  "kernelspec": {
   "display_name": "Python 3 (ipykernel)",
   "language": "python",
   "name": "python3"
  },
  "language_info": {
   "codemirror_mode": {
    "name": "ipython",
    "version": 3
   },
   "file_extension": ".py",
   "mimetype": "text/x-python",
   "name": "python",
   "nbconvert_exporter": "python",
   "pygments_lexer": "ipython3",
   "version": "3.10.12"
  }
 },
 "nbformat": 4,
 "nbformat_minor": 4
}
