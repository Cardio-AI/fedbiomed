{
 "cells": [
  {
   "cell_type": "markdown",
   "metadata": {},
   "source": [
    "# Fed-BioMed Researcher base example"
   ]
  },
  {
   "cell_type": "markdown",
   "metadata": {},
   "source": [
    "Use for developing (autoreloads changes made across packages)"
   ]
  },
  {
   "cell_type": "code",
   "execution_count": null,
   "metadata": {},
   "outputs": [],
   "source": [
    "%load_ext autoreload\n",
    "%autoreload 2"
   ]
  },
  {
   "cell_type": "code",
   "execution_count": 1,
   "metadata": {
    "scrolled": true
   },
   "outputs": [
    {
     "name": "stderr",
     "output_type": "stream",
     "text": [
      "2023-11-17 11:55:06,398 fedbiomed INFO - Starting researcher service...\n",
      "2023-11-17 11:55:06,399 fedbiomed INFO - Waiting 3s for nodes to connect...\n",
      "2023-11-17 11:55:07,241 fedbiomed DEBUG - Node: node_d8872b90-10fc-4fe9-9e0e-250778d4d6c4 polling for the tasks\n",
      "2023-11-17 11:55:09,409 fedbiomed DEBUG - Node: node_d8872b90-10fc-4fe9-9e0e-250778d4d6c4 polling for the tasks\n",
      "2023-11-17 11:55:09,418 fedbiomed INFO - \n",
      " Node: node_d8872b90-10fc-4fe9-9e0e-250778d4d6c4 | Number of Datasets: 1 \n",
      "+--------+-------------+------------------------+----------------+--------------------+----------------------------------------------+----------------------+\n",
      "| name   | data_type   | tags                   | description    | shape              | dataset_id                                   | dataset_parameters   |\n",
      "+========+=============+========================+================+====================+==============================================+======================+\n",
      "| MNIST  | default     | ['#MNIST', '#dataset'] | MNIST database | [60000, 1, 28, 28] | dataset_837496a7-dddc-4265-8f9b-5f2e2d4674b5 |                      |\n",
      "+--------+-------------+------------------------+----------------+--------------------+----------------------------------------------+----------------------+\n",
      "\n"
     ]
    },
    {
     "data": {
      "text/plain": [
       "{'node_d8872b90-10fc-4fe9-9e0e-250778d4d6c4': [{'name': 'MNIST',\n",
       "   'data_type': 'default',\n",
       "   'tags': ['#MNIST', '#dataset'],\n",
       "   'description': 'MNIST database',\n",
       "   'shape': [60000, 1, 28, 28],\n",
       "   'dataset_id': 'dataset_837496a7-dddc-4265-8f9b-5f2e2d4674b5',\n",
       "   'dataset_parameters': None}]}"
      ]
     },
     "execution_count": 1,
     "metadata": {},
     "output_type": "execute_result"
    }
   ],
   "source": [
    "from fedbiomed.researcher.requests import Requests \n",
    "req = Requests()\n",
    "req.list(verbose=True)\n"
   ]
  },
  {
   "cell_type": "code",
   "execution_count": 2,
   "metadata": {},
   "outputs": [
    {
     "name": "stderr",
     "output_type": "stream",
     "text": [
      "2023-11-17 11:55:09,451 fedbiomed DEBUG - Node: node_d8872b90-10fc-4fe9-9e0e-250778d4d6c4 polling for the tasks\n",
      "2023-11-17 11:55:09,452 fedbiomed INFO - Node selected for training -> node_d8872b90-10fc-4fe9-9e0e-250778d4d6c4\n"
     ]
    },
    {
     "data": {
      "text/plain": [
       "{'node_d8872b90-10fc-4fe9-9e0e-250778d4d6c4': [{'name': 'MNIST',\n",
       "   'data_type': 'default',\n",
       "   'tags': ['#MNIST', '#dataset'],\n",
       "   'description': 'MNIST database',\n",
       "   'shape': [60000, 1, 28, 28],\n",
       "   'dataset_id': 'dataset_837496a7-dddc-4265-8f9b-5f2e2d4674b5',\n",
       "   'dtypes': [],\n",
       "   'dataset_parameters': None}]}"
      ]
     },
     "execution_count": 2,
     "metadata": {},
     "output_type": "execute_result"
    }
   ],
   "source": [
    "req.search(tags=[])"
   ]
  },
  {
   "cell_type": "code",
   "execution_count": 11,
   "metadata": {
    "scrolled": true
   },
   "outputs": [
    {
     "name": "stderr",
     "output_type": "stream",
     "text": [
      "2023-11-17 11:57:33,791 fedbiomed DEBUG - Model file has been saved: /home/mvesin/GIT/fedbiomed/fedbiomed/var/tmp/tmp0wxrhlvk/model_c4c249fd-bb75-41ec-8b51-4f1e460acf1a.py\n",
      "2023-11-17 11:57:33,800 fedbiomed INFO - Node node_aea3f6a8-4b68-4791-96a2-0a956c181ba6 is in WAITING status. Server is waiting for receiving a request from this node to convert it as ACTIVE. Node will be updated as DISCONNECTED soon if no request received.\n",
      "2023-11-17 11:57:33,824 fedbiomed DEBUG - Node: node_d8872b90-10fc-4fe9-9e0e-250778d4d6c4 polling for the tasks\n",
      "2023-11-17 11:57:35,837 fedbiomed DEBUG - Node: node_aea3f6a8-4b68-4791-96a2-0a956c181ba6 polling for the tasks\n",
      "2023-11-17 11:57:35,856 fedbiomed DEBUG - Node: node_aea3f6a8-4b68-4791-96a2-0a956c181ba6 polling for the tasks\n"
     ]
    },
    {
     "data": {
      "text/plain": [
       "{'node_d8872b90-10fc-4fe9-9e0e-250778d4d6c4': True,\n",
       " 'node_aea3f6a8-4b68-4791-96a2-0a956c181ba6': True}"
      ]
     },
     "execution_count": 11,
     "metadata": {},
     "output_type": "execute_result"
    }
   ],
   "source": [
    "req.training_plan_approve(MyTrainingPlan, \"testTP\")"
   ]
  },
  {
   "cell_type": "code",
   "execution_count": null,
   "metadata": {},
   "outputs": [],
   "source": []
  },
  {
   "cell_type": "markdown",
   "metadata": {},
   "source": [
    "## Setting the node up\n",
    "It is necessary to previously configure a node:\n",
    "1. `./scripts/fedbiomed_run node add`\n",
    "  * Select option 2 (default) to add MNIST to the node\n",
    "  * Confirm default tags by hitting \"y\" and ENTER\n",
    "  * Pick the folder where MNIST is downloaded (this is due to a pytorch issue https://github.com/pytorch/vision/issues/3549)\n",
    "  * Data must have been added (if you get a warning saying that data must be unique is because it's been already added)\n",
    "  \n",
    "2. Check that your data has been added by executing `./scripts/fedbiomed_run node list`\n",
    "3. Run the node using `./scripts/fedbiomed_run node start`. Wait until you get `Starting task manager`. it means you are online."
   ]
  },
  {
   "cell_type": "markdown",
   "metadata": {},
   "source": [
    "## Define an experiment model and parameters\""
   ]
  },
  {
   "cell_type": "markdown",
   "metadata": {},
   "source": [
    "Declare a torch training plan MyTrainingPlan class to send for training on the node"
   ]
  },
  {
   "cell_type": "code",
   "execution_count": 3,
   "metadata": {},
   "outputs": [],
   "source": [
    "import torch\n",
    "import torch.nn as nn\n",
    "from fedbiomed.common.training_plans import TorchTrainingPlan\n",
    "from fedbiomed.common.data import DataManager\n",
    "from torchvision import datasets, transforms\n",
    "\n",
    "\n",
    "# Here we define the model to be used. \n",
    "# You can use any class name (here 'Net')\n",
    "class MyTrainingPlan(TorchTrainingPlan):\n",
    "    \n",
    "    # Defines and return model \n",
    "    def init_model(self, model_args):\n",
    "        return self.Net(model_args = model_args)\n",
    "    \n",
    "    # Defines and return optimizer\n",
    "    def init_optimizer(self, optimizer_args):\n",
    "        return torch.optim.Adam(self.model().parameters(), lr = optimizer_args[\"lr\"])\n",
    "    \n",
    "    # Declares and return dependencies\n",
    "    def init_dependencies(self):\n",
    "        deps = [\"from torchvision import datasets, transforms\"]\n",
    "        return deps\n",
    "    \n",
    "    class Net(nn.Module):\n",
    "        def __init__(self, model_args):\n",
    "            super().__init__()\n",
    "            self.conv1 = nn.Conv2d(1, 32, 3, 1)\n",
    "            self.conv2 = nn.Conv2d(32, 64, 3, 1)\n",
    "            self.dropout1 = nn.Dropout(0.25)\n",
    "            self.dropout2 = nn.Dropout(0.5)\n",
    "            self.fc1 = nn.Linear(9216, 128)\n",
    "            self.fc2 = nn.Linear(128, 10)\n",
    "\n",
    "        def forward(self, x):\n",
    "            x = self.conv1(x)\n",
    "            x = F.relu(x)\n",
    "            x = self.conv2(x)\n",
    "            x = F.relu(x)\n",
    "            x = F.max_pool2d(x, 2)\n",
    "            x = self.dropout1(x)\n",
    "            x = torch.flatten(x, 1)\n",
    "            x = self.fc1(x)\n",
    "            x = F.relu(x)\n",
    "            x = self.dropout2(x)\n",
    "            x = self.fc2(x)\n",
    "\n",
    "\n",
    "            output = F.log_softmax(x, dim=1)\n",
    "            return output\n",
    "\n",
    "    def training_data(self):\n",
    "        # Custom torch Dataloader for MNIST data\n",
    "        transform = transforms.Compose([transforms.ToTensor(),\n",
    "        transforms.Normalize((0.1307,), (0.3081,))])\n",
    "        dataset1 = datasets.MNIST(self.dataset_path, train=True, download=False, transform=transform)\n",
    "        train_kwargs = { 'shuffle': True}\n",
    "        return DataManager(dataset=dataset1, **train_kwargs)\n",
    "    \n",
    "    def training_step(self, data, target):\n",
    "        output = self.model().forward(data)\n",
    "        loss   = torch.nn.functional.nll_loss(output, target)\n",
    "        return loss\n"
   ]
  },
  {
   "cell_type": "markdown",
   "metadata": {},
   "source": [
    "This group of arguments correspond respectively:\n",
    "* `model_args`: a dictionary with the arguments related to the model (e.g. number of layers, features, etc.). This will be passed to the model class on the node side.\n",
    "* `training_args`: a dictionary containing the arguments for the training routine (e.g. batch size, learning rate, epochs, etc.). This will be passed to the routine on the node side.\n",
    "\n",
    "**NOTE:** typos and/or lack of positional (required) arguments will raise error. 🤓"
   ]
  },
  {
   "cell_type": "code",
   "execution_count": 12,
   "metadata": {
    "pycharm": {
     "name": "#%%\n"
    }
   },
   "outputs": [],
   "source": [
    "model_args = {}\n",
    "\n",
    "training_args = {\n",
    "    'loader_args': { 'batch_size': 48, }, \n",
    "    'optimizer_args': {\n",
    "        \"lr\" : 1e-3\n",
    "    },\n",
    "    'epochs': 1, \n",
    "    'dry_run': False,  \n",
    "    'batch_maxnum': 100 # Fast pass for development : only use ( batch_maxnum * batch_size ) samples\n",
    "}"
   ]
  },
  {
   "cell_type": "markdown",
   "metadata": {},
   "source": [
    "## Declare and run the experiment\n",
    "\n",
    "- search nodes serving data for these `tags`, optionally filter on a list of node ID with `nodes`\n",
    "- run a round of local training on nodes with model defined in `model_path` + federation with `aggregator`\n",
    "- run for `round_limit` rounds, applying the `node_selection_strategy` between the rounds"
   ]
  },
  {
   "cell_type": "code",
   "execution_count": 13,
   "metadata": {
    "pycharm": {
     "name": "#%%\n"
    }
   },
   "outputs": [
    {
     "name": "stderr",
     "output_type": "stream",
     "text": [
      "2023-11-17 11:57:50,567 fedbiomed DEBUG - Node: node_d8872b90-10fc-4fe9-9e0e-250778d4d6c4 polling for the tasks\n",
      "2023-11-17 11:57:50,569 fedbiomed DEBUG - Node: node_aea3f6a8-4b68-4791-96a2-0a956c181ba6 polling for the tasks\n",
      "2023-11-17 11:57:50,570 fedbiomed INFO - Node selected for training -> node_d8872b90-10fc-4fe9-9e0e-250778d4d6c4\n",
      "2023-11-17 11:57:50,571 fedbiomed INFO - Node selected for training -> node_aea3f6a8-4b68-4791-96a2-0a956c181ba6\n",
      "2023-11-17 11:57:50,573 fedbiomed DEBUG - Model file has been saved: /home/mvesin/GIT/fedbiomed/fedbiomed/var/experiments/Experiment_0003/model_abb1574d-dc2c-443a-b06e-fdc0bc1fe27a.py\n",
      "Secure RNG turned off. This is perfectly fine for experimentation as it allows for much faster training performance, but remember to turn it on and retrain one last time before production with ``secure_mode`` turned on.\n",
      "2023-11-17 11:57:50,586 fedbiomed DEBUG - using native torch optimizer\n"
     ]
    }
   ],
   "source": [
    "from fedbiomed.researcher.experiment import Experiment\n",
    "from fedbiomed.researcher.aggregators.fedavg import FedAverage\n",
    "\n",
    "tags =  ['#MNIST', '#dataset']\n",
    "rounds = 2\n",
    "\n",
    "exp = Experiment(tags=tags,\n",
    "                 model_args=model_args,\n",
    "                 training_plan_class=MyTrainingPlan,\n",
    "                 training_args=training_args,\n",
    "                 round_limit=rounds,\n",
    "                 aggregator=FedAverage(),\n",
    "                 node_selection_strategy=None)"
   ]
  },
  {
   "cell_type": "markdown",
   "metadata": {
    "pycharm": {
     "name": "#%% md\n"
    }
   },
   "source": [
    "Let's start the experiment.\n",
    "\n",
    "By default, this function doesn't stop until all the `round_limit` rounds are done for all the nodes"
   ]
  },
  {
   "cell_type": "code",
   "execution_count": 14,
   "metadata": {},
   "outputs": [
    {
     "name": "stdout",
     "output_type": "stream",
     "text": [
      "Arguments             Values\n",
      "--------------------  ------------------------------------------------------------\n",
      "Tags                  ['#MNIST', '#dataset']\n",
      "Nodes filter          None\n",
      "Training Data         <fedbiomed.researcher.datasets.FederatedDataSet object at 0x\n",
      "                      7f4b8861ffd0>\n",
      "Aggregator            FedAverage\n",
      "Strategy              <fedbiomed.researcher.strategies.default_strategy.DefaultStr\n",
      "                      ategy object at 0x7f4b88648160>\n",
      "Job                   <fedbiomed.researcher.job.Job object at 0x7f4b8861ffa0>\n",
      "Aggregator Optimizer  None\n",
      "Training Plan Class   <class '__main__.MyTrainingPlan'>\n",
      "Model Arguments       {}\n",
      "Training Arguments    {'loader_args': {'batch_size': 48}, 'optimizer_args': {'lr':\n",
      "                       0.001}, 'epochs': 1, 'dry_run': False, 'batch_maxnum': 100,\n",
      "                       'num_updates': None, 'test_ratio': 0.0, 'test_on_local_upda\n",
      "                      tes': False, 'test_on_global_updates': False, 'test_metric':\n",
      "                       None, 'test_metric_args': {}, 'log_interval': 10, 'fedprox_\n",
      "                      mu': None, 'use_gpu': False, 'dp_args': None, 'share_persist\n",
      "                      ent_buffers': True, 'random_seed': None}\n",
      "Rounds already run    0\n",
      "Rounds total          2\n",
      "Experiment folder     Experiment_0003\n",
      "Experiment Path       /home/mvesin/GIT/fedbiomed/fedbiomed/var/experiments/Experim\n",
      "                      ent_0003\n",
      "Breakpoint State      False\n",
      "Secure Aggregation    - Using: <fedbiomed.researcher.secagg._secure_aggregation.Se\n",
      "                      cureAggregation object at 0x7f4b8861fbb0>\n",
      "                      - Active: False\n",
      "\n",
      "Experiment can be run now (fully defined)\n"
     ]
    }
   ],
   "source": [
    "exp.info()"
   ]
  },
  {
   "cell_type": "code",
   "execution_count": 17,
   "metadata": {},
   "outputs": [
    {
     "name": "stderr",
     "output_type": "stream",
     "text": [
      "2023-11-17 11:58:36,963 fedbiomed DEBUG - Model file has been saved: /home/mvesin/GIT/fedbiomed/fedbiomed/var/tmp/tmpdxaw792f/model_84981f45-1f0c-4b1a-b716-0508b981d310.py\n",
      "2023-11-17 11:58:36,975 fedbiomed INFO - Node node_aea3f6a8-4b68-4791-96a2-0a956c181ba6 is in WAITING status. Server is waiting for receiving a request from this node to convert it as ACTIVE. Node will be updated as DISCONNECTED soon if no request received.\n",
      "2023-11-17 11:58:36,996 fedbiomed DEBUG - Node: node_d8872b90-10fc-4fe9-9e0e-250778d4d6c4 polling for the tasks\n",
      "2023-11-17 11:58:45,030 fedbiomed WARNING - Node node_aea3f6a8-4b68-4791-96a2-0a956c181ba6 is disconnected. Request/task that are created for this node will be flushed\n"
     ]
    },
    {
     "data": {
      "text/plain": [
       "{'node_d8872b90-10fc-4fe9-9e0e-250778d4d6c4': True,\n",
       " 'node_aea3f6a8-4b68-4791-96a2-0a956c181ba6': False}"
      ]
     },
     "execution_count": 17,
     "metadata": {},
     "output_type": "execute_result"
    }
   ],
   "source": [
    "exp.training_plan_approve(MyTrainingPlan, \"TEST\")"
   ]
  },
  {
   "cell_type": "code",
   "execution_count": null,
   "metadata": {
    "pycharm": {
     "name": "#%%\n"
    },
    "scrolled": true
   },
   "outputs": [],
   "source": [
    "exp.run()"
   ]
  },
  {
   "cell_type": "markdown",
   "metadata": {},
   "source": [
    "Local training results for each round and each node are available via `exp.training_replies()` (index 0 to (`rounds` - 1) ).\n",
    "\n",
    "For example you can view the training results for the last round below.\n",
    "\n",
    "Different timings (in seconds) are reported for each dataset of a node participating in a round :\n",
    "- `rtime_training` real time (clock time) spent in the training function on the node\n",
    "- `ptime_training` process time (user and system CPU) spent in the training function on the node\n",
    "- `rtime_total` real time (clock time) spent in the researcher between sending the request and handling the response, at the `Job()` layer"
   ]
  },
  {
   "cell_type": "code",
   "execution_count": null,
   "metadata": {
    "pycharm": {
     "name": "#%%\n"
    },
    "scrolled": true
   },
   "outputs": [],
   "source": [
    "print(\"\\nList the training rounds : \", exp.training_replies().keys())\n",
    "\n",
    "print(\"\\nList the nodes for the last training round and their timings : \")\n",
    "round_data = exp.training_replies()[rounds - 1]\n",
    "for r in round_data.values():\n",
    "    print(\"\\t- {id} :\\\n",
    "    \\n\\t\\trtime_training={rtraining:.2f} seconds\\\n",
    "    \\n\\t\\tptime_training={ptraining:.2f} seconds\\\n",
    "    \\n\\t\\trtime_total={rtotal:.2f} seconds\".format(id = r['node_id'],\n",
    "        rtraining = r['timing']['rtime_training'],\n",
    "        ptraining = r['timing']['ptime_training'],\n",
    "        rtotal = r['timing']['rtime_total']))\n",
    "print('\\n')"
   ]
  },
  {
   "cell_type": "markdown",
   "metadata": {},
   "source": [
    "Federated parameters for each round are available via `exp.aggregated_params()` (index 0 to (`rounds` - 1) ).\n",
    "\n",
    "For example you can view the federated parameters for the last round of the experiment :"
   ]
  },
  {
   "cell_type": "code",
   "execution_count": null,
   "metadata": {},
   "outputs": [],
   "source": [
    "print(\"\\nList the training rounds : \", exp.aggregated_params().keys())\n",
    "\n",
    "print(\"\\nAccess the federated params for the last training round :\")\n",
    "print(\"\\t- params_path: \", exp.aggregated_params()[rounds - 1]['params_path'])\n",
    "print(\"\\t- parameter data: \", exp.aggregated_params()[rounds - 1]['params'].keys())\n"
   ]
  },
  {
   "cell_type": "markdown",
   "metadata": {
    "pycharm": {
     "name": "#%% md\n"
    }
   },
   "source": [
    "Feel free to run other sample notebooks or try your own models :D"
   ]
  }
 ],
 "metadata": {
  "kernelspec": {
   "display_name": "Python 3 (ipykernel)",
   "language": "python",
   "name": "python3"
  },
  "language_info": {
   "codemirror_mode": {
    "name": "ipython",
    "version": 3
   },
   "file_extension": ".py",
   "mimetype": "text/x-python",
   "name": "python",
   "nbconvert_exporter": "python",
   "pygments_lexer": "ipython3",
   "version": "3.10.13"
  }
 },
 "nbformat": 4,
 "nbformat_minor": 4
}
