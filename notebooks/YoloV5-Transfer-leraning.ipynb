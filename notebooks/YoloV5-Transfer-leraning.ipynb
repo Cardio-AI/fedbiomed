{
 "cells": [
  {
   "cell_type": "code",
   "execution_count": null,
   "id": "bcb699b9-2135-4b54-8be7-92750f704d34",
   "metadata": {},
   "outputs": [],
   "source": [
    "pip install torch torchvision"
   ]
  },
  {
   "cell_type": "code",
   "execution_count": null,
   "id": "8afb7c63-1b3c-4d7a-9143-62253b162312",
   "metadata": {},
   "outputs": [],
   "source": [
    "import torch\n",
    "import cv2"
   ]
  },
  {
   "cell_type": "code",
   "execution_count": null,
   "id": "e84d9ef2-1e51-477d-b8a8-025adae17ab3",
   "metadata": {},
   "outputs": [],
   "source": [
    "import numpy as np\n",
    "import pandas as pd\n",
    "import os\n",
    "from PIL import Image \n",
    "from torch.utils.data import Dataset \n",
    "from torchvision import datasets, transforms, models\n",
    "import torchvision.transforms as transforms # A module from the torchvision library that provides common image transformations, such as resizing, cropping, and normalization.\n",
    "from torch.utils.data import random_split # A function from PyTorch that allows for randomly splitting a dataset into training and validation subsets.\n",
    "#from torch.optim.lr_scheduler import ReduceLROnPlateau # A PyTorch scheduler that adjusts the learning rate during training based on a specified metric, reducing it when the metric plateaus.\n",
    "import torch.nn as nn # A module in PyTorch that provides classes for defining and building neural networks.\n",
    "from torchvision import utils # A module from torchvision that contains utility functions for working with images, such as saving and visualizing them.\n",
    "from torch.utils.data import Dataset\n",
    "from PIL import Image\n",
    "from torch.utils.data import DataLoader\n",
    "from torchvision.datasets import ImageFolder\n",
    "import torch.optim as optim\n",
    "#import splitfolders\n",
    "\n",
    "#import torch.nn.functional as F\n",
    "import pathlib\n",
    "from sklearn.metrics import confusion_matrix, classification_report\n",
    "import itertools # This import statement imports the itertools module, which provides functions for efficient looping and combining of iterables. It can be used for tasks such as generating combinations or permutations of elements.\n",
    "from tqdm.notebook import trange, tqdm # These functions allow for the creation of progress bars to track the progress of loops or tasks.\n",
    "from torch import optim\n",
    "import warnings\n",
    "warnings.filterwarnings('ignore')\n"
   ]
  },
  {
   "cell_type": "code",
   "execution_count": null,
   "id": "436f302d-bc90-4391-8766-3483ebfce478",
   "metadata": {},
   "outputs": [],
   "source": [
    "pip install opencv-python"
   ]
  },
  {
   "cell_type": "code",
   "execution_count": null,
   "id": "dfd70ed0-6c7b-4554-b417-6c7f5f6be3ab",
   "metadata": {},
   "outputs": [],
   "source": [
    "! pip install wget nibabel # lecture files format .nii\n",
    "\n"
   ]
  },
  {
   "cell_type": "code",
   "execution_count": null,
   "id": "9e39d7fd-10f8-4d0d-887c-3073573315fd",
   "metadata": {},
   "outputs": [],
   "source": [
    "# ask user to do the commands in the cells in both researcher and node environments\n",
    "\n",
    "!git clone https://github.com/ultralytics/yolov5  # clone\n",
    "\n",
    "%cd yolov5\n",
    "%pip install -qr requirements.txt comet_ml  # install"
   ]
  },
  {
   "cell_type": "code",
   "execution_count": null,
   "id": "b12ed719-4321-4cb7-912c-059bcc53410c",
   "metadata": {},
   "outputs": [],
   "source": [
    "model = torch.hub.load('ultralytics/yolov5', 'yolov5s')\n",
    "\n",
    "torch.save(model.state_dict(), 'mymodel.pt')"
   ]
  },
  {
   "cell_type": "code",
   "execution_count": null,
   "id": "835f82b6-aa18-4b4c-a4cc-84b036576e18",
   "metadata": {},
   "outputs": [],
   "source": [
    "model.eval()"
   ]
  },
  {
   "cell_type": "code",
   "execution_count": null,
   "id": "4286dfee-9ff7-48d0-8059-c1d58f5193c8",
   "metadata": {},
   "outputs": [],
   "source": [
    "from models.yolo import Model\n",
    "\n",
    "architecture = Model(cfg='models/yolov5s.yaml')"
   ]
  },
  {
   "cell_type": "code",
   "execution_count": null,
   "id": "e4196842-b0e6-45c4-af68-3f70bf035c8f",
   "metadata": {},
   "outputs": [],
   "source": [
    "architecture.forward"
   ]
  },
  {
   "cell_type": "code",
   "execution_count": null,
   "id": "bf40d12d-bdf7-4714-b541-381a1bf25ae3",
   "metadata": {},
   "outputs": [],
   "source": [
    "import torch.nn as nn\n",
    "\n",
    "classifier_layer = nn.Sequential(nn.Conv3d(16, 2, kernel_size=(1, 1, 1), stride=(1, 1, 1)))"
   ]
  },
  {
   "cell_type": "code",
   "execution_count": null,
   "id": "d7af69ef-bc39-4e15-b652-c06bd833c987",
   "metadata": {},
   "outputs": [],
   "source": []
  },
  {
   "cell_type": "markdown",
   "id": "73ec891d-b3b8-45a7-bb6f-9468eeb66ead",
   "metadata": {},
   "source": [
    "# Edit your training plan"
   ]
  },
  {
   "cell_type": "code",
   "execution_count": null,
   "id": "975c6895-3b1d-42e7-a65b-6746c68db4b9",
   "metadata": {},
   "outputs": [],
   "source": [
    "from fedbiomed.common.training_plans import TorchTrainingPlan\n",
    "from flamby.datasets.fed_ixi import Baseline, BaselineLoss, Optimizer\n",
    "from fedbiomed.common.data import FlambyDataset, DataManager\n",
    "from models.yolo import Model\n",
    "\n",
    "class MyTrainingPlan(TorchTrainingPlan):\n",
    "\n",
    "    \n",
    "    def init_model(self, model_args):\n",
    "        return Model(cfg='models/yolov5s.yaml')\n",
    "\n",
    "    def init_optimizer(self, optimizer_args):\n",
    "        return Optimizer(self.model().parameters(), lr=optimizer_args[\"lr\"])\n",
    "\n",
    "    def init_dependencies(self):\n",
    "        return [\"from flamby.datasets.fed_ixi import Baseline, BaselineLoss, Optimizer\",\n",
    "                \"from fedbiomed.common.data import FlambyDataset, DataManager\",\n",
    "               \"from models.yolo import Model\"]\n",
    "\n",
    "    def training_step(self, data, target):\n",
    "        output = self.model().forward(data)\n",
    "        return BaselineLoss().forward(output, target)\n",
    "\n",
    "    def training_data(self):\n",
    "        dataset = FlambyDataset()\n",
    "        loader_arguments = { 'shuffle': True}\n",
    "        return DataManager(dataset, **loader_arguments)"
   ]
  },
  {
   "cell_type": "code",
   "execution_count": null,
   "id": "057c3c66-b6d8-4360-9990-adfd59b8a7a9",
   "metadata": {},
   "outputs": [],
   "source": [
    "from flamby.datasets.fed_ixi import Baseline, BaselineLoss\n"
   ]
  },
  {
   "cell_type": "code",
   "execution_count": null,
   "id": "356b899f-8085-444e-b3f3-9e576c5e0ef6",
   "metadata": {},
   "outputs": [],
   "source": [
    "tp = MyTrainingPlan()\n",
    "\n",
    "tp.import_model('mymodel.pt')"
   ]
  },
  {
   "cell_type": "code",
   "execution_count": null,
   "id": "b6021b80-4460-419c-939d-bc44dc4926b2",
   "metadata": {},
   "outputs": [],
   "source": [
    "\n",
    "\n",
    "model_args = {}\n",
    "\n",
    "training_args = {\n",
    "    'loader_args': { 'batch_size': 8, },\n",
    "    'optimizer_args': {\n",
    "        \"lr\" : 1e-3\n",
    "    },\n",
    "    'epochs': 1,\n",
    "    'dry_run': False,\n",
    "    'batch_maxnum': 2 # Fast pass for development : only use ( batch_maxnum * batch_size ) samples\n",
    "}\n"
   ]
  },
  {
   "cell_type": "code",
   "execution_count": null,
   "id": "796cf042-c0d3-45d5-8aed-ba1ab22edd03",
   "metadata": {},
   "outputs": [],
   "source": [
    "from fedbiomed.researcher.experiment import Experiment\n",
    "from fedbiomed.researcher.aggregators.fedavg import FedAverage\n",
    "\n",
    "tags =  ['ixi']\n",
    "rounds = 1\n",
    "\n",
    "exp = Experiment(tags=tags,\n",
    "                 model_args=model_args,\n",
    "                 training_plan_class=MyTrainingPlan,\n",
    "                 training_args=training_args,\n",
    "                 round_limit=rounds,\n",
    "                 aggregator=FedAverage(),\n",
    "                 node_selection_strategy=None)"
   ]
  },
  {
   "cell_type": "code",
   "execution_count": null,
   "id": "e3239df8-bc96-4af4-9657-3b4b62929c63",
   "metadata": {},
   "outputs": [],
   "source": [
    "exp.training_plan().import_model('mymodel.pt')"
   ]
  },
  {
   "cell_type": "code",
   "execution_count": null,
   "id": "bd631078-dbae-46f8-9372-8c4a34539c62",
   "metadata": {},
   "outputs": [],
   "source": [
    "exp.run()"
   ]
  },
  {
   "cell_type": "code",
   "execution_count": null,
   "id": "8cd0b3c7-30bf-4094-bf9b-e67c04340d37",
   "metadata": {},
   "outputs": [],
   "source": [
    "Baseline().classifier\n"
   ]
  },
  {
   "cell_type": "code",
   "execution_count": null,
   "id": "ad66117b-d79e-4493-80fc-d0c1541b7f5c",
   "metadata": {},
   "outputs": [],
   "source": [
    "Baseline()"
   ]
  },
  {
   "cell_type": "code",
   "execution_count": null,
   "id": "3662c89f-2448-4a05-bcc1-17ec603cc673",
   "metadata": {},
   "outputs": [],
   "source": []
  }
 ],
 "metadata": {
  "kernelspec": {
   "display_name": "Python 3 (ipykernel)",
   "language": "python",
   "name": "python3"
  },
  "language_info": {
   "codemirror_mode": {
    "name": "ipython",
    "version": 3
   },
   "file_extension": ".py",
   "mimetype": "text/x-python",
   "name": "python",
   "nbconvert_exporter": "python",
   "pygments_lexer": "ipython3",
   "version": "3.10.13"
  }
 },
 "nbformat": 4,
 "nbformat_minor": 5
}
