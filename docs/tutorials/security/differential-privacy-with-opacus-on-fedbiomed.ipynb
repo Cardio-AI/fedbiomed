{
 "cells": [
  {
   "cell_type": "markdown",
   "metadata": {},
   "source": [
    "# Using Differential Privacy with OPACUS on Fed-BioMed"
   ]
  },
  {
   "cell_type": "markdown",
   "metadata": {},
   "source": [
    "In this notebook we show how `opacus` (https://opacus.ai/) can be used in Fed-BioMed. Opacus is a library which allows to train PyTorch models with differential privacy. We will train the basic MNIST example using two nodes."
   ]
  },
  {
   "cell_type": "markdown",
   "metadata": {},
   "source": [
    "### Setting the node up\n",
    "It is necessary to previously configure a node:\n",
    "1. `{FEDBIOMED_DIR}/scripts/fedbiomed_run node dataset add`\n",
    "  * Select option 2 (default)\n",
    "  * Confirm default tags by hitting \"y\" and ENTER\n",
    "  * Pick the folder where MNIST is downloaded (this is due torch issue https://github.com/pytorch/vision/issues/3549)\n",
    "  * Data must have been added (if you get a warning saying that data must be unique is because it's been already added)\n",
    "  \n",
    "2. Check that your data has been added by executing `{FEDBIOMED_DIR}/scripts/fedbiomed_run node dataset list`\n",
    "3. Run the node using `{FEDBIOMED_DIR}/scripts/fedbiomed_run node start`. Wait until you get `Starting task manager`. it means you are online."
   ]
  },
  {
   "cell_type": "markdown",
   "metadata": {},
   "source": [
    "## Defining a Training Plan and Parameters"
   ]
  },
  {
   "cell_type": "code",
   "execution_count": 1,
   "metadata": {},
   "outputs": [],
   "source": [
    "import torch\n",
    "import torch.nn as nn\n",
    "import torch.nn.functional as F\n",
    "from fedbiomed.common.training_plans import TorchTrainingPlan\n",
    "from fedbiomed.common.data import DataManager\n",
    "from torchvision import datasets, transforms\n",
    "\n",
    "# Here we define the training plan to be used in the experiment. \n",
    "class MyTrainingPlan(TorchTrainingPlan):\n",
    "    def init_dependencies(self):\n",
    "        deps = [\"from torchvision import datasets, transforms\",\n",
    "                \"import torch.nn.functional as F\"]\n",
    "        \n",
    "        return deps\n",
    "    \n",
    "    def init_model(self):\n",
    "        model = nn.Sequential(nn.Conv2d(1, 32, 3, 1),\n",
    "                                  nn.ReLU(),\n",
    "                                  nn.Conv2d(32, 64, 3, 1),\n",
    "                                  nn.ReLU(),\n",
    "                                  nn.MaxPool2d(2),\n",
    "                                  nn.Dropout(0.25),\n",
    "                                  nn.Flatten(),\n",
    "                                  nn.Linear(9216, 128),\n",
    "                                  nn.ReLU(),\n",
    "                                  nn.Dropout(0.5),\n",
    "                                  nn.Linear(128, 10),\n",
    "                                  nn.LogSoftmax(dim=1))\n",
    "        return model\n",
    "    \n",
    "\n",
    "    \n",
    "    def training_data(self):\n",
    "        # Custom torch Dataloader for MNIST data\n",
    "        transform = transforms.Compose([transforms.ToTensor(),\n",
    "        transforms.Normalize((0.1307,), (0.3081,))])\n",
    "        dataset1 = datasets.MNIST(self.dataset_path, train=True, download=False, transform=transform)\n",
    "        loader_arguments = { 'shuffle': True}\n",
    "        return DataManager(dataset1, **loader_arguments)\n",
    "    \n",
    "    def training_step(self, data, target):\n",
    "        output = self.model().forward(data)\n",
    "        loss   = torch.nn.functional.nll_loss(output, target)\n",
    "        return loss\n"
   ]
  },
  {
   "cell_type": "markdown",
   "metadata": {},
   "source": [
    "This group of arguments correspond respectively:\n",
    "* `model_args`: a dictionary with the arguments related to the model (e.g. number of layers, features, etc.). This will be passed to the model class on the node side. For instance, the privacy parameters should be passed here.\n",
    "* `training_args`: a dictionary containing the arguments for the training routine (e.g. batch size, learning rate, epochs, etc.). This will be passed to the routine on the node side.\n",
    "\n",
    "**NOTE:** typos and/or lack of positional (required) arguments will raise error. 🤓"
   ]
  },
  {
   "cell_type": "markdown",
   "metadata": {},
   "source": [
    "In the cell below, we are going to define `dp_args` inside the `training_args` dictionary. Based on the given paremeters node will perform Opacus's differeantal privacy. \n",
    "\n",
    "* `noise_multiplier` - `sigma`: The ratio of the standard deviation of the Gaussian noise to the L2-sensitivity of the function to which the noise is added (How much noise to add)\n",
    "\n",
    "* `max_grad_norm` - `clip`: The maximum norm of the per-sample gradients. Any gradient with norm higher than this will be clipped to this value.\n",
    "\n",
    "* `type`: Differential privacy type as one of `local` or `central`"
   ]
  },
  {
   "cell_type": "code",
   "execution_count": 2,
   "metadata": {
    "pycharm": {
     "name": "#%%\n"
    }
   },
   "outputs": [],
   "source": [
    "model_args = {}\n",
    "\n",
    "training_args = {\n",
    "    'loader_args': { 'batch_size': 48, },\n",
    "    'optimizer_args': {\n",
    "        'lr': 1e-3\n",
    "    },\n",
    "    'epochs': 1, \n",
    "    'dry_run': False, \n",
    "    'dp_args': # DP Arguments for differential privacy\n",
    "        {\n",
    "            \"type\": \"local\", \n",
    "            \"sigma\": 0.4, \n",
    "            \"clip\": 0.005\n",
    "        },\n",
    "    'batch_maxnum': 50 # Fast pass for development : only use ( batch_maxnum * batch_size ) samples\n",
    "}"
   ]
  },
  {
   "cell_type": "markdown",
   "metadata": {},
   "source": [
    "## Declare and run the experiment"
   ]
  },
  {
   "cell_type": "code",
   "execution_count": 3,
   "metadata": {
    "pycharm": {
     "name": "#%%\n"
    },
    "scrolled": true
   },
   "outputs": [
    {
     "data": {
      "text/plain": [
       "2024-04-03 13:33:16,159 fedbiomed INFO - Starting researcher service..."
      ]
     },
     "metadata": {},
     "output_type": "display_data"
    },
    {
     "data": {
      "text/plain": [
       "2024-04-03 13:33:16,183 fedbiomed INFO - Waiting 3s for nodes to connect..."
      ]
     },
     "metadata": {},
     "output_type": "display_data"
    },
    {
     "data": {
      "text/plain": [
       "2024-04-03 13:33:17,383 fedbiomed DEBUG - Node: NODE_a16525b2-5b6a-42cf-9cef-ff746b2a6d4b polling for the tasks"
      ]
     },
     "metadata": {},
     "output_type": "display_data"
    },
    {
     "data": {
      "text/plain": [
       "2024-04-03 13:33:17,385 fedbiomed DEBUG - Node: NODE_90a7e795-9022-4bf0-b6c6-f1a2394b6dac polling for the tasks"
      ]
     },
     "metadata": {},
     "output_type": "display_data"
    },
    {
     "data": {
      "text/plain": [
       "2024-04-03 13:33:19,187 fedbiomed INFO - Updating training data. This action will update FederatedDataset, and the nodes that will participate to the experiment."
      ]
     },
     "metadata": {},
     "output_type": "display_data"
    },
    {
     "data": {
      "text/plain": [
       "2024-04-03 13:33:19,199 fedbiomed DEBUG - Node: NODE_90a7e795-9022-4bf0-b6c6-f1a2394b6dac polling for the tasks"
      ]
     },
     "metadata": {},
     "output_type": "display_data"
    },
    {
     "data": {
      "text/plain": [
       "2024-04-03 13:33:19,200 fedbiomed DEBUG - Node: NODE_a16525b2-5b6a-42cf-9cef-ff746b2a6d4b polling for the tasks"
      ]
     },
     "metadata": {},
     "output_type": "display_data"
    },
    {
     "data": {
      "text/plain": [
       "2024-04-03 13:33:19,203 fedbiomed INFO - Node selected for training -> NODE_a16525b2-5b6a-42cf-9cef-ff746b2a6d4b"
      ]
     },
     "metadata": {},
     "output_type": "display_data"
    },
    {
     "data": {
      "text/plain": [
       "2024-04-03 13:33:19,204 fedbiomed INFO - Node selected for training -> NODE_90a7e795-9022-4bf0-b6c6-f1a2394b6dac"
      ]
     },
     "metadata": {},
     "output_type": "display_data"
    },
    {
     "data": {
      "text/plain": [
       "2024-04-03 13:33:19,208 fedbiomed DEBUG - Model file has been saved: /home/ybouilla/Documents/github/fedbiomed/var/experiments/Experiment_0015/model_e02e0d96-a047-45b6-9c0a-8682f79247f9.py"
      ]
     },
     "metadata": {},
     "output_type": "display_data"
    },
    {
     "name": "stderr",
     "output_type": "stream",
     "text": [
      "Secure RNG turned off. This is perfectly fine for experimentation as it allows for much faster training performance, but remember to turn it on and retrain one last time before production with ``secure_mode`` turned on.\n"
     ]
    }
   ],
   "source": [
    "from fedbiomed.researcher.federated_workflows import Experiment\n",
    "from fedbiomed.researcher.aggregators.fedavg import FedAverage\n",
    "\n",
    "tags =  ['#MNIST', '#dataset']\n",
    "rounds = 3\n",
    "\n",
    "exp = Experiment(tags=tags,\n",
    "                 model_args=model_args,\n",
    "                 training_plan_class=MyTrainingPlan,\n",
    "                 training_args=training_args,\n",
    "                 round_limit=rounds,\n",
    "                 aggregator=FedAverage(),\n",
    "                 node_selection_strategy=None)"
   ]
  },
  {
   "cell_type": "markdown",
   "metadata": {
    "pycharm": {
     "name": "#%% md\n"
    }
   },
   "source": [
    "Let's start the experiment.\n",
    "\n",
    "By default, this function doesn't stop until all the `rounds` are done for all the nodes"
   ]
  },
  {
   "cell_type": "code",
   "execution_count": 4,
   "metadata": {
    "pycharm": {
     "name": "#%%\n"
    },
    "scrolled": true
   },
   "outputs": [
    {
     "data": {
      "text/plain": [
       "2024-04-03 13:33:19,226 fedbiomed INFO - Sampled nodes in round 0 ['NODE_a16525b2-5b6a-42cf-9cef-ff746b2a6d4b', 'NODE_90a7e795-9022-4bf0-b6c6-f1a2394b6dac']"
      ]
     },
     "metadata": {},
     "output_type": "display_data"
    },
    {
     "data": {
      "text/plain": [
       "2024-04-03 13:33:19,229 fedbiomed INFO - \u001b[1mSending request\u001b[0m \n",
       "\t\t\t\t\t\u001b[1m To\u001b[0m: NODE_a16525b2-5b6a-42cf-9cef-ff746b2a6d4b \n",
       "\t\t\t\t\t\u001b[1m Request: \u001b[0m: TRAIN\n",
       " -----------------------------------------------------------------"
      ]
     },
     "metadata": {},
     "output_type": "display_data"
    },
    {
     "data": {
      "text/plain": [
       "2024-04-03 13:33:19,231 fedbiomed INFO - \u001b[1mSending request\u001b[0m \n",
       "\t\t\t\t\t\u001b[1m To\u001b[0m: NODE_90a7e795-9022-4bf0-b6c6-f1a2394b6dac \n",
       "\t\t\t\t\t\u001b[1m Request: \u001b[0m: TRAIN\n",
       " -----------------------------------------------------------------"
      ]
     },
     "metadata": {},
     "output_type": "display_data"
    },
    {
     "data": {
      "text/plain": [
       "2024-04-03 13:33:19,287 fedbiomed DEBUG - Node: NODE_90a7e795-9022-4bf0-b6c6-f1a2394b6dac polling for the tasks"
      ]
     },
     "metadata": {},
     "output_type": "display_data"
    },
    {
     "data": {
      "text/plain": [
       "2024-04-03 13:33:19,288 fedbiomed DEBUG - Node: NODE_a16525b2-5b6a-42cf-9cef-ff746b2a6d4b polling for the tasks"
      ]
     },
     "metadata": {},
     "output_type": "display_data"
    },
    {
     "data": {
      "text/plain": [
       "2024-04-03 13:33:21,098 fedbiomed INFO - \u001b[1mTRAINING\u001b[0m \n",
       "\t\t\t\t\t NODE_ID: NODE_90a7e795-9022-4bf0-b6c6-f1a2394b6dac \n",
       "\t\t\t\t\t Round 1 Epoch: 1 | Iteration: 1/50 (2%) | Samples: 41/2400\n",
       " \t\t\t\t\t Loss: \u001b[1m2.331853\u001b[0m \n",
       "\t\t\t\t\t ---------"
      ]
     },
     "metadata": {},
     "output_type": "display_data"
    },
    {
     "data": {
      "text/plain": [
       "2024-04-03 13:33:21,216 fedbiomed INFO - \u001b[1mTRAINING\u001b[0m \n",
       "\t\t\t\t\t NODE_ID: NODE_a16525b2-5b6a-42cf-9cef-ff746b2a6d4b \n",
       "\t\t\t\t\t Round 1 Epoch: 1 | Iteration: 1/50 (2%) | Samples: 47/2400\n",
       " \t\t\t\t\t Loss: \u001b[1m2.299112\u001b[0m \n",
       "\t\t\t\t\t ---------"
      ]
     },
     "metadata": {},
     "output_type": "display_data"
    },
    {
     "data": {
      "text/plain": [
       "2024-04-03 13:33:35,462 fedbiomed INFO - \u001b[1mTRAINING\u001b[0m \n",
       "\t\t\t\t\t NODE_ID: NODE_90a7e795-9022-4bf0-b6c6-f1a2394b6dac \n",
       "\t\t\t\t\t Round 1 Epoch: 1 | Iteration: 10/50 (20%) | Samples: 457/2400\n",
       " \t\t\t\t\t Loss: \u001b[1m2.288610\u001b[0m \n",
       "\t\t\t\t\t ---------"
      ]
     },
     "metadata": {},
     "output_type": "display_data"
    },
    {
     "data": {
      "text/plain": [
       "2024-04-03 13:33:36,769 fedbiomed INFO - \u001b[1mTRAINING\u001b[0m \n",
       "\t\t\t\t\t NODE_ID: NODE_a16525b2-5b6a-42cf-9cef-ff746b2a6d4b \n",
       "\t\t\t\t\t Round 1 Epoch: 1 | Iteration: 10/50 (20%) | Samples: 434/2400\n",
       " \t\t\t\t\t Loss: \u001b[1m2.229743\u001b[0m \n",
       "\t\t\t\t\t ---------"
      ]
     },
     "metadata": {},
     "output_type": "display_data"
    },
    {
     "data": {
      "text/plain": [
       "2024-04-03 13:33:51,107 fedbiomed INFO - \u001b[1mTRAINING\u001b[0m \n",
       "\t\t\t\t\t NODE_ID: NODE_90a7e795-9022-4bf0-b6c6-f1a2394b6dac \n",
       "\t\t\t\t\t Round 1 Epoch: 1 | Iteration: 20/50 (40%) | Samples: 903/2400\n",
       " \t\t\t\t\t Loss: \u001b[1m2.209047\u001b[0m \n",
       "\t\t\t\t\t ---------"
      ]
     },
     "metadata": {},
     "output_type": "display_data"
    },
    {
     "data": {
      "text/plain": [
       "2024-04-03 13:33:51,135 fedbiomed INFO - \u001b[1mTRAINING\u001b[0m \n",
       "\t\t\t\t\t NODE_ID: NODE_a16525b2-5b6a-42cf-9cef-ff746b2a6d4b \n",
       "\t\t\t\t\t Round 1 Epoch: 1 | Iteration: 20/50 (40%) | Samples: 871/2400\n",
       " \t\t\t\t\t Loss: \u001b[1m2.174485\u001b[0m \n",
       "\t\t\t\t\t ---------"
      ]
     },
     "metadata": {},
     "output_type": "display_data"
    },
    {
     "data": {
      "text/plain": [
       "2024-04-03 13:34:05,048 fedbiomed INFO - \u001b[1mTRAINING\u001b[0m \n",
       "\t\t\t\t\t NODE_ID: NODE_a16525b2-5b6a-42cf-9cef-ff746b2a6d4b \n",
       "\t\t\t\t\t Round 1 Epoch: 1 | Iteration: 30/50 (60%) | Samples: 1346/2400\n",
       " \t\t\t\t\t Loss: \u001b[1m2.162850\u001b[0m \n",
       "\t\t\t\t\t ---------"
      ]
     },
     "metadata": {},
     "output_type": "display_data"
    },
    {
     "data": {
      "text/plain": [
       "2024-04-03 13:34:06,069 fedbiomed INFO - \u001b[1mTRAINING\u001b[0m \n",
       "\t\t\t\t\t NODE_ID: NODE_90a7e795-9022-4bf0-b6c6-f1a2394b6dac \n",
       "\t\t\t\t\t Round 1 Epoch: 1 | Iteration: 30/50 (60%) | Samples: 1409/2400\n",
       " \t\t\t\t\t Loss: \u001b[1m2.168503\u001b[0m \n",
       "\t\t\t\t\t ---------"
      ]
     },
     "metadata": {},
     "output_type": "display_data"
    },
    {
     "data": {
      "text/plain": [
       "2024-04-03 13:34:21,529 fedbiomed INFO - \u001b[1mTRAINING\u001b[0m \n",
       "\t\t\t\t\t NODE_ID: NODE_a16525b2-5b6a-42cf-9cef-ff746b2a6d4b \n",
       "\t\t\t\t\t Round 1 Epoch: 1 | Iteration: 40/50 (80%) | Samples: 1838/2400\n",
       " \t\t\t\t\t Loss: \u001b[1m2.000157\u001b[0m \n",
       "\t\t\t\t\t ---------"
      ]
     },
     "metadata": {},
     "output_type": "display_data"
    },
    {
     "data": {
      "text/plain": [
       "2024-04-03 13:34:21,885 fedbiomed INFO - \u001b[1mTRAINING\u001b[0m \n",
       "\t\t\t\t\t NODE_ID: NODE_90a7e795-9022-4bf0-b6c6-f1a2394b6dac \n",
       "\t\t\t\t\t Round 1 Epoch: 1 | Iteration: 40/50 (80%) | Samples: 1906/2400\n",
       " \t\t\t\t\t Loss: \u001b[1m2.075603\u001b[0m \n",
       "\t\t\t\t\t ---------"
      ]
     },
     "metadata": {},
     "output_type": "display_data"
    },
    {
     "data": {
      "text/plain": [
       "2024-04-03 13:34:36,096 fedbiomed INFO - \u001b[1mTRAINING\u001b[0m \n",
       "\t\t\t\t\t NODE_ID: NODE_a16525b2-5b6a-42cf-9cef-ff746b2a6d4b \n",
       "\t\t\t\t\t Round 1 Epoch: 1 | Iteration: 50/50 (100%) | Samples: 2303/2303\n",
       " \t\t\t\t\t Loss: \u001b[1m1.911565\u001b[0m \n",
       "\t\t\t\t\t ---------"
      ]
     },
     "metadata": {},
     "output_type": "display_data"
    },
    {
     "data": {
      "text/plain": [
       "2024-04-03 13:34:36,298 fedbiomed INFO - \u001b[1mTRAINING\u001b[0m \n",
       "\t\t\t\t\t NODE_ID: NODE_90a7e795-9022-4bf0-b6c6-f1a2394b6dac \n",
       "\t\t\t\t\t Round 1 Epoch: 1 | Iteration: 50/50 (100%) | Samples: 2396/2396\n",
       " \t\t\t\t\t Loss: \u001b[1m1.868311\u001b[0m \n",
       "\t\t\t\t\t ---------"
      ]
     },
     "metadata": {},
     "output_type": "display_data"
    },
    {
     "data": {
      "text/plain": [
       "2024-04-03 13:34:36,340 fedbiomed INFO - Nodes that successfully reply in round 0 ['NODE_a16525b2-5b6a-42cf-9cef-ff746b2a6d4b', 'NODE_90a7e795-9022-4bf0-b6c6-f1a2394b6dac']"
      ]
     },
     "metadata": {},
     "output_type": "display_data"
    },
    {
     "data": {
      "text/plain": [
       "2024-04-03 13:34:36,345 fedbiomed INFO - Sampled nodes in round 1 ['NODE_a16525b2-5b6a-42cf-9cef-ff746b2a6d4b', 'NODE_90a7e795-9022-4bf0-b6c6-f1a2394b6dac']"
      ]
     },
     "metadata": {},
     "output_type": "display_data"
    },
    {
     "data": {
      "text/plain": [
       "2024-04-03 13:34:36,350 fedbiomed INFO - \u001b[1mSending request\u001b[0m \n",
       "\t\t\t\t\t\u001b[1m To\u001b[0m: NODE_a16525b2-5b6a-42cf-9cef-ff746b2a6d4b \n",
       "\t\t\t\t\t\u001b[1m Request: \u001b[0m: TRAIN\n",
       " -----------------------------------------------------------------"
      ]
     },
     "metadata": {},
     "output_type": "display_data"
    },
    {
     "data": {
      "text/plain": [
       "2024-04-03 13:34:36,352 fedbiomed INFO - \u001b[1mSending request\u001b[0m \n",
       "\t\t\t\t\t\u001b[1m To\u001b[0m: NODE_90a7e795-9022-4bf0-b6c6-f1a2394b6dac \n",
       "\t\t\t\t\t\u001b[1m Request: \u001b[0m: TRAIN\n",
       " -----------------------------------------------------------------"
      ]
     },
     "metadata": {},
     "output_type": "display_data"
    },
    {
     "data": {
      "text/plain": [
       "2024-04-03 13:34:36,409 fedbiomed DEBUG - Node: NODE_a16525b2-5b6a-42cf-9cef-ff746b2a6d4b polling for the tasks"
      ]
     },
     "metadata": {},
     "output_type": "display_data"
    },
    {
     "data": {
      "text/plain": [
       "2024-04-03 13:34:36,410 fedbiomed DEBUG - Node: NODE_90a7e795-9022-4bf0-b6c6-f1a2394b6dac polling for the tasks"
      ]
     },
     "metadata": {},
     "output_type": "display_data"
    },
    {
     "data": {
      "text/plain": [
       "2024-04-03 13:34:37,853 fedbiomed INFO - \u001b[1mTRAINING\u001b[0m \n",
       "\t\t\t\t\t NODE_ID: NODE_90a7e795-9022-4bf0-b6c6-f1a2394b6dac \n",
       "\t\t\t\t\t Round 2 Epoch: 1 | Iteration: 1/50 (2%) | Samples: 49/2400\n",
       " \t\t\t\t\t Loss: \u001b[1m1.981983\u001b[0m \n",
       "\t\t\t\t\t ---------"
      ]
     },
     "metadata": {},
     "output_type": "display_data"
    },
    {
     "data": {
      "text/plain": [
       "2024-04-03 13:34:38,480 fedbiomed INFO - \u001b[1mTRAINING\u001b[0m \n",
       "\t\t\t\t\t NODE_ID: NODE_a16525b2-5b6a-42cf-9cef-ff746b2a6d4b \n",
       "\t\t\t\t\t Round 2 Epoch: 1 | Iteration: 1/50 (2%) | Samples: 45/2400\n",
       " \t\t\t\t\t Loss: \u001b[1m1.945740\u001b[0m \n",
       "\t\t\t\t\t ---------"
      ]
     },
     "metadata": {},
     "output_type": "display_data"
    },
    {
     "data": {
      "text/plain": [
       "2024-04-03 13:34:49,596 fedbiomed INFO - \u001b[1mTRAINING\u001b[0m \n",
       "\t\t\t\t\t NODE_ID: NODE_90a7e795-9022-4bf0-b6c6-f1a2394b6dac \n",
       "\t\t\t\t\t Round 2 Epoch: 1 | Iteration: 10/50 (20%) | Samples: 494/2400\n",
       " \t\t\t\t\t Loss: \u001b[1m1.710354\u001b[0m \n",
       "\t\t\t\t\t ---------"
      ]
     },
     "metadata": {},
     "output_type": "display_data"
    },
    {
     "data": {
      "text/plain": [
       "2024-04-03 13:34:53,897 fedbiomed INFO - \u001b[1mTRAINING\u001b[0m \n",
       "\t\t\t\t\t NODE_ID: NODE_a16525b2-5b6a-42cf-9cef-ff746b2a6d4b \n",
       "\t\t\t\t\t Round 2 Epoch: 1 | Iteration: 10/50 (20%) | Samples: 469/2400\n",
       " \t\t\t\t\t Loss: \u001b[1m1.900555\u001b[0m \n",
       "\t\t\t\t\t ---------"
      ]
     },
     "metadata": {},
     "output_type": "display_data"
    },
    {
     "data": {
      "text/plain": [
       "2024-04-03 13:35:03,463 fedbiomed INFO - \u001b[1mTRAINING\u001b[0m \n",
       "\t\t\t\t\t NODE_ID: NODE_90a7e795-9022-4bf0-b6c6-f1a2394b6dac \n",
       "\t\t\t\t\t Round 2 Epoch: 1 | Iteration: 20/50 (40%) | Samples: 956/2400\n",
       " \t\t\t\t\t Loss: \u001b[1m1.693094\u001b[0m \n",
       "\t\t\t\t\t ---------"
      ]
     },
     "metadata": {},
     "output_type": "display_data"
    },
    {
     "data": {
      "text/plain": [
       "2024-04-03 13:35:08,025 fedbiomed INFO - \u001b[1mTRAINING\u001b[0m \n",
       "\t\t\t\t\t NODE_ID: NODE_a16525b2-5b6a-42cf-9cef-ff746b2a6d4b \n",
       "\t\t\t\t\t Round 2 Epoch: 1 | Iteration: 20/50 (40%) | Samples: 1010/2400\n",
       " \t\t\t\t\t Loss: \u001b[1m1.734439\u001b[0m \n",
       "\t\t\t\t\t ---------"
      ]
     },
     "metadata": {},
     "output_type": "display_data"
    },
    {
     "data": {
      "text/plain": [
       "2024-04-03 13:35:17,905 fedbiomed INFO - \u001b[1mTRAINING\u001b[0m \n",
       "\t\t\t\t\t NODE_ID: NODE_90a7e795-9022-4bf0-b6c6-f1a2394b6dac \n",
       "\t\t\t\t\t Round 2 Epoch: 1 | Iteration: 30/50 (60%) | Samples: 1443/2400\n",
       " \t\t\t\t\t Loss: \u001b[1m1.647621\u001b[0m \n",
       "\t\t\t\t\t ---------"
      ]
     },
     "metadata": {},
     "output_type": "display_data"
    },
    {
     "data": {
      "text/plain": [
       "2024-04-03 13:35:23,206 fedbiomed INFO - \u001b[1mTRAINING\u001b[0m \n",
       "\t\t\t\t\t NODE_ID: NODE_a16525b2-5b6a-42cf-9cef-ff746b2a6d4b \n",
       "\t\t\t\t\t Round 2 Epoch: 1 | Iteration: 30/50 (60%) | Samples: 1476/2400\n",
       " \t\t\t\t\t Loss: \u001b[1m1.569272\u001b[0m \n",
       "\t\t\t\t\t ---------"
      ]
     },
     "metadata": {},
     "output_type": "display_data"
    },
    {
     "data": {
      "text/plain": [
       "2024-04-03 13:35:33,140 fedbiomed INFO - \u001b[1mTRAINING\u001b[0m \n",
       "\t\t\t\t\t NODE_ID: NODE_90a7e795-9022-4bf0-b6c6-f1a2394b6dac \n",
       "\t\t\t\t\t Round 2 Epoch: 1 | Iteration: 40/50 (80%) | Samples: 1894/2400\n",
       " \t\t\t\t\t Loss: \u001b[1m1.296453\u001b[0m \n",
       "\t\t\t\t\t ---------"
      ]
     },
     "metadata": {},
     "output_type": "display_data"
    },
    {
     "data": {
      "text/plain": [
       "2024-04-03 13:35:38,601 fedbiomed INFO - \u001b[1mTRAINING\u001b[0m \n",
       "\t\t\t\t\t NODE_ID: NODE_a16525b2-5b6a-42cf-9cef-ff746b2a6d4b \n",
       "\t\t\t\t\t Round 2 Epoch: 1 | Iteration: 40/50 (80%) | Samples: 1973/2400\n",
       " \t\t\t\t\t Loss: \u001b[1m1.475632\u001b[0m \n",
       "\t\t\t\t\t ---------"
      ]
     },
     "metadata": {},
     "output_type": "display_data"
    },
    {
     "data": {
      "text/plain": [
       "2024-04-03 13:35:46,590 fedbiomed INFO - \u001b[1mTRAINING\u001b[0m \n",
       "\t\t\t\t\t NODE_ID: NODE_90a7e795-9022-4bf0-b6c6-f1a2394b6dac \n",
       "\t\t\t\t\t Round 2 Epoch: 1 | Iteration: 50/50 (100%) | Samples: 2387/2387\n",
       " \t\t\t\t\t Loss: \u001b[1m1.144556\u001b[0m \n",
       "\t\t\t\t\t ---------"
      ]
     },
     "metadata": {},
     "output_type": "display_data"
    },
    {
     "data": {
      "text/plain": [
       "2024-04-03 13:35:46,971 fedbiomed INFO - \u001b[1mTRAINING\u001b[0m \n",
       "\t\t\t\t\t NODE_ID: NODE_a16525b2-5b6a-42cf-9cef-ff746b2a6d4b \n",
       "\t\t\t\t\t Round 2 Epoch: 1 | Iteration: 50/50 (100%) | Samples: 2493/2493\n",
       " \t\t\t\t\t Loss: \u001b[1m1.439208\u001b[0m \n",
       "\t\t\t\t\t ---------"
      ]
     },
     "metadata": {},
     "output_type": "display_data"
    },
    {
     "data": {
      "text/plain": [
       "2024-04-03 13:35:47,019 fedbiomed INFO - Nodes that successfully reply in round 1 ['NODE_a16525b2-5b6a-42cf-9cef-ff746b2a6d4b', 'NODE_90a7e795-9022-4bf0-b6c6-f1a2394b6dac']"
      ]
     },
     "metadata": {},
     "output_type": "display_data"
    },
    {
     "data": {
      "text/plain": [
       "2024-04-03 13:35:47,024 fedbiomed INFO - Sampled nodes in round 2 ['NODE_a16525b2-5b6a-42cf-9cef-ff746b2a6d4b', 'NODE_90a7e795-9022-4bf0-b6c6-f1a2394b6dac']"
      ]
     },
     "metadata": {},
     "output_type": "display_data"
    },
    {
     "data": {
      "text/plain": [
       "2024-04-03 13:35:47,030 fedbiomed INFO - \u001b[1mSending request\u001b[0m \n",
       "\t\t\t\t\t\u001b[1m To\u001b[0m: NODE_a16525b2-5b6a-42cf-9cef-ff746b2a6d4b \n",
       "\t\t\t\t\t\u001b[1m Request: \u001b[0m: TRAIN\n",
       " -----------------------------------------------------------------"
      ]
     },
     "metadata": {},
     "output_type": "display_data"
    },
    {
     "data": {
      "text/plain": [
       "2024-04-03 13:35:47,032 fedbiomed INFO - \u001b[1mSending request\u001b[0m \n",
       "\t\t\t\t\t\u001b[1m To\u001b[0m: NODE_90a7e795-9022-4bf0-b6c6-f1a2394b6dac \n",
       "\t\t\t\t\t\u001b[1m Request: \u001b[0m: TRAIN\n",
       " -----------------------------------------------------------------"
      ]
     },
     "metadata": {},
     "output_type": "display_data"
    },
    {
     "data": {
      "text/plain": [
       "2024-04-03 13:35:47,099 fedbiomed DEBUG - Node: NODE_a16525b2-5b6a-42cf-9cef-ff746b2a6d4b polling for the tasks"
      ]
     },
     "metadata": {},
     "output_type": "display_data"
    },
    {
     "data": {
      "text/plain": [
       "2024-04-03 13:35:47,102 fedbiomed DEBUG - Node: NODE_90a7e795-9022-4bf0-b6c6-f1a2394b6dac polling for the tasks"
      ]
     },
     "metadata": {},
     "output_type": "display_data"
    },
    {
     "data": {
      "text/plain": [
       "2024-04-03 13:35:48,857 fedbiomed INFO - \u001b[1mTRAINING\u001b[0m \n",
       "\t\t\t\t\t NODE_ID: NODE_90a7e795-9022-4bf0-b6c6-f1a2394b6dac \n",
       "\t\t\t\t\t Round 3 Epoch: 1 | Iteration: 1/50 (2%) | Samples: 62/2400\n",
       " \t\t\t\t\t Loss: \u001b[1m1.584836\u001b[0m \n",
       "\t\t\t\t\t ---------"
      ]
     },
     "metadata": {},
     "output_type": "display_data"
    },
    {
     "data": {
      "text/plain": [
       "2024-04-03 13:35:49,164 fedbiomed INFO - \u001b[1mTRAINING\u001b[0m \n",
       "\t\t\t\t\t NODE_ID: NODE_a16525b2-5b6a-42cf-9cef-ff746b2a6d4b \n",
       "\t\t\t\t\t Round 3 Epoch: 1 | Iteration: 1/50 (2%) | Samples: 43/2400\n",
       " \t\t\t\t\t Loss: \u001b[1m1.528233\u001b[0m \n",
       "\t\t\t\t\t ---------"
      ]
     },
     "metadata": {},
     "output_type": "display_data"
    },
    {
     "data": {
      "text/plain": [
       "2024-04-03 13:36:04,778 fedbiomed INFO - \u001b[1mTRAINING\u001b[0m \n",
       "\t\t\t\t\t NODE_ID: NODE_90a7e795-9022-4bf0-b6c6-f1a2394b6dac \n",
       "\t\t\t\t\t Round 3 Epoch: 1 | Iteration: 10/50 (20%) | Samples: 455/2400\n",
       " \t\t\t\t\t Loss: \u001b[1m1.245793\u001b[0m \n",
       "\t\t\t\t\t ---------"
      ]
     },
     "metadata": {},
     "output_type": "display_data"
    },
    {
     "data": {
      "text/plain": [
       "2024-04-03 13:36:05,614 fedbiomed INFO - \u001b[1mTRAINING\u001b[0m \n",
       "\t\t\t\t\t NODE_ID: NODE_a16525b2-5b6a-42cf-9cef-ff746b2a6d4b \n",
       "\t\t\t\t\t Round 3 Epoch: 1 | Iteration: 10/50 (20%) | Samples: 459/2400\n",
       " \t\t\t\t\t Loss: \u001b[1m1.171741\u001b[0m \n",
       "\t\t\t\t\t ---------"
      ]
     },
     "metadata": {},
     "output_type": "display_data"
    },
    {
     "data": {
      "text/plain": [
       "2024-04-03 13:36:21,691 fedbiomed INFO - \u001b[1mTRAINING\u001b[0m \n",
       "\t\t\t\t\t NODE_ID: NODE_90a7e795-9022-4bf0-b6c6-f1a2394b6dac \n",
       "\t\t\t\t\t Round 3 Epoch: 1 | Iteration: 20/50 (40%) | Samples: 914/2400\n",
       " \t\t\t\t\t Loss: \u001b[1m1.048743\u001b[0m \n",
       "\t\t\t\t\t ---------"
      ]
     },
     "metadata": {},
     "output_type": "display_data"
    },
    {
     "data": {
      "text/plain": [
       "2024-04-03 13:36:22,029 fedbiomed INFO - \u001b[1mTRAINING\u001b[0m \n",
       "\t\t\t\t\t NODE_ID: NODE_a16525b2-5b6a-42cf-9cef-ff746b2a6d4b \n",
       "\t\t\t\t\t Round 3 Epoch: 1 | Iteration: 20/50 (40%) | Samples: 978/2400\n",
       " \t\t\t\t\t Loss: \u001b[1m1.151399\u001b[0m \n",
       "\t\t\t\t\t ---------"
      ]
     },
     "metadata": {},
     "output_type": "display_data"
    },
    {
     "data": {
      "text/plain": [
       "2024-04-03 13:36:37,169 fedbiomed INFO - \u001b[1mTRAINING\u001b[0m \n",
       "\t\t\t\t\t NODE_ID: NODE_90a7e795-9022-4bf0-b6c6-f1a2394b6dac \n",
       "\t\t\t\t\t Round 3 Epoch: 1 | Iteration: 30/50 (60%) | Samples: 1419/2400\n",
       " \t\t\t\t\t Loss: \u001b[1m0.952462\u001b[0m \n",
       "\t\t\t\t\t ---------"
      ]
     },
     "metadata": {},
     "output_type": "display_data"
    },
    {
     "data": {
      "text/plain": [
       "2024-04-03 13:36:38,318 fedbiomed INFO - \u001b[1mTRAINING\u001b[0m \n",
       "\t\t\t\t\t NODE_ID: NODE_a16525b2-5b6a-42cf-9cef-ff746b2a6d4b \n",
       "\t\t\t\t\t Round 3 Epoch: 1 | Iteration: 30/50 (60%) | Samples: 1473/2400\n",
       " \t\t\t\t\t Loss: \u001b[1m0.926908\u001b[0m \n",
       "\t\t\t\t\t ---------"
      ]
     },
     "metadata": {},
     "output_type": "display_data"
    },
    {
     "data": {
      "text/plain": [
       "2024-04-03 13:36:53,786 fedbiomed INFO - \u001b[1mTRAINING\u001b[0m \n",
       "\t\t\t\t\t NODE_ID: NODE_90a7e795-9022-4bf0-b6c6-f1a2394b6dac \n",
       "\t\t\t\t\t Round 3 Epoch: 1 | Iteration: 40/50 (80%) | Samples: 1869/2400\n",
       " \t\t\t\t\t Loss: \u001b[1m1.245580\u001b[0m \n",
       "\t\t\t\t\t ---------"
      ]
     },
     "metadata": {},
     "output_type": "display_data"
    },
    {
     "data": {
      "text/plain": [
       "2024-04-03 13:36:53,933 fedbiomed INFO - \u001b[1mTRAINING\u001b[0m \n",
       "\t\t\t\t\t NODE_ID: NODE_a16525b2-5b6a-42cf-9cef-ff746b2a6d4b \n",
       "\t\t\t\t\t Round 3 Epoch: 1 | Iteration: 40/50 (80%) | Samples: 1908/2400\n",
       " \t\t\t\t\t Loss: \u001b[1m1.372809\u001b[0m \n",
       "\t\t\t\t\t ---------"
      ]
     },
     "metadata": {},
     "output_type": "display_data"
    },
    {
     "data": {
      "text/plain": [
       "2024-04-03 13:37:07,889 fedbiomed INFO - \u001b[1mTRAINING\u001b[0m \n",
       "\t\t\t\t\t NODE_ID: NODE_90a7e795-9022-4bf0-b6c6-f1a2394b6dac \n",
       "\t\t\t\t\t Round 3 Epoch: 1 | Iteration: 50/50 (100%) | Samples: 2303/2303\n",
       " \t\t\t\t\t Loss: \u001b[1m0.875097\u001b[0m \n",
       "\t\t\t\t\t ---------"
      ]
     },
     "metadata": {},
     "output_type": "display_data"
    },
    {
     "data": {
      "text/plain": [
       "2024-04-03 13:37:08,014 fedbiomed INFO - \u001b[1mTRAINING\u001b[0m \n",
       "\t\t\t\t\t NODE_ID: NODE_a16525b2-5b6a-42cf-9cef-ff746b2a6d4b \n",
       "\t\t\t\t\t Round 3 Epoch: 1 | Iteration: 50/50 (100%) | Samples: 2387/2387\n",
       " \t\t\t\t\t Loss: \u001b[1m1.509128\u001b[0m \n",
       "\t\t\t\t\t ---------"
      ]
     },
     "metadata": {},
     "output_type": "display_data"
    },
    {
     "data": {
      "text/plain": [
       "2024-04-03 13:37:08,049 fedbiomed INFO - Nodes that successfully reply in round 2 ['NODE_a16525b2-5b6a-42cf-9cef-ff746b2a6d4b', 'NODE_90a7e795-9022-4bf0-b6c6-f1a2394b6dac']"
      ]
     },
     "metadata": {},
     "output_type": "display_data"
    },
    {
     "data": {
      "text/plain": [
       "3"
      ]
     },
     "execution_count": 4,
     "metadata": {},
     "output_type": "execute_result"
    }
   ],
   "source": [
    "exp.run()"
   ]
  },
  {
   "cell_type": "markdown",
   "metadata": {},
   "source": [
    "Save trained model to file"
   ]
  },
  {
   "cell_type": "code",
   "execution_count": 5,
   "metadata": {},
   "outputs": [],
   "source": [
    "exp.training_plan().export_model('./trained_model')"
   ]
  },
  {
   "cell_type": "markdown",
   "metadata": {},
   "source": [
    "Federated parameters for each round are available in `exp.aggregated_params()` (index 0 to (`rounds` - 1) ).\n",
    "\n",
    "For example you can view the federated parameters for the last round of the experiment :"
   ]
  },
  {
   "cell_type": "code",
   "execution_count": 6,
   "metadata": {},
   "outputs": [
    {
     "name": "stdout",
     "output_type": "stream",
     "text": [
      "\n",
      "List the training rounds :  dict_keys([0, 1, 2])\n",
      "\n",
      "Access the federated params for the last training round :\n",
      "\t- parameter data:  dict_keys(['0.weight', '0.bias', '2.weight', '2.bias', '7.weight', '7.bias', '10.weight', '10.bias'])\n"
     ]
    }
   ],
   "source": [
    "print(\"\\nList the training rounds : \", exp.aggregated_params().keys())\n",
    "\n",
    "print(\"\\nAccess the federated params for the last training round :\")\n",
    "print(\"\\t- parameter data: \", exp.aggregated_params()[rounds - 1]['params'].keys())"
   ]
  },
  {
   "cell_type": "markdown",
   "metadata": {},
   "source": [
    "## Testing"
   ]
  },
  {
   "cell_type": "markdown",
   "metadata": {},
   "source": [
    "We define a little testing routine to extract the accuracy metrics on the testing dataset"
   ]
  },
  {
   "cell_type": "code",
   "execution_count": 7,
   "metadata": {},
   "outputs": [],
   "source": [
    "import torch\n",
    "import torch.nn.functional as F\n",
    "\n",
    "\n",
    "def testing_Accuracy(model, data_loader):\n",
    "    model.eval()\n",
    "    test_loss = 0\n",
    "    correct = 0\n",
    "    device = 'cpu'\n",
    "\n",
    "    correct = 0\n",
    "    \n",
    "    with torch.no_grad():\n",
    "        for data, target in data_loader:\n",
    "            data, target = data.to(device), target.to(device)\n",
    "            output = model(data)\n",
    "            test_loss += F.nll_loss(output, target, reduction='sum').item()  # sum up batch loss\n",
    "            pred = output.argmax(dim=1, keepdim=True)  # get the index of the max log-probability\n",
    "            correct += pred.eq(target.view_as(pred)).sum().item()\n",
    "\n",
    "        pred = output.argmax(dim=1, keepdim=True)\n",
    "\n",
    "    test_loss /= len(data_loader.dataset)\n",
    "    accuracy = 100* correct/len(data_loader.dataset)\n",
    "\n",
    "    return(test_loss, accuracy)"
   ]
  },
  {
   "cell_type": "code",
   "execution_count": 8,
   "metadata": {},
   "outputs": [
    {
     "name": "stdout",
     "output_type": "stream",
     "text": [
      "Downloading http://yann.lecun.com/exdb/mnist/train-images-idx3-ubyte.gz\n",
      "Downloading http://yann.lecun.com/exdb/mnist/train-images-idx3-ubyte.gz to /home/ybouilla/Documents/github/fedbiomed/var/tmp/local_mnist/MNIST/raw/train-images-idx3-ubyte.gz\n"
     ]
    },
    {
     "data": {
      "application/vnd.jupyter.widget-view+json": {
       "model_id": "cd4fc36b2ccc46f2a58cd16d61aafedb",
       "version_major": 2,
       "version_minor": 0
      },
      "text/plain": [
       "  0%|          | 0/9912422 [00:00<?, ?it/s]"
      ]
     },
     "metadata": {},
     "output_type": "display_data"
    },
    {
     "name": "stdout",
     "output_type": "stream",
     "text": [
      "Extracting /home/ybouilla/Documents/github/fedbiomed/var/tmp/local_mnist/MNIST/raw/train-images-idx3-ubyte.gz to /home/ybouilla/Documents/github/fedbiomed/var/tmp/local_mnist/MNIST/raw\n",
      "\n",
      "Downloading http://yann.lecun.com/exdb/mnist/train-labels-idx1-ubyte.gz\n",
      "Downloading http://yann.lecun.com/exdb/mnist/train-labels-idx1-ubyte.gz to /home/ybouilla/Documents/github/fedbiomed/var/tmp/local_mnist/MNIST/raw/train-labels-idx1-ubyte.gz\n"
     ]
    },
    {
     "data": {
      "application/vnd.jupyter.widget-view+json": {
       "model_id": "7f8486a4b0cc49318c491b39193d54a6",
       "version_major": 2,
       "version_minor": 0
      },
      "text/plain": [
       "  0%|          | 0/28881 [00:00<?, ?it/s]"
      ]
     },
     "metadata": {},
     "output_type": "display_data"
    },
    {
     "name": "stdout",
     "output_type": "stream",
     "text": [
      "Extracting /home/ybouilla/Documents/github/fedbiomed/var/tmp/local_mnist/MNIST/raw/train-labels-idx1-ubyte.gz to /home/ybouilla/Documents/github/fedbiomed/var/tmp/local_mnist/MNIST/raw\n",
      "\n",
      "Downloading http://yann.lecun.com/exdb/mnist/t10k-images-idx3-ubyte.gz\n",
      "Downloading http://yann.lecun.com/exdb/mnist/t10k-images-idx3-ubyte.gz to /home/ybouilla/Documents/github/fedbiomed/var/tmp/local_mnist/MNIST/raw/t10k-images-idx3-ubyte.gz\n"
     ]
    },
    {
     "data": {
      "application/vnd.jupyter.widget-view+json": {
       "model_id": "742241f100734fdea25df8693282d4bf",
       "version_major": 2,
       "version_minor": 0
      },
      "text/plain": [
       "  0%|          | 0/1648877 [00:00<?, ?it/s]"
      ]
     },
     "metadata": {},
     "output_type": "display_data"
    },
    {
     "name": "stdout",
     "output_type": "stream",
     "text": [
      "Extracting /home/ybouilla/Documents/github/fedbiomed/var/tmp/local_mnist/MNIST/raw/t10k-images-idx3-ubyte.gz to /home/ybouilla/Documents/github/fedbiomed/var/tmp/local_mnist/MNIST/raw\n",
      "\n",
      "Downloading http://yann.lecun.com/exdb/mnist/t10k-labels-idx1-ubyte.gz\n",
      "Downloading http://yann.lecun.com/exdb/mnist/t10k-labels-idx1-ubyte.gz to /home/ybouilla/Documents/github/fedbiomed/var/tmp/local_mnist/MNIST/raw/t10k-labels-idx1-ubyte.gz\n"
     ]
    },
    {
     "data": {
      "application/vnd.jupyter.widget-view+json": {
       "model_id": "505c4141912b461080cbd94ef06fa297",
       "version_major": 2,
       "version_minor": 0
      },
      "text/plain": [
       "  0%|          | 0/4542 [00:00<?, ?it/s]"
      ]
     },
     "metadata": {},
     "output_type": "display_data"
    },
    {
     "name": "stdout",
     "output_type": "stream",
     "text": [
      "Extracting /home/ybouilla/Documents/github/fedbiomed/var/tmp/local_mnist/MNIST/raw/t10k-labels-idx1-ubyte.gz to /home/ybouilla/Documents/github/fedbiomed/var/tmp/local_mnist/MNIST/raw\n",
      "\n"
     ]
    }
   ],
   "source": [
    "from torchvision import datasets, transforms\n",
    "from fedbiomed.researcher.environ import environ\n",
    "import os\n",
    "\n",
    "local_mnist = os.path.join(environ['TMP_DIR'], 'local_mnist')\n",
    "\n",
    "transform = transforms.Compose([\n",
    "            transforms.ToTensor(),\n",
    "            transforms.Normalize((0.1307,), (0.3081,))\n",
    "        ])\n",
    "\n",
    "test_set = datasets.MNIST(root = local_mnist, download = True, train = False, transform = transform)\n",
    "test_loader = torch.utils.data.DataLoader(test_set, batch_size=64, shuffle=True)"
   ]
  },
  {
   "cell_type": "code",
   "execution_count": 9,
   "metadata": {
    "pycharm": {
     "name": "#%%\n"
    }
   },
   "outputs": [
    {
     "name": "stdout",
     "output_type": "stream",
     "text": [
      "\n",
      "Accuracy federated training:  68.3900\n",
      "\n",
      "Error federated training:  1.0612\n"
     ]
    }
   ],
   "source": [
    "fed_model = exp.training_plan().model()\n",
    "fed_model.load_state_dict(exp.aggregated_params()[rounds - 1]['params'])\n",
    "\n",
    "acc_federated = testing_Accuracy(fed_model, test_loader)\n",
    "\n",
    "print('\\nAccuracy federated training:  {:.4f}'.format(acc_federated[1]))\n",
    "\n",
    "print('\\nError federated training:  {:.4f}'.format(acc_federated[0]))"
   ]
  }
 ],
 "metadata": {
  "kernelspec": {
   "display_name": "Python 3 (ipykernel)",
   "language": "python",
   "name": "python3"
  },
  "language_info": {
   "codemirror_mode": {
    "name": "ipython",
    "version": 3
   },
   "file_extension": ".py",
   "mimetype": "text/x-python",
   "name": "python",
   "nbconvert_exporter": "python",
   "pygments_lexer": "ipython3",
   "version": "3.10.13"
  }
 },
 "nbformat": 4,
 "nbformat_minor": 4
}
